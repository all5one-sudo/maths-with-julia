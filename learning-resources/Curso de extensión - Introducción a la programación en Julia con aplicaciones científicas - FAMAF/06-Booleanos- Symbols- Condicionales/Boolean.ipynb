{
 "cells": [
  {
   "cell_type": "markdown",
   "metadata": {},
   "source": [
    "## Lógica Básica en Julia"
   ]
  },
  {
   "cell_type": "code",
   "execution_count": 33,
   "metadata": {
    "tags": []
   },
   "outputs": [],
   "source": [
    "#using Pkg; Pkg.add(\"Plots\")\n",
    "using Plots"
   ]
  },
  {
   "cell_type": "markdown",
   "metadata": {},
   "source": [
    "**La una buena parte del código que se escribe no es para procesar números sino para tomar decisiones.**\n",
    "\n",
    "Veamos un ejemplo. Asignando distintos valores a `a`y `b` obtenemos distintos resultados en la celda. Pruebe hasta que haya obtenido todos los resultados posibles."
   ]
  },
  {
   "cell_type": "code",
   "execution_count": 22,
   "metadata": {
    "tags": []
   },
   "outputs": [
    {
     "name": "stdout",
     "output_type": "stream",
     "text": [
      "otra cosa\n",
      "ya termina el programa\n"
     ]
    }
   ],
   "source": [
    "a = 0.5\n",
    "b = 2\n",
    "\n",
    "if a > 1\n",
    "    println(\"Hola\")\n",
    "elseif a == 1\n",
    "    println(\"Chau\")\n",
    "elseif a < 1\n",
    "    println(\"otra cosa\")\n",
    "else\n",
    "    println(\"Que hago?\")\n",
    "end\n",
    "\n",
    "println(\"ya termina el programa\")"
   ]
  },
  {
   "cell_type": "markdown",
   "metadata": {
    "tags": []
   },
   "source": [
    "Qué es lo que sucede? Los operadores `>`, `<`y `==` son operadores lógicos. Es decir retornan *verdadero* (`true`) o *falso* (`false`) de acuerdo los valores que se les da."
   ]
  },
  {
   "cell_type": "code",
   "execution_count": 23,
   "metadata": {
    "tags": []
   },
   "outputs": [
    {
     "data": {
      "text/plain": [
       "false"
      ]
     },
     "execution_count": 23,
     "metadata": {},
     "output_type": "execute_result"
    }
   ],
   "source": [
    "a > b"
   ]
  },
  {
   "cell_type": "code",
   "execution_count": 26,
   "metadata": {
    "tags": []
   },
   "outputs": [
    {
     "data": {
      "text/plain": [
       "true"
      ]
     },
     "execution_count": 26,
     "metadata": {},
     "output_type": "execute_result"
    }
   ],
   "source": [
    "2 > 1\n",
    ">(2,1)"
   ]
  },
  {
   "cell_type": "code",
   "execution_count": 25,
   "metadata": {
    "tags": []
   },
   "outputs": [
    {
     "data": {
      "text/plain": [
       "Bool"
      ]
     },
     "execution_count": 25,
     "metadata": {},
     "output_type": "execute_result"
    }
   ],
   "source": [
    "typeof(2>1)"
   ]
  },
  {
   "cell_type": "markdown",
   "metadata": {},
   "source": [
    "Veamos que información tenemos sobre uno de ellos:"
   ]
  },
  {
   "cell_type": "code",
   "execution_count": 2,
   "metadata": {
    "tags": []
   },
   "outputs": [
    {
     "data": {
      "text/latex": [
       "\\begin{verbatim}\n",
       ">(x, y)\n",
       "\\end{verbatim}\n",
       "Greater-than comparison operator. Falls back to \\texttt{y < x}.\n",
       "\n",
       "\\section{Implementation}\n",
       "Generally, new types should implement \\href{@ref}{\\texttt{<}} instead of this function, and rely on the fallback definition \\texttt{>(x, y) = y < x}.\n",
       "\n",
       "\\section{Examples}\n",
       "\\begin{verbatim}\n",
       "julia> 'a' > 'b'\n",
       "false\n",
       "\n",
       "julia> 7 > 3 > 1\n",
       "true\n",
       "\n",
       "julia> \"abc\" > \"abd\"\n",
       "false\n",
       "\n",
       "julia> 5 > 3\n",
       "true\n",
       "\\end{verbatim}\n",
       "\\begin{verbatim}\n",
       ">(x)\n",
       "\\end{verbatim}\n",
       "Create a function that compares its argument to \\texttt{x} using \\href{@ref}{\\texttt{>}}, i.e. a function equivalent to \\texttt{y -> y > x}. The returned function is of type \\texttt{Base.Fix2\\{typeof(>)\\}}, which can be used to implement specialized methods.\n",
       "\n",
       "\\begin{quote}\n",
       "\\textbf{compat}\n",
       "\n",
       "Julia 1.2\n",
       "\n",
       "This functionality requires at least Julia 1.2.\n",
       "\n",
       "\\end{quote}\n"
      ],
      "text/markdown": [
       "```\n",
       ">(x, y)\n",
       "```\n",
       "\n",
       "Greater-than comparison operator. Falls back to `y < x`.\n",
       "\n",
       "# Implementation\n",
       "\n",
       "Generally, new types should implement [`<`](@ref) instead of this function, and rely on the fallback definition `>(x, y) = y < x`.\n",
       "\n",
       "# Examples\n",
       "\n",
       "```jldoctest\n",
       "julia> 'a' > 'b'\n",
       "false\n",
       "\n",
       "julia> 7 > 3 > 1\n",
       "true\n",
       "\n",
       "julia> \"abc\" > \"abd\"\n",
       "false\n",
       "\n",
       "julia> 5 > 3\n",
       "true\n",
       "```\n",
       "\n",
       "```\n",
       ">(x)\n",
       "```\n",
       "\n",
       "Create a function that compares its argument to `x` using [`>`](@ref), i.e. a function equivalent to `y -> y > x`. The returned function is of type `Base.Fix2{typeof(>)}`, which can be used to implement specialized methods.\n",
       "\n",
       "!!! compat \"Julia 1.2\"\n",
       "    This functionality requires at least Julia 1.2.\n",
       "\n"
      ],
      "text/plain": [
       "\u001b[36m  >(x, y)\u001b[39m\n",
       "\n",
       "  Greater-than comparison operator. Falls back to \u001b[36my < x\u001b[39m.\n",
       "\n",
       "\u001b[1m  Implementation\u001b[22m\n",
       "\u001b[1m  ≡≡≡≡≡≡≡≡≡≡≡≡≡≡≡≡\u001b[22m\n",
       "\n",
       "  Generally, new types should implement \u001b[36m<\u001b[39m instead of this function, and rely\n",
       "  on the fallback definition \u001b[36m>(x, y) = y < x\u001b[39m.\n",
       "\n",
       "\u001b[1m  Examples\u001b[22m\n",
       "\u001b[1m  ≡≡≡≡≡≡≡≡≡≡\u001b[22m\n",
       "\n",
       "\u001b[36m  julia> 'a' > 'b'\u001b[39m\n",
       "\u001b[36m  false\u001b[39m\n",
       "\u001b[36m  \u001b[39m\n",
       "\u001b[36m  julia> 7 > 3 > 1\u001b[39m\n",
       "\u001b[36m  true\u001b[39m\n",
       "\u001b[36m  \u001b[39m\n",
       "\u001b[36m  julia> \"abc\" > \"abd\"\u001b[39m\n",
       "\u001b[36m  false\u001b[39m\n",
       "\u001b[36m  \u001b[39m\n",
       "\u001b[36m  julia> 5 > 3\u001b[39m\n",
       "\u001b[36m  true\u001b[39m\n",
       "\n",
       "\u001b[36m  >(x)\u001b[39m\n",
       "\n",
       "  Create a function that compares its argument to \u001b[36mx\u001b[39m using \u001b[36m>\u001b[39m, i.e. a function\n",
       "  equivalent to \u001b[36my -> y > x\u001b[39m. The returned function is of type\n",
       "  \u001b[36mBase.Fix2{typeof(>)}\u001b[39m, which can be used to implement specialized methods.\n",
       "\n",
       "\u001b[39m\u001b[1m  │ \u001b[22m\u001b[39m\u001b[1mJulia 1.2\u001b[22m\n",
       "\u001b[39m\u001b[1m  │\u001b[22m\n",
       "\u001b[39m\u001b[1m  │\u001b[22m  This functionality requires at least Julia 1.2."
      ]
     },
     "metadata": {},
     "output_type": "display_data"
    }
   ],
   "source": [
    "@doc >"
   ]
  },
  {
   "cell_type": "code",
   "execution_count": 29,
   "metadata": {},
   "outputs": [
    {
     "data": {
      "text/plain": [
       "true"
      ]
     },
     "execution_count": 29,
     "metadata": {},
     "output_type": "execute_result"
    }
   ],
   "source": [
    "\"ab\" > \"aa\""
   ]
  },
  {
   "cell_type": "markdown",
   "metadata": {},
   "source": [
    "**Vemos que `>` es realmente una función!** Más familiarmente la podemos expresar así:"
   ]
  },
  {
   "cell_type": "code",
   "execution_count": 8,
   "metadata": {},
   "outputs": [
    {
     "data": {
      "text/plain": [
       "true"
      ]
     },
     "metadata": {},
     "output_type": "display_data"
    }
   ],
   "source": [
    ">(3,2)"
   ]
  },
  {
   "cell_type": "markdown",
   "metadata": {
    "tags": []
   },
   "source": [
    "A nivel del compilador realiza una operación así: "
   ]
  },
  {
   "cell_type": "code",
   "execution_count": 9,
   "metadata": {
    "tags": []
   },
   "outputs": [
    {
     "name": "stdout",
     "output_type": "stream",
     "text": [
      "\u001b[90m;  @ operators.jl:378 within `>`\u001b[39m\n",
      "\u001b[95mdefine\u001b[39m \u001b[36mi8\u001b[39m \u001b[93m@\"julia_\u001b[39m\u001b[33m>\u001b[39m\u001b[0m_1219\"\u001b[33m(\u001b[39m\u001b[36mi64\u001b[39m \u001b[95msignext\u001b[39m \u001b[0m%0\u001b[0m, \u001b[36mi64\u001b[39m \u001b[95msignext\u001b[39m \u001b[0m%1\u001b[33m)\u001b[39m \u001b[0m#0 \u001b[33m{\u001b[39m\n",
      "\u001b[91mtop:\u001b[39m\n",
      "\u001b[90m; ┌ @ int.jl:83 within `<`\u001b[39m\n",
      "   \u001b[0m%2 \u001b[0m= \u001b[96m\u001b[1micmp\u001b[22m\u001b[39m \u001b[96m\u001b[1mslt\u001b[22m\u001b[39m \u001b[36mi64\u001b[39m \u001b[0m%1\u001b[0m, \u001b[0m%0\n",
      "\u001b[90m; └\u001b[39m\n",
      "  \u001b[0m%3 \u001b[0m= \u001b[96m\u001b[1mzext\u001b[22m\u001b[39m \u001b[36mi1\u001b[39m \u001b[0m%2 \u001b[95mto\u001b[39m \u001b[36mi8\u001b[39m\n",
      "  \u001b[96m\u001b[1mret\u001b[22m\u001b[39m \u001b[36mi8\u001b[39m \u001b[0m%3\n",
      "\u001b[33m}\u001b[39m\n"
     ]
    }
   ],
   "source": [
    "@code_llvm(>(1,2))"
   ]
  },
  {
   "cell_type": "markdown",
   "metadata": {},
   "source": [
    "Los valores del álgebra booleana, `true` y `false` se pueden convertir a los enteros `1` y `0` respectivamente. "
   ]
  },
  {
   "cell_type": "code",
   "execution_count": 30,
   "metadata": {},
   "outputs": [
    {
     "data": {
      "text/plain": [
       "5"
      ]
     },
     "execution_count": 30,
     "metadata": {},
     "output_type": "execute_result"
    }
   ],
   "source": [
    "true * 5"
   ]
  },
  {
   "cell_type": "code",
   "execution_count": 31,
   "metadata": {},
   "outputs": [
    {
     "data": {
      "text/plain": [
       "0"
      ]
     },
     "execution_count": 31,
     "metadata": {},
     "output_type": "execute_result"
    }
   ],
   "source": [
    "false * 5"
   ]
  },
  {
   "cell_type": "markdown",
   "metadata": {},
   "source": [
    "Veamos como podemos usar esta propiedad para definir funciones particulares y visualizar la acción de los operadores lógicos. Por ejemplo, la siguiente función pega una parábola negativa con otra positiva en $x=0$."
   ]
  },
  {
   "cell_type": "code",
   "execution_count": 34,
   "metadata": {
    "tags": []
   },
   "outputs": [
    {
     "data": {
      "image/svg+xml": [
       "<?xml version=\"1.0\" encoding=\"utf-8\"?>\n",
       "<svg xmlns=\"http://www.w3.org/2000/svg\" xmlns:xlink=\"http://www.w3.org/1999/xlink\" width=\"600\" height=\"400\" viewBox=\"0 0 2400 1600\">\n",
       "<defs>\n",
       "  <clipPath id=\"clip250\">\n",
       "    <rect x=\"0\" y=\"0\" width=\"2400\" height=\"1600\"/>\n",
       "  </clipPath>\n",
       "</defs>\n",
       "<path clip-path=\"url(#clip250)\" d=\"\n",
       "M0 1600 L2400 1600 L2400 0 L0 0  Z\n",
       "  \" fill=\"#ffffff\" fill-rule=\"evenodd\" fill-opacity=\"1\"/>\n",
       "<defs>\n",
       "  <clipPath id=\"clip251\">\n",
       "    <rect x=\"480\" y=\"0\" width=\"1681\" height=\"1600\"/>\n",
       "  </clipPath>\n",
       "</defs>\n",
       "<path clip-path=\"url(#clip250)\" d=\"\n",
       "M178.867 1486.45 L2352.76 1486.45 L2352.76 47.2441 L178.867 47.2441  Z\n",
       "  \" fill=\"#ffffff\" fill-rule=\"evenodd\" fill-opacity=\"1\"/>\n",
       "<defs>\n",
       "  <clipPath id=\"clip252\">\n",
       "    <rect x=\"178\" y=\"47\" width=\"2175\" height=\"1440\"/>\n",
       "  </clipPath>\n",
       "</defs>\n",
       "<polyline clip-path=\"url(#clip252)\" style=\"stroke:#000000; stroke-linecap:butt; stroke-linejoin:round; stroke-width:2; stroke-opacity:0.1; fill:none\" points=\"\n",
       "  445.476,1486.45 445.476,47.2441 \n",
       "  \"/>\n",
       "<polyline clip-path=\"url(#clip252)\" style=\"stroke:#000000; stroke-linecap:butt; stroke-linejoin:round; stroke-width:2; stroke-opacity:0.1; fill:none\" points=\"\n",
       "  855.643,1486.45 855.643,47.2441 \n",
       "  \"/>\n",
       "<polyline clip-path=\"url(#clip252)\" style=\"stroke:#000000; stroke-linecap:butt; stroke-linejoin:round; stroke-width:2; stroke-opacity:0.1; fill:none\" points=\"\n",
       "  1265.81,1486.45 1265.81,47.2441 \n",
       "  \"/>\n",
       "<polyline clip-path=\"url(#clip252)\" style=\"stroke:#000000; stroke-linecap:butt; stroke-linejoin:round; stroke-width:2; stroke-opacity:0.1; fill:none\" points=\"\n",
       "  1675.98,1486.45 1675.98,47.2441 \n",
       "  \"/>\n",
       "<polyline clip-path=\"url(#clip252)\" style=\"stroke:#000000; stroke-linecap:butt; stroke-linejoin:round; stroke-width:2; stroke-opacity:0.1; fill:none\" points=\"\n",
       "  2086.15,1486.45 2086.15,47.2441 \n",
       "  \"/>\n",
       "<polyline clip-path=\"url(#clip250)\" style=\"stroke:#000000; stroke-linecap:butt; stroke-linejoin:round; stroke-width:4; stroke-opacity:1; fill:none\" points=\"\n",
       "  178.867,1486.45 2352.76,1486.45 \n",
       "  \"/>\n",
       "<polyline clip-path=\"url(#clip250)\" style=\"stroke:#000000; stroke-linecap:butt; stroke-linejoin:round; stroke-width:4; stroke-opacity:1; fill:none\" points=\"\n",
       "  445.476,1486.45 445.476,1467.55 \n",
       "  \"/>\n",
       "<polyline clip-path=\"url(#clip250)\" style=\"stroke:#000000; stroke-linecap:butt; stroke-linejoin:round; stroke-width:4; stroke-opacity:1; fill:none\" points=\"\n",
       "  855.643,1486.45 855.643,1467.55 \n",
       "  \"/>\n",
       "<polyline clip-path=\"url(#clip250)\" style=\"stroke:#000000; stroke-linecap:butt; stroke-linejoin:round; stroke-width:4; stroke-opacity:1; fill:none\" points=\"\n",
       "  1265.81,1486.45 1265.81,1467.55 \n",
       "  \"/>\n",
       "<polyline clip-path=\"url(#clip250)\" style=\"stroke:#000000; stroke-linecap:butt; stroke-linejoin:round; stroke-width:4; stroke-opacity:1; fill:none\" points=\"\n",
       "  1675.98,1486.45 1675.98,1467.55 \n",
       "  \"/>\n",
       "<polyline clip-path=\"url(#clip250)\" style=\"stroke:#000000; stroke-linecap:butt; stroke-linejoin:round; stroke-width:4; stroke-opacity:1; fill:none\" points=\"\n",
       "  2086.15,1486.45 2086.15,1467.55 \n",
       "  \"/>\n",
       "<path clip-path=\"url(#clip250)\" d=\"M414.376 1532.02 L444.052 1532.02 L444.052 1535.95 L414.376 1535.95 L414.376 1532.02 Z\" fill=\"#000000\" fill-rule=\"evenodd\" fill-opacity=\"1\" /><path clip-path=\"url(#clip250)\" d=\"M466.992 1518.36 L455.186 1536.81 L466.992 1536.81 L466.992 1518.36 M465.765 1514.29 L471.645 1514.29 L471.645 1536.81 L476.575 1536.81 L476.575 1540.7 L471.645 1540.7 L471.645 1548.85 L466.992 1548.85 L466.992 1540.7 L451.39 1540.7 L451.39 1536.19 L465.765 1514.29 Z\" fill=\"#000000\" fill-rule=\"evenodd\" fill-opacity=\"1\" /><path clip-path=\"url(#clip250)\" d=\"M825.586 1532.02 L855.262 1532.02 L855.262 1535.95 L825.586 1535.95 L825.586 1532.02 Z\" fill=\"#000000\" fill-rule=\"evenodd\" fill-opacity=\"1\" /><path clip-path=\"url(#clip250)\" d=\"M869.382 1544.91 L885.701 1544.91 L885.701 1548.85 L863.757 1548.85 L863.757 1544.91 Q866.419 1542.16 871.002 1537.53 Q875.609 1532.88 876.789 1531.53 Q879.035 1529.01 879.914 1527.27 Q880.817 1525.51 880.817 1523.82 Q880.817 1521.07 878.873 1519.33 Q876.951 1517.6 873.849 1517.6 Q871.65 1517.6 869.197 1518.36 Q866.766 1519.13 863.988 1520.68 L863.988 1515.95 Q866.812 1514.82 869.266 1514.24 Q871.72 1513.66 873.757 1513.66 Q879.127 1513.66 882.322 1516.35 Q885.516 1519.03 885.516 1523.52 Q885.516 1525.65 884.706 1527.57 Q883.919 1529.47 881.812 1532.07 Q881.234 1532.74 878.132 1535.95 Q875.03 1539.15 869.382 1544.91 Z\" fill=\"#000000\" fill-rule=\"evenodd\" fill-opacity=\"1\" /><path clip-path=\"url(#clip250)\" d=\"M1265.81 1517.37 Q1262.2 1517.37 1260.37 1520.93 Q1258.57 1524.47 1258.57 1531.6 Q1258.57 1538.71 1260.37 1542.27 Q1262.2 1545.82 1265.81 1545.82 Q1269.45 1545.82 1271.25 1542.27 Q1273.08 1538.71 1273.08 1531.6 Q1273.08 1524.47 1271.25 1520.93 Q1269.45 1517.37 1265.81 1517.37 M1265.81 1513.66 Q1271.62 1513.66 1274.68 1518.27 Q1277.76 1522.85 1277.76 1531.6 Q1277.76 1540.33 1274.68 1544.94 Q1271.62 1549.52 1265.81 1549.52 Q1260 1549.52 1256.92 1544.94 Q1253.87 1540.33 1253.87 1531.6 Q1253.87 1522.85 1256.92 1518.27 Q1260 1513.66 1265.81 1513.66 Z\" fill=\"#000000\" fill-rule=\"evenodd\" fill-opacity=\"1\" /><path clip-path=\"url(#clip250)\" d=\"M1670.63 1544.91 L1686.95 1544.91 L1686.95 1548.85 L1665.01 1548.85 L1665.01 1544.91 Q1667.67 1542.16 1672.25 1537.53 Q1676.86 1532.88 1678.04 1531.53 Q1680.28 1529.01 1681.16 1527.27 Q1682.07 1525.51 1682.07 1523.82 Q1682.07 1521.07 1680.12 1519.33 Q1678.2 1517.6 1675.1 1517.6 Q1672.9 1517.6 1670.45 1518.36 Q1668.02 1519.13 1665.24 1520.68 L1665.24 1515.95 Q1668.06 1514.82 1670.52 1514.24 Q1672.97 1513.66 1675.01 1513.66 Q1680.38 1513.66 1683.57 1516.35 Q1686.77 1519.03 1686.77 1523.52 Q1686.77 1525.65 1685.96 1527.57 Q1685.17 1529.47 1683.06 1532.07 Q1682.48 1532.74 1679.38 1535.95 Q1676.28 1539.15 1670.63 1544.91 Z\" fill=\"#000000\" fill-rule=\"evenodd\" fill-opacity=\"1\" /><path clip-path=\"url(#clip250)\" d=\"M2089.16 1518.36 L2077.35 1536.81 L2089.16 1536.81 L2089.16 1518.36 M2087.93 1514.29 L2093.81 1514.29 L2093.81 1536.81 L2098.74 1536.81 L2098.74 1540.7 L2093.81 1540.7 L2093.81 1548.85 L2089.16 1548.85 L2089.16 1540.7 L2073.55 1540.7 L2073.55 1536.19 L2087.93 1514.29 Z\" fill=\"#000000\" fill-rule=\"evenodd\" fill-opacity=\"1\" /><polyline clip-path=\"url(#clip252)\" style=\"stroke:#000000; stroke-linecap:butt; stroke-linejoin:round; stroke-width:2; stroke-opacity:0.1; fill:none\" points=\"\n",
       "  178.867,1309.94 2352.76,1309.94 \n",
       "  \"/>\n",
       "<polyline clip-path=\"url(#clip252)\" style=\"stroke:#000000; stroke-linecap:butt; stroke-linejoin:round; stroke-width:2; stroke-opacity:0.1; fill:none\" points=\"\n",
       "  178.867,1038.39 2352.76,1038.39 \n",
       "  \"/>\n",
       "<polyline clip-path=\"url(#clip252)\" style=\"stroke:#000000; stroke-linecap:butt; stroke-linejoin:round; stroke-width:2; stroke-opacity:0.1; fill:none\" points=\"\n",
       "  178.867,766.846 2352.76,766.846 \n",
       "  \"/>\n",
       "<polyline clip-path=\"url(#clip252)\" style=\"stroke:#000000; stroke-linecap:butt; stroke-linejoin:round; stroke-width:2; stroke-opacity:0.1; fill:none\" points=\"\n",
       "  178.867,495.298 2352.76,495.298 \n",
       "  \"/>\n",
       "<polyline clip-path=\"url(#clip252)\" style=\"stroke:#000000; stroke-linecap:butt; stroke-linejoin:round; stroke-width:2; stroke-opacity:0.1; fill:none\" points=\"\n",
       "  178.867,223.75 2352.76,223.75 \n",
       "  \"/>\n",
       "<polyline clip-path=\"url(#clip250)\" style=\"stroke:#000000; stroke-linecap:butt; stroke-linejoin:round; stroke-width:4; stroke-opacity:1; fill:none\" points=\"\n",
       "  178.867,1486.45 178.867,47.2441 \n",
       "  \"/>\n",
       "<polyline clip-path=\"url(#clip250)\" style=\"stroke:#000000; stroke-linecap:butt; stroke-linejoin:round; stroke-width:4; stroke-opacity:1; fill:none\" points=\"\n",
       "  178.867,1309.94 197.764,1309.94 \n",
       "  \"/>\n",
       "<polyline clip-path=\"url(#clip250)\" style=\"stroke:#000000; stroke-linecap:butt; stroke-linejoin:round; stroke-width:4; stroke-opacity:1; fill:none\" points=\"\n",
       "  178.867,1038.39 197.764,1038.39 \n",
       "  \"/>\n",
       "<polyline clip-path=\"url(#clip250)\" style=\"stroke:#000000; stroke-linecap:butt; stroke-linejoin:round; stroke-width:4; stroke-opacity:1; fill:none\" points=\"\n",
       "  178.867,766.846 197.764,766.846 \n",
       "  \"/>\n",
       "<polyline clip-path=\"url(#clip250)\" style=\"stroke:#000000; stroke-linecap:butt; stroke-linejoin:round; stroke-width:4; stroke-opacity:1; fill:none\" points=\"\n",
       "  178.867,495.298 197.764,495.298 \n",
       "  \"/>\n",
       "<polyline clip-path=\"url(#clip250)\" style=\"stroke:#000000; stroke-linecap:butt; stroke-linejoin:round; stroke-width:4; stroke-opacity:1; fill:none\" points=\"\n",
       "  178.867,223.75 197.764,223.75 \n",
       "  \"/>\n",
       "<path clip-path=\"url(#clip250)\" d=\"M50.9921 1310.39 L80.6679 1310.39 L80.6679 1314.33 L50.9921 1314.33 L50.9921 1310.39 Z\" fill=\"#000000\" fill-rule=\"evenodd\" fill-opacity=\"1\" /><path clip-path=\"url(#clip250)\" d=\"M94.7882 1323.29 L111.108 1323.29 L111.108 1327.22 L89.1632 1327.22 L89.1632 1323.29 Q91.8252 1320.53 96.4085 1315.9 Q101.015 1311.25 102.196 1309.91 Q104.441 1307.38 105.321 1305.65 Q106.223 1303.89 106.223 1302.2 Q106.223 1299.44 104.279 1297.71 Q102.358 1295.97 99.2558 1295.97 Q97.0567 1295.97 94.603 1296.74 Q92.1725 1297.5 89.3947 1299.05 L89.3947 1294.33 Q92.2188 1293.19 94.6724 1292.62 Q97.1261 1292.04 99.1632 1292.04 Q104.534 1292.04 107.728 1294.72 Q110.922 1297.41 110.922 1301.9 Q110.922 1304.03 110.112 1305.95 Q109.325 1307.85 107.219 1310.44 Q106.64 1311.11 103.538 1314.33 Q100.436 1317.52 94.7882 1323.29 Z\" fill=\"#000000\" fill-rule=\"evenodd\" fill-opacity=\"1\" /><path clip-path=\"url(#clip250)\" d=\"M130.922 1295.74 Q127.311 1295.74 125.482 1299.31 Q123.677 1302.85 123.677 1309.98 Q123.677 1317.08 125.482 1320.65 Q127.311 1324.19 130.922 1324.19 Q134.556 1324.19 136.362 1320.65 Q138.191 1317.08 138.191 1309.98 Q138.191 1302.85 136.362 1299.31 Q134.556 1295.74 130.922 1295.74 M130.922 1292.04 Q136.732 1292.04 139.788 1296.64 Q142.867 1301.23 142.867 1309.98 Q142.867 1318.7 139.788 1323.31 Q136.732 1327.89 130.922 1327.89 Q125.112 1327.89 122.033 1323.31 Q118.978 1318.7 118.978 1309.98 Q118.978 1301.23 122.033 1296.64 Q125.112 1292.04 130.922 1292.04 Z\" fill=\"#000000\" fill-rule=\"evenodd\" fill-opacity=\"1\" /><path clip-path=\"url(#clip250)\" d=\"M50.9921 1038.85 L80.6679 1038.85 L80.6679 1042.78 L50.9921 1042.78 L50.9921 1038.85 Z\" fill=\"#000000\" fill-rule=\"evenodd\" fill-opacity=\"1\" /><path clip-path=\"url(#clip250)\" d=\"M91.5706 1051.74 L99.2095 1051.74 L99.2095 1025.37 L90.8993 1027.04 L90.8993 1022.78 L99.1632 1021.11 L103.839 1021.11 L103.839 1051.74 L111.478 1051.74 L111.478 1055.67 L91.5706 1055.67 L91.5706 1051.74 Z\" fill=\"#000000\" fill-rule=\"evenodd\" fill-opacity=\"1\" /><path clip-path=\"url(#clip250)\" d=\"M130.922 1024.19 Q127.311 1024.19 125.482 1027.76 Q123.677 1031.3 123.677 1038.43 Q123.677 1045.54 125.482 1049.1 Q127.311 1052.64 130.922 1052.64 Q134.556 1052.64 136.362 1049.1 Q138.191 1045.54 138.191 1038.43 Q138.191 1031.3 136.362 1027.76 Q134.556 1024.19 130.922 1024.19 M130.922 1020.49 Q136.732 1020.49 139.788 1025.1 Q142.867 1029.68 142.867 1038.43 Q142.867 1047.16 139.788 1051.76 Q136.732 1056.35 130.922 1056.35 Q125.112 1056.35 122.033 1051.76 Q118.978 1047.16 118.978 1038.43 Q118.978 1029.68 122.033 1025.1 Q125.112 1020.49 130.922 1020.49 Z\" fill=\"#000000\" fill-rule=\"evenodd\" fill-opacity=\"1\" /><path clip-path=\"url(#clip250)\" d=\"M130.922 752.645 Q127.311 752.645 125.482 756.209 Q123.677 759.751 123.677 766.881 Q123.677 773.987 125.482 777.552 Q127.311 781.094 130.922 781.094 Q134.556 781.094 136.362 777.552 Q138.191 773.987 138.191 766.881 Q138.191 759.751 136.362 756.209 Q134.556 752.645 130.922 752.645 M130.922 748.941 Q136.732 748.941 139.788 753.547 Q142.867 758.131 142.867 766.881 Q142.867 775.608 139.788 780.214 Q136.732 784.797 130.922 784.797 Q125.112 784.797 122.033 780.214 Q118.978 775.608 118.978 766.881 Q118.978 758.131 122.033 753.547 Q125.112 748.941 130.922 748.941 Z\" fill=\"#000000\" fill-rule=\"evenodd\" fill-opacity=\"1\" /><path clip-path=\"url(#clip250)\" d=\"M91.5706 508.643 L99.2095 508.643 L99.2095 482.277 L90.8993 483.944 L90.8993 479.685 L99.1632 478.018 L103.839 478.018 L103.839 508.643 L111.478 508.643 L111.478 512.578 L91.5706 512.578 L91.5706 508.643 Z\" fill=\"#000000\" fill-rule=\"evenodd\" fill-opacity=\"1\" /><path clip-path=\"url(#clip250)\" d=\"M130.922 481.097 Q127.311 481.097 125.482 484.662 Q123.677 488.203 123.677 495.333 Q123.677 502.439 125.482 506.004 Q127.311 509.546 130.922 509.546 Q134.556 509.546 136.362 506.004 Q138.191 502.439 138.191 495.333 Q138.191 488.203 136.362 484.662 Q134.556 481.097 130.922 481.097 M130.922 477.393 Q136.732 477.393 139.788 482 Q142.867 486.583 142.867 495.333 Q142.867 504.06 139.788 508.666 Q136.732 513.249 130.922 513.249 Q125.112 513.249 122.033 508.666 Q118.978 504.06 118.978 495.333 Q118.978 486.583 122.033 482 Q125.112 477.393 130.922 477.393 Z\" fill=\"#000000\" fill-rule=\"evenodd\" fill-opacity=\"1\" /><path clip-path=\"url(#clip250)\" d=\"M94.7882 237.095 L111.108 237.095 L111.108 241.03 L89.1632 241.03 L89.1632 237.095 Q91.8252 234.34 96.4085 229.711 Q101.015 225.058 102.196 223.715 Q104.441 221.192 105.321 219.456 Q106.223 217.697 106.223 216.007 Q106.223 213.253 104.279 211.516 Q102.358 209.78 99.2558 209.78 Q97.0567 209.78 94.603 210.544 Q92.1725 211.308 89.3947 212.859 L89.3947 208.137 Q92.2188 207.003 94.6724 206.424 Q97.1261 205.845 99.1632 205.845 Q104.534 205.845 107.728 208.53 Q110.922 211.216 110.922 215.706 Q110.922 217.836 110.112 219.757 Q109.325 221.655 107.219 224.248 Q106.64 224.919 103.538 228.137 Q100.436 231.331 94.7882 237.095 Z\" fill=\"#000000\" fill-rule=\"evenodd\" fill-opacity=\"1\" /><path clip-path=\"url(#clip250)\" d=\"M130.922 209.549 Q127.311 209.549 125.482 213.114 Q123.677 216.655 123.677 223.785 Q123.677 230.891 125.482 234.456 Q127.311 237.998 130.922 237.998 Q134.556 237.998 136.362 234.456 Q138.191 230.891 138.191 223.785 Q138.191 216.655 136.362 213.114 Q134.556 209.549 130.922 209.549 M130.922 205.845 Q136.732 205.845 139.788 210.452 Q142.867 215.035 142.867 223.785 Q142.867 232.512 139.788 237.118 Q136.732 241.702 130.922 241.702 Q125.112 241.702 122.033 237.118 Q118.978 232.512 118.978 223.785 Q118.978 215.035 122.033 210.452 Q125.112 205.845 130.922 205.845 Z\" fill=\"#000000\" fill-rule=\"evenodd\" fill-opacity=\"1\" /><polyline clip-path=\"url(#clip252)\" style=\"stroke:#009af9; stroke-linecap:butt; stroke-linejoin:round; stroke-width:4; stroke-opacity:1; fill:none\" points=\"\n",
       "  240.392,1445.72 250.406,1432.52 260.42,1419.46 353.014,1304.78 445.609,1201.18 501.254,1144.25 556.9,1091.31 603.947,1049.67 650.995,1010.89 753.208,936.493 \n",
       "  847.44,879.853 948.466,831.866 1065.52,792.748 1169.53,772.83 1260.75,766.863 1360.2,761.094 1460.24,742.439 1570.85,706.772 1676.09,658.169 1785.51,592.467 \n",
       "  1877.63,525.175 1933.86,478.711 1990.09,428.165 2042.94,376.927 2095.8,322.082 2180.48,226.695 2265.17,122.049 2278.2,105.122 2291.23,87.9763 \n",
       "  \"/>\n",
       "<path clip-path=\"url(#clip250)\" d=\"\n",
       "M1987.86 198.898 L2280.29 198.898 L2280.29 95.2176 L1987.86 95.2176  Z\n",
       "  \" fill=\"#ffffff\" fill-rule=\"evenodd\" fill-opacity=\"1\"/>\n",
       "<polyline clip-path=\"url(#clip250)\" style=\"stroke:#000000; stroke-linecap:butt; stroke-linejoin:round; stroke-width:4; stroke-opacity:1; fill:none\" points=\"\n",
       "  1987.86,198.898 2280.29,198.898 2280.29,95.2176 1987.86,95.2176 1987.86,198.898 \n",
       "  \"/>\n",
       "<polyline clip-path=\"url(#clip250)\" style=\"stroke:#009af9; stroke-linecap:butt; stroke-linejoin:round; stroke-width:4; stroke-opacity:1; fill:none\" points=\"\n",
       "  2011.86,147.058 2155.86,147.058 \n",
       "  \"/>\n",
       "<path clip-path=\"url(#clip250)\" d=\"M2193.71 166.745 Q2191.9 171.375 2190.19 172.787 Q2188.47 174.199 2185.6 174.199 L2182.2 174.199 L2182.2 170.634 L2184.7 170.634 Q2186.46 170.634 2187.43 169.8 Q2188.4 168.967 2189.58 165.865 L2190.35 163.921 L2179.86 138.412 L2184.38 138.412 L2192.48 158.689 L2200.58 138.412 L2205.09 138.412 L2193.71 166.745 Z\" fill=\"#000000\" fill-rule=\"evenodd\" fill-opacity=\"1\" /><path clip-path=\"url(#clip250)\" d=\"M2212.39 160.402 L2220.02 160.402 L2220.02 134.037 L2211.71 135.703 L2211.71 131.444 L2219.98 129.778 L2224.65 129.778 L2224.65 160.402 L2232.29 160.402 L2232.29 164.338 L2212.39 164.338 L2212.39 160.402 Z\" fill=\"#000000\" fill-rule=\"evenodd\" fill-opacity=\"1\" /></svg>\n"
      ]
     },
     "execution_count": 34,
     "metadata": {},
     "output_type": "execute_result"
    }
   ],
   "source": [
    "x0 = 0\n",
    "f(x) = -(x < x0)*x^2 + (x >= x0)*x^2\n",
    "plot(f)"
   ]
  },
  {
   "cell_type": "markdown",
   "metadata": {},
   "source": [
    "### Ejercicio: \n",
    "\n",
    "Cómo construyo la función valor absoluto?"
   ]
  },
  {
   "cell_type": "markdown",
   "metadata": {},
   "source": [
    "## Los operadores &&, || y !\n",
    "\n",
    "Corresponden a los operadores, **y**, **o** y **negación**."
   ]
  },
  {
   "cell_type": "code",
   "execution_count": 35,
   "metadata": {},
   "outputs": [
    {
     "data": {
      "text/plain": [
       "true"
      ]
     },
     "execution_count": 35,
     "metadata": {},
     "output_type": "execute_result"
    }
   ],
   "source": [
    "true && true # and"
   ]
  },
  {
   "cell_type": "code",
   "execution_count": 36,
   "metadata": {},
   "outputs": [
    {
     "data": {
      "text/plain": [
       "true"
      ]
     },
     "execution_count": 36,
     "metadata": {},
     "output_type": "execute_result"
    }
   ],
   "source": [
    "false || true # or"
   ]
  },
  {
   "cell_type": "code",
   "execution_count": 37,
   "metadata": {},
   "outputs": [
    {
     "data": {
      "text/plain": [
       "false"
      ]
     },
     "execution_count": 37,
     "metadata": {},
     "output_type": "execute_result"
    }
   ],
   "source": [
    "!true"
   ]
  },
  {
   "cell_type": "markdown",
   "metadata": {},
   "source": [
    "Podemos generar las tablas lógicas facilmente!"
   ]
  },
  {
   "cell_type": "code",
   "execution_count": 38,
   "metadata": {},
   "outputs": [
    {
     "data": {
      "text/plain": [
       "2×2 Matrix{Bool}:\n",
       " 1  0\n",
       " 0  0"
      ]
     },
     "execution_count": 38,
     "metadata": {},
     "output_type": "execute_result"
    }
   ],
   "source": [
    "A = (true, false)\n",
    "\n",
    "And = [i && j for i in A, j in A]"
   ]
  },
  {
   "cell_type": "code",
   "execution_count": 39,
   "metadata": {},
   "outputs": [
    {
     "data": {
      "text/plain": [
       "2×2 Matrix{Bool}:\n",
       " 1  1\n",
       " 1  0"
      ]
     },
     "execution_count": 39,
     "metadata": {},
     "output_type": "execute_result"
    }
   ],
   "source": [
    "Or = [i || j for i in A, j in A]"
   ]
  },
  {
   "cell_type": "code",
   "execution_count": 40,
   "metadata": {},
   "outputs": [
    {
     "data": {
      "text/plain": [
       "2×2 BitMatrix:\n",
       " 0  1\n",
       " 1  0"
      ]
     },
     "execution_count": 40,
     "metadata": {},
     "output_type": "execute_result"
    }
   ],
   "source": [
    ".!And .== Or"
   ]
  },
  {
   "cell_type": "markdown",
   "metadata": {},
   "source": [
    "Para familiarizarnos con estos operadores podemos aplicarlos a la construcción de funciones simples:"
   ]
  },
  {
   "cell_type": "code",
   "execution_count": 42,
   "metadata": {},
   "outputs": [
    {
     "data": {
      "text/plain": [
       "g_e (generic function with 1 method)"
      ]
     },
     "execution_count": 42,
     "metadata": {},
     "output_type": "execute_result"
    }
   ],
   "source": [
    "function g_e(x)\n",
    "    if x >= 0 && x <= 1 return 1.\n",
    "    else return 0\n",
    "    end\n",
    "end"
   ]
  },
  {
   "cell_type": "code",
   "execution_count": 43,
   "metadata": {
    "tags": []
   },
   "outputs": [
    {
     "data": {
      "image/svg+xml": [
       "<?xml version=\"1.0\" encoding=\"utf-8\"?>\n",
       "<svg xmlns=\"http://www.w3.org/2000/svg\" xmlns:xlink=\"http://www.w3.org/1999/xlink\" width=\"600\" height=\"400\" viewBox=\"0 0 2400 1600\">\n",
       "<defs>\n",
       "  <clipPath id=\"clip290\">\n",
       "    <rect x=\"0\" y=\"0\" width=\"2400\" height=\"1600\"/>\n",
       "  </clipPath>\n",
       "</defs>\n",
       "<path clip-path=\"url(#clip290)\" d=\"\n",
       "M0 1600 L2400 1600 L2400 0 L0 0  Z\n",
       "  \" fill=\"#ffffff\" fill-rule=\"evenodd\" fill-opacity=\"1\"/>\n",
       "<defs>\n",
       "  <clipPath id=\"clip291\">\n",
       "    <rect x=\"480\" y=\"0\" width=\"1681\" height=\"1600\"/>\n",
       "  </clipPath>\n",
       "</defs>\n",
       "<path clip-path=\"url(#clip290)\" d=\"\n",
       "M186.274 1486.45 L2352.76 1486.45 L2352.76 47.2441 L186.274 47.2441  Z\n",
       "  \" fill=\"#ffffff\" fill-rule=\"evenodd\" fill-opacity=\"1\"/>\n",
       "<defs>\n",
       "  <clipPath id=\"clip292\">\n",
       "    <rect x=\"186\" y=\"47\" width=\"2167\" height=\"1440\"/>\n",
       "  </clipPath>\n",
       "</defs>\n",
       "<polyline clip-path=\"url(#clip292)\" style=\"stroke:#000000; stroke-linecap:butt; stroke-linejoin:round; stroke-width:2; stroke-opacity:0.1; fill:none\" points=\"\n",
       "  451.975,1486.45 451.975,47.2441 \n",
       "  \"/>\n",
       "<polyline clip-path=\"url(#clip292)\" style=\"stroke:#000000; stroke-linecap:butt; stroke-linejoin:round; stroke-width:2; stroke-opacity:0.1; fill:none\" points=\"\n",
       "  860.745,1486.45 860.745,47.2441 \n",
       "  \"/>\n",
       "<polyline clip-path=\"url(#clip292)\" style=\"stroke:#000000; stroke-linecap:butt; stroke-linejoin:round; stroke-width:2; stroke-opacity:0.1; fill:none\" points=\"\n",
       "  1269.51,1486.45 1269.51,47.2441 \n",
       "  \"/>\n",
       "<polyline clip-path=\"url(#clip292)\" style=\"stroke:#000000; stroke-linecap:butt; stroke-linejoin:round; stroke-width:2; stroke-opacity:0.1; fill:none\" points=\"\n",
       "  1678.29,1486.45 1678.29,47.2441 \n",
       "  \"/>\n",
       "<polyline clip-path=\"url(#clip292)\" style=\"stroke:#000000; stroke-linecap:butt; stroke-linejoin:round; stroke-width:2; stroke-opacity:0.1; fill:none\" points=\"\n",
       "  2087.06,1486.45 2087.06,47.2441 \n",
       "  \"/>\n",
       "<polyline clip-path=\"url(#clip290)\" style=\"stroke:#000000; stroke-linecap:butt; stroke-linejoin:round; stroke-width:4; stroke-opacity:1; fill:none\" points=\"\n",
       "  186.274,1486.45 2352.76,1486.45 \n",
       "  \"/>\n",
       "<polyline clip-path=\"url(#clip290)\" style=\"stroke:#000000; stroke-linecap:butt; stroke-linejoin:round; stroke-width:4; stroke-opacity:1; fill:none\" points=\"\n",
       "  451.975,1486.45 451.975,1467.55 \n",
       "  \"/>\n",
       "<polyline clip-path=\"url(#clip290)\" style=\"stroke:#000000; stroke-linecap:butt; stroke-linejoin:round; stroke-width:4; stroke-opacity:1; fill:none\" points=\"\n",
       "  860.745,1486.45 860.745,1467.55 \n",
       "  \"/>\n",
       "<polyline clip-path=\"url(#clip290)\" style=\"stroke:#000000; stroke-linecap:butt; stroke-linejoin:round; stroke-width:4; stroke-opacity:1; fill:none\" points=\"\n",
       "  1269.51,1486.45 1269.51,1467.55 \n",
       "  \"/>\n",
       "<polyline clip-path=\"url(#clip290)\" style=\"stroke:#000000; stroke-linecap:butt; stroke-linejoin:round; stroke-width:4; stroke-opacity:1; fill:none\" points=\"\n",
       "  1678.29,1486.45 1678.29,1467.55 \n",
       "  \"/>\n",
       "<polyline clip-path=\"url(#clip290)\" style=\"stroke:#000000; stroke-linecap:butt; stroke-linejoin:round; stroke-width:4; stroke-opacity:1; fill:none\" points=\"\n",
       "  2087.06,1486.45 2087.06,1467.55 \n",
       "  \"/>\n",
       "<path clip-path=\"url(#clip290)\" d=\"M420.875 1532.02 L450.551 1532.02 L450.551 1535.95 L420.875 1535.95 L420.875 1532.02 Z\" fill=\"#000000\" fill-rule=\"evenodd\" fill-opacity=\"1\" /><path clip-path=\"url(#clip290)\" d=\"M473.491 1518.36 L461.685 1536.81 L473.491 1536.81 L473.491 1518.36 M472.264 1514.29 L478.143 1514.29 L478.143 1536.81 L483.074 1536.81 L483.074 1540.7 L478.143 1540.7 L478.143 1548.85 L473.491 1548.85 L473.491 1540.7 L457.889 1540.7 L457.889 1536.19 L472.264 1514.29 Z\" fill=\"#000000\" fill-rule=\"evenodd\" fill-opacity=\"1\" /><path clip-path=\"url(#clip290)\" d=\"M830.687 1532.02 L860.363 1532.02 L860.363 1535.95 L830.687 1535.95 L830.687 1532.02 Z\" fill=\"#000000\" fill-rule=\"evenodd\" fill-opacity=\"1\" /><path clip-path=\"url(#clip290)\" d=\"M874.483 1544.91 L890.802 1544.91 L890.802 1548.85 L868.858 1548.85 L868.858 1544.91 Q871.52 1542.16 876.103 1537.53 Q880.71 1532.88 881.891 1531.53 Q884.136 1529.01 885.015 1527.27 Q885.918 1525.51 885.918 1523.82 Q885.918 1521.07 883.974 1519.33 Q882.053 1517.6 878.951 1517.6 Q876.752 1517.6 874.298 1518.36 Q871.867 1519.13 869.09 1520.68 L869.09 1515.95 Q871.914 1514.82 874.367 1514.24 Q876.821 1513.66 878.858 1513.66 Q884.228 1513.66 887.423 1516.35 Q890.617 1519.03 890.617 1523.52 Q890.617 1525.65 889.807 1527.57 Q889.02 1529.47 886.914 1532.07 Q886.335 1532.74 883.233 1535.95 Q880.131 1539.15 874.483 1544.91 Z\" fill=\"#000000\" fill-rule=\"evenodd\" fill-opacity=\"1\" /><path clip-path=\"url(#clip290)\" d=\"M1269.51 1517.37 Q1265.9 1517.37 1264.08 1520.93 Q1262.27 1524.47 1262.27 1531.6 Q1262.27 1538.71 1264.08 1542.27 Q1265.9 1545.82 1269.51 1545.82 Q1273.15 1545.82 1274.95 1542.27 Q1276.78 1538.71 1276.78 1531.6 Q1276.78 1524.47 1274.95 1520.93 Q1273.15 1517.37 1269.51 1517.37 M1269.51 1513.66 Q1275.33 1513.66 1278.38 1518.27 Q1281.46 1522.85 1281.46 1531.6 Q1281.46 1540.33 1278.38 1544.94 Q1275.33 1549.52 1269.51 1549.52 Q1263.7 1549.52 1260.63 1544.94 Q1257.57 1540.33 1257.57 1531.6 Q1257.57 1522.85 1260.63 1518.27 Q1263.7 1513.66 1269.51 1513.66 Z\" fill=\"#000000\" fill-rule=\"evenodd\" fill-opacity=\"1\" /><path clip-path=\"url(#clip290)\" d=\"M1672.94 1544.91 L1689.26 1544.91 L1689.26 1548.85 L1667.31 1548.85 L1667.31 1544.91 Q1669.97 1542.16 1674.56 1537.53 Q1679.16 1532.88 1680.35 1531.53 Q1682.59 1529.01 1683.47 1527.27 Q1684.37 1525.51 1684.37 1523.82 Q1684.37 1521.07 1682.43 1519.33 Q1680.51 1517.6 1677.41 1517.6 Q1675.21 1517.6 1672.75 1518.36 Q1670.32 1519.13 1667.54 1520.68 L1667.54 1515.95 Q1670.37 1514.82 1672.82 1514.24 Q1675.28 1513.66 1677.31 1513.66 Q1682.68 1513.66 1685.88 1516.35 Q1689.07 1519.03 1689.07 1523.52 Q1689.07 1525.65 1688.26 1527.57 Q1687.47 1529.47 1685.37 1532.07 Q1684.79 1532.74 1681.69 1535.95 Q1678.59 1539.15 1672.94 1544.91 Z\" fill=\"#000000\" fill-rule=\"evenodd\" fill-opacity=\"1\" /><path clip-path=\"url(#clip290)\" d=\"M2090.06 1518.36 L2078.26 1536.81 L2090.06 1536.81 L2090.06 1518.36 M2088.84 1514.29 L2094.72 1514.29 L2094.72 1536.81 L2099.65 1536.81 L2099.65 1540.7 L2094.72 1540.7 L2094.72 1548.85 L2090.06 1548.85 L2090.06 1540.7 L2074.46 1540.7 L2074.46 1536.19 L2088.84 1514.29 Z\" fill=\"#000000\" fill-rule=\"evenodd\" fill-opacity=\"1\" /><polyline clip-path=\"url(#clip292)\" style=\"stroke:#000000; stroke-linecap:butt; stroke-linejoin:round; stroke-width:2; stroke-opacity:0.1; fill:none\" points=\"\n",
       "  186.274,1445.72 2352.76,1445.72 \n",
       "  \"/>\n",
       "<polyline clip-path=\"url(#clip292)\" style=\"stroke:#000000; stroke-linecap:butt; stroke-linejoin:round; stroke-width:2; stroke-opacity:0.1; fill:none\" points=\"\n",
       "  186.274,1106.28 2352.76,1106.28 \n",
       "  \"/>\n",
       "<polyline clip-path=\"url(#clip292)\" style=\"stroke:#000000; stroke-linecap:butt; stroke-linejoin:round; stroke-width:2; stroke-opacity:0.1; fill:none\" points=\"\n",
       "  186.274,766.846 2352.76,766.846 \n",
       "  \"/>\n",
       "<polyline clip-path=\"url(#clip292)\" style=\"stroke:#000000; stroke-linecap:butt; stroke-linejoin:round; stroke-width:2; stroke-opacity:0.1; fill:none\" points=\"\n",
       "  186.274,427.411 2352.76,427.411 \n",
       "  \"/>\n",
       "<polyline clip-path=\"url(#clip292)\" style=\"stroke:#000000; stroke-linecap:butt; stroke-linejoin:round; stroke-width:2; stroke-opacity:0.1; fill:none\" points=\"\n",
       "  186.274,87.9763 2352.76,87.9763 \n",
       "  \"/>\n",
       "<polyline clip-path=\"url(#clip290)\" style=\"stroke:#000000; stroke-linecap:butt; stroke-linejoin:round; stroke-width:4; stroke-opacity:1; fill:none\" points=\"\n",
       "  186.274,1486.45 186.274,47.2441 \n",
       "  \"/>\n",
       "<polyline clip-path=\"url(#clip290)\" style=\"stroke:#000000; stroke-linecap:butt; stroke-linejoin:round; stroke-width:4; stroke-opacity:1; fill:none\" points=\"\n",
       "  186.274,1445.72 205.172,1445.72 \n",
       "  \"/>\n",
       "<polyline clip-path=\"url(#clip290)\" style=\"stroke:#000000; stroke-linecap:butt; stroke-linejoin:round; stroke-width:4; stroke-opacity:1; fill:none\" points=\"\n",
       "  186.274,1106.28 205.172,1106.28 \n",
       "  \"/>\n",
       "<polyline clip-path=\"url(#clip290)\" style=\"stroke:#000000; stroke-linecap:butt; stroke-linejoin:round; stroke-width:4; stroke-opacity:1; fill:none\" points=\"\n",
       "  186.274,766.846 205.172,766.846 \n",
       "  \"/>\n",
       "<polyline clip-path=\"url(#clip290)\" style=\"stroke:#000000; stroke-linecap:butt; stroke-linejoin:round; stroke-width:4; stroke-opacity:1; fill:none\" points=\"\n",
       "  186.274,427.411 205.172,427.411 \n",
       "  \"/>\n",
       "<polyline clip-path=\"url(#clip290)\" style=\"stroke:#000000; stroke-linecap:butt; stroke-linejoin:round; stroke-width:4; stroke-opacity:1; fill:none\" points=\"\n",
       "  186.274,87.9763 205.172,87.9763 \n",
       "  \"/>\n",
       "<path clip-path=\"url(#clip290)\" d=\"M62.9365 1431.51 Q59.3254 1431.51 57.4967 1435.08 Q55.6912 1438.62 55.6912 1445.75 Q55.6912 1452.86 57.4967 1456.42 Q59.3254 1459.96 62.9365 1459.96 Q66.5707 1459.96 68.3763 1456.42 Q70.205 1452.86 70.205 1445.75 Q70.205 1438.62 68.3763 1435.08 Q66.5707 1431.51 62.9365 1431.51 M62.9365 1427.81 Q68.7467 1427.81 71.8022 1432.42 Q74.8809 1437 74.8809 1445.75 Q74.8809 1454.48 71.8022 1459.08 Q68.7467 1463.67 62.9365 1463.67 Q57.1264 1463.67 54.0477 1459.08 Q50.9921 1454.48 50.9921 1445.75 Q50.9921 1437 54.0477 1432.42 Q57.1264 1427.81 62.9365 1427.81 Z\" fill=\"#000000\" fill-rule=\"evenodd\" fill-opacity=\"1\" /><path clip-path=\"url(#clip290)\" d=\"M83.0984 1457.12 L87.9827 1457.12 L87.9827 1463 L83.0984 1463 L83.0984 1457.12 Z\" fill=\"#000000\" fill-rule=\"evenodd\" fill-opacity=\"1\" /><path clip-path=\"url(#clip290)\" d=\"M108.168 1431.51 Q104.557 1431.51 102.728 1435.08 Q100.922 1438.62 100.922 1445.75 Q100.922 1452.86 102.728 1456.42 Q104.557 1459.96 108.168 1459.96 Q111.802 1459.96 113.608 1456.42 Q115.436 1452.86 115.436 1445.75 Q115.436 1438.62 113.608 1435.08 Q111.802 1431.51 108.168 1431.51 M108.168 1427.81 Q113.978 1427.81 117.033 1432.42 Q120.112 1437 120.112 1445.75 Q120.112 1454.48 117.033 1459.08 Q113.978 1463.67 108.168 1463.67 Q102.358 1463.67 99.2789 1459.08 Q96.2234 1454.48 96.2234 1445.75 Q96.2234 1437 99.2789 1432.42 Q102.358 1427.81 108.168 1427.81 Z\" fill=\"#000000\" fill-rule=\"evenodd\" fill-opacity=\"1\" /><path clip-path=\"url(#clip290)\" d=\"M138.33 1431.51 Q134.719 1431.51 132.89 1435.08 Q131.084 1438.62 131.084 1445.75 Q131.084 1452.86 132.89 1456.42 Q134.719 1459.96 138.33 1459.96 Q141.964 1459.96 143.769 1456.42 Q145.598 1452.86 145.598 1445.75 Q145.598 1438.62 143.769 1435.08 Q141.964 1431.51 138.33 1431.51 M138.33 1427.81 Q144.14 1427.81 147.195 1432.42 Q150.274 1437 150.274 1445.75 Q150.274 1454.48 147.195 1459.08 Q144.14 1463.67 138.33 1463.67 Q132.519 1463.67 129.441 1459.08 Q126.385 1454.48 126.385 1445.75 Q126.385 1437 129.441 1432.42 Q132.519 1427.81 138.33 1427.81 Z\" fill=\"#000000\" fill-rule=\"evenodd\" fill-opacity=\"1\" /><path clip-path=\"url(#clip290)\" d=\"M63.9319 1092.08 Q60.3208 1092.08 58.4921 1095.64 Q56.6865 1099.19 56.6865 1106.32 Q56.6865 1113.42 58.4921 1116.99 Q60.3208 1120.53 63.9319 1120.53 Q67.5661 1120.53 69.3717 1116.99 Q71.2004 1113.42 71.2004 1106.32 Q71.2004 1099.19 69.3717 1095.64 Q67.5661 1092.08 63.9319 1092.08 M63.9319 1088.38 Q69.742 1088.38 72.7976 1092.98 Q75.8763 1097.57 75.8763 1106.32 Q75.8763 1115.04 72.7976 1119.65 Q69.742 1124.23 63.9319 1124.23 Q58.1217 1124.23 55.043 1119.65 Q51.9875 1115.04 51.9875 1106.32 Q51.9875 1097.57 55.043 1092.98 Q58.1217 1088.38 63.9319 1088.38 Z\" fill=\"#000000\" fill-rule=\"evenodd\" fill-opacity=\"1\" /><path clip-path=\"url(#clip290)\" d=\"M84.0938 1117.68 L88.978 1117.68 L88.978 1123.56 L84.0938 1123.56 L84.0938 1117.68 Z\" fill=\"#000000\" fill-rule=\"evenodd\" fill-opacity=\"1\" /><path clip-path=\"url(#clip290)\" d=\"M103.191 1119.63 L119.51 1119.63 L119.51 1123.56 L97.566 1123.56 L97.566 1119.63 Q100.228 1116.87 104.811 1112.24 Q109.418 1107.59 110.598 1106.25 Q112.844 1103.72 113.723 1101.99 Q114.626 1100.23 114.626 1098.54 Q114.626 1095.78 112.682 1094.05 Q110.76 1092.31 107.658 1092.31 Q105.459 1092.31 103.006 1093.07 Q100.575 1093.84 97.7974 1095.39 L97.7974 1090.67 Q100.621 1089.53 103.075 1088.95 Q105.529 1088.38 107.566 1088.38 Q112.936 1088.38 116.131 1091.06 Q119.325 1093.75 119.325 1098.24 Q119.325 1100.37 118.515 1102.29 Q117.728 1104.19 115.621 1106.78 Q115.043 1107.45 111.941 1110.67 Q108.839 1113.86 103.191 1119.63 Z\" fill=\"#000000\" fill-rule=\"evenodd\" fill-opacity=\"1\" /><path clip-path=\"url(#clip290)\" d=\"M129.371 1089 L147.728 1089 L147.728 1092.94 L133.654 1092.94 L133.654 1101.41 Q134.672 1101.06 135.691 1100.9 Q136.709 1100.71 137.728 1100.71 Q143.515 1100.71 146.894 1103.89 Q150.274 1107.06 150.274 1112.47 Q150.274 1118.05 146.802 1121.15 Q143.33 1124.23 137.01 1124.23 Q134.834 1124.23 132.566 1123.86 Q130.32 1123.49 127.913 1122.75 L127.913 1118.05 Q129.996 1119.19 132.219 1119.74 Q134.441 1120.3 136.918 1120.3 Q140.922 1120.3 143.26 1118.19 Q145.598 1116.08 145.598 1112.47 Q145.598 1108.86 143.26 1106.76 Q140.922 1104.65 136.918 1104.65 Q135.043 1104.65 133.168 1105.07 Q131.316 1105.48 129.371 1106.36 L129.371 1089 Z\" fill=\"#000000\" fill-rule=\"evenodd\" fill-opacity=\"1\" /><path clip-path=\"url(#clip290)\" d=\"M62.9365 752.645 Q59.3254 752.645 57.4967 756.209 Q55.6912 759.751 55.6912 766.881 Q55.6912 773.987 57.4967 777.552 Q59.3254 781.094 62.9365 781.094 Q66.5707 781.094 68.3763 777.552 Q70.205 773.987 70.205 766.881 Q70.205 759.751 68.3763 756.209 Q66.5707 752.645 62.9365 752.645 M62.9365 748.941 Q68.7467 748.941 71.8022 753.547 Q74.8809 758.131 74.8809 766.881 Q74.8809 775.608 71.8022 780.214 Q68.7467 784.797 62.9365 784.797 Q57.1264 784.797 54.0477 780.214 Q50.9921 775.608 50.9921 766.881 Q50.9921 758.131 54.0477 753.547 Q57.1264 748.941 62.9365 748.941 Z\" fill=\"#000000\" fill-rule=\"evenodd\" fill-opacity=\"1\" /><path clip-path=\"url(#clip290)\" d=\"M83.0984 778.246 L87.9827 778.246 L87.9827 784.126 L83.0984 784.126 L83.0984 778.246 Z\" fill=\"#000000\" fill-rule=\"evenodd\" fill-opacity=\"1\" /><path clip-path=\"url(#clip290)\" d=\"M98.2141 749.566 L116.57 749.566 L116.57 753.501 L102.496 753.501 L102.496 761.973 Q103.515 761.626 104.534 761.464 Q105.552 761.279 106.571 761.279 Q112.358 761.279 115.737 764.45 Q119.117 767.621 119.117 773.038 Q119.117 778.617 115.645 781.719 Q112.172 784.797 105.853 784.797 Q103.677 784.797 101.409 784.427 Q99.1632 784.057 96.7558 783.316 L96.7558 778.617 Q98.8391 779.751 101.061 780.307 Q103.284 780.862 105.76 780.862 Q109.765 780.862 112.103 778.756 Q114.441 776.649 114.441 773.038 Q114.441 769.427 112.103 767.321 Q109.765 765.214 105.76 765.214 Q103.885 765.214 102.01 765.631 Q100.159 766.047 98.2141 766.927 L98.2141 749.566 Z\" fill=\"#000000\" fill-rule=\"evenodd\" fill-opacity=\"1\" /><path clip-path=\"url(#clip290)\" d=\"M138.33 752.645 Q134.719 752.645 132.89 756.209 Q131.084 759.751 131.084 766.881 Q131.084 773.987 132.89 777.552 Q134.719 781.094 138.33 781.094 Q141.964 781.094 143.769 777.552 Q145.598 773.987 145.598 766.881 Q145.598 759.751 143.769 756.209 Q141.964 752.645 138.33 752.645 M138.33 748.941 Q144.14 748.941 147.195 753.547 Q150.274 758.131 150.274 766.881 Q150.274 775.608 147.195 780.214 Q144.14 784.797 138.33 784.797 Q132.519 784.797 129.441 780.214 Q126.385 775.608 126.385 766.881 Q126.385 758.131 129.441 753.547 Q132.519 748.941 138.33 748.941 Z\" fill=\"#000000\" fill-rule=\"evenodd\" fill-opacity=\"1\" /><path clip-path=\"url(#clip290)\" d=\"M63.9319 413.21 Q60.3208 413.21 58.4921 416.775 Q56.6865 420.316 56.6865 427.446 Q56.6865 434.552 58.4921 438.117 Q60.3208 441.659 63.9319 441.659 Q67.5661 441.659 69.3717 438.117 Q71.2004 434.552 71.2004 427.446 Q71.2004 420.316 69.3717 416.775 Q67.5661 413.21 63.9319 413.21 M63.9319 409.506 Q69.742 409.506 72.7976 414.113 Q75.8763 418.696 75.8763 427.446 Q75.8763 436.173 72.7976 440.779 Q69.742 445.362 63.9319 445.362 Q58.1217 445.362 55.043 440.779 Q51.9875 436.173 51.9875 427.446 Q51.9875 418.696 55.043 414.113 Q58.1217 409.506 63.9319 409.506 Z\" fill=\"#000000\" fill-rule=\"evenodd\" fill-opacity=\"1\" /><path clip-path=\"url(#clip290)\" d=\"M84.0938 438.812 L88.978 438.812 L88.978 444.691 L84.0938 444.691 L84.0938 438.812 Z\" fill=\"#000000\" fill-rule=\"evenodd\" fill-opacity=\"1\" /><path clip-path=\"url(#clip290)\" d=\"M97.9826 410.131 L120.205 410.131 L120.205 412.122 L107.658 444.691 L102.774 444.691 L114.58 414.066 L97.9826 414.066 L97.9826 410.131 Z\" fill=\"#000000\" fill-rule=\"evenodd\" fill-opacity=\"1\" /><path clip-path=\"url(#clip290)\" d=\"M129.371 410.131 L147.728 410.131 L147.728 414.066 L133.654 414.066 L133.654 422.538 Q134.672 422.191 135.691 422.029 Q136.709 421.844 137.728 421.844 Q143.515 421.844 146.894 425.015 Q150.274 428.187 150.274 433.603 Q150.274 439.182 146.802 442.284 Q143.33 445.362 137.01 445.362 Q134.834 445.362 132.566 444.992 Q130.32 444.622 127.913 443.881 L127.913 439.182 Q129.996 440.316 132.219 440.872 Q134.441 441.427 136.918 441.427 Q140.922 441.427 143.26 439.321 Q145.598 437.214 145.598 433.603 Q145.598 429.992 143.26 427.886 Q140.922 425.779 136.918 425.779 Q135.043 425.779 133.168 426.196 Q131.316 426.613 129.371 427.492 L129.371 410.131 Z\" fill=\"#000000\" fill-rule=\"evenodd\" fill-opacity=\"1\" /><path clip-path=\"url(#clip290)\" d=\"M53.7467 101.321 L61.3856 101.321 L61.3856 74.9555 L53.0754 76.6222 L53.0754 72.3629 L61.3393 70.6963 L66.0152 70.6963 L66.0152 101.321 L73.654 101.321 L73.654 105.256 L53.7467 105.256 L53.7467 101.321 Z\" fill=\"#000000\" fill-rule=\"evenodd\" fill-opacity=\"1\" /><path clip-path=\"url(#clip290)\" d=\"M83.0984 99.3767 L87.9827 99.3767 L87.9827 105.256 L83.0984 105.256 L83.0984 99.3767 Z\" fill=\"#000000\" fill-rule=\"evenodd\" fill-opacity=\"1\" /><path clip-path=\"url(#clip290)\" d=\"M108.168 73.775 Q104.557 73.775 102.728 77.3398 Q100.922 80.8814 100.922 88.011 Q100.922 95.1174 102.728 98.6822 Q104.557 102.224 108.168 102.224 Q111.802 102.224 113.608 98.6822 Q115.436 95.1174 115.436 88.011 Q115.436 80.8814 113.608 77.3398 Q111.802 73.775 108.168 73.775 M108.168 70.0713 Q113.978 70.0713 117.033 74.6777 Q120.112 79.261 120.112 88.011 Q120.112 96.7378 117.033 101.344 Q113.978 105.928 108.168 105.928 Q102.358 105.928 99.2789 101.344 Q96.2234 96.7378 96.2234 88.011 Q96.2234 79.261 99.2789 74.6777 Q102.358 70.0713 108.168 70.0713 Z\" fill=\"#000000\" fill-rule=\"evenodd\" fill-opacity=\"1\" /><path clip-path=\"url(#clip290)\" d=\"M138.33 73.775 Q134.719 73.775 132.89 77.3398 Q131.084 80.8814 131.084 88.011 Q131.084 95.1174 132.89 98.6822 Q134.719 102.224 138.33 102.224 Q141.964 102.224 143.769 98.6822 Q145.598 95.1174 145.598 88.011 Q145.598 80.8814 143.769 77.3398 Q141.964 73.775 138.33 73.775 M138.33 70.0713 Q144.14 70.0713 147.195 74.6777 Q150.274 79.261 150.274 88.011 Q150.274 96.7378 147.195 101.344 Q144.14 105.928 138.33 105.928 Q132.519 105.928 129.441 101.344 Q126.385 96.7378 126.385 88.011 Q126.385 79.261 129.441 74.6777 Q132.519 70.0713 138.33 70.0713 Z\" fill=\"#000000\" fill-rule=\"evenodd\" fill-opacity=\"1\" /><polyline clip-path=\"url(#clip292)\" style=\"stroke:#009af9; stroke-linecap:butt; stroke-linejoin:round; stroke-width:4; stroke-opacity:1; fill:none\" points=\"\n",
       "  247.59,1445.72 267.549,1445.72 452.107,1445.72 563.019,1445.72 656.793,1445.72 758.658,1445.72 852.569,1445.72 953.251,1445.72 1069.9,1445.72 1121.73,1445.72 \n",
       "  1173.57,1445.72 1196.29,1445.72 1219.02,1445.72 1230.38,1445.72 1241.75,1445.72 1247.43,1445.72 1253.11,1445.72 1255.95,1445.72 1258.79,1445.72 1261.63,1445.72 \n",
       "  1264.47,1445.72 1266.02,1445.72 1267.57,1445.72 1268.34,1445.72 1269.12,1445.72 1269.89,87.9763 1270.67,87.9763 1271.44,87.9763 1272.21,87.9763 1272.99,87.9763 \n",
       "  1273.76,87.9763 1275.31,87.9763 1276.86,87.9763 1283.05,87.9763 1289.25,87.9763 1301.64,87.9763 1314.03,87.9763 1338.8,87.9763 1363.58,87.9763 1388.51,87.9763 \n",
       "  1413.43,87.9763 1425.89,87.9763 1438.36,87.9763 1444.59,87.9763 1450.82,87.9763 1457.05,87.9763 1463.28,87.9763 1466.73,87.9763 1470.17,87.9763 1471.03,87.9763 \n",
       "  1471.89,87.9763 1472.75,87.9763 1473.62,87.9763 1474.48,1445.72 1475.34,1445.72 1476.2,1445.72 1477.06,1445.72 1478.78,1445.72 1480.51,1445.72 1482.23,1445.72 \n",
       "  1483.95,1445.72 1487.39,1445.72 1490.84,1445.72 1504.62,1445.72 1518.4,1445.72 1545.95,1445.72 1573.51,1445.72 1625.95,1445.72 1678.39,1445.72 1787.45,1445.72 \n",
       "  1879.25,1445.72 1991.32,1445.72 2096.68,1445.72 2265.46,1445.72 2291.44,1445.72 \n",
       "  \"/>\n",
       "<path clip-path=\"url(#clip290)\" d=\"\n",
       "M1988.11 198.898 L2280.54 198.898 L2280.54 95.2176 L1988.11 95.2176  Z\n",
       "  \" fill=\"#ffffff\" fill-rule=\"evenodd\" fill-opacity=\"1\"/>\n",
       "<polyline clip-path=\"url(#clip290)\" style=\"stroke:#000000; stroke-linecap:butt; stroke-linejoin:round; stroke-width:4; stroke-opacity:1; fill:none\" points=\"\n",
       "  1988.11,198.898 2280.54,198.898 2280.54,95.2176 1988.11,95.2176 1988.11,198.898 \n",
       "  \"/>\n",
       "<polyline clip-path=\"url(#clip290)\" style=\"stroke:#009af9; stroke-linecap:butt; stroke-linejoin:round; stroke-width:4; stroke-opacity:1; fill:none\" points=\"\n",
       "  2012.11,147.058 2156.11,147.058 \n",
       "  \"/>\n",
       "<path clip-path=\"url(#clip290)\" d=\"M2193.95 166.745 Q2192.15 171.375 2190.43 172.787 Q2188.72 174.199 2185.85 174.199 L2182.45 174.199 L2182.45 170.634 L2184.95 170.634 Q2186.71 170.634 2187.68 169.8 Q2188.65 168.967 2189.83 165.865 L2190.6 163.921 L2180.11 138.412 L2184.62 138.412 L2192.73 158.689 L2200.83 138.412 L2205.34 138.412 L2193.95 166.745 Z\" fill=\"#000000\" fill-rule=\"evenodd\" fill-opacity=\"1\" /><path clip-path=\"url(#clip290)\" d=\"M2212.63 160.402 L2220.27 160.402 L2220.27 134.037 L2211.96 135.703 L2211.96 131.444 L2220.23 129.778 L2224.9 129.778 L2224.9 160.402 L2232.54 160.402 L2232.54 164.338 L2212.63 164.338 L2212.63 160.402 Z\" fill=\"#000000\" fill-rule=\"evenodd\" fill-opacity=\"1\" /></svg>\n"
      ]
     },
     "execution_count": 43,
     "metadata": {},
     "output_type": "execute_result"
    }
   ],
   "source": [
    "plot(g_e)"
   ]
  },
  {
   "cell_type": "code",
   "execution_count": 44,
   "metadata": {},
   "outputs": [
    {
     "data": {
      "text/plain": [
       "g (generic function with 1 method)"
      ]
     },
     "execution_count": 44,
     "metadata": {},
     "output_type": "execute_result"
    }
   ],
   "source": [
    "g(x) = 1.0*(x >= 0 && x <=1)"
   ]
  },
  {
   "cell_type": "code",
   "execution_count": 45,
   "metadata": {
    "tags": []
   },
   "outputs": [
    {
     "data": {
      "image/svg+xml": [
       "<?xml version=\"1.0\" encoding=\"utf-8\"?>\n",
       "<svg xmlns=\"http://www.w3.org/2000/svg\" xmlns:xlink=\"http://www.w3.org/1999/xlink\" width=\"600\" height=\"400\" viewBox=\"0 0 2400 1600\">\n",
       "<defs>\n",
       "  <clipPath id=\"clip330\">\n",
       "    <rect x=\"0\" y=\"0\" width=\"2400\" height=\"1600\"/>\n",
       "  </clipPath>\n",
       "</defs>\n",
       "<path clip-path=\"url(#clip330)\" d=\"\n",
       "M0 1600 L2400 1600 L2400 0 L0 0  Z\n",
       "  \" fill=\"#ffffff\" fill-rule=\"evenodd\" fill-opacity=\"1\"/>\n",
       "<defs>\n",
       "  <clipPath id=\"clip331\">\n",
       "    <rect x=\"480\" y=\"0\" width=\"1681\" height=\"1600\"/>\n",
       "  </clipPath>\n",
       "</defs>\n",
       "<path clip-path=\"url(#clip330)\" d=\"\n",
       "M186.274 1486.45 L2352.76 1486.45 L2352.76 47.2441 L186.274 47.2441  Z\n",
       "  \" fill=\"#ffffff\" fill-rule=\"evenodd\" fill-opacity=\"1\"/>\n",
       "<defs>\n",
       "  <clipPath id=\"clip332\">\n",
       "    <rect x=\"186\" y=\"47\" width=\"2167\" height=\"1440\"/>\n",
       "  </clipPath>\n",
       "</defs>\n",
       "<polyline clip-path=\"url(#clip332)\" style=\"stroke:#000000; stroke-linecap:butt; stroke-linejoin:round; stroke-width:2; stroke-opacity:0.1; fill:none\" points=\"\n",
       "  451.975,1486.45 451.975,47.2441 \n",
       "  \"/>\n",
       "<polyline clip-path=\"url(#clip332)\" style=\"stroke:#000000; stroke-linecap:butt; stroke-linejoin:round; stroke-width:2; stroke-opacity:0.1; fill:none\" points=\"\n",
       "  860.745,1486.45 860.745,47.2441 \n",
       "  \"/>\n",
       "<polyline clip-path=\"url(#clip332)\" style=\"stroke:#000000; stroke-linecap:butt; stroke-linejoin:round; stroke-width:2; stroke-opacity:0.1; fill:none\" points=\"\n",
       "  1269.51,1486.45 1269.51,47.2441 \n",
       "  \"/>\n",
       "<polyline clip-path=\"url(#clip332)\" style=\"stroke:#000000; stroke-linecap:butt; stroke-linejoin:round; stroke-width:2; stroke-opacity:0.1; fill:none\" points=\"\n",
       "  1678.29,1486.45 1678.29,47.2441 \n",
       "  \"/>\n",
       "<polyline clip-path=\"url(#clip332)\" style=\"stroke:#000000; stroke-linecap:butt; stroke-linejoin:round; stroke-width:2; stroke-opacity:0.1; fill:none\" points=\"\n",
       "  2087.06,1486.45 2087.06,47.2441 \n",
       "  \"/>\n",
       "<polyline clip-path=\"url(#clip330)\" style=\"stroke:#000000; stroke-linecap:butt; stroke-linejoin:round; stroke-width:4; stroke-opacity:1; fill:none\" points=\"\n",
       "  186.274,1486.45 2352.76,1486.45 \n",
       "  \"/>\n",
       "<polyline clip-path=\"url(#clip330)\" style=\"stroke:#000000; stroke-linecap:butt; stroke-linejoin:round; stroke-width:4; stroke-opacity:1; fill:none\" points=\"\n",
       "  451.975,1486.45 451.975,1467.55 \n",
       "  \"/>\n",
       "<polyline clip-path=\"url(#clip330)\" style=\"stroke:#000000; stroke-linecap:butt; stroke-linejoin:round; stroke-width:4; stroke-opacity:1; fill:none\" points=\"\n",
       "  860.745,1486.45 860.745,1467.55 \n",
       "  \"/>\n",
       "<polyline clip-path=\"url(#clip330)\" style=\"stroke:#000000; stroke-linecap:butt; stroke-linejoin:round; stroke-width:4; stroke-opacity:1; fill:none\" points=\"\n",
       "  1269.51,1486.45 1269.51,1467.55 \n",
       "  \"/>\n",
       "<polyline clip-path=\"url(#clip330)\" style=\"stroke:#000000; stroke-linecap:butt; stroke-linejoin:round; stroke-width:4; stroke-opacity:1; fill:none\" points=\"\n",
       "  1678.29,1486.45 1678.29,1467.55 \n",
       "  \"/>\n",
       "<polyline clip-path=\"url(#clip330)\" style=\"stroke:#000000; stroke-linecap:butt; stroke-linejoin:round; stroke-width:4; stroke-opacity:1; fill:none\" points=\"\n",
       "  2087.06,1486.45 2087.06,1467.55 \n",
       "  \"/>\n",
       "<path clip-path=\"url(#clip330)\" d=\"M420.875 1532.02 L450.551 1532.02 L450.551 1535.95 L420.875 1535.95 L420.875 1532.02 Z\" fill=\"#000000\" fill-rule=\"evenodd\" fill-opacity=\"1\" /><path clip-path=\"url(#clip330)\" d=\"M473.491 1518.36 L461.685 1536.81 L473.491 1536.81 L473.491 1518.36 M472.264 1514.29 L478.143 1514.29 L478.143 1536.81 L483.074 1536.81 L483.074 1540.7 L478.143 1540.7 L478.143 1548.85 L473.491 1548.85 L473.491 1540.7 L457.889 1540.7 L457.889 1536.19 L472.264 1514.29 Z\" fill=\"#000000\" fill-rule=\"evenodd\" fill-opacity=\"1\" /><path clip-path=\"url(#clip330)\" d=\"M830.687 1532.02 L860.363 1532.02 L860.363 1535.95 L830.687 1535.95 L830.687 1532.02 Z\" fill=\"#000000\" fill-rule=\"evenodd\" fill-opacity=\"1\" /><path clip-path=\"url(#clip330)\" d=\"M874.483 1544.91 L890.802 1544.91 L890.802 1548.85 L868.858 1548.85 L868.858 1544.91 Q871.52 1542.16 876.103 1537.53 Q880.71 1532.88 881.891 1531.53 Q884.136 1529.01 885.015 1527.27 Q885.918 1525.51 885.918 1523.82 Q885.918 1521.07 883.974 1519.33 Q882.053 1517.6 878.951 1517.6 Q876.752 1517.6 874.298 1518.36 Q871.867 1519.13 869.09 1520.68 L869.09 1515.95 Q871.914 1514.82 874.367 1514.24 Q876.821 1513.66 878.858 1513.66 Q884.228 1513.66 887.423 1516.35 Q890.617 1519.03 890.617 1523.52 Q890.617 1525.65 889.807 1527.57 Q889.02 1529.47 886.914 1532.07 Q886.335 1532.74 883.233 1535.95 Q880.131 1539.15 874.483 1544.91 Z\" fill=\"#000000\" fill-rule=\"evenodd\" fill-opacity=\"1\" /><path clip-path=\"url(#clip330)\" d=\"M1269.51 1517.37 Q1265.9 1517.37 1264.08 1520.93 Q1262.27 1524.47 1262.27 1531.6 Q1262.27 1538.71 1264.08 1542.27 Q1265.9 1545.82 1269.51 1545.82 Q1273.15 1545.82 1274.95 1542.27 Q1276.78 1538.71 1276.78 1531.6 Q1276.78 1524.47 1274.95 1520.93 Q1273.15 1517.37 1269.51 1517.37 M1269.51 1513.66 Q1275.33 1513.66 1278.38 1518.27 Q1281.46 1522.85 1281.46 1531.6 Q1281.46 1540.33 1278.38 1544.94 Q1275.33 1549.52 1269.51 1549.52 Q1263.7 1549.52 1260.63 1544.94 Q1257.57 1540.33 1257.57 1531.6 Q1257.57 1522.85 1260.63 1518.27 Q1263.7 1513.66 1269.51 1513.66 Z\" fill=\"#000000\" fill-rule=\"evenodd\" fill-opacity=\"1\" /><path clip-path=\"url(#clip330)\" d=\"M1672.94 1544.91 L1689.26 1544.91 L1689.26 1548.85 L1667.31 1548.85 L1667.31 1544.91 Q1669.97 1542.16 1674.56 1537.53 Q1679.16 1532.88 1680.35 1531.53 Q1682.59 1529.01 1683.47 1527.27 Q1684.37 1525.51 1684.37 1523.82 Q1684.37 1521.07 1682.43 1519.33 Q1680.51 1517.6 1677.41 1517.6 Q1675.21 1517.6 1672.75 1518.36 Q1670.32 1519.13 1667.54 1520.68 L1667.54 1515.95 Q1670.37 1514.82 1672.82 1514.24 Q1675.28 1513.66 1677.31 1513.66 Q1682.68 1513.66 1685.88 1516.35 Q1689.07 1519.03 1689.07 1523.52 Q1689.07 1525.65 1688.26 1527.57 Q1687.47 1529.47 1685.37 1532.07 Q1684.79 1532.74 1681.69 1535.95 Q1678.59 1539.15 1672.94 1544.91 Z\" fill=\"#000000\" fill-rule=\"evenodd\" fill-opacity=\"1\" /><path clip-path=\"url(#clip330)\" d=\"M2090.06 1518.36 L2078.26 1536.81 L2090.06 1536.81 L2090.06 1518.36 M2088.84 1514.29 L2094.72 1514.29 L2094.72 1536.81 L2099.65 1536.81 L2099.65 1540.7 L2094.72 1540.7 L2094.72 1548.85 L2090.06 1548.85 L2090.06 1540.7 L2074.46 1540.7 L2074.46 1536.19 L2088.84 1514.29 Z\" fill=\"#000000\" fill-rule=\"evenodd\" fill-opacity=\"1\" /><polyline clip-path=\"url(#clip332)\" style=\"stroke:#000000; stroke-linecap:butt; stroke-linejoin:round; stroke-width:2; stroke-opacity:0.1; fill:none\" points=\"\n",
       "  186.274,1445.72 2352.76,1445.72 \n",
       "  \"/>\n",
       "<polyline clip-path=\"url(#clip332)\" style=\"stroke:#000000; stroke-linecap:butt; stroke-linejoin:round; stroke-width:2; stroke-opacity:0.1; fill:none\" points=\"\n",
       "  186.274,1106.28 2352.76,1106.28 \n",
       "  \"/>\n",
       "<polyline clip-path=\"url(#clip332)\" style=\"stroke:#000000; stroke-linecap:butt; stroke-linejoin:round; stroke-width:2; stroke-opacity:0.1; fill:none\" points=\"\n",
       "  186.274,766.846 2352.76,766.846 \n",
       "  \"/>\n",
       "<polyline clip-path=\"url(#clip332)\" style=\"stroke:#000000; stroke-linecap:butt; stroke-linejoin:round; stroke-width:2; stroke-opacity:0.1; fill:none\" points=\"\n",
       "  186.274,427.411 2352.76,427.411 \n",
       "  \"/>\n",
       "<polyline clip-path=\"url(#clip332)\" style=\"stroke:#000000; stroke-linecap:butt; stroke-linejoin:round; stroke-width:2; stroke-opacity:0.1; fill:none\" points=\"\n",
       "  186.274,87.9763 2352.76,87.9763 \n",
       "  \"/>\n",
       "<polyline clip-path=\"url(#clip330)\" style=\"stroke:#000000; stroke-linecap:butt; stroke-linejoin:round; stroke-width:4; stroke-opacity:1; fill:none\" points=\"\n",
       "  186.274,1486.45 186.274,47.2441 \n",
       "  \"/>\n",
       "<polyline clip-path=\"url(#clip330)\" style=\"stroke:#000000; stroke-linecap:butt; stroke-linejoin:round; stroke-width:4; stroke-opacity:1; fill:none\" points=\"\n",
       "  186.274,1445.72 205.172,1445.72 \n",
       "  \"/>\n",
       "<polyline clip-path=\"url(#clip330)\" style=\"stroke:#000000; stroke-linecap:butt; stroke-linejoin:round; stroke-width:4; stroke-opacity:1; fill:none\" points=\"\n",
       "  186.274,1106.28 205.172,1106.28 \n",
       "  \"/>\n",
       "<polyline clip-path=\"url(#clip330)\" style=\"stroke:#000000; stroke-linecap:butt; stroke-linejoin:round; stroke-width:4; stroke-opacity:1; fill:none\" points=\"\n",
       "  186.274,766.846 205.172,766.846 \n",
       "  \"/>\n",
       "<polyline clip-path=\"url(#clip330)\" style=\"stroke:#000000; stroke-linecap:butt; stroke-linejoin:round; stroke-width:4; stroke-opacity:1; fill:none\" points=\"\n",
       "  186.274,427.411 205.172,427.411 \n",
       "  \"/>\n",
       "<polyline clip-path=\"url(#clip330)\" style=\"stroke:#000000; stroke-linecap:butt; stroke-linejoin:round; stroke-width:4; stroke-opacity:1; fill:none\" points=\"\n",
       "  186.274,87.9763 205.172,87.9763 \n",
       "  \"/>\n",
       "<path clip-path=\"url(#clip330)\" d=\"M62.9365 1431.51 Q59.3254 1431.51 57.4967 1435.08 Q55.6912 1438.62 55.6912 1445.75 Q55.6912 1452.86 57.4967 1456.42 Q59.3254 1459.96 62.9365 1459.96 Q66.5707 1459.96 68.3763 1456.42 Q70.205 1452.86 70.205 1445.75 Q70.205 1438.62 68.3763 1435.08 Q66.5707 1431.51 62.9365 1431.51 M62.9365 1427.81 Q68.7467 1427.81 71.8022 1432.42 Q74.8809 1437 74.8809 1445.75 Q74.8809 1454.48 71.8022 1459.08 Q68.7467 1463.67 62.9365 1463.67 Q57.1264 1463.67 54.0477 1459.08 Q50.9921 1454.48 50.9921 1445.75 Q50.9921 1437 54.0477 1432.42 Q57.1264 1427.81 62.9365 1427.81 Z\" fill=\"#000000\" fill-rule=\"evenodd\" fill-opacity=\"1\" /><path clip-path=\"url(#clip330)\" d=\"M83.0984 1457.12 L87.9827 1457.12 L87.9827 1463 L83.0984 1463 L83.0984 1457.12 Z\" fill=\"#000000\" fill-rule=\"evenodd\" fill-opacity=\"1\" /><path clip-path=\"url(#clip330)\" d=\"M108.168 1431.51 Q104.557 1431.51 102.728 1435.08 Q100.922 1438.62 100.922 1445.75 Q100.922 1452.86 102.728 1456.42 Q104.557 1459.96 108.168 1459.96 Q111.802 1459.96 113.608 1456.42 Q115.436 1452.86 115.436 1445.75 Q115.436 1438.62 113.608 1435.08 Q111.802 1431.51 108.168 1431.51 M108.168 1427.81 Q113.978 1427.81 117.033 1432.42 Q120.112 1437 120.112 1445.75 Q120.112 1454.48 117.033 1459.08 Q113.978 1463.67 108.168 1463.67 Q102.358 1463.67 99.2789 1459.08 Q96.2234 1454.48 96.2234 1445.75 Q96.2234 1437 99.2789 1432.42 Q102.358 1427.81 108.168 1427.81 Z\" fill=\"#000000\" fill-rule=\"evenodd\" fill-opacity=\"1\" /><path clip-path=\"url(#clip330)\" d=\"M138.33 1431.51 Q134.719 1431.51 132.89 1435.08 Q131.084 1438.62 131.084 1445.75 Q131.084 1452.86 132.89 1456.42 Q134.719 1459.96 138.33 1459.96 Q141.964 1459.96 143.769 1456.42 Q145.598 1452.86 145.598 1445.75 Q145.598 1438.62 143.769 1435.08 Q141.964 1431.51 138.33 1431.51 M138.33 1427.81 Q144.14 1427.81 147.195 1432.42 Q150.274 1437 150.274 1445.75 Q150.274 1454.48 147.195 1459.08 Q144.14 1463.67 138.33 1463.67 Q132.519 1463.67 129.441 1459.08 Q126.385 1454.48 126.385 1445.75 Q126.385 1437 129.441 1432.42 Q132.519 1427.81 138.33 1427.81 Z\" fill=\"#000000\" fill-rule=\"evenodd\" fill-opacity=\"1\" /><path clip-path=\"url(#clip330)\" d=\"M63.9319 1092.08 Q60.3208 1092.08 58.4921 1095.64 Q56.6865 1099.19 56.6865 1106.32 Q56.6865 1113.42 58.4921 1116.99 Q60.3208 1120.53 63.9319 1120.53 Q67.5661 1120.53 69.3717 1116.99 Q71.2004 1113.42 71.2004 1106.32 Q71.2004 1099.19 69.3717 1095.64 Q67.5661 1092.08 63.9319 1092.08 M63.9319 1088.38 Q69.742 1088.38 72.7976 1092.98 Q75.8763 1097.57 75.8763 1106.32 Q75.8763 1115.04 72.7976 1119.65 Q69.742 1124.23 63.9319 1124.23 Q58.1217 1124.23 55.043 1119.65 Q51.9875 1115.04 51.9875 1106.32 Q51.9875 1097.57 55.043 1092.98 Q58.1217 1088.38 63.9319 1088.38 Z\" fill=\"#000000\" fill-rule=\"evenodd\" fill-opacity=\"1\" /><path clip-path=\"url(#clip330)\" d=\"M84.0938 1117.68 L88.978 1117.68 L88.978 1123.56 L84.0938 1123.56 L84.0938 1117.68 Z\" fill=\"#000000\" fill-rule=\"evenodd\" fill-opacity=\"1\" /><path clip-path=\"url(#clip330)\" d=\"M103.191 1119.63 L119.51 1119.63 L119.51 1123.56 L97.566 1123.56 L97.566 1119.63 Q100.228 1116.87 104.811 1112.24 Q109.418 1107.59 110.598 1106.25 Q112.844 1103.72 113.723 1101.99 Q114.626 1100.23 114.626 1098.54 Q114.626 1095.78 112.682 1094.05 Q110.76 1092.31 107.658 1092.31 Q105.459 1092.31 103.006 1093.07 Q100.575 1093.84 97.7974 1095.39 L97.7974 1090.67 Q100.621 1089.53 103.075 1088.95 Q105.529 1088.38 107.566 1088.38 Q112.936 1088.38 116.131 1091.06 Q119.325 1093.75 119.325 1098.24 Q119.325 1100.37 118.515 1102.29 Q117.728 1104.19 115.621 1106.78 Q115.043 1107.45 111.941 1110.67 Q108.839 1113.86 103.191 1119.63 Z\" fill=\"#000000\" fill-rule=\"evenodd\" fill-opacity=\"1\" /><path clip-path=\"url(#clip330)\" d=\"M129.371 1089 L147.728 1089 L147.728 1092.94 L133.654 1092.94 L133.654 1101.41 Q134.672 1101.06 135.691 1100.9 Q136.709 1100.71 137.728 1100.71 Q143.515 1100.71 146.894 1103.89 Q150.274 1107.06 150.274 1112.47 Q150.274 1118.05 146.802 1121.15 Q143.33 1124.23 137.01 1124.23 Q134.834 1124.23 132.566 1123.86 Q130.32 1123.49 127.913 1122.75 L127.913 1118.05 Q129.996 1119.19 132.219 1119.74 Q134.441 1120.3 136.918 1120.3 Q140.922 1120.3 143.26 1118.19 Q145.598 1116.08 145.598 1112.47 Q145.598 1108.86 143.26 1106.76 Q140.922 1104.65 136.918 1104.65 Q135.043 1104.65 133.168 1105.07 Q131.316 1105.48 129.371 1106.36 L129.371 1089 Z\" fill=\"#000000\" fill-rule=\"evenodd\" fill-opacity=\"1\" /><path clip-path=\"url(#clip330)\" d=\"M62.9365 752.645 Q59.3254 752.645 57.4967 756.209 Q55.6912 759.751 55.6912 766.881 Q55.6912 773.987 57.4967 777.552 Q59.3254 781.094 62.9365 781.094 Q66.5707 781.094 68.3763 777.552 Q70.205 773.987 70.205 766.881 Q70.205 759.751 68.3763 756.209 Q66.5707 752.645 62.9365 752.645 M62.9365 748.941 Q68.7467 748.941 71.8022 753.547 Q74.8809 758.131 74.8809 766.881 Q74.8809 775.608 71.8022 780.214 Q68.7467 784.797 62.9365 784.797 Q57.1264 784.797 54.0477 780.214 Q50.9921 775.608 50.9921 766.881 Q50.9921 758.131 54.0477 753.547 Q57.1264 748.941 62.9365 748.941 Z\" fill=\"#000000\" fill-rule=\"evenodd\" fill-opacity=\"1\" /><path clip-path=\"url(#clip330)\" d=\"M83.0984 778.246 L87.9827 778.246 L87.9827 784.126 L83.0984 784.126 L83.0984 778.246 Z\" fill=\"#000000\" fill-rule=\"evenodd\" fill-opacity=\"1\" /><path clip-path=\"url(#clip330)\" d=\"M98.2141 749.566 L116.57 749.566 L116.57 753.501 L102.496 753.501 L102.496 761.973 Q103.515 761.626 104.534 761.464 Q105.552 761.279 106.571 761.279 Q112.358 761.279 115.737 764.45 Q119.117 767.621 119.117 773.038 Q119.117 778.617 115.645 781.719 Q112.172 784.797 105.853 784.797 Q103.677 784.797 101.409 784.427 Q99.1632 784.057 96.7558 783.316 L96.7558 778.617 Q98.8391 779.751 101.061 780.307 Q103.284 780.862 105.76 780.862 Q109.765 780.862 112.103 778.756 Q114.441 776.649 114.441 773.038 Q114.441 769.427 112.103 767.321 Q109.765 765.214 105.76 765.214 Q103.885 765.214 102.01 765.631 Q100.159 766.047 98.2141 766.927 L98.2141 749.566 Z\" fill=\"#000000\" fill-rule=\"evenodd\" fill-opacity=\"1\" /><path clip-path=\"url(#clip330)\" d=\"M138.33 752.645 Q134.719 752.645 132.89 756.209 Q131.084 759.751 131.084 766.881 Q131.084 773.987 132.89 777.552 Q134.719 781.094 138.33 781.094 Q141.964 781.094 143.769 777.552 Q145.598 773.987 145.598 766.881 Q145.598 759.751 143.769 756.209 Q141.964 752.645 138.33 752.645 M138.33 748.941 Q144.14 748.941 147.195 753.547 Q150.274 758.131 150.274 766.881 Q150.274 775.608 147.195 780.214 Q144.14 784.797 138.33 784.797 Q132.519 784.797 129.441 780.214 Q126.385 775.608 126.385 766.881 Q126.385 758.131 129.441 753.547 Q132.519 748.941 138.33 748.941 Z\" fill=\"#000000\" fill-rule=\"evenodd\" fill-opacity=\"1\" /><path clip-path=\"url(#clip330)\" d=\"M63.9319 413.21 Q60.3208 413.21 58.4921 416.775 Q56.6865 420.316 56.6865 427.446 Q56.6865 434.552 58.4921 438.117 Q60.3208 441.659 63.9319 441.659 Q67.5661 441.659 69.3717 438.117 Q71.2004 434.552 71.2004 427.446 Q71.2004 420.316 69.3717 416.775 Q67.5661 413.21 63.9319 413.21 M63.9319 409.506 Q69.742 409.506 72.7976 414.113 Q75.8763 418.696 75.8763 427.446 Q75.8763 436.173 72.7976 440.779 Q69.742 445.362 63.9319 445.362 Q58.1217 445.362 55.043 440.779 Q51.9875 436.173 51.9875 427.446 Q51.9875 418.696 55.043 414.113 Q58.1217 409.506 63.9319 409.506 Z\" fill=\"#000000\" fill-rule=\"evenodd\" fill-opacity=\"1\" /><path clip-path=\"url(#clip330)\" d=\"M84.0938 438.812 L88.978 438.812 L88.978 444.691 L84.0938 444.691 L84.0938 438.812 Z\" fill=\"#000000\" fill-rule=\"evenodd\" fill-opacity=\"1\" /><path clip-path=\"url(#clip330)\" d=\"M97.9826 410.131 L120.205 410.131 L120.205 412.122 L107.658 444.691 L102.774 444.691 L114.58 414.066 L97.9826 414.066 L97.9826 410.131 Z\" fill=\"#000000\" fill-rule=\"evenodd\" fill-opacity=\"1\" /><path clip-path=\"url(#clip330)\" d=\"M129.371 410.131 L147.728 410.131 L147.728 414.066 L133.654 414.066 L133.654 422.538 Q134.672 422.191 135.691 422.029 Q136.709 421.844 137.728 421.844 Q143.515 421.844 146.894 425.015 Q150.274 428.187 150.274 433.603 Q150.274 439.182 146.802 442.284 Q143.33 445.362 137.01 445.362 Q134.834 445.362 132.566 444.992 Q130.32 444.622 127.913 443.881 L127.913 439.182 Q129.996 440.316 132.219 440.872 Q134.441 441.427 136.918 441.427 Q140.922 441.427 143.26 439.321 Q145.598 437.214 145.598 433.603 Q145.598 429.992 143.26 427.886 Q140.922 425.779 136.918 425.779 Q135.043 425.779 133.168 426.196 Q131.316 426.613 129.371 427.492 L129.371 410.131 Z\" fill=\"#000000\" fill-rule=\"evenodd\" fill-opacity=\"1\" /><path clip-path=\"url(#clip330)\" d=\"M53.7467 101.321 L61.3856 101.321 L61.3856 74.9555 L53.0754 76.6222 L53.0754 72.3629 L61.3393 70.6963 L66.0152 70.6963 L66.0152 101.321 L73.654 101.321 L73.654 105.256 L53.7467 105.256 L53.7467 101.321 Z\" fill=\"#000000\" fill-rule=\"evenodd\" fill-opacity=\"1\" /><path clip-path=\"url(#clip330)\" d=\"M83.0984 99.3767 L87.9827 99.3767 L87.9827 105.256 L83.0984 105.256 L83.0984 99.3767 Z\" fill=\"#000000\" fill-rule=\"evenodd\" fill-opacity=\"1\" /><path clip-path=\"url(#clip330)\" d=\"M108.168 73.775 Q104.557 73.775 102.728 77.3398 Q100.922 80.8814 100.922 88.011 Q100.922 95.1174 102.728 98.6822 Q104.557 102.224 108.168 102.224 Q111.802 102.224 113.608 98.6822 Q115.436 95.1174 115.436 88.011 Q115.436 80.8814 113.608 77.3398 Q111.802 73.775 108.168 73.775 M108.168 70.0713 Q113.978 70.0713 117.033 74.6777 Q120.112 79.261 120.112 88.011 Q120.112 96.7378 117.033 101.344 Q113.978 105.928 108.168 105.928 Q102.358 105.928 99.2789 101.344 Q96.2234 96.7378 96.2234 88.011 Q96.2234 79.261 99.2789 74.6777 Q102.358 70.0713 108.168 70.0713 Z\" fill=\"#000000\" fill-rule=\"evenodd\" fill-opacity=\"1\" /><path clip-path=\"url(#clip330)\" d=\"M138.33 73.775 Q134.719 73.775 132.89 77.3398 Q131.084 80.8814 131.084 88.011 Q131.084 95.1174 132.89 98.6822 Q134.719 102.224 138.33 102.224 Q141.964 102.224 143.769 98.6822 Q145.598 95.1174 145.598 88.011 Q145.598 80.8814 143.769 77.3398 Q141.964 73.775 138.33 73.775 M138.33 70.0713 Q144.14 70.0713 147.195 74.6777 Q150.274 79.261 150.274 88.011 Q150.274 96.7378 147.195 101.344 Q144.14 105.928 138.33 105.928 Q132.519 105.928 129.441 101.344 Q126.385 96.7378 126.385 88.011 Q126.385 79.261 129.441 74.6777 Q132.519 70.0713 138.33 70.0713 Z\" fill=\"#000000\" fill-rule=\"evenodd\" fill-opacity=\"1\" /><polyline clip-path=\"url(#clip332)\" style=\"stroke:#009af9; stroke-linecap:butt; stroke-linejoin:round; stroke-width:4; stroke-opacity:1; fill:none\" points=\"\n",
       "  247.59,1445.72 267.549,1445.72 452.107,1445.72 563.019,1445.72 656.793,1445.72 758.658,1445.72 852.569,1445.72 953.251,1445.72 1069.9,1445.72 1121.73,1445.72 \n",
       "  1173.57,1445.72 1196.29,1445.72 1219.02,1445.72 1230.38,1445.72 1241.75,1445.72 1247.43,1445.72 1253.11,1445.72 1255.95,1445.72 1258.79,1445.72 1261.63,1445.72 \n",
       "  1264.47,1445.72 1266.02,1445.72 1267.57,1445.72 1268.34,1445.72 1269.12,1445.72 1269.89,87.9763 1270.67,87.9763 1271.44,87.9763 1272.21,87.9763 1272.99,87.9763 \n",
       "  1273.76,87.9763 1275.31,87.9763 1276.86,87.9763 1283.05,87.9763 1289.25,87.9763 1301.64,87.9763 1314.03,87.9763 1338.8,87.9763 1363.58,87.9763 1388.51,87.9763 \n",
       "  1413.43,87.9763 1425.89,87.9763 1438.36,87.9763 1444.59,87.9763 1450.82,87.9763 1457.05,87.9763 1463.28,87.9763 1466.73,87.9763 1470.17,87.9763 1471.03,87.9763 \n",
       "  1471.89,87.9763 1472.75,87.9763 1473.62,87.9763 1474.48,1445.72 1475.34,1445.72 1476.2,1445.72 1477.06,1445.72 1478.78,1445.72 1480.51,1445.72 1482.23,1445.72 \n",
       "  1483.95,1445.72 1487.39,1445.72 1490.84,1445.72 1504.62,1445.72 1518.4,1445.72 1545.95,1445.72 1573.51,1445.72 1625.95,1445.72 1678.39,1445.72 1787.45,1445.72 \n",
       "  1879.25,1445.72 1991.32,1445.72 2096.68,1445.72 2265.46,1445.72 2291.44,1445.72 \n",
       "  \"/>\n",
       "<path clip-path=\"url(#clip330)\" d=\"\n",
       "M1988.11 198.898 L2280.54 198.898 L2280.54 95.2176 L1988.11 95.2176  Z\n",
       "  \" fill=\"#ffffff\" fill-rule=\"evenodd\" fill-opacity=\"1\"/>\n",
       "<polyline clip-path=\"url(#clip330)\" style=\"stroke:#000000; stroke-linecap:butt; stroke-linejoin:round; stroke-width:4; stroke-opacity:1; fill:none\" points=\"\n",
       "  1988.11,198.898 2280.54,198.898 2280.54,95.2176 1988.11,95.2176 1988.11,198.898 \n",
       "  \"/>\n",
       "<polyline clip-path=\"url(#clip330)\" style=\"stroke:#009af9; stroke-linecap:butt; stroke-linejoin:round; stroke-width:4; stroke-opacity:1; fill:none\" points=\"\n",
       "  2012.11,147.058 2156.11,147.058 \n",
       "  \"/>\n",
       "<path clip-path=\"url(#clip330)\" d=\"M2193.95 166.745 Q2192.15 171.375 2190.43 172.787 Q2188.72 174.199 2185.85 174.199 L2182.45 174.199 L2182.45 170.634 L2184.95 170.634 Q2186.71 170.634 2187.68 169.8 Q2188.65 168.967 2189.83 165.865 L2190.6 163.921 L2180.11 138.412 L2184.62 138.412 L2192.73 158.689 L2200.83 138.412 L2205.34 138.412 L2193.95 166.745 Z\" fill=\"#000000\" fill-rule=\"evenodd\" fill-opacity=\"1\" /><path clip-path=\"url(#clip330)\" d=\"M2212.63 160.402 L2220.27 160.402 L2220.27 134.037 L2211.96 135.703 L2211.96 131.444 L2220.23 129.778 L2224.9 129.778 L2224.9 160.402 L2232.54 160.402 L2232.54 164.338 L2212.63 164.338 L2212.63 160.402 Z\" fill=\"#000000\" fill-rule=\"evenodd\" fill-opacity=\"1\" /></svg>\n"
      ]
     },
     "execution_count": 45,
     "metadata": {},
     "output_type": "execute_result"
    }
   ],
   "source": [
    "plot(g)"
   ]
  },
  {
   "cell_type": "markdown",
   "metadata": {},
   "source": [
    "Cómo hacemos la función $h(\\cdot)$ que vale 1 en todos lados excepto en el intervalo $[0,1]$ donde vale 1?\n",
    "\n",
    "Notemos que $h(x) = 1 - g(x)$."
   ]
  },
  {
   "cell_type": "code",
   "execution_count": 46,
   "metadata": {},
   "outputs": [
    {
     "data": {
      "text/plain": [
       "h (generic function with 1 method)"
      ]
     },
     "execution_count": 46,
     "metadata": {},
     "output_type": "execute_result"
    }
   ],
   "source": [
    "h(x) = 1.0*(x < 0 || x >= 1)"
   ]
  },
  {
   "cell_type": "code",
   "execution_count": 47,
   "metadata": {
    "tags": []
   },
   "outputs": [
    {
     "data": {
      "image/svg+xml": [
       "<?xml version=\"1.0\" encoding=\"utf-8\"?>\n",
       "<svg xmlns=\"http://www.w3.org/2000/svg\" xmlns:xlink=\"http://www.w3.org/1999/xlink\" width=\"600\" height=\"400\" viewBox=\"0 0 2400 1600\">\n",
       "<defs>\n",
       "  <clipPath id=\"clip370\">\n",
       "    <rect x=\"0\" y=\"0\" width=\"2400\" height=\"1600\"/>\n",
       "  </clipPath>\n",
       "</defs>\n",
       "<path clip-path=\"url(#clip370)\" d=\"\n",
       "M0 1600 L2400 1600 L2400 0 L0 0  Z\n",
       "  \" fill=\"#ffffff\" fill-rule=\"evenodd\" fill-opacity=\"1\"/>\n",
       "<defs>\n",
       "  <clipPath id=\"clip371\">\n",
       "    <rect x=\"480\" y=\"0\" width=\"1681\" height=\"1600\"/>\n",
       "  </clipPath>\n",
       "</defs>\n",
       "<path clip-path=\"url(#clip370)\" d=\"\n",
       "M186.274 1486.45 L2352.76 1486.45 L2352.76 47.2441 L186.274 47.2441  Z\n",
       "  \" fill=\"#ffffff\" fill-rule=\"evenodd\" fill-opacity=\"1\"/>\n",
       "<defs>\n",
       "  <clipPath id=\"clip372\">\n",
       "    <rect x=\"186\" y=\"47\" width=\"2167\" height=\"1440\"/>\n",
       "  </clipPath>\n",
       "</defs>\n",
       "<polyline clip-path=\"url(#clip372)\" style=\"stroke:#000000; stroke-linecap:butt; stroke-linejoin:round; stroke-width:2; stroke-opacity:0.1; fill:none\" points=\"\n",
       "  451.975,1486.45 451.975,47.2441 \n",
       "  \"/>\n",
       "<polyline clip-path=\"url(#clip372)\" style=\"stroke:#000000; stroke-linecap:butt; stroke-linejoin:round; stroke-width:2; stroke-opacity:0.1; fill:none\" points=\"\n",
       "  860.745,1486.45 860.745,47.2441 \n",
       "  \"/>\n",
       "<polyline clip-path=\"url(#clip372)\" style=\"stroke:#000000; stroke-linecap:butt; stroke-linejoin:round; stroke-width:2; stroke-opacity:0.1; fill:none\" points=\"\n",
       "  1269.51,1486.45 1269.51,47.2441 \n",
       "  \"/>\n",
       "<polyline clip-path=\"url(#clip372)\" style=\"stroke:#000000; stroke-linecap:butt; stroke-linejoin:round; stroke-width:2; stroke-opacity:0.1; fill:none\" points=\"\n",
       "  1678.29,1486.45 1678.29,47.2441 \n",
       "  \"/>\n",
       "<polyline clip-path=\"url(#clip372)\" style=\"stroke:#000000; stroke-linecap:butt; stroke-linejoin:round; stroke-width:2; stroke-opacity:0.1; fill:none\" points=\"\n",
       "  2087.06,1486.45 2087.06,47.2441 \n",
       "  \"/>\n",
       "<polyline clip-path=\"url(#clip370)\" style=\"stroke:#000000; stroke-linecap:butt; stroke-linejoin:round; stroke-width:4; stroke-opacity:1; fill:none\" points=\"\n",
       "  186.274,1486.45 2352.76,1486.45 \n",
       "  \"/>\n",
       "<polyline clip-path=\"url(#clip370)\" style=\"stroke:#000000; stroke-linecap:butt; stroke-linejoin:round; stroke-width:4; stroke-opacity:1; fill:none\" points=\"\n",
       "  451.975,1486.45 451.975,1467.55 \n",
       "  \"/>\n",
       "<polyline clip-path=\"url(#clip370)\" style=\"stroke:#000000; stroke-linecap:butt; stroke-linejoin:round; stroke-width:4; stroke-opacity:1; fill:none\" points=\"\n",
       "  860.745,1486.45 860.745,1467.55 \n",
       "  \"/>\n",
       "<polyline clip-path=\"url(#clip370)\" style=\"stroke:#000000; stroke-linecap:butt; stroke-linejoin:round; stroke-width:4; stroke-opacity:1; fill:none\" points=\"\n",
       "  1269.51,1486.45 1269.51,1467.55 \n",
       "  \"/>\n",
       "<polyline clip-path=\"url(#clip370)\" style=\"stroke:#000000; stroke-linecap:butt; stroke-linejoin:round; stroke-width:4; stroke-opacity:1; fill:none\" points=\"\n",
       "  1678.29,1486.45 1678.29,1467.55 \n",
       "  \"/>\n",
       "<polyline clip-path=\"url(#clip370)\" style=\"stroke:#000000; stroke-linecap:butt; stroke-linejoin:round; stroke-width:4; stroke-opacity:1; fill:none\" points=\"\n",
       "  2087.06,1486.45 2087.06,1467.55 \n",
       "  \"/>\n",
       "<path clip-path=\"url(#clip370)\" d=\"M420.875 1532.02 L450.551 1532.02 L450.551 1535.95 L420.875 1535.95 L420.875 1532.02 Z\" fill=\"#000000\" fill-rule=\"evenodd\" fill-opacity=\"1\" /><path clip-path=\"url(#clip370)\" d=\"M473.491 1518.36 L461.685 1536.81 L473.491 1536.81 L473.491 1518.36 M472.264 1514.29 L478.143 1514.29 L478.143 1536.81 L483.074 1536.81 L483.074 1540.7 L478.143 1540.7 L478.143 1548.85 L473.491 1548.85 L473.491 1540.7 L457.889 1540.7 L457.889 1536.19 L472.264 1514.29 Z\" fill=\"#000000\" fill-rule=\"evenodd\" fill-opacity=\"1\" /><path clip-path=\"url(#clip370)\" d=\"M830.687 1532.02 L860.363 1532.02 L860.363 1535.95 L830.687 1535.95 L830.687 1532.02 Z\" fill=\"#000000\" fill-rule=\"evenodd\" fill-opacity=\"1\" /><path clip-path=\"url(#clip370)\" d=\"M874.483 1544.91 L890.802 1544.91 L890.802 1548.85 L868.858 1548.85 L868.858 1544.91 Q871.52 1542.16 876.103 1537.53 Q880.71 1532.88 881.891 1531.53 Q884.136 1529.01 885.015 1527.27 Q885.918 1525.51 885.918 1523.82 Q885.918 1521.07 883.974 1519.33 Q882.053 1517.6 878.951 1517.6 Q876.752 1517.6 874.298 1518.36 Q871.867 1519.13 869.09 1520.68 L869.09 1515.95 Q871.914 1514.82 874.367 1514.24 Q876.821 1513.66 878.858 1513.66 Q884.228 1513.66 887.423 1516.35 Q890.617 1519.03 890.617 1523.52 Q890.617 1525.65 889.807 1527.57 Q889.02 1529.47 886.914 1532.07 Q886.335 1532.74 883.233 1535.95 Q880.131 1539.15 874.483 1544.91 Z\" fill=\"#000000\" fill-rule=\"evenodd\" fill-opacity=\"1\" /><path clip-path=\"url(#clip370)\" d=\"M1269.51 1517.37 Q1265.9 1517.37 1264.08 1520.93 Q1262.27 1524.47 1262.27 1531.6 Q1262.27 1538.71 1264.08 1542.27 Q1265.9 1545.82 1269.51 1545.82 Q1273.15 1545.82 1274.95 1542.27 Q1276.78 1538.71 1276.78 1531.6 Q1276.78 1524.47 1274.95 1520.93 Q1273.15 1517.37 1269.51 1517.37 M1269.51 1513.66 Q1275.33 1513.66 1278.38 1518.27 Q1281.46 1522.85 1281.46 1531.6 Q1281.46 1540.33 1278.38 1544.94 Q1275.33 1549.52 1269.51 1549.52 Q1263.7 1549.52 1260.63 1544.94 Q1257.57 1540.33 1257.57 1531.6 Q1257.57 1522.85 1260.63 1518.27 Q1263.7 1513.66 1269.51 1513.66 Z\" fill=\"#000000\" fill-rule=\"evenodd\" fill-opacity=\"1\" /><path clip-path=\"url(#clip370)\" d=\"M1672.94 1544.91 L1689.26 1544.91 L1689.26 1548.85 L1667.31 1548.85 L1667.31 1544.91 Q1669.97 1542.16 1674.56 1537.53 Q1679.16 1532.88 1680.35 1531.53 Q1682.59 1529.01 1683.47 1527.27 Q1684.37 1525.51 1684.37 1523.82 Q1684.37 1521.07 1682.43 1519.33 Q1680.51 1517.6 1677.41 1517.6 Q1675.21 1517.6 1672.75 1518.36 Q1670.32 1519.13 1667.54 1520.68 L1667.54 1515.95 Q1670.37 1514.82 1672.82 1514.24 Q1675.28 1513.66 1677.31 1513.66 Q1682.68 1513.66 1685.88 1516.35 Q1689.07 1519.03 1689.07 1523.52 Q1689.07 1525.65 1688.26 1527.57 Q1687.47 1529.47 1685.37 1532.07 Q1684.79 1532.74 1681.69 1535.95 Q1678.59 1539.15 1672.94 1544.91 Z\" fill=\"#000000\" fill-rule=\"evenodd\" fill-opacity=\"1\" /><path clip-path=\"url(#clip370)\" d=\"M2090.06 1518.36 L2078.26 1536.81 L2090.06 1536.81 L2090.06 1518.36 M2088.84 1514.29 L2094.72 1514.29 L2094.72 1536.81 L2099.65 1536.81 L2099.65 1540.7 L2094.72 1540.7 L2094.72 1548.85 L2090.06 1548.85 L2090.06 1540.7 L2074.46 1540.7 L2074.46 1536.19 L2088.84 1514.29 Z\" fill=\"#000000\" fill-rule=\"evenodd\" fill-opacity=\"1\" /><polyline clip-path=\"url(#clip372)\" style=\"stroke:#000000; stroke-linecap:butt; stroke-linejoin:round; stroke-width:2; stroke-opacity:0.1; fill:none\" points=\"\n",
       "  186.274,1445.72 2352.76,1445.72 \n",
       "  \"/>\n",
       "<polyline clip-path=\"url(#clip372)\" style=\"stroke:#000000; stroke-linecap:butt; stroke-linejoin:round; stroke-width:2; stroke-opacity:0.1; fill:none\" points=\"\n",
       "  186.274,1106.28 2352.76,1106.28 \n",
       "  \"/>\n",
       "<polyline clip-path=\"url(#clip372)\" style=\"stroke:#000000; stroke-linecap:butt; stroke-linejoin:round; stroke-width:2; stroke-opacity:0.1; fill:none\" points=\"\n",
       "  186.274,766.846 2352.76,766.846 \n",
       "  \"/>\n",
       "<polyline clip-path=\"url(#clip372)\" style=\"stroke:#000000; stroke-linecap:butt; stroke-linejoin:round; stroke-width:2; stroke-opacity:0.1; fill:none\" points=\"\n",
       "  186.274,427.411 2352.76,427.411 \n",
       "  \"/>\n",
       "<polyline clip-path=\"url(#clip372)\" style=\"stroke:#000000; stroke-linecap:butt; stroke-linejoin:round; stroke-width:2; stroke-opacity:0.1; fill:none\" points=\"\n",
       "  186.274,87.9763 2352.76,87.9763 \n",
       "  \"/>\n",
       "<polyline clip-path=\"url(#clip370)\" style=\"stroke:#000000; stroke-linecap:butt; stroke-linejoin:round; stroke-width:4; stroke-opacity:1; fill:none\" points=\"\n",
       "  186.274,1486.45 186.274,47.2441 \n",
       "  \"/>\n",
       "<polyline clip-path=\"url(#clip370)\" style=\"stroke:#000000; stroke-linecap:butt; stroke-linejoin:round; stroke-width:4; stroke-opacity:1; fill:none\" points=\"\n",
       "  186.274,1445.72 205.172,1445.72 \n",
       "  \"/>\n",
       "<polyline clip-path=\"url(#clip370)\" style=\"stroke:#000000; stroke-linecap:butt; stroke-linejoin:round; stroke-width:4; stroke-opacity:1; fill:none\" points=\"\n",
       "  186.274,1106.28 205.172,1106.28 \n",
       "  \"/>\n",
       "<polyline clip-path=\"url(#clip370)\" style=\"stroke:#000000; stroke-linecap:butt; stroke-linejoin:round; stroke-width:4; stroke-opacity:1; fill:none\" points=\"\n",
       "  186.274,766.846 205.172,766.846 \n",
       "  \"/>\n",
       "<polyline clip-path=\"url(#clip370)\" style=\"stroke:#000000; stroke-linecap:butt; stroke-linejoin:round; stroke-width:4; stroke-opacity:1; fill:none\" points=\"\n",
       "  186.274,427.411 205.172,427.411 \n",
       "  \"/>\n",
       "<polyline clip-path=\"url(#clip370)\" style=\"stroke:#000000; stroke-linecap:butt; stroke-linejoin:round; stroke-width:4; stroke-opacity:1; fill:none\" points=\"\n",
       "  186.274,87.9763 205.172,87.9763 \n",
       "  \"/>\n",
       "<path clip-path=\"url(#clip370)\" d=\"M62.9365 1431.51 Q59.3254 1431.51 57.4967 1435.08 Q55.6912 1438.62 55.6912 1445.75 Q55.6912 1452.86 57.4967 1456.42 Q59.3254 1459.96 62.9365 1459.96 Q66.5707 1459.96 68.3763 1456.42 Q70.205 1452.86 70.205 1445.75 Q70.205 1438.62 68.3763 1435.08 Q66.5707 1431.51 62.9365 1431.51 M62.9365 1427.81 Q68.7467 1427.81 71.8022 1432.42 Q74.8809 1437 74.8809 1445.75 Q74.8809 1454.48 71.8022 1459.08 Q68.7467 1463.67 62.9365 1463.67 Q57.1264 1463.67 54.0477 1459.08 Q50.9921 1454.48 50.9921 1445.75 Q50.9921 1437 54.0477 1432.42 Q57.1264 1427.81 62.9365 1427.81 Z\" fill=\"#000000\" fill-rule=\"evenodd\" fill-opacity=\"1\" /><path clip-path=\"url(#clip370)\" d=\"M83.0984 1457.12 L87.9827 1457.12 L87.9827 1463 L83.0984 1463 L83.0984 1457.12 Z\" fill=\"#000000\" fill-rule=\"evenodd\" fill-opacity=\"1\" /><path clip-path=\"url(#clip370)\" d=\"M108.168 1431.51 Q104.557 1431.51 102.728 1435.08 Q100.922 1438.62 100.922 1445.75 Q100.922 1452.86 102.728 1456.42 Q104.557 1459.96 108.168 1459.96 Q111.802 1459.96 113.608 1456.42 Q115.436 1452.86 115.436 1445.75 Q115.436 1438.62 113.608 1435.08 Q111.802 1431.51 108.168 1431.51 M108.168 1427.81 Q113.978 1427.81 117.033 1432.42 Q120.112 1437 120.112 1445.75 Q120.112 1454.48 117.033 1459.08 Q113.978 1463.67 108.168 1463.67 Q102.358 1463.67 99.2789 1459.08 Q96.2234 1454.48 96.2234 1445.75 Q96.2234 1437 99.2789 1432.42 Q102.358 1427.81 108.168 1427.81 Z\" fill=\"#000000\" fill-rule=\"evenodd\" fill-opacity=\"1\" /><path clip-path=\"url(#clip370)\" d=\"M138.33 1431.51 Q134.719 1431.51 132.89 1435.08 Q131.084 1438.62 131.084 1445.75 Q131.084 1452.86 132.89 1456.42 Q134.719 1459.96 138.33 1459.96 Q141.964 1459.96 143.769 1456.42 Q145.598 1452.86 145.598 1445.75 Q145.598 1438.62 143.769 1435.08 Q141.964 1431.51 138.33 1431.51 M138.33 1427.81 Q144.14 1427.81 147.195 1432.42 Q150.274 1437 150.274 1445.75 Q150.274 1454.48 147.195 1459.08 Q144.14 1463.67 138.33 1463.67 Q132.519 1463.67 129.441 1459.08 Q126.385 1454.48 126.385 1445.75 Q126.385 1437 129.441 1432.42 Q132.519 1427.81 138.33 1427.81 Z\" fill=\"#000000\" fill-rule=\"evenodd\" fill-opacity=\"1\" /><path clip-path=\"url(#clip370)\" d=\"M63.9319 1092.08 Q60.3208 1092.08 58.4921 1095.64 Q56.6865 1099.19 56.6865 1106.32 Q56.6865 1113.42 58.4921 1116.99 Q60.3208 1120.53 63.9319 1120.53 Q67.5661 1120.53 69.3717 1116.99 Q71.2004 1113.42 71.2004 1106.32 Q71.2004 1099.19 69.3717 1095.64 Q67.5661 1092.08 63.9319 1092.08 M63.9319 1088.38 Q69.742 1088.38 72.7976 1092.98 Q75.8763 1097.57 75.8763 1106.32 Q75.8763 1115.04 72.7976 1119.65 Q69.742 1124.23 63.9319 1124.23 Q58.1217 1124.23 55.043 1119.65 Q51.9875 1115.04 51.9875 1106.32 Q51.9875 1097.57 55.043 1092.98 Q58.1217 1088.38 63.9319 1088.38 Z\" fill=\"#000000\" fill-rule=\"evenodd\" fill-opacity=\"1\" /><path clip-path=\"url(#clip370)\" d=\"M84.0938 1117.68 L88.978 1117.68 L88.978 1123.56 L84.0938 1123.56 L84.0938 1117.68 Z\" fill=\"#000000\" fill-rule=\"evenodd\" fill-opacity=\"1\" /><path clip-path=\"url(#clip370)\" d=\"M103.191 1119.63 L119.51 1119.63 L119.51 1123.56 L97.566 1123.56 L97.566 1119.63 Q100.228 1116.87 104.811 1112.24 Q109.418 1107.59 110.598 1106.25 Q112.844 1103.72 113.723 1101.99 Q114.626 1100.23 114.626 1098.54 Q114.626 1095.78 112.682 1094.05 Q110.76 1092.31 107.658 1092.31 Q105.459 1092.31 103.006 1093.07 Q100.575 1093.84 97.7974 1095.39 L97.7974 1090.67 Q100.621 1089.53 103.075 1088.95 Q105.529 1088.38 107.566 1088.38 Q112.936 1088.38 116.131 1091.06 Q119.325 1093.75 119.325 1098.24 Q119.325 1100.37 118.515 1102.29 Q117.728 1104.19 115.621 1106.78 Q115.043 1107.45 111.941 1110.67 Q108.839 1113.86 103.191 1119.63 Z\" fill=\"#000000\" fill-rule=\"evenodd\" fill-opacity=\"1\" /><path clip-path=\"url(#clip370)\" d=\"M129.371 1089 L147.728 1089 L147.728 1092.94 L133.654 1092.94 L133.654 1101.41 Q134.672 1101.06 135.691 1100.9 Q136.709 1100.71 137.728 1100.71 Q143.515 1100.71 146.894 1103.89 Q150.274 1107.06 150.274 1112.47 Q150.274 1118.05 146.802 1121.15 Q143.33 1124.23 137.01 1124.23 Q134.834 1124.23 132.566 1123.86 Q130.32 1123.49 127.913 1122.75 L127.913 1118.05 Q129.996 1119.19 132.219 1119.74 Q134.441 1120.3 136.918 1120.3 Q140.922 1120.3 143.26 1118.19 Q145.598 1116.08 145.598 1112.47 Q145.598 1108.86 143.26 1106.76 Q140.922 1104.65 136.918 1104.65 Q135.043 1104.65 133.168 1105.07 Q131.316 1105.48 129.371 1106.36 L129.371 1089 Z\" fill=\"#000000\" fill-rule=\"evenodd\" fill-opacity=\"1\" /><path clip-path=\"url(#clip370)\" d=\"M62.9365 752.645 Q59.3254 752.645 57.4967 756.209 Q55.6912 759.751 55.6912 766.881 Q55.6912 773.987 57.4967 777.552 Q59.3254 781.094 62.9365 781.094 Q66.5707 781.094 68.3763 777.552 Q70.205 773.987 70.205 766.881 Q70.205 759.751 68.3763 756.209 Q66.5707 752.645 62.9365 752.645 M62.9365 748.941 Q68.7467 748.941 71.8022 753.547 Q74.8809 758.131 74.8809 766.881 Q74.8809 775.608 71.8022 780.214 Q68.7467 784.797 62.9365 784.797 Q57.1264 784.797 54.0477 780.214 Q50.9921 775.608 50.9921 766.881 Q50.9921 758.131 54.0477 753.547 Q57.1264 748.941 62.9365 748.941 Z\" fill=\"#000000\" fill-rule=\"evenodd\" fill-opacity=\"1\" /><path clip-path=\"url(#clip370)\" d=\"M83.0984 778.246 L87.9827 778.246 L87.9827 784.126 L83.0984 784.126 L83.0984 778.246 Z\" fill=\"#000000\" fill-rule=\"evenodd\" fill-opacity=\"1\" /><path clip-path=\"url(#clip370)\" d=\"M98.2141 749.566 L116.57 749.566 L116.57 753.501 L102.496 753.501 L102.496 761.973 Q103.515 761.626 104.534 761.464 Q105.552 761.279 106.571 761.279 Q112.358 761.279 115.737 764.45 Q119.117 767.621 119.117 773.038 Q119.117 778.617 115.645 781.719 Q112.172 784.797 105.853 784.797 Q103.677 784.797 101.409 784.427 Q99.1632 784.057 96.7558 783.316 L96.7558 778.617 Q98.8391 779.751 101.061 780.307 Q103.284 780.862 105.76 780.862 Q109.765 780.862 112.103 778.756 Q114.441 776.649 114.441 773.038 Q114.441 769.427 112.103 767.321 Q109.765 765.214 105.76 765.214 Q103.885 765.214 102.01 765.631 Q100.159 766.047 98.2141 766.927 L98.2141 749.566 Z\" fill=\"#000000\" fill-rule=\"evenodd\" fill-opacity=\"1\" /><path clip-path=\"url(#clip370)\" d=\"M138.33 752.645 Q134.719 752.645 132.89 756.209 Q131.084 759.751 131.084 766.881 Q131.084 773.987 132.89 777.552 Q134.719 781.094 138.33 781.094 Q141.964 781.094 143.769 777.552 Q145.598 773.987 145.598 766.881 Q145.598 759.751 143.769 756.209 Q141.964 752.645 138.33 752.645 M138.33 748.941 Q144.14 748.941 147.195 753.547 Q150.274 758.131 150.274 766.881 Q150.274 775.608 147.195 780.214 Q144.14 784.797 138.33 784.797 Q132.519 784.797 129.441 780.214 Q126.385 775.608 126.385 766.881 Q126.385 758.131 129.441 753.547 Q132.519 748.941 138.33 748.941 Z\" fill=\"#000000\" fill-rule=\"evenodd\" fill-opacity=\"1\" /><path clip-path=\"url(#clip370)\" d=\"M63.9319 413.21 Q60.3208 413.21 58.4921 416.775 Q56.6865 420.316 56.6865 427.446 Q56.6865 434.552 58.4921 438.117 Q60.3208 441.659 63.9319 441.659 Q67.5661 441.659 69.3717 438.117 Q71.2004 434.552 71.2004 427.446 Q71.2004 420.316 69.3717 416.775 Q67.5661 413.21 63.9319 413.21 M63.9319 409.506 Q69.742 409.506 72.7976 414.113 Q75.8763 418.696 75.8763 427.446 Q75.8763 436.173 72.7976 440.779 Q69.742 445.362 63.9319 445.362 Q58.1217 445.362 55.043 440.779 Q51.9875 436.173 51.9875 427.446 Q51.9875 418.696 55.043 414.113 Q58.1217 409.506 63.9319 409.506 Z\" fill=\"#000000\" fill-rule=\"evenodd\" fill-opacity=\"1\" /><path clip-path=\"url(#clip370)\" d=\"M84.0938 438.812 L88.978 438.812 L88.978 444.691 L84.0938 444.691 L84.0938 438.812 Z\" fill=\"#000000\" fill-rule=\"evenodd\" fill-opacity=\"1\" /><path clip-path=\"url(#clip370)\" d=\"M97.9826 410.131 L120.205 410.131 L120.205 412.122 L107.658 444.691 L102.774 444.691 L114.58 414.066 L97.9826 414.066 L97.9826 410.131 Z\" fill=\"#000000\" fill-rule=\"evenodd\" fill-opacity=\"1\" /><path clip-path=\"url(#clip370)\" d=\"M129.371 410.131 L147.728 410.131 L147.728 414.066 L133.654 414.066 L133.654 422.538 Q134.672 422.191 135.691 422.029 Q136.709 421.844 137.728 421.844 Q143.515 421.844 146.894 425.015 Q150.274 428.187 150.274 433.603 Q150.274 439.182 146.802 442.284 Q143.33 445.362 137.01 445.362 Q134.834 445.362 132.566 444.992 Q130.32 444.622 127.913 443.881 L127.913 439.182 Q129.996 440.316 132.219 440.872 Q134.441 441.427 136.918 441.427 Q140.922 441.427 143.26 439.321 Q145.598 437.214 145.598 433.603 Q145.598 429.992 143.26 427.886 Q140.922 425.779 136.918 425.779 Q135.043 425.779 133.168 426.196 Q131.316 426.613 129.371 427.492 L129.371 410.131 Z\" fill=\"#000000\" fill-rule=\"evenodd\" fill-opacity=\"1\" /><path clip-path=\"url(#clip370)\" d=\"M53.7467 101.321 L61.3856 101.321 L61.3856 74.9555 L53.0754 76.6222 L53.0754 72.3629 L61.3393 70.6963 L66.0152 70.6963 L66.0152 101.321 L73.654 101.321 L73.654 105.256 L53.7467 105.256 L53.7467 101.321 Z\" fill=\"#000000\" fill-rule=\"evenodd\" fill-opacity=\"1\" /><path clip-path=\"url(#clip370)\" d=\"M83.0984 99.3767 L87.9827 99.3767 L87.9827 105.256 L83.0984 105.256 L83.0984 99.3767 Z\" fill=\"#000000\" fill-rule=\"evenodd\" fill-opacity=\"1\" /><path clip-path=\"url(#clip370)\" d=\"M108.168 73.775 Q104.557 73.775 102.728 77.3398 Q100.922 80.8814 100.922 88.011 Q100.922 95.1174 102.728 98.6822 Q104.557 102.224 108.168 102.224 Q111.802 102.224 113.608 98.6822 Q115.436 95.1174 115.436 88.011 Q115.436 80.8814 113.608 77.3398 Q111.802 73.775 108.168 73.775 M108.168 70.0713 Q113.978 70.0713 117.033 74.6777 Q120.112 79.261 120.112 88.011 Q120.112 96.7378 117.033 101.344 Q113.978 105.928 108.168 105.928 Q102.358 105.928 99.2789 101.344 Q96.2234 96.7378 96.2234 88.011 Q96.2234 79.261 99.2789 74.6777 Q102.358 70.0713 108.168 70.0713 Z\" fill=\"#000000\" fill-rule=\"evenodd\" fill-opacity=\"1\" /><path clip-path=\"url(#clip370)\" d=\"M138.33 73.775 Q134.719 73.775 132.89 77.3398 Q131.084 80.8814 131.084 88.011 Q131.084 95.1174 132.89 98.6822 Q134.719 102.224 138.33 102.224 Q141.964 102.224 143.769 98.6822 Q145.598 95.1174 145.598 88.011 Q145.598 80.8814 143.769 77.3398 Q141.964 73.775 138.33 73.775 M138.33 70.0713 Q144.14 70.0713 147.195 74.6777 Q150.274 79.261 150.274 88.011 Q150.274 96.7378 147.195 101.344 Q144.14 105.928 138.33 105.928 Q132.519 105.928 129.441 101.344 Q126.385 96.7378 126.385 88.011 Q126.385 79.261 129.441 74.6777 Q132.519 70.0713 138.33 70.0713 Z\" fill=\"#000000\" fill-rule=\"evenodd\" fill-opacity=\"1\" /><polyline clip-path=\"url(#clip372)\" style=\"stroke:#009af9; stroke-linecap:butt; stroke-linejoin:round; stroke-width:4; stroke-opacity:1; fill:none\" points=\"\n",
       "  247.59,87.9763 267.549,87.9763 452.107,87.9763 563.019,87.9763 656.793,87.9763 758.658,87.9763 852.569,87.9763 953.251,87.9763 1069.9,87.9763 1121.73,87.9763 \n",
       "  1173.57,87.9763 1196.29,87.9763 1219.02,87.9763 1230.38,87.9763 1241.75,87.9763 1247.43,87.9763 1253.11,87.9763 1255.95,87.9763 1258.79,87.9763 1261.63,87.9763 \n",
       "  1264.47,87.9763 1266.02,87.9763 1267.57,87.9763 1268.34,87.9763 1269.12,87.9763 1269.89,1445.72 1270.67,1445.72 1271.44,1445.72 1272.21,1445.72 1272.99,1445.72 \n",
       "  1273.76,1445.72 1275.31,1445.72 1276.86,1445.72 1283.05,1445.72 1289.25,1445.72 1301.64,1445.72 1314.03,1445.72 1338.8,1445.72 1363.58,1445.72 1388.51,1445.72 \n",
       "  1413.43,1445.72 1425.89,1445.72 1438.36,1445.72 1444.59,1445.72 1450.82,1445.72 1457.05,1445.72 1463.28,1445.72 1466.73,1445.72 1470.17,1445.72 1471.03,1445.72 \n",
       "  1471.89,1445.72 1472.75,1445.72 1473.62,1445.72 1474.48,87.9763 1475.34,87.9763 1476.2,87.9763 1477.06,87.9763 1478.78,87.9763 1480.51,87.9763 1482.23,87.9763 \n",
       "  1483.95,87.9763 1487.39,87.9763 1490.84,87.9763 1504.62,87.9763 1518.4,87.9763 1545.95,87.9763 1573.51,87.9763 1625.95,87.9763 1678.39,87.9763 1787.45,87.9763 \n",
       "  1879.25,87.9763 1991.32,87.9763 2096.68,87.9763 2265.46,87.9763 2291.44,87.9763 \n",
       "  \"/>\n",
       "<path clip-path=\"url(#clip370)\" d=\"\n",
       "M1988.11 198.898 L2280.54 198.898 L2280.54 95.2176 L1988.11 95.2176  Z\n",
       "  \" fill=\"#ffffff\" fill-rule=\"evenodd\" fill-opacity=\"1\"/>\n",
       "<polyline clip-path=\"url(#clip370)\" style=\"stroke:#000000; stroke-linecap:butt; stroke-linejoin:round; stroke-width:4; stroke-opacity:1; fill:none\" points=\"\n",
       "  1988.11,198.898 2280.54,198.898 2280.54,95.2176 1988.11,95.2176 1988.11,198.898 \n",
       "  \"/>\n",
       "<polyline clip-path=\"url(#clip370)\" style=\"stroke:#009af9; stroke-linecap:butt; stroke-linejoin:round; stroke-width:4; stroke-opacity:1; fill:none\" points=\"\n",
       "  2012.11,147.058 2156.11,147.058 \n",
       "  \"/>\n",
       "<path clip-path=\"url(#clip370)\" d=\"M2193.95 166.745 Q2192.15 171.375 2190.43 172.787 Q2188.72 174.199 2185.85 174.199 L2182.45 174.199 L2182.45 170.634 L2184.95 170.634 Q2186.71 170.634 2187.68 169.8 Q2188.65 168.967 2189.83 165.865 L2190.6 163.921 L2180.11 138.412 L2184.62 138.412 L2192.73 158.689 L2200.83 138.412 L2205.34 138.412 L2193.95 166.745 Z\" fill=\"#000000\" fill-rule=\"evenodd\" fill-opacity=\"1\" /><path clip-path=\"url(#clip370)\" d=\"M2212.63 160.402 L2220.27 160.402 L2220.27 134.037 L2211.96 135.703 L2211.96 131.444 L2220.23 129.778 L2224.9 129.778 L2224.9 160.402 L2232.54 160.402 L2232.54 164.338 L2212.63 164.338 L2212.63 160.402 Z\" fill=\"#000000\" fill-rule=\"evenodd\" fill-opacity=\"1\" /></svg>\n"
      ]
     },
     "execution_count": 47,
     "metadata": {},
     "output_type": "execute_result"
    }
   ],
   "source": [
    "plot(h)"
   ]
  },
  {
   "cell_type": "markdown",
   "metadata": {},
   "source": [
    "### Otros operadores que retornan tipos booleanos"
   ]
  },
  {
   "cell_type": "code",
   "execution_count": 49,
   "metadata": {},
   "outputs": [
    {
     "data": {
      "text/plain": [
       "true"
      ]
     },
     "execution_count": 49,
     "metadata": {},
     "output_type": "execute_result"
    }
   ],
   "source": [
    "issubset([4,5], [4,5,6])"
   ]
  },
  {
   "cell_type": "code",
   "execution_count": 50,
   "metadata": {},
   "outputs": [
    {
     "data": {
      "text/plain": [
       "true"
      ]
     },
     "execution_count": 50,
     "metadata": {},
     "output_type": "execute_result"
    }
   ],
   "source": [
    "[4,5] ⊆ [4,5,6] #\\subseteq <tab>"
   ]
  },
  {
   "cell_type": "code",
   "execution_count": 51,
   "metadata": {},
   "outputs": [
    {
     "data": {
      "text/plain": [
       "true"
      ]
     },
     "execution_count": 51,
     "metadata": {},
     "output_type": "execute_result"
    }
   ],
   "source": [
    "4 ∈ [3,4,5] # \\in <tab> "
   ]
  },
  {
   "cell_type": "code",
   "execution_count": 53,
   "metadata": {},
   "outputs": [
    {
     "data": {
      "text/plain": [
       "true"
      ]
     },
     "execution_count": 53,
     "metadata": {},
     "output_type": "execute_result"
    }
   ],
   "source": [
    "4 ∈ [3,4,5]"
   ]
  },
  {
   "cell_type": "code",
   "execution_count": 52,
   "metadata": {},
   "outputs": [
    {
     "data": {
      "text/plain": [
       "true"
      ]
     },
     "execution_count": 52,
     "metadata": {},
     "output_type": "execute_result"
    }
   ],
   "source": [
    "\"hola\" ∈ (1., 3, \"hola\", [1,2,3])"
   ]
  },
  {
   "cell_type": "code",
   "execution_count": 59,
   "metadata": {},
   "outputs": [
    {
     "data": {
      "text/plain": [
       "2-element BitVector:\n",
       " 1\n",
       " 1"
      ]
     },
     "execution_count": 59,
     "metadata": {},
     "output_type": "execute_result"
    }
   ],
   "source": [
    "in([4,6,5]).([4, 6]) # verdadero / falso dependiendo de si cada elemento del segundo conjunto está en el primero"
   ]
  },
  {
   "cell_type": "code",
   "execution_count": 57,
   "metadata": {},
   "outputs": [
    {
     "data": {
      "text/plain": [
       "true"
      ]
     },
     "execution_count": 57,
     "metadata": {},
     "output_type": "execute_result"
    }
   ],
   "source": [
    "all(i->(4<=i<=6), [4,5,6])"
   ]
  },
  {
   "cell_type": "code",
   "execution_count": 58,
   "metadata": {},
   "outputs": [
    {
     "data": {
      "text/plain": [
       "false"
      ]
     },
     "execution_count": 58,
     "metadata": {},
     "output_type": "execute_result"
    }
   ],
   "source": [
    "l = [true, true, false]\n",
    "all(l)"
   ]
  },
  {
   "cell_type": "code",
   "execution_count": 61,
   "metadata": {},
   "outputs": [
    {
     "data": {
      "text/plain": [
       "false"
      ]
     },
     "execution_count": 61,
     "metadata": {},
     "output_type": "execute_result"
    }
   ],
   "source": [
    "all(in([4,6,5]).([4, 7]))"
   ]
  },
  {
   "cell_type": "code",
   "execution_count": 62,
   "metadata": {},
   "outputs": [
    {
     "data": {
      "text/plain": [
       "true"
      ]
     },
     "execution_count": 62,
     "metadata": {},
     "output_type": "execute_result"
    }
   ],
   "source": [
    "contains(\"hola que tal\", \"que\")"
   ]
  },
  {
   "cell_type": "code",
   "execution_count": 63,
   "metadata": {},
   "outputs": [
    {
     "data": {
      "text/plain": [
       "false"
      ]
     },
     "execution_count": 63,
     "metadata": {},
     "output_type": "execute_result"
    }
   ],
   "source": [
    "2. isa Int64"
   ]
  },
  {
   "cell_type": "code",
   "execution_count": 64,
   "metadata": {},
   "outputs": [
    {
     "data": {
      "text/plain": [
       "true"
      ]
     },
     "execution_count": 64,
     "metadata": {},
     "output_type": "execute_result"
    }
   ],
   "source": [
    "2. isa Float64"
   ]
  },
  {
   "cell_type": "code",
   "execution_count": 1,
   "metadata": {
    "tags": []
   },
   "outputs": [
    {
     "data": {
      "text/latex": [
       "\\begin{verbatim}\n",
       "in(collection)\n",
       "∈(collection)\n",
       "\\end{verbatim}\n",
       "Create a function that checks whether its argument is \\href{@ref}{\\texttt{in}} \\texttt{collection}, i.e. a function equivalent to \\texttt{y -> y in collection}. See also \\href{@ref}{\\texttt{insorted}} for use with sorted collections.\n",
       "\n",
       "The returned function is of type \\texttt{Base.Fix2\\{typeof(in)\\}}, which can be used to implement specialized methods.\n",
       "\n",
       "\\begin{verbatim}\n",
       "in(item, collection) -> Bool\n",
       "∈(item, collection) -> Bool\n",
       "\\end{verbatim}\n",
       "Determine whether an item is in the given collection, in the sense that it is \\href{@ref}{\\texttt{==}} to one of the values generated by iterating over the collection. Returns a \\texttt{Bool} value, except if \\texttt{item} is \\href{@ref}{\\texttt{missing}} or \\texttt{collection} contains \\texttt{missing} but not \\texttt{item}, in which case \\texttt{missing} is returned (\\href{https://en.wikipedia.org/wiki/Three-valued_logic}{three-valued logic}, matching the behavior of \\href{@ref}{\\texttt{any}} and \\href{@ref}{\\texttt{==}}).\n",
       "\n",
       "Some collections follow a slightly different definition. For example, \\href{@ref}{\\texttt{Set}}s check whether the item \\href{@ref}{\\texttt{isequal}} to one of the elements. \\href{@ref}{\\texttt{Dict}}s look for \\texttt{key=>value} pairs, and the key is compared using \\href{@ref}{\\texttt{isequal}}. To test for the presence of a key in a dictionary, use \\href{@ref}{\\texttt{haskey}} or \\texttt{k in keys(dict)}. For these collections, the result is always a \\texttt{Bool} and never \\texttt{missing}.\n",
       "\n",
       "To determine whether an item is not in a given collection, see \\href{@ref}{\\texttt{:∉}}. You may also negate the \\texttt{in} by doing \\texttt{!(a in b)} which is logically similar to \"not in\".\n",
       "\n",
       "When broadcasting with \\texttt{in.(items, collection)} or \\texttt{items .∈ collection}, both \\texttt{item} and \\texttt{collection} are broadcasted over, which is often not what is intended. For example, if both arguments are vectors (and the dimensions match), the result is a vector indicating whether each value in collection \\texttt{items} is \\texttt{in} the value at the corresponding position in \\texttt{collection}. To get a vector indicating whether each value in \\texttt{items} is in \\texttt{collection}, wrap \\texttt{collection} in a tuple or a \\texttt{Ref} like this: \\texttt{in.(items, Ref(collection))} or \\texttt{items .∈ Ref(collection)}.\n",
       "\n",
       "\\section{Examples}\n",
       "\\begin{verbatim}\n",
       "julia> a = 1:3:20\n",
       "1:3:19\n",
       "\n",
       "julia> 4 in a\n",
       "true\n",
       "\n",
       "julia> 5 in a\n",
       "false\n",
       "\n",
       "julia> missing in [1, 2]\n",
       "missing\n",
       "\n",
       "julia> 1 in [2, missing]\n",
       "missing\n",
       "\n",
       "julia> 1 in [1, missing]\n",
       "true\n",
       "\n",
       "julia> missing in Set([1, 2])\n",
       "false\n",
       "\n",
       "julia> !(21 in a)\n",
       "true\n",
       "\n",
       "julia> !(19 in a)\n",
       "false\n",
       "\n",
       "julia> [1, 2] .∈ [2, 3]\n",
       "2-element BitVector:\n",
       " 0\n",
       " 0\n",
       "\n",
       "julia> [1, 2] .∈ ([2, 3],)\n",
       "2-element BitVector:\n",
       " 0\n",
       " 1\n",
       "\\end{verbatim}\n",
       "See also: \\href{@ref}{\\texttt{insorted}}, \\href{@ref}{\\texttt{contains}}, \\href{@ref}{\\texttt{occursin}}, \\href{@ref}{\\texttt{issubset}}.\n",
       "\n"
      ],
      "text/markdown": [
       "```\n",
       "in(collection)\n",
       "∈(collection)\n",
       "```\n",
       "\n",
       "Create a function that checks whether its argument is [`in`](@ref) `collection`, i.e. a function equivalent to `y -> y in collection`. See also [`insorted`](@ref) for use with sorted collections.\n",
       "\n",
       "The returned function is of type `Base.Fix2{typeof(in)}`, which can be used to implement specialized methods.\n",
       "\n",
       "```\n",
       "in(item, collection) -> Bool\n",
       "∈(item, collection) -> Bool\n",
       "```\n",
       "\n",
       "Determine whether an item is in the given collection, in the sense that it is [`==`](@ref) to one of the values generated by iterating over the collection. Returns a `Bool` value, except if `item` is [`missing`](@ref) or `collection` contains `missing` but not `item`, in which case `missing` is returned ([three-valued logic](https://en.wikipedia.org/wiki/Three-valued_logic), matching the behavior of [`any`](@ref) and [`==`](@ref)).\n",
       "\n",
       "Some collections follow a slightly different definition. For example, [`Set`](@ref)s check whether the item [`isequal`](@ref) to one of the elements. [`Dict`](@ref)s look for `key=>value` pairs, and the key is compared using [`isequal`](@ref). To test for the presence of a key in a dictionary, use [`haskey`](@ref) or `k in keys(dict)`. For these collections, the result is always a `Bool` and never `missing`.\n",
       "\n",
       "To determine whether an item is not in a given collection, see [`:∉`](@ref). You may also negate the `in` by doing `!(a in b)` which is logically similar to \"not in\".\n",
       "\n",
       "When broadcasting with `in.(items, collection)` or `items .∈ collection`, both `item` and `collection` are broadcasted over, which is often not what is intended. For example, if both arguments are vectors (and the dimensions match), the result is a vector indicating whether each value in collection `items` is `in` the value at the corresponding position in `collection`. To get a vector indicating whether each value in `items` is in `collection`, wrap `collection` in a tuple or a `Ref` like this: `in.(items, Ref(collection))` or `items .∈ Ref(collection)`.\n",
       "\n",
       "# Examples\n",
       "\n",
       "```jldoctest\n",
       "julia> a = 1:3:20\n",
       "1:3:19\n",
       "\n",
       "julia> 4 in a\n",
       "true\n",
       "\n",
       "julia> 5 in a\n",
       "false\n",
       "\n",
       "julia> missing in [1, 2]\n",
       "missing\n",
       "\n",
       "julia> 1 in [2, missing]\n",
       "missing\n",
       "\n",
       "julia> 1 in [1, missing]\n",
       "true\n",
       "\n",
       "julia> missing in Set([1, 2])\n",
       "false\n",
       "\n",
       "julia> !(21 in a)\n",
       "true\n",
       "\n",
       "julia> !(19 in a)\n",
       "false\n",
       "\n",
       "julia> [1, 2] .∈ [2, 3]\n",
       "2-element BitVector:\n",
       " 0\n",
       " 0\n",
       "\n",
       "julia> [1, 2] .∈ ([2, 3],)\n",
       "2-element BitVector:\n",
       " 0\n",
       " 1\n",
       "```\n",
       "\n",
       "See also: [`insorted`](@ref), [`contains`](@ref), [`occursin`](@ref), [`issubset`](@ref).\n"
      ],
      "text/plain": [
       "\u001b[36m  in(collection)\u001b[39m\n",
       "\u001b[36m  ∈(collection)\u001b[39m\n",
       "\n",
       "  Create a function that checks whether its argument is \u001b[36min\u001b[39m \u001b[36mcollection\u001b[39m, i.e. a\n",
       "  function equivalent to \u001b[36my -> y in collection\u001b[39m. See also \u001b[36minsorted\u001b[39m for use with\n",
       "  sorted collections.\n",
       "\n",
       "  The returned function is of type \u001b[36mBase.Fix2{typeof(in)}\u001b[39m, which can be used to\n",
       "  implement specialized methods.\n",
       "\n",
       "\u001b[36m  in(item, collection) -> Bool\u001b[39m\n",
       "\u001b[36m  ∈(item, collection) -> Bool\u001b[39m\n",
       "\n",
       "  Determine whether an item is in the given collection, in the sense that it\n",
       "  is \u001b[36m==\u001b[39m to one of the values generated by iterating over the collection.\n",
       "  Returns a \u001b[36mBool\u001b[39m value, except if \u001b[36mitem\u001b[39m is \u001b[36mmissing\u001b[39m or \u001b[36mcollection\u001b[39m contains\n",
       "  \u001b[36mmissing\u001b[39m but not \u001b[36mitem\u001b[39m, in which case \u001b[36mmissing\u001b[39m is returned (three-valued logic\n",
       "  (https://en.wikipedia.org/wiki/Three-valued_logic), matching the behavior of\n",
       "  \u001b[36many\u001b[39m and \u001b[36m==\u001b[39m).\n",
       "\n",
       "  Some collections follow a slightly different definition. For example, \u001b[36mSet\u001b[39ms\n",
       "  check whether the item \u001b[36misequal\u001b[39m to one of the elements. \u001b[36mDict\u001b[39ms look for\n",
       "  \u001b[36mkey=>value\u001b[39m pairs, and the key is compared using \u001b[36misequal\u001b[39m. To test for the\n",
       "  presence of a key in a dictionary, use \u001b[36mhaskey\u001b[39m or \u001b[36mk in keys(dict)\u001b[39m. For these\n",
       "  collections, the result is always a \u001b[36mBool\u001b[39m and never \u001b[36mmissing\u001b[39m.\n",
       "\n",
       "  To determine whether an item is not in a given collection, see \u001b[36m:∉\u001b[39m. You may\n",
       "  also negate the \u001b[36min\u001b[39m by doing \u001b[36m!(a in b)\u001b[39m which is logically similar to \"not\n",
       "  in\".\n",
       "\n",
       "  When broadcasting with \u001b[36min.(items, collection)\u001b[39m or \u001b[36mitems .∈ collection\u001b[39m, both\n",
       "  \u001b[36mitem\u001b[39m and \u001b[36mcollection\u001b[39m are broadcasted over, which is often not what is\n",
       "  intended. For example, if both arguments are vectors (and the dimensions\n",
       "  match), the result is a vector indicating whether each value in collection\n",
       "  \u001b[36mitems\u001b[39m is \u001b[36min\u001b[39m the value at the corresponding position in \u001b[36mcollection\u001b[39m. To get a\n",
       "  vector indicating whether each value in \u001b[36mitems\u001b[39m is in \u001b[36mcollection\u001b[39m, wrap\n",
       "  \u001b[36mcollection\u001b[39m in a tuple or a \u001b[36mRef\u001b[39m like this: \u001b[36min.(items, Ref(collection))\u001b[39m or\n",
       "  \u001b[36mitems .∈ Ref(collection)\u001b[39m.\n",
       "\n",
       "\u001b[1m  Examples\u001b[22m\n",
       "\u001b[1m  ≡≡≡≡≡≡≡≡≡≡\u001b[22m\n",
       "\n",
       "\u001b[36m  julia> a = 1:3:20\u001b[39m\n",
       "\u001b[36m  1:3:19\u001b[39m\n",
       "\u001b[36m  \u001b[39m\n",
       "\u001b[36m  julia> 4 in a\u001b[39m\n",
       "\u001b[36m  true\u001b[39m\n",
       "\u001b[36m  \u001b[39m\n",
       "\u001b[36m  julia> 5 in a\u001b[39m\n",
       "\u001b[36m  false\u001b[39m\n",
       "\u001b[36m  \u001b[39m\n",
       "\u001b[36m  julia> missing in [1, 2]\u001b[39m\n",
       "\u001b[36m  missing\u001b[39m\n",
       "\u001b[36m  \u001b[39m\n",
       "\u001b[36m  julia> 1 in [2, missing]\u001b[39m\n",
       "\u001b[36m  missing\u001b[39m\n",
       "\u001b[36m  \u001b[39m\n",
       "\u001b[36m  julia> 1 in [1, missing]\u001b[39m\n",
       "\u001b[36m  true\u001b[39m\n",
       "\u001b[36m  \u001b[39m\n",
       "\u001b[36m  julia> missing in Set([1, 2])\u001b[39m\n",
       "\u001b[36m  false\u001b[39m\n",
       "\u001b[36m  \u001b[39m\n",
       "\u001b[36m  julia> !(21 in a)\u001b[39m\n",
       "\u001b[36m  true\u001b[39m\n",
       "\u001b[36m  \u001b[39m\n",
       "\u001b[36m  julia> !(19 in a)\u001b[39m\n",
       "\u001b[36m  false\u001b[39m\n",
       "\u001b[36m  \u001b[39m\n",
       "\u001b[36m  julia> [1, 2] .∈ [2, 3]\u001b[39m\n",
       "\u001b[36m  2-element BitVector:\u001b[39m\n",
       "\u001b[36m   0\u001b[39m\n",
       "\u001b[36m   0\u001b[39m\n",
       "\u001b[36m  \u001b[39m\n",
       "\u001b[36m  julia> [1, 2] .∈ ([2, 3],)\u001b[39m\n",
       "\u001b[36m  2-element BitVector:\u001b[39m\n",
       "\u001b[36m   0\u001b[39m\n",
       "\u001b[36m   1\u001b[39m\n",
       "\n",
       "  See also: \u001b[36minsorted\u001b[39m, \u001b[36mcontains\u001b[39m, \u001b[36moccursin\u001b[39m, \u001b[36missubset\u001b[39m."
      ]
     },
     "metadata": {},
     "output_type": "display_data"
    }
   ],
   "source": [
    "@doc in"
   ]
  },
  {
   "cell_type": "markdown",
   "metadata": {},
   "source": [
    "## Símbolos"
   ]
  },
  {
   "cell_type": "code",
   "execution_count": 65,
   "metadata": {
    "tags": []
   },
   "outputs": [
    {
     "ename": "LoadError",
     "evalue": "UndefVarError: x not defined",
     "output_type": "error",
     "traceback": [
      "UndefVarError: x not defined",
      "",
      "Stacktrace:",
      " [1] top-level scope",
      "   @ In[65]:1",
      " [2] eval",
      "   @ ./boot.jl:373 [inlined]",
      " [3] include_string(mapexpr::typeof(REPL.softscope), mod::Module, code::String, filename::String)",
      "   @ Base ./loading.jl:1196"
     ]
    }
   ],
   "source": [
    "1 + x"
   ]
  },
  {
   "cell_type": "code",
   "execution_count": 66,
   "metadata": {},
   "outputs": [
    {
     "data": {
      "text/plain": [
       "f (generic function with 1 method)"
      ]
     },
     "execution_count": 66,
     "metadata": {},
     "output_type": "execute_result"
    }
   ],
   "source": [
    "f(x) = 1 + x"
   ]
  },
  {
   "cell_type": "code",
   "execution_count": 4,
   "metadata": {},
   "outputs": [
    {
     "data": {
      "text/plain": [
       "\"verde\""
      ]
     },
     "execution_count": 4,
     "metadata": {},
     "output_type": "execute_result"
    }
   ],
   "source": [
    "verde = \"verde\""
   ]
  },
  {
   "cell_type": "code",
   "execution_count": 5,
   "metadata": {},
   "outputs": [
    {
     "data": {
      "text/plain": [
       "String"
      ]
     },
     "execution_count": 5,
     "metadata": {},
     "output_type": "execute_result"
    }
   ],
   "source": [
    "typeof(verde)"
   ]
  },
  {
   "cell_type": "code",
   "execution_count": 67,
   "metadata": {},
   "outputs": [
    {
     "data": {
      "text/plain": [
       "Symbol"
      ]
     },
     "execution_count": 67,
     "metadata": {},
     "output_type": "execute_result"
    }
   ],
   "source": [
    "typeof(:verde)"
   ]
  },
  {
   "cell_type": "code",
   "execution_count": 68,
   "metadata": {},
   "outputs": [
    {
     "data": {
      "text/plain": [
       ":verde"
      ]
     },
     "execution_count": 68,
     "metadata": {},
     "output_type": "execute_result"
    }
   ],
   "source": [
    ":verde"
   ]
  },
  {
   "cell_type": "code",
   "execution_count": 69,
   "metadata": {},
   "outputs": [
    {
     "data": {
      "text/plain": [
       "\"verde\""
      ]
     },
     "execution_count": 69,
     "metadata": {},
     "output_type": "execute_result"
    }
   ],
   "source": [
    "eval(:verde)"
   ]
  },
  {
   "cell_type": "code",
   "execution_count": 70,
   "metadata": {},
   "outputs": [
    {
     "data": {
      "text/plain": [
       ":(1 + x)"
      ]
     },
     "execution_count": 70,
     "metadata": {},
     "output_type": "execute_result"
    }
   ],
   "source": [
    "s = :(1+x)"
   ]
  },
  {
   "cell_type": "code",
   "execution_count": 71,
   "metadata": {},
   "outputs": [
    {
     "data": {
      "text/plain": [
       "Expr"
      ]
     },
     "execution_count": 71,
     "metadata": {},
     "output_type": "execute_result"
    }
   ],
   "source": [
    "typeof(s)"
   ]
  },
  {
   "cell_type": "code",
   "execution_count": 72,
   "metadata": {},
   "outputs": [],
   "source": [
    "using Symbolics"
   ]
  },
  {
   "cell_type": "code",
   "execution_count": 73,
   "metadata": {},
   "outputs": [
    {
     "data": {
      "text/latex": [
       "\\begin{equation}\n",
       "\\left[\n",
       "\\begin{array}{c}\n",
       "t \\\\\n",
       "\\end{array}\n",
       "\\right]\n",
       "\\end{equation}\n"
      ],
      "text/plain": [
       "1-element Vector{Num}:\n",
       " t"
      ]
     },
     "execution_count": 73,
     "metadata": {},
     "output_type": "execute_result"
    }
   ],
   "source": [
    "@variables t"
   ]
  },
  {
   "cell_type": "code",
   "execution_count": 74,
   "metadata": {},
   "outputs": [
    {
     "data": {
      "text/latex": [
       "\\begin{equation}\n",
       "\\left( 1 + t \\right)^{2}\n",
       "\\end{equation}\n"
      ],
      "text/plain": [
       "(1 + t)^2"
      ]
     },
     "execution_count": 74,
     "metadata": {},
     "output_type": "execute_result"
    }
   ],
   "source": [
    "(1+t)^2"
   ]
  },
  {
   "cell_type": "code",
   "execution_count": 75,
   "metadata": {},
   "outputs": [
    {
     "data": {
      "text/plain": [
       "Num"
      ]
     },
     "execution_count": 75,
     "metadata": {},
     "output_type": "execute_result"
    }
   ],
   "source": [
    "typeof(t)"
   ]
  },
  {
   "cell_type": "code",
   "execution_count": 18,
   "metadata": {},
   "outputs": [
    {
     "data": {
      "text/html": [
       "# 174 methods for generic function <b>^</b>:<ul><li> ^(s::<b>Union{AbstractChar, AbstractString}</b>, r::<b>Integer</b>) in Base at <a href=\"https://github.com/JuliaLang/julia/tree/bf534986350a991e4a1b29126de0342ffd76205e/base/strings/basic.jl#L721\" target=\"_blank\">strings/basic.jl:721</a></li> <li> ^(a::<b>SymbolicUtils.Add</b>, b::<b>SymbolicUtils.Term{<:LiteralReal}</b>) in SymbolicUtils at <a href=\"file:///Users/reula/.julia/packages/SymbolicUtils/v2ZkM/src/methods.jl\" target=\"_blank\">/Users/reula/.julia/packages/SymbolicUtils/v2ZkM/src/methods.jl:61</a></li> <li> ^(a::<b>SymbolicUtils.Add</b>, b::<b>SymbolicUtils.Sym{<:LiteralReal}</b>) in SymbolicUtils at <a href=\"file:///Users/reula/.julia/packages/SymbolicUtils/v2ZkM/src/methods.jl\" target=\"_blank\">/Users/reula/.julia/packages/SymbolicUtils/v2ZkM/src/methods.jl:61</a></li> <li> ^(a::<b>SymbolicUtils.Add</b>, b::<b>Symbolics.ComplexTerm</b>) in Symbolics at <a href=\"file:///Users/reula/.julia/packages/SymbolicUtils/v2ZkM/src/methods.jl\" target=\"_blank\">/Users/reula/.julia/packages/SymbolicUtils/v2ZkM/src/methods.jl:61</a></li> <li> ^(a::<b>SymbolicUtils.Add</b>, b::<b>Num</b>) in Symbolics at <a href=\"file:///Users/reula/.julia/packages/SymbolicUtils/v2ZkM/src/methods.jl\" target=\"_blank\">/Users/reula/.julia/packages/SymbolicUtils/v2ZkM/src/methods.jl:61</a></li> <li> ^(x::<b>T</b>, y::<b>Rational</b>)<i> where T<:AbstractFloat</i> in Base at <a href=\"https://github.com/JuliaLang/julia/tree/bf534986350a991e4a1b29126de0342ffd76205e/base/rational.jl#L480\" target=\"_blank\">rational.jl:480</a></li> <li> ^(a::<b>Symbolics.ComplexTerm</b>, b::<b>Symbolics.ComplexTerm</b>) in Symbolics at <a href=\"file:///Users/reula/.julia/packages/SymbolicUtils/v2ZkM/src/methods.jl\" target=\"_blank\">/Users/reula/.julia/packages/SymbolicUtils/v2ZkM/src/methods.jl:67</a></li> <li> ^(a::<b>Symbolics.ComplexTerm</b>, b::<b>SymbolicUtils.Mul</b>) in Symbolics at <a href=\"file:///Users/reula/.julia/packages/SymbolicUtils/v2ZkM/src/methods.jl\" target=\"_blank\">/Users/reula/.julia/packages/SymbolicUtils/v2ZkM/src/methods.jl:60</a></li> <li> ^(a::<b>Symbolics.ComplexTerm</b>, b::<b>SymbolicUtils.Pow</b>) in Symbolics at <a href=\"file:///Users/reula/.julia/packages/SymbolicUtils/v2ZkM/src/methods.jl\" target=\"_blank\">/Users/reula/.julia/packages/SymbolicUtils/v2ZkM/src/methods.jl:60</a></li> <li> ^(a::<b>Symbolics.ComplexTerm</b>, b::<b>SymbolicUtils.Add</b>) in Symbolics at <a href=\"file:///Users/reula/.julia/packages/SymbolicUtils/v2ZkM/src/methods.jl\" target=\"_blank\">/Users/reula/.julia/packages/SymbolicUtils/v2ZkM/src/methods.jl:60</a></li> <li> ^(a::<b>Symbolics.ComplexTerm</b>, b::<b>SymbolicUtils.Sym{<:LiteralReal}</b>) in Symbolics at <a href=\"file:///Users/reula/.julia/packages/SymbolicUtils/v2ZkM/src/methods.jl\" target=\"_blank\">/Users/reula/.julia/packages/SymbolicUtils/v2ZkM/src/methods.jl:60</a></li> <li> ^(a::<b>Symbolics.ComplexTerm</b>, b::<b>SymbolicUtils.Term{<:LiteralReal}</b>) in Symbolics at <a href=\"file:///Users/reula/.julia/packages/SymbolicUtils/v2ZkM/src/methods.jl\" target=\"_blank\">/Users/reula/.julia/packages/SymbolicUtils/v2ZkM/src/methods.jl:60</a></li> <li> ^(a::<b>Symbolics.ComplexTerm</b>, b::<b>SymbolicUtils.Term</b>) in Symbolics at <a href=\"file:///Users/reula/.julia/packages/SymbolicUtils/v2ZkM/src/methods.jl\" target=\"_blank\">/Users/reula/.julia/packages/SymbolicUtils/v2ZkM/src/methods.jl:60</a></li> <li> ^(a::<b>Symbolics.ComplexTerm</b>, b::<b>SymbolicUtils.Sym</b>) in Symbolics at <a href=\"file:///Users/reula/.julia/packages/SymbolicUtils/v2ZkM/src/methods.jl\" target=\"_blank\">/Users/reula/.julia/packages/SymbolicUtils/v2ZkM/src/methods.jl:60</a></li> <li> ^(a::<b>Symbolics.ComplexTerm</b>, b::<b>Num</b>) in Symbolics at <a href=\"file:///Users/reula/.julia/packages/SymbolicUtils/v2ZkM/src/methods.jl\" target=\"_blank\">/Users/reula/.julia/packages/SymbolicUtils/v2ZkM/src/methods.jl:60</a></li> <li> ^(a::<b>Symbolics.ComplexTerm</b>, b::<b>Real</b>) in Symbolics at <a href=\"file:///Users/reula/.julia/packages/SymbolicUtils/v2ZkM/src/methods.jl\" target=\"_blank\">/Users/reula/.julia/packages/SymbolicUtils/v2ZkM/src/methods.jl:68</a></li> <li> ^(a::<b>Symbolics.ComplexTerm</b>, b::<b>Number</b>) in Symbolics at <a href=\"file:///Users/reula/.julia/packages/SymbolicUtils/v2ZkM/src/methods.jl\" target=\"_blank\">/Users/reula/.julia/packages/SymbolicUtils/v2ZkM/src/methods.jl:70</a></li> <li> ^(a::<b>Symbolics.ComplexTerm</b>, b::<b>SymbolicUtils.Div</b>) in Symbolics at <a href=\"file:///Users/reula/.julia/packages/SymbolicUtils/v2ZkM/src/methods.jl\" target=\"_blank\">/Users/reula/.julia/packages/SymbolicUtils/v2ZkM/src/methods.jl:60</a></li> <li> ^(D::<b>LinearAlgebra.Diagonal</b>, a::<b>Integer</b>) in LinearAlgebra at <a href=\"file:///Users/julia/buildbot/worker/package_macos64/build/usr/share/julia/stdlib/v1.7/LinearAlgebra/src/diagonal.jl\" target=\"_blank\">/Applications/Julia-1.7.app/Contents/Resources/julia/share/julia/stdlib/v1.7/LinearAlgebra/src/diagonal.jl:196</a></li> <li> ^(D::<b>LinearAlgebra.Diagonal</b>, a::<b>Real</b>) in LinearAlgebra at <a href=\"file:///Users/julia/buildbot/worker/package_macos64/build/usr/share/julia/stdlib/v1.7/LinearAlgebra/src/diagonal.jl\" target=\"_blank\">/Applications/Julia-1.7.app/Contents/Resources/julia/share/julia/stdlib/v1.7/LinearAlgebra/src/diagonal.jl:195</a></li> <li> ^(D::<b>LinearAlgebra.Diagonal</b>, a::<b>Number</b>) in LinearAlgebra at <a href=\"file:///Users/julia/buildbot/worker/package_macos64/build/usr/share/julia/stdlib/v1.7/LinearAlgebra/src/diagonal.jl\" target=\"_blank\">/Applications/Julia-1.7.app/Contents/Resources/julia/share/julia/stdlib/v1.7/LinearAlgebra/src/diagonal.jl:194</a></li> <li> ^(a::<b>SymbolicUtils.Pow</b>, b::<b>SymbolicUtils.Term{<:LiteralReal}</b>) in SymbolicUtils at <a href=\"file:///Users/reula/.julia/packages/SymbolicUtils/v2ZkM/src/methods.jl\" target=\"_blank\">/Users/reula/.julia/packages/SymbolicUtils/v2ZkM/src/methods.jl:61</a></li> <li> ^(a::<b>SymbolicUtils.Pow</b>, b::<b>SymbolicUtils.Sym{<:LiteralReal}</b>) in SymbolicUtils at <a href=\"file:///Users/reula/.julia/packages/SymbolicUtils/v2ZkM/src/methods.jl\" target=\"_blank\">/Users/reula/.julia/packages/SymbolicUtils/v2ZkM/src/methods.jl:61</a></li> <li> ^(a::<b>SymbolicUtils.Pow</b>, b::<b>Symbolics.ComplexTerm</b>) in Symbolics at <a href=\"file:///Users/reula/.julia/packages/SymbolicUtils/v2ZkM/src/methods.jl\" target=\"_blank\">/Users/reula/.julia/packages/SymbolicUtils/v2ZkM/src/methods.jl:61</a></li> <li> ^(a::<b>SymbolicUtils.Pow</b>, b::<b>Num</b>) in Symbolics at <a href=\"file:///Users/reula/.julia/packages/SymbolicUtils/v2ZkM/src/methods.jl\" target=\"_blank\">/Users/reula/.julia/packages/SymbolicUtils/v2ZkM/src/methods.jl:61</a></li> <li> ^(z::<b>Complex{T}</b>, p::<b>Complex{T}</b>)<i> where T<:Real</i> in Base at <a href=\"https://github.com/JuliaLang/julia/tree/bf534986350a991e4a1b29126de0342ffd76205e/base/complex.jl#L829\" target=\"_blank\">complex.jl:829</a></li> <li> ^(z::<b>Complex{<:AbstractFloat}</b>, n::<b>Bool</b>) in Base at <a href=\"https://github.com/JuliaLang/julia/tree/bf534986350a991e4a1b29126de0342ffd76205e/base/complex.jl#L836\" target=\"_blank\">complex.jl:836</a></li> <li> ^(z::<b>Complex{<:Integer}</b>, n::<b>Bool</b>) in Base at <a href=\"https://github.com/JuliaLang/julia/tree/bf534986350a991e4a1b29126de0342ffd76205e/base/complex.jl#L837\" target=\"_blank\">complex.jl:837</a></li> <li> ^(z::<b>Complex{<:AbstractFloat}</b>, n::<b>Integer</b>) in Base at <a href=\"https://github.com/JuliaLang/julia/tree/bf534986350a991e4a1b29126de0342ffd76205e/base/complex.jl#L839\" target=\"_blank\">complex.jl:839</a></li> <li> ^(z::<b>Complex{<:Integer}</b>, n::<b>Integer</b>) in Base at <a href=\"https://github.com/JuliaLang/julia/tree/bf534986350a991e4a1b29126de0342ffd76205e/base/complex.jl#L841\" target=\"_blank\">complex.jl:841</a></li> <li> ^(z::<b>Complex{T}</b>, p::<b>Rational</b>)<i> where T<:Real</i> in Base at <a href=\"https://github.com/JuliaLang/julia/tree/bf534986350a991e4a1b29126de0342ffd76205e/base/rational.jl#L481\" target=\"_blank\">rational.jl:481</a></li> <li> ^(z::<b>Complex{<:Rational}</b>, n::<b>Bool</b>) in Base at <a href=\"https://github.com/JuliaLang/julia/tree/bf534986350a991e4a1b29126de0342ffd76205e/base/rational.jl#L483\" target=\"_blank\">rational.jl:483</a></li> <li> ^(z::<b>Complex</b>, n::<b>Bool</b>) in Base at <a href=\"https://github.com/JuliaLang/julia/tree/bf534986350a991e4a1b29126de0342ffd76205e/base/complex.jl#L833\" target=\"_blank\">complex.jl:833</a></li> <li> ^(z::<b>Complex{<:Rational}</b>, n::<b>Integer</b>) in Base at <a href=\"https://github.com/JuliaLang/julia/tree/bf534986350a991e4a1b29126de0342ffd76205e/base/rational.jl#L484\" target=\"_blank\">rational.jl:484</a></li> <li> ^(x::<b>Rational</b>, n::<b>Integer</b>) in Base at <a href=\"https://github.com/JuliaLang/julia/tree/bf534986350a991e4a1b29126de0342ffd76205e/base/rational.jl#L475\" target=\"_blank\">rational.jl:475</a></li> <li> ^(a::<b>SymbolicUtils.Mul</b>, b::<b>SymbolicUtils.Term{<:LiteralReal}</b>) in SymbolicUtils at <a href=\"file:///Users/reula/.julia/packages/SymbolicUtils/v2ZkM/src/methods.jl\" target=\"_blank\">/Users/reula/.julia/packages/SymbolicUtils/v2ZkM/src/methods.jl:61</a></li> <li> ^(a::<b>SymbolicUtils.Mul</b>, b::<b>SymbolicUtils.Sym{<:LiteralReal}</b>) in SymbolicUtils at <a href=\"file:///Users/reula/.julia/packages/SymbolicUtils/v2ZkM/src/methods.jl\" target=\"_blank\">/Users/reula/.julia/packages/SymbolicUtils/v2ZkM/src/methods.jl:61</a></li> <li> ^(a::<b>SymbolicUtils.Mul</b>, b::<b>Symbolics.ComplexTerm</b>) in Symbolics at <a href=\"file:///Users/reula/.julia/packages/SymbolicUtils/v2ZkM/src/methods.jl\" target=\"_blank\">/Users/reula/.julia/packages/SymbolicUtils/v2ZkM/src/methods.jl:61</a></li> <li> ^(a::<b>SymbolicUtils.Mul</b>, b::<b>Num</b>) in Symbolics at <a href=\"file:///Users/reula/.julia/packages/SymbolicUtils/v2ZkM/src/methods.jl\" target=\"_blank\">/Users/reula/.julia/packages/SymbolicUtils/v2ZkM/src/methods.jl:61</a></li> <li> ^(a::<b>SymbolicUtils.Mul</b>, b::<b>Number</b>) in SymbolicUtils at <a href=\"file:///Users/reula/.julia/packages/SymbolicUtils/v2ZkM/src/types.jl\" target=\"_blank\">/Users/reula/.julia/packages/SymbolicUtils/v2ZkM/src/types.jl:1046</a></li> <li> ^(::<b>Number</b>, ::<b>Missing</b>) in Base at <a href=\"https://github.com/JuliaLang/julia/tree/bf534986350a991e4a1b29126de0342ffd76205e/base/missing.jl#L124\" target=\"_blank\">missing.jl:124</a></li> <li> ^(x::<b>DynamicPolynomials.PolyVar{C}</b>, i::<b>Int64</b>)<i> where C</i> in DynamicPolynomials at <a href=\"file:///Users/reula/.julia/packages/DynamicPolynomials/Y6gnp/src/operators.jl\" target=\"_blank\">/Users/reula/.julia/packages/DynamicPolynomials/Y6gnp/src/operators.jl:6</a></li> <li> ^(d::<b>IntervalSets.Domain</b>, n::<b>Int64</b>) in DomainSets at <a href=\"file:///Users/reula/.julia/packages/DomainSets/F4hmL/src/generic/productdomain.jl\" target=\"_blank\">/Users/reula/.julia/packages/DomainSets/F4hmL/src/generic/productdomain.jl:94</a></li> <li> ^(x::<b>Static.StaticBool</b>, y::<b>Static.True</b>) in Static at <a href=\"file:///Users/reula/.julia/packages/Static/pkxBE/src/bool.jl\" target=\"_blank\">/Users/reula/.julia/packages/Static/pkxBE/src/bool.jl:98</a></li> <li> ^(x::<b>Static.StaticBool</b>, y::<b>Static.False</b>) in Static at <a href=\"file:///Users/reula/.julia/packages/Static/pkxBE/src/bool.jl\" target=\"_blank\">/Users/reula/.julia/packages/Static/pkxBE/src/bool.jl:97</a></li> <li> ^(A::<b>LinearAlgebra.Hermitian</b>, p::<b>Integer</b>) in LinearAlgebra at <a href=\"file:///Users/julia/buildbot/worker/package_macos64/build/usr/share/julia/stdlib/v1.7/LinearAlgebra/src/symmetric.jl\" target=\"_blank\">/Applications/Julia-1.7.app/Contents/Resources/julia/share/julia/stdlib/v1.7/LinearAlgebra/src/symmetric.jl:726</a></li> <li> ^(A::<b>LinearAlgebra.Hermitian{T, S} where S<:(AbstractMatrix{<:T})</b>, p::<b>Real</b>)<i> where T</i> in LinearAlgebra at <a href=\"file:///Users/julia/buildbot/worker/package_macos64/build/usr/share/julia/stdlib/v1.7/LinearAlgebra/src/symmetric.jl\" target=\"_blank\">/Applications/Julia-1.7.app/Contents/Resources/julia/share/julia/stdlib/v1.7/LinearAlgebra/src/symmetric.jl:737</a></li> <li> ^(A::<b>LinearAlgebra.Symmetric{var\"#s859\", S} where {var\"#s859\"<:Real, S<:(AbstractMatrix{<:var\"#s859\"})}</b>, p::<b>Integer</b>) in LinearAlgebra at <a href=\"file:///Users/julia/buildbot/worker/package_macos64/build/usr/share/julia/stdlib/v1.7/LinearAlgebra/src/symmetric.jl\" target=\"_blank\">/Applications/Julia-1.7.app/Contents/Resources/julia/share/julia/stdlib/v1.7/LinearAlgebra/src/symmetric.jl:704</a></li> <li> ^(A::<b>LinearAlgebra.Symmetric{var\"#s859\", S} where {var\"#s859\"<:Complex, S<:(AbstractMatrix{<:var\"#s859\"})}</b>, p::<b>Integer</b>) in LinearAlgebra at <a href=\"file:///Users/julia/buildbot/worker/package_macos64/build/usr/share/julia/stdlib/v1.7/LinearAlgebra/src/symmetric.jl\" target=\"_blank\">/Applications/Julia-1.7.app/Contents/Resources/julia/share/julia/stdlib/v1.7/LinearAlgebra/src/symmetric.jl:705</a></li> <li> ^(A::<b>AbstractMatrix{T}</b>, p::<b>Integer</b>)<i> where T<:Integer</i> in LinearAlgebra at <a href=\"file:///Users/julia/buildbot/worker/package_macos64/build/usr/share/julia/stdlib/v1.7/LinearAlgebra/src/dense.jl\" target=\"_blank\">/Applications/Julia-1.7.app/Contents/Resources/julia/share/julia/stdlib/v1.7/LinearAlgebra/src/dense.jl:446</a></li> <li> ^(A::<b>AbstractMatrix</b>, p::<b>Integer</b>) in LinearAlgebra at <a href=\"file:///Users/julia/buildbot/worker/package_macos64/build/usr/share/julia/stdlib/v1.7/LinearAlgebra/src/dense.jl\" target=\"_blank\">/Applications/Julia-1.7.app/Contents/Resources/julia/share/julia/stdlib/v1.7/LinearAlgebra/src/dense.jl:445</a></li> <li> ^(A::<b>LinearAlgebra.Symmetric{var\"#s859\", S} where {var\"#s859\"<:Real, S<:(AbstractMatrix{<:var\"#s859\"})}</b>, p::<b>Real</b>) in LinearAlgebra at <a href=\"file:///Users/julia/buildbot/worker/package_macos64/build/usr/share/julia/stdlib/v1.7/LinearAlgebra/src/symmetric.jl\" target=\"_blank\">/Applications/Julia-1.7.app/Contents/Resources/julia/share/julia/stdlib/v1.7/LinearAlgebra/src/symmetric.jl:713</a></li> <li> ^(A::<b>LinearAlgebra.Symmetric{var\"#s859\", S} where {var\"#s859\"<:Complex, S<:(AbstractMatrix{<:var\"#s859\"})}</b>, p::<b>Real</b>) in LinearAlgebra at <a href=\"file:///Users/julia/buildbot/worker/package_macos64/build/usr/share/julia/stdlib/v1.7/LinearAlgebra/src/symmetric.jl\" target=\"_blank\">/Applications/Julia-1.7.app/Contents/Resources/julia/share/julia/stdlib/v1.7/LinearAlgebra/src/symmetric.jl:722</a></li> <li> ^(A::<b>AbstractMatrix{T}</b>, p::<b>Real</b>)<i> where T</i> in LinearAlgebra at <a href=\"file:///Users/julia/buildbot/worker/package_macos64/build/usr/share/julia/stdlib/v1.7/LinearAlgebra/src/dense.jl\" target=\"_blank\">/Applications/Julia-1.7.app/Contents/Resources/julia/share/julia/stdlib/v1.7/LinearAlgebra/src/dense.jl:488</a></li> <li> ^(A::<b>AbstractMatrix</b>, p::<b>Number</b>) in LinearAlgebra at <a href=\"file:///Users/julia/buildbot/worker/package_macos64/build/usr/share/julia/stdlib/v1.7/LinearAlgebra/src/dense.jl\" target=\"_blank\">/Applications/Julia-1.7.app/Contents/Resources/julia/share/julia/stdlib/v1.7/LinearAlgebra/src/dense.jl:529</a></li> <li> ^(a::<b>SymbolicUtils.Sym{<:LiteralReal}</b>, b::<b>SymbolicUtils.Pow</b>) in SymbolicUtils at <a href=\"file:///Users/reula/.julia/packages/SymbolicUtils/v2ZkM/src/methods.jl\" target=\"_blank\">/Users/reula/.julia/packages/SymbolicUtils/v2ZkM/src/methods.jl:60</a></li> <li> ^(a::<b>SymbolicUtils.Sym{<:LiteralReal}</b>, b::<b>SymbolicUtils.Add</b>) in SymbolicUtils at <a href=\"file:///Users/reula/.julia/packages/SymbolicUtils/v2ZkM/src/methods.jl\" target=\"_blank\">/Users/reula/.julia/packages/SymbolicUtils/v2ZkM/src/methods.jl:60</a></li> <li> ^(a::<b>SymbolicUtils.Sym{<:LiteralReal}</b>, b::<b>SymbolicUtils.Mul</b>) in SymbolicUtils at <a href=\"file:///Users/reula/.julia/packages/SymbolicUtils/v2ZkM/src/methods.jl\" target=\"_blank\">/Users/reula/.julia/packages/SymbolicUtils/v2ZkM/src/methods.jl:60</a></li> <li> ^(a::<b>SymbolicUtils.Sym{<:LiteralReal}</b>, b::<b>Symbolics.ComplexTerm</b>) in Symbolics at <a href=\"file:///Users/reula/.julia/packages/SymbolicUtils/v2ZkM/src/methods.jl\" target=\"_blank\">/Users/reula/.julia/packages/SymbolicUtils/v2ZkM/src/methods.jl:61</a></li> <li> ^(a::<b>SymbolicUtils.Sym</b>, b::<b>Symbolics.ComplexTerm</b>) in Symbolics at <a href=\"file:///Users/reula/.julia/packages/SymbolicUtils/v2ZkM/src/methods.jl\" target=\"_blank\">/Users/reula/.julia/packages/SymbolicUtils/v2ZkM/src/methods.jl:61</a></li> <li> ^(a::<b>SymbolicUtils.Sym{<:LiteralReal}</b>, b::<b>SymbolicUtils.Sym{<:LiteralReal}</b>) in SymbolicUtils at <a href=\"file:///Users/reula/.julia/packages/SymbolicUtils/v2ZkM/src/methods.jl\" target=\"_blank\">/Users/reula/.julia/packages/SymbolicUtils/v2ZkM/src/methods.jl:67</a></li> <li> ^(a::<b>SymbolicUtils.Sym{<:LiteralReal}</b>, b::<b>SymbolicUtils.Sym</b>) in SymbolicUtils at <a href=\"file:///Users/reula/.julia/packages/SymbolicUtils/v2ZkM/src/methods.jl\" target=\"_blank\">/Users/reula/.julia/packages/SymbolicUtils/v2ZkM/src/methods.jl:60</a></li> <li> ^(a::<b>SymbolicUtils.Sym</b>, b::<b>SymbolicUtils.Sym{<:LiteralReal}</b>) in SymbolicUtils at <a href=\"file:///Users/reula/.julia/packages/SymbolicUtils/v2ZkM/src/methods.jl\" target=\"_blank\">/Users/reula/.julia/packages/SymbolicUtils/v2ZkM/src/methods.jl:61</a></li> <li> ^(a::<b>SymbolicUtils.Sym{<:LiteralReal}</b>, b::<b>SymbolicUtils.Term{<:LiteralReal}</b>) in SymbolicUtils at <a href=\"file:///Users/reula/.julia/packages/SymbolicUtils/v2ZkM/src/methods.jl\" target=\"_blank\">/Users/reula/.julia/packages/SymbolicUtils/v2ZkM/src/methods.jl:61</a></li> <li> ^(a::<b>SymbolicUtils.Sym{<:LiteralReal}</b>, b::<b>SymbolicUtils.Term</b>) in SymbolicUtils at <a href=\"file:///Users/reula/.julia/packages/SymbolicUtils/v2ZkM/src/methods.jl\" target=\"_blank\">/Users/reula/.julia/packages/SymbolicUtils/v2ZkM/src/methods.jl:60</a></li> <li> ^(a::<b>SymbolicUtils.Sym</b>, b::<b>SymbolicUtils.Term{<:LiteralReal}</b>) in SymbolicUtils at <a href=\"file:///Users/reula/.julia/packages/SymbolicUtils/v2ZkM/src/methods.jl\" target=\"_blank\">/Users/reula/.julia/packages/SymbolicUtils/v2ZkM/src/methods.jl:61</a></li> <li> ^(a::<b>SymbolicUtils.Sym{<:LiteralReal}</b>, b::<b>SymbolicUtils.Div</b>) in SymbolicUtils at <a href=\"file:///Users/reula/.julia/packages/SymbolicUtils/v2ZkM/src/methods.jl\" target=\"_blank\">/Users/reula/.julia/packages/SymbolicUtils/v2ZkM/src/methods.jl:60</a></li> <li> ^(a::<b>SymbolicUtils.Sym{<:LiteralReal}</b>, b::<b>Num</b>) in Symbolics at <a href=\"file:///Users/reula/.julia/packages/SymbolicUtils/v2ZkM/src/methods.jl\" target=\"_blank\">/Users/reula/.julia/packages/SymbolicUtils/v2ZkM/src/methods.jl:61</a></li> <li> ^(a::<b>SymbolicUtils.Sym{<:LiteralReal}</b>, b::<b>Real</b>) in SymbolicUtils at <a href=\"file:///Users/reula/.julia/packages/SymbolicUtils/v2ZkM/src/methods.jl\" target=\"_blank\">/Users/reula/.julia/packages/SymbolicUtils/v2ZkM/src/methods.jl:68</a></li> <li> ^(a::<b>SymbolicUtils.Sym{<:LiteralReal}</b>, b::<b>Number</b>) in SymbolicUtils at <a href=\"file:///Users/reula/.julia/packages/SymbolicUtils/v2ZkM/src/methods.jl\" target=\"_blank\">/Users/reula/.julia/packages/SymbolicUtils/v2ZkM/src/methods.jl:70</a></li> <li> ^(a::<b>SymbolicUtils.Sym</b>, b::<b>Num</b>) in Symbolics at <a href=\"file:///Users/reula/.julia/packages/SymbolicUtils/v2ZkM/src/methods.jl\" target=\"_blank\">/Users/reula/.julia/packages/SymbolicUtils/v2ZkM/src/methods.jl:61</a></li> <li> ^(a::<b>SymbolicUtils.Term{<:LiteralReal}</b>, b::<b>SymbolicUtils.Pow</b>) in SymbolicUtils at <a href=\"file:///Users/reula/.julia/packages/SymbolicUtils/v2ZkM/src/methods.jl\" target=\"_blank\">/Users/reula/.julia/packages/SymbolicUtils/v2ZkM/src/methods.jl:60</a></li> <li> ^(a::<b>SymbolicUtils.Term{<:LiteralReal}</b>, b::<b>SymbolicUtils.Add</b>) in SymbolicUtils at <a href=\"file:///Users/reula/.julia/packages/SymbolicUtils/v2ZkM/src/methods.jl\" target=\"_blank\">/Users/reula/.julia/packages/SymbolicUtils/v2ZkM/src/methods.jl:60</a></li> <li> ^(a::<b>SymbolicUtils.Term{<:LiteralReal}</b>, b::<b>SymbolicUtils.Mul</b>) in SymbolicUtils at <a href=\"file:///Users/reula/.julia/packages/SymbolicUtils/v2ZkM/src/methods.jl\" target=\"_blank\">/Users/reula/.julia/packages/SymbolicUtils/v2ZkM/src/methods.jl:60</a></li> <li> ^(a::<b>SymbolicUtils.Term{<:LiteralReal}</b>, b::<b>Symbolics.ComplexTerm</b>) in Symbolics at <a href=\"file:///Users/reula/.julia/packages/SymbolicUtils/v2ZkM/src/methods.jl\" target=\"_blank\">/Users/reula/.julia/packages/SymbolicUtils/v2ZkM/src/methods.jl:61</a></li> <li> ^(a::<b>SymbolicUtils.Term</b>, b::<b>Symbolics.ComplexTerm</b>) in Symbolics at <a href=\"file:///Users/reula/.julia/packages/SymbolicUtils/v2ZkM/src/methods.jl\" target=\"_blank\">/Users/reula/.julia/packages/SymbolicUtils/v2ZkM/src/methods.jl:61</a></li> <li> ^(a::<b>SymbolicUtils.Term{<:LiteralReal}</b>, b::<b>SymbolicUtils.Sym{<:LiteralReal}</b>) in SymbolicUtils at <a href=\"file:///Users/reula/.julia/packages/SymbolicUtils/v2ZkM/src/methods.jl\" target=\"_blank\">/Users/reula/.julia/packages/SymbolicUtils/v2ZkM/src/methods.jl:60</a></li> <li> ^(a::<b>SymbolicUtils.Term</b>, b::<b>SymbolicUtils.Sym{<:LiteralReal}</b>) in SymbolicUtils at <a href=\"file:///Users/reula/.julia/packages/SymbolicUtils/v2ZkM/src/methods.jl\" target=\"_blank\">/Users/reula/.julia/packages/SymbolicUtils/v2ZkM/src/methods.jl:61</a></li> <li> ^(a::<b>SymbolicUtils.Term{<:LiteralReal}</b>, b::<b>SymbolicUtils.Sym</b>) in SymbolicUtils at <a href=\"file:///Users/reula/.julia/packages/SymbolicUtils/v2ZkM/src/methods.jl\" target=\"_blank\">/Users/reula/.julia/packages/SymbolicUtils/v2ZkM/src/methods.jl:60</a></li> <li> ^(a::<b>SymbolicUtils.Term{<:LiteralReal}</b>, b::<b>SymbolicUtils.Term{<:LiteralReal}</b>) in SymbolicUtils at <a href=\"file:///Users/reula/.julia/packages/SymbolicUtils/v2ZkM/src/methods.jl\" target=\"_blank\">/Users/reula/.julia/packages/SymbolicUtils/v2ZkM/src/methods.jl:67</a></li> <li> ^(a::<b>SymbolicUtils.Term{<:LiteralReal}</b>, b::<b>SymbolicUtils.Term</b>) in SymbolicUtils at <a href=\"file:///Users/reula/.julia/packages/SymbolicUtils/v2ZkM/src/methods.jl\" target=\"_blank\">/Users/reula/.julia/packages/SymbolicUtils/v2ZkM/src/methods.jl:60</a></li> <li> ^(a::<b>SymbolicUtils.Term</b>, b::<b>SymbolicUtils.Term{<:LiteralReal}</b>) in SymbolicUtils at <a href=\"file:///Users/reula/.julia/packages/SymbolicUtils/v2ZkM/src/methods.jl\" target=\"_blank\">/Users/reula/.julia/packages/SymbolicUtils/v2ZkM/src/methods.jl:61</a></li> <li> ^(a::<b>SymbolicUtils.Term{<:LiteralReal}</b>, b::<b>SymbolicUtils.Div</b>) in SymbolicUtils at <a href=\"file:///Users/reula/.julia/packages/SymbolicUtils/v2ZkM/src/methods.jl\" target=\"_blank\">/Users/reula/.julia/packages/SymbolicUtils/v2ZkM/src/methods.jl:60</a></li> <li> ^(a::<b>SymbolicUtils.Term{<:LiteralReal}</b>, b::<b>Num</b>) in Symbolics at <a href=\"file:///Users/reula/.julia/packages/SymbolicUtils/v2ZkM/src/methods.jl\" target=\"_blank\">/Users/reula/.julia/packages/SymbolicUtils/v2ZkM/src/methods.jl:61</a></li> <li> ^(a::<b>SymbolicUtils.Term{<:LiteralReal}</b>, b::<b>Real</b>) in SymbolicUtils at <a href=\"file:///Users/reula/.julia/packages/SymbolicUtils/v2ZkM/src/methods.jl\" target=\"_blank\">/Users/reula/.julia/packages/SymbolicUtils/v2ZkM/src/methods.jl:68</a></li> <li> ^(a::<b>SymbolicUtils.Term{<:LiteralReal}</b>, b::<b>Number</b>) in SymbolicUtils at <a href=\"file:///Users/reula/.julia/packages/SymbolicUtils/v2ZkM/src/methods.jl\" target=\"_blank\">/Users/reula/.julia/packages/SymbolicUtils/v2ZkM/src/methods.jl:70</a></li> <li> ^(a::<b>SymbolicUtils.Term</b>, b::<b>Num</b>) in Symbolics at <a href=\"file:///Users/reula/.julia/packages/SymbolicUtils/v2ZkM/src/methods.jl\" target=\"_blank\">/Users/reula/.julia/packages/SymbolicUtils/v2ZkM/src/methods.jl:61</a></li> <li> ^(::<b>Static.StaticFloat64{x}</b>, y::<b>Float64</b>)<i> where x</i> in Static at <a href=\"file:///Users/reula/.julia/packages/Static/pkxBE/src/float.jl\" target=\"_blank\">/Users/reula/.julia/packages/Static/pkxBE/src/float.jl:108</a></li> <li> ^(z::<b>DualNumbers.Dual{T}</b>, n::<b>Rational</b>)<i> where T</i> in DualNumbers at <a href=\"file:///Users/reula/.julia/packages/DualNumbers/Le5bO/src/dual.jl\" target=\"_blank\">/Users/reula/.julia/packages/DualNumbers/Le5bO/src/dual.jl:276</a></li> <li> ^(z::<b>DualNumbers.Dual{T}</b>, n::<b>Integer</b>)<i> where T</i> in DualNumbers at <a href=\"file:///Users/reula/.julia/packages/DualNumbers/Le5bO/src/dual.jl\" target=\"_blank\">/Users/reula/.julia/packages/DualNumbers/Le5bO/src/dual.jl:276</a></li> <li> ^(z::<b>DualNumbers.Dual{T1}</b>, w::<b>DualNumbers.Dual{T2}</b>)<i> where {T1, T2}</i> in DualNumbers at <a href=\"file:///Users/reula/.julia/packages/DualNumbers/Le5bO/src/dual.jl\" target=\"_blank\">/Users/reula/.julia/packages/DualNumbers/Le5bO/src/dual.jl:248</a></li> <li> ^(z::<b>DualNumbers.Dual{T}</b>, n::<b>Number</b>)<i> where T</i> in DualNumbers at <a href=\"file:///Users/reula/.julia/packages/DualNumbers/Le5bO/src/dual.jl\" target=\"_blank\">/Users/reula/.julia/packages/DualNumbers/Le5bO/src/dual.jl:276</a></li> <li> ^(a::<b>SymbolicUtils.Div</b>, b::<b>SymbolicUtils.Term{<:LiteralReal}</b>) in SymbolicUtils at <a href=\"file:///Users/reula/.julia/packages/SymbolicUtils/v2ZkM/src/methods.jl\" target=\"_blank\">/Users/reula/.julia/packages/SymbolicUtils/v2ZkM/src/methods.jl:61</a></li> <li> ^(a::<b>SymbolicUtils.Div</b>, b::<b>SymbolicUtils.Sym{<:LiteralReal}</b>) in SymbolicUtils at <a href=\"file:///Users/reula/.julia/packages/SymbolicUtils/v2ZkM/src/methods.jl\" target=\"_blank\">/Users/reula/.julia/packages/SymbolicUtils/v2ZkM/src/methods.jl:61</a></li> <li> ^(a::<b>SymbolicUtils.Div</b>, b::<b>Symbolics.ComplexTerm</b>) in Symbolics at <a href=\"file:///Users/reula/.julia/packages/SymbolicUtils/v2ZkM/src/methods.jl\" target=\"_blank\">/Users/reula/.julia/packages/SymbolicUtils/v2ZkM/src/methods.jl:61</a></li> <li> ^(a::<b>Union{Metatheory.EGraphs.EClass, SymbolicUtils.Symbolic{<:Number}}</b>, b::<b>Union{Metatheory.EGraphs.EClass, SymbolicUtils.Symbolic{<:Number}}</b>) in SymbolicUtils at <a href=\"file:///Users/reula/.julia/packages/SymbolicUtils/v2ZkM/src/types.jl\" target=\"_blank\">/Users/reula/.julia/packages/SymbolicUtils/v2ZkM/src/types.jl:1042</a></li> <li> ^(a::<b>SymbolicUtils.Div</b>, b::<b>Num</b>) in Symbolics at <a href=\"file:///Users/reula/.julia/packages/SymbolicUtils/v2ZkM/src/methods.jl\" target=\"_blank\">/Users/reula/.julia/packages/SymbolicUtils/v2ZkM/src/methods.jl:61</a></li> <li> ^(a::<b>Union{Metatheory.EGraphs.EClass, SymbolicUtils.Symbolic{<:Number}}</b>, b) in SymbolicUtils at <a href=\"file:///Users/reula/.julia/packages/SymbolicUtils/v2ZkM/src/types.jl\" target=\"_blank\">/Users/reula/.julia/packages/SymbolicUtils/v2ZkM/src/types.jl:1040</a></li> <li> ^(J::<b>LinearAlgebra.UniformScaling</b>, x::<b>Number</b>) in LinearAlgebra at <a href=\"file:///Users/julia/buildbot/worker/package_macos64/build/usr/share/julia/stdlib/v1.7/LinearAlgebra/src/uniformscaling.jl\" target=\"_blank\">/Applications/Julia-1.7.app/Contents/Resources/julia/share/julia/stdlib/v1.7/LinearAlgebra/src/uniformscaling.jl:318</a></li> <li> ^(::<b>Missing</b>, ::<b>Integer</b>) in Base at <a href=\"https://github.com/JuliaLang/julia/tree/bf534986350a991e4a1b29126de0342ffd76205e/base/missing.jl#L163\" target=\"_blank\">missing.jl:163</a></li> <li> ^(::<b>Missing</b>, ::<b>Number</b>) in Base at <a href=\"https://github.com/JuliaLang/julia/tree/bf534986350a991e4a1b29126de0342ffd76205e/base/missing.jl#L123\" target=\"_blank\">missing.jl:123</a></li> <li> ^(::<b>Missing</b>, ::<b>Missing</b>) in Base at <a href=\"https://github.com/JuliaLang/julia/tree/bf534986350a991e4a1b29126de0342ffd76205e/base/missing.jl#L122\" target=\"_blank\">missing.jl:122</a></li> <li> ^(x::<b>Float16</b>, y::<b>Integer</b>) in Base.Math at <a href=\"https://github.com/JuliaLang/julia/tree/bf534986350a991e4a1b29126de0342ffd76205e/base/math.jl#L938\" target=\"_blank\">math.jl:938</a></li> <li> ^(x::<b>Float16</b>, y::<b>Float16</b>) in Base.Math at <a href=\"https://github.com/JuliaLang/julia/tree/bf534986350a991e4a1b29126de0342ffd76205e/base/math.jl#L920\" target=\"_blank\">math.jl:920</a></li> <li> ^(z::<b>Complex{Num}</b>, n::<b>Integer</b>) in Symbolics at <a href=\"file:///Users/reula/.julia/packages/Symbolics/HDE84/src/num.jl\" target=\"_blank\">/Users/reula/.julia/packages/Symbolics/HDE84/src/num.jl:67</a></li> <li> ^(z::<b>Complex</b>, n::<b>Integer</b>) in Base at <a href=\"https://github.com/JuliaLang/julia/tree/bf534986350a991e4a1b29126de0342ffd76205e/base/complex.jl#L834\" target=\"_blank\">complex.jl:834</a></li> <li> ^(z::<b>Complex{T}</b>, p::<b>T</b>)<i> where T<:Real</i> in Base at <a href=\"https://github.com/JuliaLang/julia/tree/bf534986350a991e4a1b29126de0342ffd76205e/base/complex.jl#L830\" target=\"_blank\">complex.jl:830</a></li> <li> ^(z::<b>Complex{T}</b>, p::<b>S</b>)<i> where {T<:Real, S<:Real}</i> in Base at <a href=\"https://github.com/JuliaLang/julia/tree/bf534986350a991e4a1b29126de0342ffd76205e/base/complex.jl#L843\" target=\"_blank\">complex.jl:843</a></li> <li> ^(x::<b>BigInt</b>, y::<b>UInt64</b>) in Base.GMP at <a href=\"https://github.com/JuliaLang/julia/tree/bf534986350a991e4a1b29126de0342ffd76205e/base/gmp.jl#L580\" target=\"_blank\">gmp.jl:580</a></li> <li> ^(x::<b>BigInt</b>, y::<b>BigInt</b>) in Base.GMP at <a href=\"https://github.com/JuliaLang/julia/tree/bf534986350a991e4a1b29126de0342ffd76205e/base/gmp.jl#L604\" target=\"_blank\">gmp.jl:604</a></li> <li> ^(x::<b>BigInt</b>, y::<b>Bool</b>) in Base.GMP at <a href=\"https://github.com/JuliaLang/julia/tree/bf534986350a991e4a1b29126de0342ffd76205e/base/gmp.jl#L605\" target=\"_blank\">gmp.jl:605</a></li> <li> ^(x::<b>BigInt</b>, y::<b>Static.True</b>) in Static at <a href=\"file:///Users/reula/.julia/packages/Static/pkxBE/src/bool.jl\" target=\"_blank\">/Users/reula/.julia/packages/Static/pkxBE/src/bool.jl:102</a></li> <li> ^(x::<b>Integer</b>, y::<b>Static.True</b>) in Static at <a href=\"file:///Users/reula/.julia/packages/Static/pkxBE/src/bool.jl\" target=\"_blank\">/Users/reula/.julia/packages/Static/pkxBE/src/bool.jl:100</a></li> <li> ^(x::<b>BigInt</b>, y::<b>Static.False</b>) in Static at <a href=\"file:///Users/reula/.julia/packages/Static/pkxBE/src/bool.jl\" target=\"_blank\">/Users/reula/.julia/packages/Static/pkxBE/src/bool.jl:101</a></li> <li> ^(x::<b>Integer</b>, y::<b>Static.False</b>) in Static at <a href=\"file:///Users/reula/.julia/packages/Static/pkxBE/src/bool.jl\" target=\"_blank\">/Users/reula/.julia/packages/Static/pkxBE/src/bool.jl:99</a></li> <li> ^(x::<b>BigInt</b>, y::<b>Integer</b>) in Base.GMP at <a href=\"https://github.com/JuliaLang/julia/tree/bf534986350a991e4a1b29126de0342ffd76205e/base/gmp.jl#L606\" target=\"_blank\">gmp.jl:606</a></li> <li> ^(x::<b>Bool</b>, y::<b>Bool</b>) in Base at <a href=\"https://github.com/JuliaLang/julia/tree/bf534986350a991e4a1b29126de0342ffd76205e/base/bool.jl#L165\" target=\"_blank\">bool.jl:165</a></li> <li> ^(x::<b>Integer</b>, y::<b>Bool</b>) in Base at <a href=\"https://github.com/JuliaLang/julia/tree/bf534986350a991e4a1b29126de0342ffd76205e/base/bool.jl#L166\" target=\"_blank\">bool.jl:166</a></li> <li> ^(x::<b>Bool</b>, y::<b>BigInt</b>) in Base.GMP at <a href=\"https://github.com/JuliaLang/julia/tree/bf534986350a991e4a1b29126de0342ffd76205e/base/gmp.jl#L608\" target=\"_blank\">gmp.jl:608</a></li> <li> ^(x::<b>Integer</b>, y::<b>BigInt</b>) in Base.GMP at <a href=\"https://github.com/JuliaLang/julia/tree/bf534986350a991e4a1b29126de0342ffd76205e/base/gmp.jl#L607\" target=\"_blank\">gmp.jl:607</a></li> <li> ^(x::<b>T</b>, p::<b>T</b>)<i> where T<:Integer</i> in Base at <a href=\"https://github.com/JuliaLang/julia/tree/bf534986350a991e4a1b29126de0342ffd76205e/base/intfuncs.jl#L290\" target=\"_blank\">intfuncs.jl:290</a></li> <li> ^(D::<b>Differential</b>, n::<b>Integer</b>) in Symbolics at <a href=\"file:///Users/reula/.julia/packages/Symbolics/HDE84/src/diff.jl\" target=\"_blank\">/Users/reula/.julia/packages/Symbolics/HDE84/src/diff.jl:46</a></li> <li> ^(::<b>Irrational{:ℯ}</b>, x::<b>AbstractIrrational</b>) in Base.MathConstants at <a href=\"https://github.com/JuliaLang/julia/tree/bf534986350a991e4a1b29126de0342ffd76205e/base/mathconstants.jl#L119\" target=\"_blank\">mathconstants.jl:119</a></li> <li> ^(x::<b>AbstractIrrational</b>, y::<b>AbstractIrrational</b>) in Base at <a href=\"https://github.com/JuliaLang/julia/tree/bf534986350a991e4a1b29126de0342ffd76205e/base/irrationals.jl#L158\" target=\"_blank\">irrationals.jl:158</a></li> <li> ^(::<b>Irrational{:ℯ}</b>, x::<b>Rational</b>) in Base.MathConstants at <a href=\"https://github.com/JuliaLang/julia/tree/bf534986350a991e4a1b29126de0342ffd76205e/base/mathconstants.jl#L119\" target=\"_blank\">mathconstants.jl:119</a></li> <li> ^(::<b>Irrational{:ℯ}</b>, x::<b>Integer</b>) in Base.MathConstants at <a href=\"https://github.com/JuliaLang/julia/tree/bf534986350a991e4a1b29126de0342ffd76205e/base/mathconstants.jl#L119\" target=\"_blank\">mathconstants.jl:119</a></li> <li> ^(::<b>Irrational{:ℯ}</b>, x::<b>Complex</b>) in Base.MathConstants at <a href=\"https://github.com/JuliaLang/julia/tree/bf534986350a991e4a1b29126de0342ffd76205e/base/mathconstants.jl#L119\" target=\"_blank\">mathconstants.jl:119</a></li> <li> ^(z::<b>T</b>, p::<b>Complex{T}</b>)<i> where T<:Real</i> in Base at <a href=\"https://github.com/JuliaLang/julia/tree/bf534986350a991e4a1b29126de0342ffd76205e/base/complex.jl#L831\" target=\"_blank\">complex.jl:831</a></li> <li> ^(z::<b>T</b>, p::<b>Complex{S}</b>)<i> where {T<:Real, S<:Real}</i> in Base at <a href=\"https://github.com/JuliaLang/julia/tree/bf534986350a991e4a1b29126de0342ffd76205e/base/complex.jl#L847\" target=\"_blank\">complex.jl:847</a></li> <li> ^(::<b>Irrational{:ℯ}</b>, x::<b>Number</b>) in Base.MathConstants at <a href=\"https://github.com/JuliaLang/julia/tree/bf534986350a991e4a1b29126de0342ffd76205e/base/mathconstants.jl#L119\" target=\"_blank\">mathconstants.jl:119</a></li> <li> ^(::<b>Irrational{:ℯ}</b>, A::<b>AbstractMatrix</b>) in LinearAlgebra at <a href=\"file:///Users/julia/buildbot/worker/package_macos64/build/usr/share/julia/stdlib/v1.7/LinearAlgebra/src/dense.jl\" target=\"_blank\">/Applications/Julia-1.7.app/Contents/Resources/julia/share/julia/stdlib/v1.7/LinearAlgebra/src/dense.jl:609</a></li> <li> ^(b::<b>Number</b>, A::<b>AbstractMatrix</b>) in LinearAlgebra at <a href=\"file:///Users/julia/buildbot/worker/package_macos64/build/usr/share/julia/stdlib/v1.7/LinearAlgebra/src/dense.jl\" target=\"_blank\">/Applications/Julia-1.7.app/Contents/Resources/julia/share/julia/stdlib/v1.7/LinearAlgebra/src/dense.jl:607</a></li> <li> ^(r::<b>Regex</b>, i::<b>Integer</b>) in Base at <a href=\"https://github.com/JuliaLang/julia/tree/bf534986350a991e4a1b29126de0342ffd76205e/base/regex.jl#L861\" target=\"_blank\">regex.jl:861</a></li> <li> ^(x::<b>BigFloat</b>, y::<b>Union{UInt16, UInt32, UInt64, UInt8}</b>) in Base.MPFR at <a href=\"https://github.com/JuliaLang/julia/tree/bf534986350a991e4a1b29126de0342ffd76205e/base/mpfr.jl#L596\" target=\"_blank\">mpfr.jl:596</a></li> <li> ^(x::<b>BigFloat</b>, y::<b>Union{Int16, Int32, Int64, Int8}</b>) in Base.MPFR at <a href=\"https://github.com/JuliaLang/julia/tree/bf534986350a991e4a1b29126de0342ffd76205e/base/mpfr.jl#L602\" target=\"_blank\">mpfr.jl:602</a></li> <li> ^(x::<b>BigFloat</b>, y::<b>Unsigned</b>) in Base.MPFR at <a href=\"https://github.com/JuliaLang/julia/tree/bf534986350a991e4a1b29126de0342ffd76205e/base/mpfr.jl#L615\" target=\"_blank\">mpfr.jl:615</a></li> <li> ^(x::<b>BigFloat</b>, y::<b>BigFloat</b>) in Base.MPFR at <a href=\"https://github.com/JuliaLang/julia/tree/bf534986350a991e4a1b29126de0342ffd76205e/base/mpfr.jl#L590\" target=\"_blank\">mpfr.jl:590</a></li> <li> ^(x::<b>BigFloat</b>, y::<b>BigInt</b>) in Base.MPFR at <a href=\"https://github.com/JuliaLang/julia/tree/bf534986350a991e4a1b29126de0342ffd76205e/base/mpfr.jl#L608\" target=\"_blank\">mpfr.jl:608</a></li> <li> ^(x::<b>BigFloat</b>, y::<b>Integer</b>) in Base.MPFR at <a href=\"https://github.com/JuliaLang/julia/tree/bf534986350a991e4a1b29126de0342ffd76205e/base/mpfr.jl#L614\" target=\"_blank\">mpfr.jl:614</a></li> <li> ^(x::<b>Float64</b>, y::<b>Integer</b>) in Base.Math at <a href=\"https://github.com/JuliaLang/julia/tree/bf534986350a991e4a1b29126de0342ffd76205e/base/math.jl#L922\" target=\"_blank\">math.jl:922</a></li> <li> ^(x::<b>Float64</b>, y::<b>Float64</b>) in Base.Math at <a href=\"https://github.com/JuliaLang/julia/tree/bf534986350a991e4a1b29126de0342ffd76205e/base/math.jl#L906\" target=\"_blank\">math.jl:906</a></li> <li> ^(a::<b>Num</b>, b::<b>SymbolicUtils.Pow</b>) in Symbolics at <a href=\"file:///Users/reula/.julia/packages/SymbolicUtils/v2ZkM/src/methods.jl\" target=\"_blank\">/Users/reula/.julia/packages/SymbolicUtils/v2ZkM/src/methods.jl:60</a></li> <li> ^(a::<b>Num</b>, b::<b>SymbolicUtils.Add</b>) in Symbolics at <a href=\"file:///Users/reula/.julia/packages/SymbolicUtils/v2ZkM/src/methods.jl\" target=\"_blank\">/Users/reula/.julia/packages/SymbolicUtils/v2ZkM/src/methods.jl:60</a></li> <li> ^(a::<b>Num</b>, b::<b>SymbolicUtils.Mul</b>) in Symbolics at <a href=\"file:///Users/reula/.julia/packages/SymbolicUtils/v2ZkM/src/methods.jl\" target=\"_blank\">/Users/reula/.julia/packages/SymbolicUtils/v2ZkM/src/methods.jl:60</a></li> <li> ^(a::<b>Num</b>, b::<b>Symbolics.ComplexTerm</b>) in Symbolics at <a href=\"file:///Users/reula/.julia/packages/SymbolicUtils/v2ZkM/src/methods.jl\" target=\"_blank\">/Users/reula/.julia/packages/SymbolicUtils/v2ZkM/src/methods.jl:61</a></li> <li> ^(a::<b>Real</b>, b::<b>Symbolics.ComplexTerm</b>) in Symbolics at <a href=\"file:///Users/reula/.julia/packages/SymbolicUtils/v2ZkM/src/methods.jl\" target=\"_blank\">/Users/reula/.julia/packages/SymbolicUtils/v2ZkM/src/methods.jl:69</a></li> <li> ^(a::<b>Number</b>, b::<b>Symbolics.ComplexTerm</b>) in Symbolics at <a href=\"file:///Users/reula/.julia/packages/SymbolicUtils/v2ZkM/src/methods.jl\" target=\"_blank\">/Users/reula/.julia/packages/SymbolicUtils/v2ZkM/src/methods.jl:71</a></li> <li> ^(a::<b>Num</b>, b::<b>SymbolicUtils.Sym{<:LiteralReal}</b>) in Symbolics at <a href=\"file:///Users/reula/.julia/packages/SymbolicUtils/v2ZkM/src/methods.jl\" target=\"_blank\">/Users/reula/.julia/packages/SymbolicUtils/v2ZkM/src/methods.jl:60</a></li> <li> ^(a::<b>Real</b>, b::<b>SymbolicUtils.Sym{<:LiteralReal}</b>) in SymbolicUtils at <a href=\"file:///Users/reula/.julia/packages/SymbolicUtils/v2ZkM/src/methods.jl\" target=\"_blank\">/Users/reula/.julia/packages/SymbolicUtils/v2ZkM/src/methods.jl:69</a></li> <li> ^(a::<b>Number</b>, b::<b>SymbolicUtils.Sym{<:LiteralReal}</b>) in SymbolicUtils at <a href=\"file:///Users/reula/.julia/packages/SymbolicUtils/v2ZkM/src/methods.jl\" target=\"_blank\">/Users/reula/.julia/packages/SymbolicUtils/v2ZkM/src/methods.jl:71</a></li> <li> ^(a::<b>Num</b>, b::<b>SymbolicUtils.Sym</b>) in Symbolics at <a href=\"file:///Users/reula/.julia/packages/SymbolicUtils/v2ZkM/src/methods.jl\" target=\"_blank\">/Users/reula/.julia/packages/SymbolicUtils/v2ZkM/src/methods.jl:60</a></li> <li> ^(a::<b>Num</b>, b::<b>SymbolicUtils.Term{<:LiteralReal}</b>) in Symbolics at <a href=\"file:///Users/reula/.julia/packages/SymbolicUtils/v2ZkM/src/methods.jl\" target=\"_blank\">/Users/reula/.julia/packages/SymbolicUtils/v2ZkM/src/methods.jl:60</a></li> <li> ^(a::<b>Real</b>, b::<b>SymbolicUtils.Term{<:LiteralReal}</b>) in SymbolicUtils at <a href=\"file:///Users/reula/.julia/packages/SymbolicUtils/v2ZkM/src/methods.jl\" target=\"_blank\">/Users/reula/.julia/packages/SymbolicUtils/v2ZkM/src/methods.jl:69</a></li> <li> ^(a::<b>Number</b>, b::<b>SymbolicUtils.Term{<:LiteralReal}</b>) in SymbolicUtils at <a href=\"file:///Users/reula/.julia/packages/SymbolicUtils/v2ZkM/src/methods.jl\" target=\"_blank\">/Users/reula/.julia/packages/SymbolicUtils/v2ZkM/src/methods.jl:71</a></li> <li> ^(a::<b>Num</b>, b::<b>SymbolicUtils.Term</b>) in Symbolics at <a href=\"file:///Users/reula/.julia/packages/SymbolicUtils/v2ZkM/src/methods.jl\" target=\"_blank\">/Users/reula/.julia/packages/SymbolicUtils/v2ZkM/src/methods.jl:60</a></li> <li> ^(a::<b>Num</b>, b::<b>SymbolicUtils.Div</b>) in Symbolics at <a href=\"file:///Users/reula/.julia/packages/SymbolicUtils/v2ZkM/src/methods.jl\" target=\"_blank\">/Users/reula/.julia/packages/SymbolicUtils/v2ZkM/src/methods.jl:60</a></li> <li> ^(a::<b>Number</b>, b::<b>Union{Metatheory.EGraphs.EClass, SymbolicUtils.Symbolic{<:Number}}</b>) in SymbolicUtils at <a href=\"file:///Users/reula/.julia/packages/SymbolicUtils/v2ZkM/src/types.jl\" target=\"_blank\">/Users/reula/.julia/packages/SymbolicUtils/v2ZkM/src/types.jl:1044</a></li> <li> ^(n::<b>Num</b>, i::<b>Integer</b>) in Symbolics at <a href=\"file:///Users/reula/.julia/packages/Symbolics/HDE84/src/num.jl\" target=\"_blank\">/Users/reula/.julia/packages/Symbolics/HDE84/src/num.jl:116</a></li> <li> ^(n::<b>Num</b>, i::<b>Rational</b>) in Symbolics at <a href=\"file:///Users/reula/.julia/packages/Symbolics/HDE84/src/num.jl\" target=\"_blank\">/Users/reula/.julia/packages/Symbolics/HDE84/src/num.jl:116</a></li> <li> ^(x::<b>Number</b>, y::<b>Rational</b>) in Base at <a href=\"https://github.com/JuliaLang/julia/tree/bf534986350a991e4a1b29126de0342ffd76205e/base/rational.jl#L479\" target=\"_blank\">rational.jl:479</a></li> <li> ^(a::<b>Num</b>, b::<b>Num</b>) in Symbolics at <a href=\"file:///Users/reula/.julia/packages/SymbolicUtils/v2ZkM/src/methods.jl\" target=\"_blank\">/Users/reula/.julia/packages/SymbolicUtils/v2ZkM/src/methods.jl:67</a></li> <li> ^(a::<b>Real</b>, b::<b>Num</b>) in Symbolics at <a href=\"file:///Users/reula/.julia/packages/SymbolicUtils/v2ZkM/src/methods.jl\" target=\"_blank\">/Users/reula/.julia/packages/SymbolicUtils/v2ZkM/src/methods.jl:69</a></li> <li> ^(a::<b>Number</b>, b::<b>Num</b>) in Symbolics at <a href=\"file:///Users/reula/.julia/packages/SymbolicUtils/v2ZkM/src/methods.jl\" target=\"_blank\">/Users/reula/.julia/packages/SymbolicUtils/v2ZkM/src/methods.jl:71</a></li> <li> ^(a::<b>Num</b>, b::<b>Real</b>) in Symbolics at <a href=\"file:///Users/reula/.julia/packages/SymbolicUtils/v2ZkM/src/methods.jl\" target=\"_blank\">/Users/reula/.julia/packages/SymbolicUtils/v2ZkM/src/methods.jl:68</a></li> <li> ^(a::<b>Num</b>, b::<b>Number</b>) in Symbolics at <a href=\"file:///Users/reula/.julia/packages/SymbolicUtils/v2ZkM/src/methods.jl\" target=\"_blank\">/Users/reula/.julia/packages/SymbolicUtils/v2ZkM/src/methods.jl:70</a></li> <li> ^(x::<b>Float32</b>, y::<b>Integer</b>) in Base.Math at <a href=\"https://github.com/JuliaLang/julia/tree/bf534986350a991e4a1b29126de0342ffd76205e/base/math.jl#L930\" target=\"_blank\">math.jl:930</a></li> <li> ^(x::<b>Number</b>, p::<b>Integer</b>) in Base at <a href=\"https://github.com/JuliaLang/julia/tree/bf534986350a991e4a1b29126de0342ffd76205e/base/intfuncs.jl#L291\" target=\"_blank\">intfuncs.jl:291</a></li> <li> ^(x::<b>Float32</b>, y::<b>Float32</b>) in Base.Math at <a href=\"https://github.com/JuliaLang/julia/tree/bf534986350a991e4a1b29126de0342ffd76205e/base/math.jl#L913\" target=\"_blank\">math.jl:913</a></li> <li> ^(x::<b>T</b>, y::<b>T</b>)<i> where T<:Number</i> in Base at <a href=\"https://github.com/JuliaLang/julia/tree/bf534986350a991e4a1b29126de0342ffd76205e/base/promotion.jl#L458\" target=\"_blank\">promotion.jl:458</a></li> <li> ^(x::<b>Number</b>, y::<b>Number</b>) in Base at <a href=\"https://github.com/JuliaLang/julia/tree/bf534986350a991e4a1b29126de0342ffd76205e/base/promotion.jl#L413\" target=\"_blank\">promotion.jl:413</a></li> <li> ^(D::<b>Difference</b>, n::<b>Integer</b>) in Symbolics at <a href=\"file:///Users/reula/.julia/packages/Symbolics/HDE84/src/difference.jl\" target=\"_blank\">/Users/reula/.julia/packages/Symbolics/HDE84/src/difference.jl:56</a></li> <li> ^(comb::<b>Symbolics.TermCombination</b>, ::<b>Number</b>) in Symbolics at <a href=\"file:///Users/reula/.julia/packages/Symbolics/HDE84/src/linearity.jl\" target=\"_blank\">/Users/reula/.julia/packages/Symbolics/HDE84/src/linearity.jl:83</a></li> <li> ^(x::<b>DynamicPolynomials.Monomial{true}</b>, i::<b>Int64</b>) in DynamicPolynomials at <a href=\"file:///Users/reula/.julia/packages/DynamicPolynomials/Y6gnp/src/operators.jl\" target=\"_blank\">/Users/reula/.julia/packages/DynamicPolynomials/Y6gnp/src/operators.jl:7</a></li> <li> ^(x::<b>MultivariatePolynomials.AbstractPolynomialLike</b>, p::<b>Integer</b>) in MultivariatePolynomials at <a href=\"file:///Users/reula/.julia/packages/MultivariatePolynomials/JG6mC/src/operators.jl\" target=\"_blank\">/Users/reula/.julia/packages/MultivariatePolynomials/JG6mC/src/operators.jl:352</a></li> </ul>"
      ],
      "text/plain": [
       "# 174 methods for generic function \"^\":\n",
       "[1] ^(s::Union{AbstractChar, AbstractString}, r::Integer) in Base at strings/basic.jl:721\n",
       "[2] ^(a::SymbolicUtils.Add, b::SymbolicUtils.Term{<:LiteralReal}) in SymbolicUtils at /Users/reula/.julia/packages/SymbolicUtils/v2ZkM/src/methods.jl:61\n",
       "[3] ^(a::SymbolicUtils.Add, b::SymbolicUtils.Sym{<:LiteralReal}) in SymbolicUtils at /Users/reula/.julia/packages/SymbolicUtils/v2ZkM/src/methods.jl:61\n",
       "[4] ^(a::SymbolicUtils.Add, b::Symbolics.ComplexTerm) in Symbolics at /Users/reula/.julia/packages/SymbolicUtils/v2ZkM/src/methods.jl:61\n",
       "[5] ^(a::SymbolicUtils.Add, b::Num) in Symbolics at /Users/reula/.julia/packages/SymbolicUtils/v2ZkM/src/methods.jl:61\n",
       "[6] ^(x::T, y::Rational) where T<:AbstractFloat in Base at rational.jl:480\n",
       "[7] ^(a::Symbolics.ComplexTerm, b::Symbolics.ComplexTerm) in Symbolics at /Users/reula/.julia/packages/SymbolicUtils/v2ZkM/src/methods.jl:67\n",
       "[8] ^(a::Symbolics.ComplexTerm, b::SymbolicUtils.Mul) in Symbolics at /Users/reula/.julia/packages/SymbolicUtils/v2ZkM/src/methods.jl:60\n",
       "[9] ^(a::Symbolics.ComplexTerm, b::SymbolicUtils.Pow) in Symbolics at /Users/reula/.julia/packages/SymbolicUtils/v2ZkM/src/methods.jl:60\n",
       "[10] ^(a::Symbolics.ComplexTerm, b::SymbolicUtils.Add) in Symbolics at /Users/reula/.julia/packages/SymbolicUtils/v2ZkM/src/methods.jl:60\n",
       "[11] ^(a::Symbolics.ComplexTerm, b::SymbolicUtils.Sym{<:LiteralReal}) in Symbolics at /Users/reula/.julia/packages/SymbolicUtils/v2ZkM/src/methods.jl:60\n",
       "[12] ^(a::Symbolics.ComplexTerm, b::SymbolicUtils.Term{<:LiteralReal}) in Symbolics at /Users/reula/.julia/packages/SymbolicUtils/v2ZkM/src/methods.jl:60\n",
       "[13] ^(a::Symbolics.ComplexTerm, b::SymbolicUtils.Term) in Symbolics at /Users/reula/.julia/packages/SymbolicUtils/v2ZkM/src/methods.jl:60\n",
       "[14] ^(a::Symbolics.ComplexTerm, b::SymbolicUtils.Sym) in Symbolics at /Users/reula/.julia/packages/SymbolicUtils/v2ZkM/src/methods.jl:60\n",
       "[15] ^(a::Symbolics.ComplexTerm, b::Num) in Symbolics at /Users/reula/.julia/packages/SymbolicUtils/v2ZkM/src/methods.jl:60\n",
       "[16] ^(a::Symbolics.ComplexTerm, b::Real) in Symbolics at /Users/reula/.julia/packages/SymbolicUtils/v2ZkM/src/methods.jl:68\n",
       "[17] ^(a::Symbolics.ComplexTerm, b::Number) in Symbolics at /Users/reula/.julia/packages/SymbolicUtils/v2ZkM/src/methods.jl:70\n",
       "[18] ^(a::Symbolics.ComplexTerm, b::SymbolicUtils.Div) in Symbolics at /Users/reula/.julia/packages/SymbolicUtils/v2ZkM/src/methods.jl:60\n",
       "[19] ^(D::LinearAlgebra.Diagonal, a::Integer) in LinearAlgebra at /Applications/Julia-1.7.app/Contents/Resources/julia/share/julia/stdlib/v1.7/LinearAlgebra/src/diagonal.jl:196\n",
       "[20] ^(D::LinearAlgebra.Diagonal, a::Real) in LinearAlgebra at /Applications/Julia-1.7.app/Contents/Resources/julia/share/julia/stdlib/v1.7/LinearAlgebra/src/diagonal.jl:195\n",
       "[21] ^(D::LinearAlgebra.Diagonal, a::Number) in LinearAlgebra at /Applications/Julia-1.7.app/Contents/Resources/julia/share/julia/stdlib/v1.7/LinearAlgebra/src/diagonal.jl:194\n",
       "[22] ^(a::SymbolicUtils.Pow, b::SymbolicUtils.Term{<:LiteralReal}) in SymbolicUtils at /Users/reula/.julia/packages/SymbolicUtils/v2ZkM/src/methods.jl:61\n",
       "[23] ^(a::SymbolicUtils.Pow, b::SymbolicUtils.Sym{<:LiteralReal}) in SymbolicUtils at /Users/reula/.julia/packages/SymbolicUtils/v2ZkM/src/methods.jl:61\n",
       "[24] ^(a::SymbolicUtils.Pow, b::Symbolics.ComplexTerm) in Symbolics at /Users/reula/.julia/packages/SymbolicUtils/v2ZkM/src/methods.jl:61\n",
       "[25] ^(a::SymbolicUtils.Pow, b::Num) in Symbolics at /Users/reula/.julia/packages/SymbolicUtils/v2ZkM/src/methods.jl:61\n",
       "[26] ^(z::Complex{T}, p::Complex{T}) where T<:Real in Base at complex.jl:829\n",
       "[27] ^(z::Complex{<:AbstractFloat}, n::Bool) in Base at complex.jl:836\n",
       "[28] ^(z::Complex{<:Integer}, n::Bool) in Base at complex.jl:837\n",
       "[29] ^(z::Complex{<:AbstractFloat}, n::Integer) in Base at complex.jl:839\n",
       "[30] ^(z::Complex{<:Integer}, n::Integer) in Base at complex.jl:841\n",
       "[31] ^(z::Complex{T}, p::Rational) where T<:Real in Base at rational.jl:481\n",
       "[32] ^(z::Complex{<:Rational}, n::Bool) in Base at rational.jl:483\n",
       "[33] ^(z::Complex, n::Bool) in Base at complex.jl:833\n",
       "[34] ^(z::Complex{<:Rational}, n::Integer) in Base at rational.jl:484\n",
       "[35] ^(x::Rational, n::Integer) in Base at rational.jl:475\n",
       "[36] ^(a::SymbolicUtils.Mul, b::SymbolicUtils.Term{<:LiteralReal}) in SymbolicUtils at /Users/reula/.julia/packages/SymbolicUtils/v2ZkM/src/methods.jl:61\n",
       "[37] ^(a::SymbolicUtils.Mul, b::SymbolicUtils.Sym{<:LiteralReal}) in SymbolicUtils at /Users/reula/.julia/packages/SymbolicUtils/v2ZkM/src/methods.jl:61\n",
       "[38] ^(a::SymbolicUtils.Mul, b::Symbolics.ComplexTerm) in Symbolics at /Users/reula/.julia/packages/SymbolicUtils/v2ZkM/src/methods.jl:61\n",
       "[39] ^(a::SymbolicUtils.Mul, b::Num) in Symbolics at /Users/reula/.julia/packages/SymbolicUtils/v2ZkM/src/methods.jl:61\n",
       "[40] ^(a::SymbolicUtils.Mul, b::Number) in SymbolicUtils at /Users/reula/.julia/packages/SymbolicUtils/v2ZkM/src/types.jl:1046\n",
       "[41] ^(::Number, ::Missing) in Base at missing.jl:124\n",
       "[42] ^(x::DynamicPolynomials.PolyVar{C}, i::Int64) where C in DynamicPolynomials at /Users/reula/.julia/packages/DynamicPolynomials/Y6gnp/src/operators.jl:6\n",
       "[43] ^(d::IntervalSets.Domain, n::Int64) in DomainSets at /Users/reula/.julia/packages/DomainSets/F4hmL/src/generic/productdomain.jl:94\n",
       "[44] ^(x::Static.StaticBool, y::Static.True) in Static at /Users/reula/.julia/packages/Static/pkxBE/src/bool.jl:98\n",
       "[45] ^(x::Static.StaticBool, y::Static.False) in Static at /Users/reula/.julia/packages/Static/pkxBE/src/bool.jl:97\n",
       "[46] ^(A::LinearAlgebra.Hermitian, p::Integer) in LinearAlgebra at /Applications/Julia-1.7.app/Contents/Resources/julia/share/julia/stdlib/v1.7/LinearAlgebra/src/symmetric.jl:726\n",
       "[47] ^(A::LinearAlgebra.Hermitian{T, S} where S<:(AbstractMatrix{<:T}), p::Real) where T in LinearAlgebra at /Applications/Julia-1.7.app/Contents/Resources/julia/share/julia/stdlib/v1.7/LinearAlgebra/src/symmetric.jl:737\n",
       "[48] ^(A::LinearAlgebra.Symmetric{var\"#s859\", S} where {var\"#s859\"<:Real, S<:(AbstractMatrix{<:var\"#s859\"})}, p::Integer) in LinearAlgebra at /Applications/Julia-1.7.app/Contents/Resources/julia/share/julia/stdlib/v1.7/LinearAlgebra/src/symmetric.jl:704\n",
       "[49] ^(A::LinearAlgebra.Symmetric{var\"#s859\", S} where {var\"#s859\"<:Complex, S<:(AbstractMatrix{<:var\"#s859\"})}, p::Integer) in LinearAlgebra at /Applications/Julia-1.7.app/Contents/Resources/julia/share/julia/stdlib/v1.7/LinearAlgebra/src/symmetric.jl:705\n",
       "[50] ^(A::AbstractMatrix{T}, p::Integer) where T<:Integer in LinearAlgebra at /Applications/Julia-1.7.app/Contents/Resources/julia/share/julia/stdlib/v1.7/LinearAlgebra/src/dense.jl:446\n",
       "[51] ^(A::AbstractMatrix, p::Integer) in LinearAlgebra at /Applications/Julia-1.7.app/Contents/Resources/julia/share/julia/stdlib/v1.7/LinearAlgebra/src/dense.jl:445\n",
       "[52] ^(A::LinearAlgebra.Symmetric{var\"#s859\", S} where {var\"#s859\"<:Real, S<:(AbstractMatrix{<:var\"#s859\"})}, p::Real) in LinearAlgebra at /Applications/Julia-1.7.app/Contents/Resources/julia/share/julia/stdlib/v1.7/LinearAlgebra/src/symmetric.jl:713\n",
       "[53] ^(A::LinearAlgebra.Symmetric{var\"#s859\", S} where {var\"#s859\"<:Complex, S<:(AbstractMatrix{<:var\"#s859\"})}, p::Real) in LinearAlgebra at /Applications/Julia-1.7.app/Contents/Resources/julia/share/julia/stdlib/v1.7/LinearAlgebra/src/symmetric.jl:722\n",
       "[54] ^(A::AbstractMatrix{T}, p::Real) where T in LinearAlgebra at /Applications/Julia-1.7.app/Contents/Resources/julia/share/julia/stdlib/v1.7/LinearAlgebra/src/dense.jl:488\n",
       "[55] ^(A::AbstractMatrix, p::Number) in LinearAlgebra at /Applications/Julia-1.7.app/Contents/Resources/julia/share/julia/stdlib/v1.7/LinearAlgebra/src/dense.jl:529\n",
       "[56] ^(a::SymbolicUtils.Sym{<:LiteralReal}, b::SymbolicUtils.Pow) in SymbolicUtils at /Users/reula/.julia/packages/SymbolicUtils/v2ZkM/src/methods.jl:60\n",
       "[57] ^(a::SymbolicUtils.Sym{<:LiteralReal}, b::SymbolicUtils.Add) in SymbolicUtils at /Users/reula/.julia/packages/SymbolicUtils/v2ZkM/src/methods.jl:60\n",
       "[58] ^(a::SymbolicUtils.Sym{<:LiteralReal}, b::SymbolicUtils.Mul) in SymbolicUtils at /Users/reula/.julia/packages/SymbolicUtils/v2ZkM/src/methods.jl:60\n",
       "[59] ^(a::SymbolicUtils.Sym{<:LiteralReal}, b::Symbolics.ComplexTerm) in Symbolics at /Users/reula/.julia/packages/SymbolicUtils/v2ZkM/src/methods.jl:61\n",
       "[60] ^(a::SymbolicUtils.Sym, b::Symbolics.ComplexTerm) in Symbolics at /Users/reula/.julia/packages/SymbolicUtils/v2ZkM/src/methods.jl:61\n",
       "[61] ^(a::SymbolicUtils.Sym{<:LiteralReal}, b::SymbolicUtils.Sym{<:LiteralReal}) in SymbolicUtils at /Users/reula/.julia/packages/SymbolicUtils/v2ZkM/src/methods.jl:67\n",
       "[62] ^(a::SymbolicUtils.Sym{<:LiteralReal}, b::SymbolicUtils.Sym) in SymbolicUtils at /Users/reula/.julia/packages/SymbolicUtils/v2ZkM/src/methods.jl:60\n",
       "[63] ^(a::SymbolicUtils.Sym, b::SymbolicUtils.Sym{<:LiteralReal}) in SymbolicUtils at /Users/reula/.julia/packages/SymbolicUtils/v2ZkM/src/methods.jl:61\n",
       "[64] ^(a::SymbolicUtils.Sym{<:LiteralReal}, b::SymbolicUtils.Term{<:LiteralReal}) in SymbolicUtils at /Users/reula/.julia/packages/SymbolicUtils/v2ZkM/src/methods.jl:61\n",
       "[65] ^(a::SymbolicUtils.Sym{<:LiteralReal}, b::SymbolicUtils.Term) in SymbolicUtils at /Users/reula/.julia/packages/SymbolicUtils/v2ZkM/src/methods.jl:60\n",
       "[66] ^(a::SymbolicUtils.Sym, b::SymbolicUtils.Term{<:LiteralReal}) in SymbolicUtils at /Users/reula/.julia/packages/SymbolicUtils/v2ZkM/src/methods.jl:61\n",
       "[67] ^(a::SymbolicUtils.Sym{<:LiteralReal}, b::SymbolicUtils.Div) in SymbolicUtils at /Users/reula/.julia/packages/SymbolicUtils/v2ZkM/src/methods.jl:60\n",
       "[68] ^(a::SymbolicUtils.Sym{<:LiteralReal}, b::Num) in Symbolics at /Users/reula/.julia/packages/SymbolicUtils/v2ZkM/src/methods.jl:61\n",
       "[69] ^(a::SymbolicUtils.Sym{<:LiteralReal}, b::Real) in SymbolicUtils at /Users/reula/.julia/packages/SymbolicUtils/v2ZkM/src/methods.jl:68\n",
       "[70] ^(a::SymbolicUtils.Sym{<:LiteralReal}, b::Number) in SymbolicUtils at /Users/reula/.julia/packages/SymbolicUtils/v2ZkM/src/methods.jl:70\n",
       "[71] ^(a::SymbolicUtils.Sym, b::Num) in Symbolics at /Users/reula/.julia/packages/SymbolicUtils/v2ZkM/src/methods.jl:61\n",
       "[72] ^(a::SymbolicUtils.Term{<:LiteralReal}, b::SymbolicUtils.Pow) in SymbolicUtils at /Users/reula/.julia/packages/SymbolicUtils/v2ZkM/src/methods.jl:60\n",
       "[73] ^(a::SymbolicUtils.Term{<:LiteralReal}, b::SymbolicUtils.Add) in SymbolicUtils at /Users/reula/.julia/packages/SymbolicUtils/v2ZkM/src/methods.jl:60\n",
       "[74] ^(a::SymbolicUtils.Term{<:LiteralReal}, b::SymbolicUtils.Mul) in SymbolicUtils at /Users/reula/.julia/packages/SymbolicUtils/v2ZkM/src/methods.jl:60\n",
       "[75] ^(a::SymbolicUtils.Term{<:LiteralReal}, b::Symbolics.ComplexTerm) in Symbolics at /Users/reula/.julia/packages/SymbolicUtils/v2ZkM/src/methods.jl:61\n",
       "[76] ^(a::SymbolicUtils.Term, b::Symbolics.ComplexTerm) in Symbolics at /Users/reula/.julia/packages/SymbolicUtils/v2ZkM/src/methods.jl:61\n",
       "[77] ^(a::SymbolicUtils.Term{<:LiteralReal}, b::SymbolicUtils.Sym{<:LiteralReal}) in SymbolicUtils at /Users/reula/.julia/packages/SymbolicUtils/v2ZkM/src/methods.jl:60\n",
       "[78] ^(a::SymbolicUtils.Term, b::SymbolicUtils.Sym{<:LiteralReal}) in SymbolicUtils at /Users/reula/.julia/packages/SymbolicUtils/v2ZkM/src/methods.jl:61\n",
       "[79] ^(a::SymbolicUtils.Term{<:LiteralReal}, b::SymbolicUtils.Sym) in SymbolicUtils at /Users/reula/.julia/packages/SymbolicUtils/v2ZkM/src/methods.jl:60\n",
       "[80] ^(a::SymbolicUtils.Term{<:LiteralReal}, b::SymbolicUtils.Term{<:LiteralReal}) in SymbolicUtils at /Users/reula/.julia/packages/SymbolicUtils/v2ZkM/src/methods.jl:67\n",
       "[81] ^(a::SymbolicUtils.Term{<:LiteralReal}, b::SymbolicUtils.Term) in SymbolicUtils at /Users/reula/.julia/packages/SymbolicUtils/v2ZkM/src/methods.jl:60\n",
       "[82] ^(a::SymbolicUtils.Term, b::SymbolicUtils.Term{<:LiteralReal}) in SymbolicUtils at /Users/reula/.julia/packages/SymbolicUtils/v2ZkM/src/methods.jl:61\n",
       "[83] ^(a::SymbolicUtils.Term{<:LiteralReal}, b::SymbolicUtils.Div) in SymbolicUtils at /Users/reula/.julia/packages/SymbolicUtils/v2ZkM/src/methods.jl:60\n",
       "[84] ^(a::SymbolicUtils.Term{<:LiteralReal}, b::Num) in Symbolics at /Users/reula/.julia/packages/SymbolicUtils/v2ZkM/src/methods.jl:61\n",
       "[85] ^(a::SymbolicUtils.Term{<:LiteralReal}, b::Real) in SymbolicUtils at /Users/reula/.julia/packages/SymbolicUtils/v2ZkM/src/methods.jl:68\n",
       "[86] ^(a::SymbolicUtils.Term{<:LiteralReal}, b::Number) in SymbolicUtils at /Users/reula/.julia/packages/SymbolicUtils/v2ZkM/src/methods.jl:70\n",
       "[87] ^(a::SymbolicUtils.Term, b::Num) in Symbolics at /Users/reula/.julia/packages/SymbolicUtils/v2ZkM/src/methods.jl:61\n",
       "[88] ^(::Static.StaticFloat64{x}, y::Float64) where x in Static at /Users/reula/.julia/packages/Static/pkxBE/src/float.jl:108\n",
       "[89] ^(z::DualNumbers.Dual{T}, n::Rational) where T in DualNumbers at /Users/reula/.julia/packages/DualNumbers/Le5bO/src/dual.jl:276\n",
       "[90] ^(z::DualNumbers.Dual{T}, n::Integer) where T in DualNumbers at /Users/reula/.julia/packages/DualNumbers/Le5bO/src/dual.jl:276\n",
       "[91] ^(z::DualNumbers.Dual{T1}, w::DualNumbers.Dual{T2}) where {T1, T2} in DualNumbers at /Users/reula/.julia/packages/DualNumbers/Le5bO/src/dual.jl:248\n",
       "[92] ^(z::DualNumbers.Dual{T}, n::Number) where T in DualNumbers at /Users/reula/.julia/packages/DualNumbers/Le5bO/src/dual.jl:276\n",
       "[93] ^(a::SymbolicUtils.Div, b::SymbolicUtils.Term{<:LiteralReal}) in SymbolicUtils at /Users/reula/.julia/packages/SymbolicUtils/v2ZkM/src/methods.jl:61\n",
       "[94] ^(a::SymbolicUtils.Div, b::SymbolicUtils.Sym{<:LiteralReal}) in SymbolicUtils at /Users/reula/.julia/packages/SymbolicUtils/v2ZkM/src/methods.jl:61\n",
       "[95] ^(a::SymbolicUtils.Div, b::Symbolics.ComplexTerm) in Symbolics at /Users/reula/.julia/packages/SymbolicUtils/v2ZkM/src/methods.jl:61\n",
       "[96] ^(a::Union{Metatheory.EGraphs.EClass, SymbolicUtils.Symbolic{<:Number}}, b::Union{Metatheory.EGraphs.EClass, SymbolicUtils.Symbolic{<:Number}}) in SymbolicUtils at /Users/reula/.julia/packages/SymbolicUtils/v2ZkM/src/types.jl:1042\n",
       "[97] ^(a::SymbolicUtils.Div, b::Num) in Symbolics at /Users/reula/.julia/packages/SymbolicUtils/v2ZkM/src/methods.jl:61\n",
       "[98] ^(a::Union{Metatheory.EGraphs.EClass, SymbolicUtils.Symbolic{<:Number}}, b) in SymbolicUtils at /Users/reula/.julia/packages/SymbolicUtils/v2ZkM/src/types.jl:1040\n",
       "[99] ^(J::LinearAlgebra.UniformScaling, x::Number) in LinearAlgebra at /Applications/Julia-1.7.app/Contents/Resources/julia/share/julia/stdlib/v1.7/LinearAlgebra/src/uniformscaling.jl:318\n",
       "[100] ^(::Missing, ::Integer) in Base at missing.jl:163\n",
       "[101] ^(::Missing, ::Number) in Base at missing.jl:123\n",
       "[102] ^(::Missing, ::Missing) in Base at missing.jl:122\n",
       "[103] ^(x::Float16, y::Integer) in Base.Math at math.jl:938\n",
       "[104] ^(x::Float16, y::Float16) in Base.Math at math.jl:920\n",
       "[105] ^(z::Complex{Num}, n::Integer) in Symbolics at /Users/reula/.julia/packages/Symbolics/HDE84/src/num.jl:67\n",
       "[106] ^(z::Complex, n::Integer) in Base at complex.jl:834\n",
       "[107] ^(z::Complex{T}, p::T) where T<:Real in Base at complex.jl:830\n",
       "[108] ^(z::Complex{T}, p::S) where {T<:Real, S<:Real} in Base at complex.jl:843\n",
       "[109] ^(x::BigInt, y::UInt64) in Base.GMP at gmp.jl:580\n",
       "[110] ^(x::BigInt, y::BigInt) in Base.GMP at gmp.jl:604\n",
       "[111] ^(x::BigInt, y::Bool) in Base.GMP at gmp.jl:605\n",
       "[112] ^(x::BigInt, y::Static.True) in Static at /Users/reula/.julia/packages/Static/pkxBE/src/bool.jl:102\n",
       "[113] ^(x::Integer, y::Static.True) in Static at /Users/reula/.julia/packages/Static/pkxBE/src/bool.jl:100\n",
       "[114] ^(x::BigInt, y::Static.False) in Static at /Users/reula/.julia/packages/Static/pkxBE/src/bool.jl:101\n",
       "[115] ^(x::Integer, y::Static.False) in Static at /Users/reula/.julia/packages/Static/pkxBE/src/bool.jl:99\n",
       "[116] ^(x::BigInt, y::Integer) in Base.GMP at gmp.jl:606\n",
       "[117] ^(x::Bool, y::Bool) in Base at bool.jl:165\n",
       "[118] ^(x::Integer, y::Bool) in Base at bool.jl:166\n",
       "[119] ^(x::Bool, y::BigInt) in Base.GMP at gmp.jl:608\n",
       "[120] ^(x::Integer, y::BigInt) in Base.GMP at gmp.jl:607\n",
       "[121] ^(x::T, p::T) where T<:Integer in Base at intfuncs.jl:290\n",
       "[122] ^(D::Differential, n::Integer) in Symbolics at /Users/reula/.julia/packages/Symbolics/HDE84/src/diff.jl:46\n",
       "[123] ^(::Irrational{:ℯ}, x::AbstractIrrational) in Base.MathConstants at mathconstants.jl:119\n",
       "[124] ^(x::AbstractIrrational, y::AbstractIrrational) in Base at irrationals.jl:158\n",
       "[125] ^(::Irrational{:ℯ}, x::Rational) in Base.MathConstants at mathconstants.jl:119\n",
       "[126] ^(::Irrational{:ℯ}, x::Integer) in Base.MathConstants at mathconstants.jl:119\n",
       "[127] ^(::Irrational{:ℯ}, x::Complex) in Base.MathConstants at mathconstants.jl:119\n",
       "[128] ^(z::T, p::Complex{T}) where T<:Real in Base at complex.jl:831\n",
       "[129] ^(z::T, p::Complex{S}) where {T<:Real, S<:Real} in Base at complex.jl:847\n",
       "[130] ^(::Irrational{:ℯ}, x::Number) in Base.MathConstants at mathconstants.jl:119\n",
       "[131] ^(::Irrational{:ℯ}, A::AbstractMatrix) in LinearAlgebra at /Applications/Julia-1.7.app/Contents/Resources/julia/share/julia/stdlib/v1.7/LinearAlgebra/src/dense.jl:609\n",
       "[132] ^(b::Number, A::AbstractMatrix) in LinearAlgebra at /Applications/Julia-1.7.app/Contents/Resources/julia/share/julia/stdlib/v1.7/LinearAlgebra/src/dense.jl:607\n",
       "[133] ^(r::Regex, i::Integer) in Base at regex.jl:861\n",
       "[134] ^(x::BigFloat, y::Union{UInt16, UInt32, UInt64, UInt8}) in Base.MPFR at mpfr.jl:596\n",
       "[135] ^(x::BigFloat, y::Union{Int16, Int32, Int64, Int8}) in Base.MPFR at mpfr.jl:602\n",
       "[136] ^(x::BigFloat, y::Unsigned) in Base.MPFR at mpfr.jl:615\n",
       "[137] ^(x::BigFloat, y::BigFloat) in Base.MPFR at mpfr.jl:590\n",
       "[138] ^(x::BigFloat, y::BigInt) in Base.MPFR at mpfr.jl:608\n",
       "[139] ^(x::BigFloat, y::Integer) in Base.MPFR at mpfr.jl:614\n",
       "[140] ^(x::Float64, y::Integer) in Base.Math at math.jl:922\n",
       "[141] ^(x::Float64, y::Float64) in Base.Math at math.jl:906\n",
       "[142] ^(a::Num, b::SymbolicUtils.Pow) in Symbolics at /Users/reula/.julia/packages/SymbolicUtils/v2ZkM/src/methods.jl:60\n",
       "[143] ^(a::Num, b::SymbolicUtils.Add) in Symbolics at /Users/reula/.julia/packages/SymbolicUtils/v2ZkM/src/methods.jl:60\n",
       "[144] ^(a::Num, b::SymbolicUtils.Mul) in Symbolics at /Users/reula/.julia/packages/SymbolicUtils/v2ZkM/src/methods.jl:60\n",
       "[145] ^(a::Num, b::Symbolics.ComplexTerm) in Symbolics at /Users/reula/.julia/packages/SymbolicUtils/v2ZkM/src/methods.jl:61\n",
       "[146] ^(a::Real, b::Symbolics.ComplexTerm) in Symbolics at /Users/reula/.julia/packages/SymbolicUtils/v2ZkM/src/methods.jl:69\n",
       "[147] ^(a::Number, b::Symbolics.ComplexTerm) in Symbolics at /Users/reula/.julia/packages/SymbolicUtils/v2ZkM/src/methods.jl:71\n",
       "[148] ^(a::Num, b::SymbolicUtils.Sym{<:LiteralReal}) in Symbolics at /Users/reula/.julia/packages/SymbolicUtils/v2ZkM/src/methods.jl:60\n",
       "[149] ^(a::Real, b::SymbolicUtils.Sym{<:LiteralReal}) in SymbolicUtils at /Users/reula/.julia/packages/SymbolicUtils/v2ZkM/src/methods.jl:69\n",
       "[150] ^(a::Number, b::SymbolicUtils.Sym{<:LiteralReal}) in SymbolicUtils at /Users/reula/.julia/packages/SymbolicUtils/v2ZkM/src/methods.jl:71\n",
       "[151] ^(a::Num, b::SymbolicUtils.Sym) in Symbolics at /Users/reula/.julia/packages/SymbolicUtils/v2ZkM/src/methods.jl:60\n",
       "[152] ^(a::Num, b::SymbolicUtils.Term{<:LiteralReal}) in Symbolics at /Users/reula/.julia/packages/SymbolicUtils/v2ZkM/src/methods.jl:60\n",
       "[153] ^(a::Real, b::SymbolicUtils.Term{<:LiteralReal}) in SymbolicUtils at /Users/reula/.julia/packages/SymbolicUtils/v2ZkM/src/methods.jl:69\n",
       "[154] ^(a::Number, b::SymbolicUtils.Term{<:LiteralReal}) in SymbolicUtils at /Users/reula/.julia/packages/SymbolicUtils/v2ZkM/src/methods.jl:71\n",
       "[155] ^(a::Num, b::SymbolicUtils.Term) in Symbolics at /Users/reula/.julia/packages/SymbolicUtils/v2ZkM/src/methods.jl:60\n",
       "[156] ^(a::Num, b::SymbolicUtils.Div) in Symbolics at /Users/reula/.julia/packages/SymbolicUtils/v2ZkM/src/methods.jl:60\n",
       "[157] ^(a::Number, b::Union{Metatheory.EGraphs.EClass, SymbolicUtils.Symbolic{<:Number}}) in SymbolicUtils at /Users/reula/.julia/packages/SymbolicUtils/v2ZkM/src/types.jl:1044\n",
       "[158] ^(n::Num, i::Integer) in Symbolics at /Users/reula/.julia/packages/Symbolics/HDE84/src/num.jl:116\n",
       "[159] ^(n::Num, i::Rational) in Symbolics at /Users/reula/.julia/packages/Symbolics/HDE84/src/num.jl:116\n",
       "[160] ^(x::Number, y::Rational) in Base at rational.jl:479\n",
       "[161] ^(a::Num, b::Num) in Symbolics at /Users/reula/.julia/packages/SymbolicUtils/v2ZkM/src/methods.jl:67\n",
       "[162] ^(a::Real, b::Num) in Symbolics at /Users/reula/.julia/packages/SymbolicUtils/v2ZkM/src/methods.jl:69\n",
       "[163] ^(a::Number, b::Num) in Symbolics at /Users/reula/.julia/packages/SymbolicUtils/v2ZkM/src/methods.jl:71\n",
       "[164] ^(a::Num, b::Real) in Symbolics at /Users/reula/.julia/packages/SymbolicUtils/v2ZkM/src/methods.jl:68\n",
       "[165] ^(a::Num, b::Number) in Symbolics at /Users/reula/.julia/packages/SymbolicUtils/v2ZkM/src/methods.jl:70\n",
       "[166] ^(x::Float32, y::Integer) in Base.Math at math.jl:930\n",
       "[167] ^(x::Number, p::Integer) in Base at intfuncs.jl:291\n",
       "[168] ^(x::Float32, y::Float32) in Base.Math at math.jl:913\n",
       "[169] ^(x::T, y::T) where T<:Number in Base at promotion.jl:458\n",
       "[170] ^(x::Number, y::Number) in Base at promotion.jl:413\n",
       "[171] ^(D::Difference, n::Integer) in Symbolics at /Users/reula/.julia/packages/Symbolics/HDE84/src/difference.jl:56\n",
       "[172] ^(comb::Symbolics.TermCombination, ::Number) in Symbolics at /Users/reula/.julia/packages/Symbolics/HDE84/src/linearity.jl:83\n",
       "[173] ^(x::DynamicPolynomials.Monomial{true}, i::Int64) in DynamicPolynomials at /Users/reula/.julia/packages/DynamicPolynomials/Y6gnp/src/operators.jl:7\n",
       "[174] ^(x::MultivariatePolynomials.AbstractPolynomialLike, p::Integer) in MultivariatePolynomials at /Users/reula/.julia/packages/MultivariatePolynomials/JG6mC/src/operators.jl:352"
      ]
     },
     "execution_count": 18,
     "metadata": {},
     "output_type": "execute_result"
    }
   ],
   "source": [
    "methods(^)"
   ]
  },
  {
   "cell_type": "code",
   "execution_count": null,
   "metadata": {},
   "outputs": [],
   "source": []
  }
 ],
 "metadata": {
  "kernelspec": {
   "display_name": "Julia 1.7.2",
   "language": "julia",
   "name": "julia-1.7"
  },
  "language_info": {
   "file_extension": ".jl",
   "mimetype": "application/julia",
   "name": "julia",
   "version": "1.7.2"
  },
  "latex_envs": {
   "LaTeX_envs_menu_present": true,
   "autoclose": false,
   "autocomplete": true,
   "bibliofile": "biblio.bib",
   "cite_by": "apalike",
   "current_citInitial": 1,
   "eqLabelWithNumbers": true,
   "eqNumInitial": 1,
   "hotkeys": {
    "equation": "Ctrl-E",
    "itemize": "Ctrl-I"
   },
   "labels_anchors": false,
   "latex_user_defs": false,
   "report_style_numbering": false,
   "user_envs_cfg": false
  }
 },
 "nbformat": 4,
 "nbformat_minor": 4
}
