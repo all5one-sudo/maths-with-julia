{
 "cells": [
  {
   "cell_type": "markdown",
   "metadata": {},
   "source": [
    "# Álgebra lineal en Julia"
   ]
  },
  {
   "cell_type": "markdown",
   "metadata": {},
   "source": [
    "En este notebook aprenderemos a realizar operaciones de álgebra lineal en `Julia`. Comenzaremos con algunas operaciones sencillas con matrices.\n",
    "\n",
    "Definimos primero una matriz `A` de `3×3`,"
   ]
  },
  {
   "cell_type": "code",
   "execution_count": 3,
   "metadata": {},
   "outputs": [
    {
     "data": {
      "text/plain": [
       "3×3 Matrix{Int64}:\n",
       " 2  3  3\n",
       " 3  2  4\n",
       " 4  1  1"
      ]
     },
     "metadata": {},
     "output_type": "display_data"
    }
   ],
   "source": [
    "A = [2 3 3; 3 2 4; 4 1 1]\n",
    "display(A)\n",
    "#Nota: Para escribir una matriz en Julia escribimos los elementos de cada\n",
    "#fila separados por espacio, y separamos cada fila con ;"
   ]
  },
  {
   "cell_type": "markdown",
   "metadata": {},
   "source": [
    "y un vector columna de `3` elementos."
   ]
  },
  {
   "cell_type": "code",
   "execution_count": 4,
   "metadata": {},
   "outputs": [
    {
     "data": {
      "text/plain": [
       "3-element Vector{Int64}:\n",
       " 1\n",
       " 2\n",
       " 3"
      ]
     },
     "metadata": {},
     "output_type": "display_data"
    }
   ],
   "source": [
    "x = [1,2,3]   #también podemos separar los números con ;\n",
    "display(x)\n",
    "#x = [1 2 3]  #Esta línea nos daría un vector fila"
   ]
  },
  {
   "cell_type": "markdown",
   "metadata": {},
   "source": [
    "Hemos creado dos variables, una de tipo `Matrix{Int64}` y otra de tipo `Vector{Int64}`. Estos nombres son en realidad alias para los tipos `Array{Int64,2}` y `Array{Int64,1}` respectivamente."
   ]
  },
  {
   "cell_type": "markdown",
   "metadata": {},
   "source": [
    "#### **Multiplicación**\n",
    "\n",
    "Para realizar multiplicaciones podemos utilizar el operador `*`:"
   ]
  },
  {
   "cell_type": "code",
   "execution_count": 5,
   "metadata": {},
   "outputs": [
    {
     "data": {
      "text/plain": [
       "3-element Vector{Int64}:\n",
       " 17\n",
       " 19\n",
       "  9"
      ]
     },
     "execution_count": 5,
     "metadata": {},
     "output_type": "execute_result"
    }
   ],
   "source": [
    "b = A*x"
   ]
  },
  {
   "cell_type": "markdown",
   "metadata": {},
   "source": [
    "También podemos realizar multiplicaciones entre matrices, siempre que los tamaños de las matrices sean adecuados."
   ]
  },
  {
   "cell_type": "code",
   "execution_count": 6,
   "metadata": {},
   "outputs": [
    {
     "data": {
      "text/plain": [
       "3×2 Matrix{Int64}:\n",
       " 2  3\n",
       " 1  4\n",
       " 1  1"
      ]
     },
     "execution_count": 6,
     "metadata": {},
     "output_type": "execute_result"
    }
   ],
   "source": [
    "B = [2 3 ; 1 4; 1 1]  #Definimos una matriz 2x3"
   ]
  },
  {
   "cell_type": "code",
   "execution_count": 7,
   "metadata": {},
   "outputs": [
    {
     "data": {
      "text/plain": [
       "3×2 Matrix{Int64}:\n",
       " 10  21\n",
       " 12  21\n",
       " 10  17"
      ]
     },
     "execution_count": 7,
     "metadata": {},
     "output_type": "execute_result"
    }
   ],
   "source": [
    "A*B"
   ]
  },
  {
   "cell_type": "markdown",
   "metadata": {},
   "source": [
    "#### **Transpuesta y Adjunta**\n",
    "Podemos transponer una matriz utilizando la función `transpose`:"
   ]
  },
  {
   "cell_type": "code",
   "execution_count": 8,
   "metadata": {},
   "outputs": [
    {
     "name": "stdout",
     "output_type": "stream",
     "text": [
      "A=\n"
     ]
    },
    {
     "data": {
      "text/plain": [
       "3×3 Matrix{Int64}:\n",
       " 2  3  3\n",
       " 3  2  4\n",
       " 4  1  1"
      ]
     },
     "execution_count": 8,
     "metadata": {},
     "output_type": "execute_result"
    }
   ],
   "source": [
    "println(\"A=\")\n",
    "A"
   ]
  },
  {
   "cell_type": "code",
   "execution_count": 17,
   "metadata": {},
   "outputs": [
    {
     "name": "stdout",
     "output_type": "stream",
     "text": [
      "Aᵀ\n"
     ]
    },
    {
     "data": {
      "text/plain": [
       "3×3 transpose(::Matrix{Int64}) with eltype Int64:\n",
       " 2  3  4\n",
       " 3  2  1\n",
       " 3  4  1"
      ]
     },
     "execution_count": 17,
     "metadata": {},
     "output_type": "execute_result"
    }
   ],
   "source": [
    "println(\"Aᵀ\")\n",
    "transpose(A)"
   ]
  },
  {
   "cell_type": "markdown",
   "metadata": {},
   "source": [
    "Aunque mucho más práctico es utilizar la notación `A'`, que nos retorna la matriz adjunta, es decir, la transpuesta conjugada. La única diferencia la con transpose la veremos en matrices con entradas complejas."
   ]
  },
  {
   "cell_type": "markdown",
   "metadata": {},
   "source": [
    "#### **Multiplicación transpuesta**\n",
    "Julia permite escribir este producto prescindiendo del símbolo `*`"
   ]
  },
  {
   "cell_type": "code",
   "execution_count": 9,
   "metadata": {},
   "outputs": [
    {
     "data": {
      "text/plain": [
       "3×3 Matrix{Int64}:\n",
       " 29  16  22\n",
       " 16  14  18\n",
       " 22  18  26"
      ]
     },
     "execution_count": 9,
     "metadata": {},
     "output_type": "execute_result"
    }
   ],
   "source": [
    "A'A"
   ]
  },
  {
   "cell_type": "markdown",
   "metadata": {},
   "source": [
    "#### **Sistemas de ecuaciones lineales** \n",
    "Julia nos permite también resolver problemas de la forma $Ax=b$ utilizando el operador `\\`"
   ]
  },
  {
   "cell_type": "code",
   "execution_count": 10,
   "metadata": {},
   "outputs": [
    {
     "data": {
      "text/plain": [
       "3-element Vector{Float64}:\n",
       " 1.0\n",
       " 2.0\n",
       " 3.0"
      ]
     },
     "execution_count": 10,
     "metadata": {},
     "output_type": "execute_result"
    }
   ],
   "source": [
    "#Recordemos que definimos b como A*x anteriormente, por lo que el resultado de la línea\n",
    "#siguiente debe ser x = [1,2,3]\n",
    "A\\b"
   ]
  },
  {
   "cell_type": "markdown",
   "metadata": {},
   "source": [
    "# La librería LinearAlgebra\n",
    "\n",
    "Existe una librería estándar llamada \"LinearAlgebra\" que contiene muchas funciones adicionales a las que se encuentran disponibles en Julia por defecto. Importemos esta librería"
   ]
  },
  {
   "cell_type": "code",
   "execution_count": 13,
   "metadata": {},
   "outputs": [],
   "source": [
    "#==========================================================================================\n",
    "using Pkg\n",
    "Pkg.add(\"LinearAlgebra\")          #Instale el paquete si no lo tiene\n",
    "=============================================================================================#\n",
    "\n",
    "using LinearAlgebra"
   ]
  },
  {
   "cell_type": "markdown",
   "metadata": {},
   "source": [
    "### **Operaciones entre vectores**\n",
    "\n",
    "Tenemos ahora a nuestra disposición más operaciones básicas entre vectores, como el producto punto, producto cruz, y cálculos de normas.\n",
    "Explorémoslas creando dos vectores columna de 3 elementos:"
   ]
  },
  {
   "cell_type": "code",
   "execution_count": 14,
   "metadata": {},
   "outputs": [],
   "source": [
    "x = [1,2,3]\n",
    "y = [-1,4,2];"
   ]
  },
  {
   "cell_type": "markdown",
   "metadata": {},
   "source": [
    "#### **Producto escalar**\n"
   ]
  },
  {
   "cell_type": "code",
   "execution_count": 16,
   "metadata": {},
   "outputs": [
    {
     "data": {
      "text/plain": [
       "13"
      ]
     },
     "execution_count": 16,
     "metadata": {},
     "output_type": "execute_result"
    }
   ],
   "source": [
    "dot(x,y)          #producto interno, x[1]*y[1]+x[2]*y[2]+x[3]*y[3]"
   ]
  },
  {
   "cell_type": "code",
   "execution_count": 23,
   "metadata": {},
   "outputs": [
    {
     "data": {
      "text/plain": [
       "13"
      ]
     },
     "execution_count": 23,
     "metadata": {},
     "output_type": "execute_result"
    }
   ],
   "source": [
    "x⋅y               #también podemos escribirlo de esta forma.\n",
    "                  #Para obtener ese punto escriba \\cdot + <tab>"
   ]
  },
  {
   "cell_type": "markdown",
   "metadata": {},
   "source": [
    "#### **Producto vectorial o producto cruz**"
   ]
  },
  {
   "cell_type": "code",
   "execution_count": 24,
   "metadata": {},
   "outputs": [
    {
     "data": {
      "text/plain": [
       "3-element Vector{Int64}:\n",
       " -8\n",
       " -5\n",
       "  6"
      ]
     },
     "execution_count": 24,
     "metadata": {},
     "output_type": "execute_result"
    }
   ],
   "source": [
    "cross(x,y)        #Producto cruz"
   ]
  },
  {
   "cell_type": "code",
   "execution_count": 17,
   "metadata": {},
   "outputs": [
    {
     "data": {
      "text/plain": [
       "3-element Vector{Int64}:\n",
       " -8\n",
       " -5\n",
       "  6"
      ]
     },
     "execution_count": 17,
     "metadata": {},
     "output_type": "execute_result"
    }
   ],
   "source": [
    "x × y   #De manera similar al producto escalar, podemos usar una × para el producto vectorial.\n",
    "        #Para esto escriba \\times + <tab>"
   ]
  },
  {
   "cell_type": "markdown",
   "metadata": {},
   "source": [
    "#### **Norma de un vector**\n",
    "La función `norm()` nos permite calcular diversas normas, qunque por defecto nos dará norma $L_2$."
   ]
  },
  {
   "cell_type": "code",
   "execution_count": 26,
   "metadata": {},
   "outputs": [
    {
     "name": "stdout",
     "output_type": "stream",
     "text": [
      "3.7416573867739413\n",
      "6.0\n",
      "3.0\n",
      "9.0\n"
     ]
    }
   ],
   "source": [
    "println(norm(x))         #Por defecto esta es la norma L2 (|x| = sqrt(x[1]^2 + x[2]^2 + x[3]^2))\n",
    "println(norm(x,1))       #Norma L1: |x| = |x[1]| + |x[2]| + |x[3]|\n",
    "println(norm(x, Inf))    #Norma ∞: |x| = max(|x[1]|, |x[2]|, |x[3]|)\n",
    "println(opnorm(A, Inf))  #opnorm calcula la norma inducida en matrices"
   ]
  },
  {
   "cell_type": "markdown",
   "metadata": {},
   "source": [
    "### Ejercicios opcionales\n",
    "\n",
    "1) A partir de la fórmula \n",
    "\\begin{equation}\n",
    "x \\cdot y = | x | | y | \\cos(\\theta)\n",
    "\\end{equation}\n",
    "calcule el coseno del ángulo entre los vectores\n",
    "\\begin{align*}\n",
    "x &= (2,1,0) \\\\ y &= (0,-1,1)\n",
    "\\end{align*}"
   ]
  },
  {
   "cell_type": "code",
   "execution_count": 18,
   "metadata": {},
   "outputs": [],
   "source": [
    "\n",
    "#Resultado : cos(θ) ≈ -0.31623"
   ]
  },
  {
   "cell_type": "markdown",
   "metadata": {},
   "source": [
    "2) A partir de la fórmula \n",
    "\\begin{equation}\n",
    "| x \\times y | = | x | | y | \\sin(\\theta)\n",
    "\\end{equation}\n",
    "calcule el seno del ángulo entre los vectores\n",
    "\\begin{align*}\n",
    "x &= (1,3,2) \\\\ y &= (1,0,1)\n",
    "\\end{align*}"
   ]
  },
  {
   "cell_type": "code",
   "execution_count": 19,
   "metadata": {},
   "outputs": [],
   "source": [
    "\n",
    "#Resultado : sin(θ) ≈ 0.82375"
   ]
  },
  {
   "cell_type": "markdown",
   "metadata": {},
   "source": [
    "### **Cantidades algebraicas**\n",
    "\n",
    "También podemos calcular fácilmente los invariantes algebraicos asociados a una matriz: la traza, el determinante, el rango, los autovalores y los autovectores.\n",
    "\n",
    "Partamos de la siguiente matriz, cuyo determinante es distinto de 0:"
   ]
  },
  {
   "cell_type": "code",
   "execution_count": 21,
   "metadata": {},
   "outputs": [
    {
     "name": "stdout",
     "output_type": "stream",
     "text": [
      "deteteminante de A = -77.0\n",
      "rango de A = 4\n"
     ]
    }
   ],
   "source": [
    "A = [9 2 3 4;\n",
    "     8 9 1 2;\n",
    "     1 2 3 1;\n",
    "     4 5 2 1]\n",
    "println(\"deteteminante de A = $(det(A))\\nrango de A = $(rank(A))\")"
   ]
  },
  {
   "cell_type": "markdown",
   "metadata": {},
   "source": [
    "La función `det` calcula el _determinante_ de una matriz, mientras que la función `rank` nos dirá el rango. Esta matriz de 4x4 tiene determinante distinto de cero, y por lo tanto es invertible y de rango 4.\n",
    "\n",
    "\n",
    "Construyamos ahora otra matriz de menor rango a partir de A, haciendo que las dos últimas filas sean combinaciones lineales de las primeras dos. Esto implica que la matriz será de determinante 0 y de rango 2."
   ]
  },
  {
   "cell_type": "code",
   "execution_count": 22,
   "metadata": {},
   "outputs": [
    {
     "name": "stdout",
     "output_type": "stream",
     "text": [
      "deteteminante de B = 3.2047474274603605e-29\n",
      "rango de B = 2\n"
     ]
    }
   ],
   "source": [
    "B = copy(A)\n",
    "#Construimos una matriz de rango 2 haciendo que la tercera y cuarta fila sean combinaciones lineales de la primera\n",
    "#y segunda.\n",
    "B[3,:] .= 2*B[1,:]-B[2,:]  #fila_3 = 2* fila_1 - fila_2\n",
    "B[4,:] .= B[1,:]+2*B[2,:]  #fila_4 = fila_1 + 2*fila_2\n",
    "\n",
    "\n",
    "println(\"deteteminante de B = $(det(B))\\nrango de B = $(rank(B))\")\n",
    "#Puede que el determinante no de 0 sino que obtengamos un valor muy pequeño. \n",
    "#En mi caso por ejemplo, 0Julia retornó 3.2*10⁻²⁹. Esto es sencillamente debido \n",
    "#a errores numéricos y no debe preocuparnos"
   ]
  },
  {
   "cell_type": "markdown",
   "metadata": {},
   "source": [
    "#### **Traza**\n",
    "\n",
    "La traza es la suma de los elementos de la diagonal"
   ]
  },
  {
   "cell_type": "code",
   "execution_count": 23,
   "metadata": {},
   "outputs": [
    {
     "name": "stdout",
     "output_type": "stream",
     "text": [
      "Traza de A = 22\n",
      "Traza de B = 31\n"
     ]
    }
   ],
   "source": [
    "println(\"Traza de A = $(tr(A))\")\n",
    "println(\"Traza de B = $(tr(B))\")"
   ]
  },
  {
   "cell_type": "markdown",
   "metadata": {},
   "source": [
    "#### **Autovalores y autovectores**\n",
    "\n",
    "Continuemos con nuestras matrices A y B, y veamos si podemos calcular sus autovectores y autovalores. Recordemos que un escalar $\\lambda$ y un vector $v$ no nulo $v$ son respectivamente un autovalor y un autovector de una matriz $M$ si\n",
    "\n",
    "$$ \n",
    "Mv = \\lambda v\n",
    "$$"
   ]
  },
  {
   "cell_type": "markdown",
   "metadata": {},
   "source": [
    "Como A tiene rango 4 y B tiene rango 2, esperamos que tengan 4 y 2 autovalores no nulos respectivamente. Podemos calcular estos autovalores utilizando la función `eigvals`"
   ]
  },
  {
   "cell_type": "code",
   "execution_count": 24,
   "metadata": {},
   "outputs": [
    {
     "name": "stdout",
     "output_type": "stream",
     "text": [
      "Autovalores de A\n",
      "λᴬ_1 = -0.3565026640939361 + 0.0im\n",
      "λᴬ_2 = 3.1671605891472003 - 1.857310704795778im\n",
      "λᴬ_3 = 3.1671605891472003 + 1.857310704795778im\n",
      "λᴬ_4 = 16.022181485799525 + 0.0im\n",
      "Autovalores de B\n",
      "λᴮ_1 = -6.351163436004872e-16 - 9.186020559116836e-16im\n",
      "λᴮ_2 = -6.351163436004872e-16 + 9.186020559116836e-16im\n",
      "λᴮ_3 = 5.689291564825708 + 0.0im\n",
      "λᴮ_4 = 25.31070843517429 + 0.0im\n"
     ]
    }
   ],
   "source": [
    "println(\"Autovalores de A\")\n",
    "for (i, eigval) in enumerate(eigvals(A))\n",
    "    println(\"λᴬ_$i = $eigval\")\n",
    "end\n",
    "println(\"Autovalores de B\")\n",
    "for (i, eigval) in enumerate(eigvals(B))\n",
    "    println(\"λᴮ_$i = $eigval\")\n",
    "end"
   ]
  },
  {
   "cell_type": "markdown",
   "metadata": {},
   "source": [
    "Note que estos valores pueden ser números compejos."
   ]
  },
  {
   "cell_type": "markdown",
   "metadata": {},
   "source": [
    "Análogamente se pueden calcular los autovectores utilizando la función `eigvecs`, la cual retorna una matriz cuyas columnas son los autovectores. `eigvecs` normaliza los vectores a 1 en la norma $L^{2}$."
   ]
  },
  {
   "cell_type": "code",
   "execution_count": 25,
   "metadata": {},
   "outputs": [
    {
     "name": "stdout",
     "output_type": "stream",
     "text": [
      "Autovectores de A\n"
     ]
    },
    {
     "data": {
      "text/plain": [
       "4×4 Matrix{ComplexF64}:\n",
       " -0.334599+0.0im    0.491728+0.250222im  …  -0.517397+0.0im\n",
       "  0.118634+0.0im   -0.571327-0.0im          -0.731002+0.0im\n",
       " -0.240177+0.0im  -0.0580482-0.491507im     -0.183138+0.0im\n",
       "  0.903485+0.0im   -0.271658-0.224569im     -0.405459+0.0im"
      ]
     },
     "execution_count": 25,
     "metadata": {},
     "output_type": "execute_result"
    }
   ],
   "source": [
    "println(\"Autovectores de A\")\n",
    "eigvecs(A)"
   ]
  },
  {
   "cell_type": "code",
   "execution_count": 35,
   "metadata": {},
   "outputs": [
    {
     "data": {
      "text/plain": [
       "Autovector 1:"
      ]
     },
     "metadata": {},
     "output_type": "display_data"
    },
    {
     "data": {
      "text/plain": [
       "4-element Vector{ComplexF64}:\n",
       " -0.33459903641518424 + 0.0im\n",
       "  0.11863402617058263 + 0.0im\n",
       "  -0.2401766955276797 + 0.0im\n",
       "   0.9034847024659532 + 0.0im"
      ]
     },
     "metadata": {},
     "output_type": "display_data"
    },
    {
     "data": {
      "text/plain": [
       "Norma del autovector: 1.0"
      ]
     },
     "metadata": {},
     "output_type": "display_data"
    }
   ],
   "source": [
    "#Podemos acceder al autovalor \"k\" escribiendo\n",
    "k = 1\n",
    "v = eigvecs(A)[:,k]\n",
    "display(Text(\"Autovector $k:\"))\n",
    "display(v)\n",
    "#También podemos verificar que es de norma 1\n",
    "display(Text(\"Norma del autovector: $(norm(v))\"))\n",
    "\n",
    "#Uso display(Text(\"texto\")) en lugar de print porque sino Julia no respeta el orden cuando imprime."
   ]
  },
  {
   "cell_type": "code",
   "execution_count": 36,
   "metadata": {},
   "outputs": [
    {
     "name": "stdout",
     "output_type": "stream",
     "text": [
      "Autovectores de B\n"
     ]
    },
    {
     "data": {
      "text/plain": [
       "4×4 Matrix{ComplexF64}:\n",
       " -0.232084+0.132592im   …  -0.19002+0.0im  -0.303218+0.0im\n",
       " 0.0758298-0.0795552im     0.361329+0.0im   -0.27336+0.0im\n",
       " -0.411308-0.344739im      -0.74137+0.0im  -0.333076+0.0im\n",
       "  0.792754-0.0im           0.532638+0.0im  -0.849938+0.0im"
      ]
     },
     "execution_count": 36,
     "metadata": {},
     "output_type": "execute_result"
    }
   ],
   "source": [
    "println(\"Autovectores de B\")\n",
    "eigvecs(B)"
   ]
  },
  {
   "cell_type": "markdown",
   "metadata": {},
   "source": [
    "El orden de autovectores y autovalores de ambas funciones es consistente. Verificamos esto verificando que se cumpla $Av = \\lambda v$ para todos los pares de autovalores y autovectores"
   ]
  },
  {
   "cell_type": "code",
   "execution_count": 26,
   "metadata": {},
   "outputs": [
    {
     "name": "stdout",
     "output_type": "stream",
     "text": [
      "4.4296944356968375e-15\n",
      "5.5411836206154385e-15\n",
      "5.5411836206154385e-15\n",
      "9.860380650283726e-15\n"
     ]
    }
   ],
   "source": [
    "#Calculamos Av - λv y verificamos que nos de 0\n",
    "for k in 1:4\n",
    "    println(norm(A * eigvecs(A)[:, k] .- eigvals(A)[k] * eigvecs(A)[:, k]))\n",
    "end"
   ]
  },
  {
   "cell_type": "markdown",
   "metadata": {},
   "source": [
    "Finalmente, la función `eigen` nos devuelve tanto los autovalores como los autovectores."
   ]
  },
  {
   "cell_type": "code",
   "execution_count": 27,
   "metadata": {},
   "outputs": [
    {
     "data": {
      "text/plain": [
       "Eigen{ComplexF64, ComplexF64, Matrix{ComplexF64}, Vector{ComplexF64}}\n",
       "values:\n",
       "4-element Vector{ComplexF64}:\n",
       " -0.3565026640939361 + 0.0im\n",
       "  3.1671605891472003 - 1.857310704795778im\n",
       "  3.1671605891472003 + 1.857310704795778im\n",
       "  16.022181485799525 + 0.0im\n",
       "vectors:\n",
       "4×4 Matrix{ComplexF64}:\n",
       " -0.334599+0.0im    0.491728+0.250222im  …  -0.517397+0.0im\n",
       "  0.118634+0.0im   -0.571327-0.0im          -0.731002+0.0im\n",
       " -0.240177+0.0im  -0.0580482-0.491507im     -0.183138+0.0im\n",
       "  0.903485+0.0im   -0.271658-0.224569im     -0.405459+0.0im"
      ]
     },
     "execution_count": 27,
     "metadata": {},
     "output_type": "execute_result"
    }
   ],
   "source": [
    "val, vec = eigen(A)"
   ]
  },
  {
   "cell_type": "markdown",
   "metadata": {},
   "source": [
    "### Ejercicios opcionales\n",
    "\n",
    "3) Calcule el rango de la matriz $$A = \\begin{pmatrix} 1 & 3 & 1\\\\ 2 & 0 & 1\\\\ 4 & 1 & -1 \\end{pmatrix}$$ y halle sus autovalores y autovectores."
   ]
  },
  {
   "cell_type": "code",
   "execution_count": null,
   "metadata": {},
   "outputs": [],
   "source": []
  },
  {
   "cell_type": "markdown",
   "metadata": {},
   "source": [
    "### **Operaciones sobre matrices**\n",
    "\n",
    "Finalmente, mencionamos operaciones útiles sobre matrices"
   ]
  },
  {
   "cell_type": "markdown",
   "metadata": {},
   "source": [
    "#### **Matriz inversa**\n",
    "\n",
    "La función `inv` retorna la inversa de una matriz"
   ]
  },
  {
   "cell_type": "code",
   "execution_count": 240,
   "metadata": {},
   "outputs": [
    {
     "data": {
      "text/plain": [
       "Inversa de A"
      ]
     },
     "metadata": {},
     "output_type": "display_data"
    },
    {
     "data": {
      "text/plain": [
       "4×4 Matrix{Float64}:\n",
       "  0.12987   -0.428571  -0.636364    0.974026\n",
       " -0.116883   0.285714   0.272727   -0.376623\n",
       "  0.038961  -0.428571  -0.0909091   0.792208\n",
       " -0.012987   1.14286    1.36364    -2.5974"
      ]
     },
     "metadata": {},
     "output_type": "display_data"
    },
    {
     "data": {
      "text/plain": [
       "A*A⁻¹"
      ]
     },
     "metadata": {},
     "output_type": "display_data"
    },
    {
     "data": {
      "text/plain": [
       "4×4 Matrix{Float64}:\n",
       " 1.0          -8.88178e-16  -8.88178e-16   0.0\n",
       " 7.21645e-16   1.0          -4.44089e-16   0.0\n",
       " 5.55112e-17   2.22045e-16   1.0          -4.44089e-16\n",
       " 3.33067e-16   0.0           0.0           1.0"
      ]
     },
     "metadata": {},
     "output_type": "display_data"
    }
   ],
   "source": [
    "display(Text(\"Inversa de A\"))\n",
    "display(inv(A))\n",
    "display(Text(\"A*A⁻¹\"))\n",
    "display(A*inv(A))"
   ]
  },
  {
   "cell_type": "markdown",
   "metadata": {},
   "source": [
    "#### **Potencias**\n",
    "\n",
    "Podemos elevar una matriz a una potencia. Por ejemplo, $A^5 = A*A*A*A*A$"
   ]
  },
  {
   "cell_type": "code",
   "execution_count": null,
   "metadata": {},
   "outputs": [],
   "source": [
    "A^5"
   ]
  },
  {
   "cell_type": "markdown",
   "metadata": {},
   "source": [
    "#### **Exponencial**\n",
    "\n",
    "Y también podemos calcular otras expresiones como la exponencial de una matriz, la cual está definida a través de la serie de taylor:\n",
    "\n",
    "$$\n",
    "e^{A} = 1 + \\sum_{i=1}^{\\infty}\\frac{A^i}{i!}\n",
    "$$"
   ]
  },
  {
   "cell_type": "code",
   "execution_count": null,
   "metadata": {},
   "outputs": [],
   "source": [
    "exp(C)"
   ]
  },
  {
   "cell_type": "markdown",
   "metadata": {},
   "source": [
    "Pueden encontrarse varias funciones más, definidas a través de su serie, como `sqrt`,`log`, `cos`, `sin`, `cosh`, `asin`, etc. "
   ]
  },
  {
   "cell_type": "markdown",
   "metadata": {},
   "source": [
    "### Ejercicios\n",
    "\n",
    "4) Calcule la inversa de la matriz del ejercicio (3) y verifique que $\\det(A)\\det(A^{-1})=1$"
   ]
  },
  {
   "cell_type": "code",
   "execution_count": null,
   "metadata": {},
   "outputs": [],
   "source": []
  },
  {
   "cell_type": "markdown",
   "metadata": {},
   "source": [
    "5) Verifique la famosa identidad $\\det(\\exp(A))= \\exp(\\operatorname{tr}(A))$ para la matriz del ejercicio (3)"
   ]
  },
  {
   "cell_type": "code",
   "execution_count": null,
   "metadata": {},
   "outputs": [],
   "source": []
  },
  {
   "cell_type": "markdown",
   "metadata": {},
   "source": [
    "### **Tipos especiales de matrices**\n",
    "\n",
    "Existen funciones que declaran tipos especiales de matrices, como matrices simétricas, hermíticas, triangulares, diagonales, tridiagonales, etc. En muchos casos estos tipos tienen métodos especiales para realizar ciertas operaciones en forma más eficiente, aprovechando las propiedades de la matriz. Aquí mostramos dos ejemplos que serán frecuentes:"
   ]
  },
  {
   "cell_type": "markdown",
   "metadata": {},
   "source": [
    "#### **Diagonal**"
   ]
  },
  {
   "cell_type": "code",
   "execution_count": null,
   "metadata": {},
   "outputs": [],
   "source": [
    "d = [1,2,3]\n",
    "D = Diagonal(d)"
   ]
  },
  {
   "cell_type": "markdown",
   "metadata": {},
   "source": [
    "#### **Tridiagonal**"
   ]
  },
  {
   "cell_type": "code",
   "execution_count": null,
   "metadata": {},
   "outputs": [],
   "source": [
    "dl = [4,5,6]\n",
    "du = [2,3,4]\n",
    "d = [1,2,3,4]\n",
    "\n",
    "T = Tridiagonal(dl,d,du)"
   ]
  },
  {
   "cell_type": "markdown",
   "metadata": {},
   "source": [
    "### Ejercicios\n",
    "\n",
    "6) Declare la matriz $$A = \\begin{pmatrix} 3 & 0 & 0\\\\ 0 & 1 & 0\\\\ 0 & 0 & 5 \\end{pmatrix}$$ usando la función `Diagonal` y verifique que `eigvals` devuelve los autovalores correctos. También verifique que `eigvecs` devuelve los vectores de la base canónica."
   ]
  },
  {
   "cell_type": "code",
   "execution_count": null,
   "metadata": {},
   "outputs": [],
   "source": []
  },
  {
   "cell_type": "markdown",
   "metadata": {},
   "source": [
    "### **Multiplicación eficiente de matrices (opcional)**\n",
    "\n",
    "Existen funciones de nivel bajo que permiten calcular operaciones entre matrices y vectores haciendo un uso eficiente de memoria. Estas funciones podrán serles de utilidad en la resolución numérica de ecuaciones diferenciales, que involucran una gran cantidad de operaciones matriciales, para ahorrar tiempo de cómputo en forma notable."
   ]
  },
  {
   "cell_type": "markdown",
   "metadata": {},
   "source": [
    "Definamos una nueva matriz $A$ y un vector $x$"
   ]
  },
  {
   "cell_type": "code",
   "execution_count": null,
   "metadata": {},
   "outputs": [],
   "source": [
    "A = rand(1:4,3,3)"
   ]
  },
  {
   "cell_type": "code",
   "execution_count": null,
   "metadata": {},
   "outputs": [],
   "source": [
    "x = [1, 2, 3]"
   ]
  },
  {
   "cell_type": "markdown",
   "metadata": {},
   "source": [
    "Y creamos un vector $C$ con la misma forma que $x$"
   ]
  },
  {
   "cell_type": "code",
   "execution_count": null,
   "metadata": {},
   "outputs": [],
   "source": [
    "C = [2,0,1]"
   ]
  },
  {
   "cell_type": "markdown",
   "metadata": {},
   "source": [
    "La siguiente función calcula en forma eficiente el producto $\\alpha Ax + \\beta C$ y lo almacena en $C$ sobreescribiéndolo ($\\alpha$ y $\\beta$ son números arbitrarios)."
   ]
  },
  {
   "cell_type": "code",
   "execution_count": null,
   "metadata": {},
   "outputs": [],
   "source": [
    "α = 2\n",
    "β = -3\n",
    "\n",
    "mul!(C,A,x,α,β)"
   ]
  },
  {
   "cell_type": "markdown",
   "metadata": {},
   "source": [
    "Puesto que es el caso más común, tomamos $x$ como un vector, pero también podría ser una matriz:"
   ]
  },
  {
   "cell_type": "code",
   "execution_count": null,
   "metadata": {},
   "outputs": [],
   "source": [
    "B = rand(1:4,3,3)\n",
    "C = rand(1:4,3,3)\n",
    "\n",
    "mul!(C,A,B,α,β)"
   ]
  },
  {
   "cell_type": "code",
   "execution_count": null,
   "metadata": {},
   "outputs": [],
   "source": []
  }
 ],
 "metadata": {
  "kernelspec": {
   "display_name": "Julia 1.7.2",
   "language": "julia",
   "name": "julia-1.7"
  },
  "language_info": {
   "file_extension": ".jl",
   "mimetype": "application/julia",
   "name": "julia",
   "version": "1.7.2"
  }
 },
 "nbformat": 4,
 "nbformat_minor": 4
}
