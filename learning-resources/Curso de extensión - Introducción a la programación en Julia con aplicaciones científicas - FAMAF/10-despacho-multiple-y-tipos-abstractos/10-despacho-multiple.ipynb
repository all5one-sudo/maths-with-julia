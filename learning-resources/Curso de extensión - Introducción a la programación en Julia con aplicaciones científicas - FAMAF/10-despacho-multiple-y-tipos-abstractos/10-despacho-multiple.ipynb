{
 "cells": [
  {
   "cell_type": "markdown",
   "metadata": {},
   "source": [
    "# Despacho múltiple, tipos abstractos y duck typing\n",
    "\n",
    "[https://docs.julialang.org/en/v1/manual/methods/](https://docs.julialang.org/en/v1/manual/methods/)\n",
    "\n",
    "[https://www.oxinabox.net/2020/02/09/whycompositionaljulia.html#multiple-dispatch--duck-typing](https://www.oxinabox.net/2020/02/09/whycompositionaljulia.html#multiple-dispatch--duck-typing)"
   ]
  },
  {
   "cell_type": "markdown",
   "metadata": {},
   "source": [
    "## Despacho múltiple\n",
    "\n",
    "En Julia, las siguientes definiciones son simultaneamente posibles."
   ]
  },
  {
   "cell_type": "code",
   "execution_count": null,
   "metadata": {},
   "outputs": [],
   "source": [
    "f(x::Int,y::Int) = println(\"x e y son enteros\")\n",
    "f(x::Real,y::Int) = println(\"x es real e y es entero\")\n",
    "f(x::Int,y::Real) = println(\"x es entero e y es real\")\n",
    "f(x::Real,y::Real) = println(\"x e y son reales\")"
   ]
  },
  {
   "cell_type": "markdown",
   "metadata": {},
   "source": [
    "Cada una de ella define un *método* de la función *genérica* `f`.\n",
    "\n",
    "Durante un llamado a `f`, Julia selecciona el método a evaluar de acuerdo a los tipos de los argumentos especificados."
   ]
  },
  {
   "cell_type": "code",
   "execution_count": null,
   "metadata": {},
   "outputs": [],
   "source": [
    "f(3,4)"
   ]
  },
  {
   "cell_type": "code",
   "execution_count": null,
   "metadata": {},
   "outputs": [],
   "source": [
    "f(π,4)"
   ]
  },
  {
   "cell_type": "code",
   "execution_count": null,
   "metadata": {},
   "outputs": [],
   "source": [
    "f(3,√2)"
   ]
  },
  {
   "cell_type": "code",
   "execution_count": null,
   "metadata": {},
   "outputs": [],
   "source": [
    "f(3.3,π)"
   ]
  },
  {
   "cell_type": "markdown",
   "metadata": {},
   "source": [
    "Esto se llama **despacho múltiple** (multiple dispatch). Si queremos ver los métodos de una función, escribimos:"
   ]
  },
  {
   "cell_type": "code",
   "execution_count": null,
   "metadata": {},
   "outputs": [],
   "source": [
    "methods(f)"
   ]
  },
  {
   "cell_type": "code",
   "execution_count": null,
   "metadata": {},
   "outputs": [],
   "source": [
    "methods(cos)"
   ]
  },
  {
   "cell_type": "markdown",
   "metadata": {},
   "source": [
    "### La expresividad del despacho multiple\n",
    "\n",
    "| dispatch degree | syntax | dispatch arguments | expressive order | expressive power | lenguaje |\n",
    "|--|--|--|--|--|--|\n",
    "| none | $f(x_1$,$x_2$,$\\dots)$ | {} | $\\mathcal{O}(1)$ | constant | C, FORTRAN (< 2003) |\n",
    "| single | $x_1$.$f(x_2$,$\\dots)$ | {$x_1$} | $\\mathcal{O}(|X_1|)$ | linear | C++, FORTRAN (2003), Java |\n",
    "| multiple | $f(x_1$,$x_2$,$\\dots)$ | {$x_1$,$x_2$,...}    | $\\mathcal{O}(|X_1||X_2|\\dots)$ | exponential | Julia, C# (4.0), LISP |"
   ]
  },
  {
   "cell_type": "markdown",
   "metadata": {},
   "source": [
    "### Inferencia de tipos, compilación AOT y JIT\n",
    "\n",
    "Para evaluar una expresión, Julia primero busca determinar la composición de métodos a evaluar en tiempo de compilación. En este sentido, Julia aplica *Ahead of Time (AOT) compilation*.\n",
    "\n",
    "Cuando el tipo de algunos de los objetos involucrados se definen en tiempos de ejecución, AOT no puede aplicarse. Entonces, Julia utiliza un algoritmo de *infierencia de tipos* (type inference) para determinar la composición de métodos en tiempo de ejecución utilizando *Just In Time (JIT) compilation*."
   ]
  },
  {
   "cell_type": "markdown",
   "metadata": {},
   "source": [
    "## Tipos concretos y abstractos\n",
    "\n",
    "El despacho múltiple es una herramienta poderosa si se lo combina con la noción de *tipos abstractos* (abstract types), los cuales sirven para definir jerarquías de tipos, subtipos, subsubtipos, etc.\n",
    "\n",
    "Los *tipos concretos* no poseen subtipos y varios de ellos vienen predefinidos (`Int64`, `Float64`,`String`, etc.). \n",
    "\n",
    "Para tener una idea de como funciona múltiple dispatch, consideremos el siguiente ejemplo:\n",
    "\n",
    "* [https://www.youtube.com/watch?v=kc9HwsxE1OY](https://www.youtube.com/watch?v=kc9HwsxE1OY)"
   ]
  },
  {
   "cell_type": "code",
   "execution_count": null,
   "metadata": {},
   "outputs": [],
   "source": [
    "abstract type Pet end\n",
    "\n",
    "struct Dog <: Pet\n",
    "    name::String\n",
    "end\n",
    "\n",
    "struct Cat <: Pet\n",
    "    name::String\n",
    "end\n",
    "\n",
    "function encounter(a::Pet,b::Pet)\n",
    "    verb = meets(a,b) \n",
    "    println(\"$(a.name) meets $(b.name) and $verb.\")\n",
    "end\n",
    "\n",
    "meets(a::Dog,b::Dog) = \"sniff\"\n",
    "meets(a::Dog,b::Cat) = \"chases\"\n",
    "meets(a::Cat,b::Dog) = \"hisses\"\n",
    "meets(a::Cat,b::Cat) = \"slinks\""
   ]
  },
  {
   "cell_type": "code",
   "execution_count": null,
   "metadata": {},
   "outputs": [],
   "source": [
    "fido = Dog(\"Fido\")\n",
    "rex = Dog(\"Rex\")\n",
    "whiskers = Cat(\"Whiskers\")\n",
    "spots = Cat(\"Spots\")\n",
    "\n",
    "encounter(fido,rex)\n",
    "encounter(fido,whiskers)\n",
    "encounter(rex,spots)\n",
    "encounter(whiskers,spots)"
   ]
  },
  {
   "cell_type": "markdown",
   "metadata": {},
   "source": [
    "## Duck typing"
   ]
  },
  {
   "cell_type": "markdown",
   "metadata": {},
   "source": [
    "Consideremos el siguiente ejemplo:\n",
    "\n",
    "* [https://www.oxinabox.net/2020/02/09/whycompositionaljulia.html#multiple-dispatch--duck-typing](https://www.oxinabox.net/2020/02/09/whycompositionaljulia.html#multiple-dispatch--duck-typing)\n",
    "\n",
    "* [https://www.compart.com/en/unicode/U+1F986](https://www.compart.com/en/unicode/U+1F986)\n",
    "\n",
    "Supongamos que alguna libreria escrita por terceros implementa el tipo `Duck` (pato) y algunas de sus funcionalidades."
   ]
  },
  {
   "cell_type": "code",
   "execution_count": null,
   "metadata": {},
   "outputs": [],
   "source": [
    "struct Duck end\n",
    "\n",
    "draw(duck) = \"🦆\"\n",
    "function talk(duck)  \n",
    "    println(draw(duck),\" quack\")\n",
    "end\n",
    "function raise_young(duck,babe) \n",
    "    println(draw(duck),\" leads 🐤\") \n",
    "end"
   ]
  },
  {
   "cell_type": "code",
   "execution_count": null,
   "metadata": {},
   "outputs": [],
   "source": [
    "talk(Duck())"
   ]
  },
  {
   "cell_type": "code",
   "execution_count": null,
   "metadata": {},
   "outputs": [],
   "source": [
    "raise_young(Duck(),Duck())"
   ]
  },
  {
   "cell_type": "markdown",
   "metadata": {},
   "source": [
    "Nos interesa extender la librería (sin tocarla) agregando el tipo `Swan` (cisne)."
   ]
  },
  {
   "cell_type": "code",
   "execution_count": null,
   "metadata": {},
   "outputs": [],
   "source": [
    "struct Swan end"
   ]
  },
  {
   "cell_type": "code",
   "execution_count": null,
   "metadata": {},
   "outputs": [],
   "source": [
    "talk(Swan())"
   ]
  },
  {
   "cell_type": "markdown",
   "metadata": {},
   "source": [
    "Esto no está bien!\n",
    "\n",
    "Para corregir esto hacemos un poco de *duck typing*."
   ]
  },
  {
   "cell_type": "code",
   "execution_count": null,
   "metadata": {},
   "outputs": [],
   "source": [
    "draw(swan::Swan) = \"🦢\"\n",
    "function talk(swan::Swan)\n",
    "    println(show(swan),\" hiss\")\n",
    "end"
   ]
  },
  {
   "cell_type": "code",
   "execution_count": null,
   "metadata": {},
   "outputs": [],
   "source": [
    "talk(Swan())"
   ]
  },
  {
   "cell_type": "markdown",
   "metadata": {},
   "source": [
    "Ahora esta mejor.\n",
    "\n",
    "Probemos ver que pasa cuando hay cisnes bebes"
   ]
  },
  {
   "cell_type": "code",
   "execution_count": null,
   "metadata": {},
   "outputs": [],
   "source": [
    "raise_young(Swan(),Swan())"
   ]
  },
  {
   "cell_type": "markdown",
   "metadata": {},
   "source": [
    "Vemos que surge otro problema. Los cisnes no caminan delante de sus pequeños, los llevan a cococho!\n",
    "\n",
    "Para corregirlo, escribimos"
   ]
  },
  {
   "cell_type": "code",
   "execution_count": null,
   "metadata": {},
   "outputs": [],
   "source": [
    "function raise_young(swan::Swan,babe) \n",
    "    println(draw(swan),\" carry 🐤\")\n",
    "end"
   ]
  },
  {
   "cell_type": "markdown",
   "metadata": {},
   "source": [
    "y volvemos a probar"
   ]
  },
  {
   "cell_type": "code",
   "execution_count": null,
   "metadata": {},
   "outputs": [],
   "source": [
    "raise_young(Swan(),Swan())"
   ]
  },
  {
   "cell_type": "markdown",
   "metadata": {},
   "source": [
    "Que pasa si mezclamos especies?"
   ]
  },
  {
   "cell_type": "code",
   "execution_count": null,
   "metadata": {},
   "outputs": [],
   "source": [
    "raise_young(Duck(),Swan())"
   ]
  },
  {
   "cell_type": "markdown",
   "metadata": {},
   "source": [
    "De nuevo vemos un problema. Sabemos que los patos abandonan a los cisnes bebés.\n",
    "\n",
    "Corregimos el problema, escribiendo"
   ]
  },
  {
   "cell_type": "code",
   "execution_count": null,
   "metadata": {},
   "outputs": [],
   "source": [
    "function raise_young(swan::Duck,babe::Swan)\n",
    "    println(draw(swan),\" abandon 🐤\")\n",
    "end"
   ]
  },
  {
   "cell_type": "markdown",
   "metadata": {},
   "source": [
    "y volvemos a probar"
   ]
  },
  {
   "cell_type": "code",
   "execution_count": null,
   "metadata": {},
   "outputs": [],
   "source": [
    "raise_young(Duck(),Swan())"
   ]
  },
  {
   "cell_type": "markdown",
   "metadata": {},
   "source": [
    "Que pasa si invertimos el orden y pedimos que un cisne críe un patito?"
   ]
  },
  {
   "cell_type": "code",
   "execution_count": null,
   "metadata": {},
   "outputs": [],
   "source": [
    "raise_young(Swan(),Duck())"
   ]
  },
  {
   "cell_type": "markdown",
   "metadata": {},
   "source": [
    "## El problema de la extensibilidad"
   ]
  },
  {
   "cell_type": "markdown",
   "metadata": {},
   "source": [
    "*The Expression Problem Revisited, M. Torgersen (2004)*\n",
    "\n",
    "En que grado nuestro paquete de código puede ser extructurado de manera tal que:\n",
    "\n",
    "1. el **modelo de datos** y\n",
    "\n",
    "2. el conjunto de **operaciones (virtuales)** sobre ellos\n",
    "\n",
    "puedan ser **extendidos** sin necesidad de:\n",
    "\n",
    "1. modificar el código ya existente,\n",
    "\n",
    "2. repetir código y\n",
    "\n",
    "3. sin introducir errores de tipo en tiempos de ejecución?\n",
    "\n",
    "#### En otras palabras\n",
    "\n",
    "Se puede fácil y \"correctamente\" hacer las siguientes cosas:\n",
    "\n",
    "1. definir **tipos nuevos** sobre los cuales las **operaciones existentes** apliquen, y\n",
    "\n",
    "2. definir **nuevas operaciones** que apliquen sobre los **tipos existentes**?\n",
    "\n",
    "Este tipo de requermientos resultan fáciles/díficiles de implementar según el paradigma utilizado:\n",
    "\n",
    "1. es **fácil** en lenguajes **orientados a objetos** y **difícil** en **lenguajes funcionales**, y\n",
    "\n",
    "2. es **difícil** en lenguajes **orientados a objetos** y **fácil** en **lenguajes funcionales**.\n",
    "\n",
    "#### Despacho múltiple propone lo mejor de ambos mundos:\n",
    "\n",
    "1. Agregar nuevos métodos a las **funciones/operaciones genéricas existentes** para actuar sobre **tipos nuevos**.\n",
    "\n",
    "2. Agregar nuevos métodos a **nuevas funciones/operaciones genéricas** que actúen sobre **tipos existentes**."
   ]
  },
  {
   "cell_type": "markdown",
   "metadata": {},
   "source": [
    "### Ejemplo real: DifferentialEquations + Measurements\n",
    "\n",
    "Los paquetes `DifferentialEquations` y `Measurements` fueron implementados de manera independiente. El primero se desarrolló para resolver ecuaciones diferenciales, el segundo para lidiar con datos que tengan incerteza experimental (ej. $x = 1.35 \\pm 0.1$). \n",
    "\n",
    "Como el paquete `Measurements` es un subtipo de `Number`, incorporando métodos nuevos para modelar operaciones matemáticas con ellos (ej. propagación de errores), el integrador ODE proveido en `DifferentialEquations` puede aplicarse directamente a mediciones:"
   ]
  },
  {
   "cell_type": "raw",
   "metadata": {},
   "source": [
    "using Pkg\n",
    "Pkg.add(\"DifferentialEquations\")"
   ]
  },
  {
   "cell_type": "raw",
   "metadata": {},
   "source": [
    "Pkg.add(\"Measurements\")"
   ]
  },
  {
   "cell_type": "code",
   "execution_count": null,
   "metadata": {},
   "outputs": [],
   "source": [
    "using DifferentialEquations\n",
    "using Measurements"
   ]
  },
  {
   "cell_type": "code",
   "execution_count": null,
   "metadata": {},
   "outputs": [],
   "source": [
    "g = 9.79 ± 0.02\n",
    "L = 1.0 ± 0.01\n",
    "\n",
    "u₀ = [0 ± 0, π/60 ± 0.01]\n",
    "tspan = (0.0,6.3)\n",
    "\n",
    "function pendulum(du,u,p,t)\n",
    "    θ = u[1] \n",
    "    dθ = u[2]\n",
    "    du[1] = dθ\n",
    "    du[2] = -(g/L)*θ\n",
    "end\n",
    "\n",
    "prop = ODEProblem(pendulum, u₀, tspan)\n",
    "sol = solve(prop, Tsit5(), reltol = 1e-6)"
   ]
  },
  {
   "cell_type": "code",
   "execution_count": null,
   "metadata": {},
   "outputs": [],
   "source": [
    "using Plots"
   ]
  },
  {
   "cell_type": "code",
   "execution_count": null,
   "metadata": {},
   "outputs": [],
   "source": [
    "sol_u2 = reduce(hcat,sol.u)'[:,2]"
   ]
  },
  {
   "cell_type": "code",
   "execution_count": null,
   "metadata": {},
   "outputs": [],
   "source": [
    "using LaTeXStrings\n",
    "scatter(sol.t,sol_u2,label=\"\",xlabel=L\"t\",ylabel=L\"u_2\")"
   ]
  },
  {
   "cell_type": "code",
   "execution_count": null,
   "metadata": {},
   "outputs": [],
   "source": [
    "methods(+)"
   ]
  }
 ],
 "metadata": {
  "@webio": {
   "lastCommId": null,
   "lastKernelId": null
  },
  "kernelspec": {
   "display_name": "Julia 1.6.1",
   "language": "julia",
   "name": "julia-1.6"
  },
  "language_info": {
   "file_extension": ".jl",
   "mimetype": "application/julia",
   "name": "julia",
   "version": "1.6.1"
  }
 },
 "nbformat": 4,
 "nbformat_minor": 2
}
