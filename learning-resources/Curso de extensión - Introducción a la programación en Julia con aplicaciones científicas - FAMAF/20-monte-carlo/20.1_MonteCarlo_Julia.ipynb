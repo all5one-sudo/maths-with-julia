{
 "cells": [
  {
   "cell_type": "markdown",
   "id": "70aa370e-ecf1-498a-84ab-742634e1f216",
   "metadata": {},
   "source": [
    "<p style=\"text-align:center\"><img src=\"Julia.jpg\" width=\"350\" ></p>"
   ]
  },
  {
   "cell_type": "markdown",
   "id": "bd4cd7a8-0e22-4961-a28c-7088d110d5ca",
   "metadata": {},
   "source": [
    "# Números random o aleatorios"
   ]
  },
  {
   "cell_type": "markdown",
   "id": "c57b7569-18ae-4887-9696-c39282e0769c",
   "metadata": {},
   "source": [
    "## Números al azar\n",
    "\n",
    "La generación de números aleatorios en `Julia` usa el algoritmo `Xoshiro256 ++` por defecto. Se pueden conectar otros tipos de `RNG` heredando el tipo `AbstractRNG`; luego se pueden usar para obtener múltiples flujos de números aleatorios.  \n",
    "https://runebook.dev/es/docs/julia/stdlib/random/index"
   ]
  },
  {
   "cell_type": "markdown",
   "id": "1dc01c4b-693e-4a6e-840e-4b518dfc35ea",
   "metadata": {},
   "source": [
    "Veamos un ejemplo de uso"
   ]
  },
  {
   "cell_type": "code",
   "execution_count": 1,
   "id": "c1fa2648-dffd-4927-8543-a6b32a84e954",
   "metadata": {},
   "outputs": [
    {
     "name": "stdout",
     "output_type": "stream",
     "text": [
      "[0.8149158327617558, 0.03321893197834691, 0.09180757573083764, 0.9959066210003549]"
     ]
    }
   ],
   "source": [
    "x = rand(4)   # Calculamos 4 números aleatorios\n",
    "print(x)"
   ]
  },
  {
   "cell_type": "markdown",
   "id": "ca32e55c-b5d6-4001-b8e3-daf90cfd2043",
   "metadata": {},
   "source": [
    "-----------------------------------------------\n",
    "Podemos generar un vector de d dimensiones con números random"
   ]
  },
  {
   "cell_type": "code",
   "execution_count": 2,
   "id": "7ab1842c-ad4b-460b-b6f4-01f415a12287",
   "metadata": {},
   "outputs": [
    {
     "data": {
      "text/plain": [
       "SumAleatorios (generic function with 1 method)"
      ]
     },
     "execution_count": 2,
     "metadata": {},
     "output_type": "execute_result"
    }
   ],
   "source": [
    "\"\"\"\n",
    " Aqui definimos la funcion SumAleatorios(d, N)\n",
    "cuyos argumentos son d (dimension) y N (cantidaad de números aleatorios que sumaremos).\n",
    "Contruiremos vectores de d dimensiones, y les calcularemos la norma, o la norma al cuadrado\n",
    "\"\"\"\n",
    "\n",
    "function SumAleatorios(d, N)\n",
    "    dim = zeros( 1, d)\n",
    "    for i = 1 : N\n",
    "        for j = 1 : 3\n",
    "            dim[j] = rand()\n",
    "        end\n",
    "\"\"\"        \n",
    "    No es práctico colocar `print` dentro de las funciones, lo hacemos de modo ejemplo\n",
    "\"\"\"        \n",
    "        println(\"abs2 :\",sum(abs2, dim)) # Absoluto al Cuadrado\n",
    "        # Esta funcion toma el valor de dim, le calcula el abs2 y lo suma\n",
    "        # es decir, le calcula la norma al vector de d dimensiones\n",
    "#        println(\"abs  :\",sum(abs, dim)) # Absoluto\n",
    "    end\n",
    "    return sum(dim)\n",
    "end"
   ]
  },
  {
   "cell_type": "code",
   "execution_count": 3,
   "id": "10917cfb-df8e-4152-bbc9-11d1db1b4091",
   "metadata": {},
   "outputs": [
    {
     "name": "stdout",
     "output_type": "stream",
     "text": [
      "abs2 :2.0228874323668338\n",
      "abs2 :0.6179702709372901\n",
      "abs2 :0.5409116653276267\n",
      "abs2 :0.6604484559130688\n"
     ]
    },
    {
     "data": {
      "text/plain": [
       "1.0428724025171134"
      ]
     },
     "execution_count": 3,
     "metadata": {},
     "output_type": "execute_result"
    }
   ],
   "source": [
    "SumAleatorios(3, 4)"
   ]
  },
  {
   "cell_type": "markdown",
   "id": "16ba22bb-448a-4686-8352-29ddd7a63b0b",
   "metadata": {},
   "source": [
    "# Computo de $\\pi$ por el Método Monte Carlo \n",
    "\n",
    "La idea de poder calcular $\\pi$ resulta de estimar el área de un círculo, pues, como sabemos, el área de un círculo es $\\pi \\times R^2$, luego, si dividimos por $R^2$ obtendríamos el valor de $\\pi$.\n",
    "\n",
    "Por otro lado, si calculamos el área de un cuadrado cuyo lado es $2 \\times R$, podríamos usarlo para cancelar $R^2$."
   ]
  },
  {
   "cell_type": "markdown",
   "id": "3aa62a34-776b-4c88-8630-5331c7afef40",
   "metadata": {},
   "source": [
    "<p style=\"text-align:center\"><img src=\"mc_pi3.jpg\" width=\"300\" ></p>"
   ]
  },
  {
   "cell_type": "markdown",
   "id": "da778504-4064-4bad-a714-78fc031e3f1b",
   "metadata": {},
   "source": [
    "Una posibilidad sería contar los cuadraditos que están dentro del círculo y lo que están todos, y con ellos determinar el área del círculo y del cuadrado.  \n",
    "Otra forma sería elegir de manera aleatoria algunos de los cuadraditos y contabilizar con ellos."
   ]
  },
  {
   "cell_type": "markdown",
   "id": "8bc51a61-ae2e-42d2-8c1b-fa02a2bbb35e",
   "metadata": {},
   "source": [
    "El uso del método de `Monte Carlo` para aproximar el valor de $\\pi$ consiste en dibujar un cuadrado, y dentro de ese cuadrado, dibujar un círculo con diámetro de igual medida que uno de los lados del cuadrado.  \n",
    "Luego se dibujan puntos de manera aleatoria sobre la superficie dibujada."
   ]
  },
  {
   "cell_type": "markdown",
   "id": "060e5859-aeb6-46d4-9ec7-0143cb02e6b9",
   "metadata": {},
   "source": [
    "<p style=\"text-align:center\"><img src=\"mc_pi1.jpg\" width=\"300\" ></p>"
   ]
  },
  {
   "cell_type": "markdown",
   "id": "fae0f173-2be9-4755-be00-8d978cc26b0f",
   "metadata": {},
   "source": [
    "tambien podemos pensar en un cuarto de círculo y luego multiplicar por 4"
   ]
  },
  {
   "cell_type": "markdown",
   "id": "062b805a-9373-4142-8696-71a59a4aeeda",
   "metadata": {},
   "source": [
    "<p style=\"text-align:center\"><img src=\"mc_pi2.jpg\" width=\"300\" ></p>"
   ]
  },
  {
   "cell_type": "markdown",
   "id": "0d46df86-6a02-43a0-9df7-760596700169",
   "metadata": {},
   "source": [
    "Entonces implementemos la idea   \n",
    "1. Generemos `N` puntos dentro de un cuadrado de lado dos, por lo que el área del cuadrado será 4 (esto es 2 x 2). Dado que todos los `N` puntos están dentro del cuadrado, el número `N` representa o es proporcional al área del cuadrado,\n",
    "2. Contabilicemos los puntos que cáen dentro del círculo con la variable `n_in_circle`,\n",
    "3. Dividimos `n_in_circle` por `N` y nos dará la relación del área del círculo respecto del área del cuadrado, así tendremos $$\\frac{\\pi \\times R^2}{4 \\times R^2}$$ además podemos considerar $R = 1$ para nuestro caso,\n",
    "4. Al resultado lo multiplicamos por 4 y obtenemos $\\pi$.\n",
    "> recordar que el área del círulo es $\\pi \\times R^2$, y   \n",
    "> del cuadrado de lado $2 \\times R$ el área es $4 \\times R^2$."
   ]
  },
  {
   "cell_type": "code",
   "execution_count": 4,
   "id": "53bdd04c-6126-4740-bb09-0688d91b76ff",
   "metadata": {},
   "outputs": [
    {
     "data": {
      "text/plain": [
       "compute_pi (generic function with 1 method)"
      ]
     },
     "execution_count": 4,
     "metadata": {},
     "output_type": "execute_result"
    }
   ],
   "source": [
    "function compute_pi(N::Int)\n",
    "    \"\"\"\n",
    "    Compute pi with a Monte Carlo simulation of N darts thrown in [-1,1]^2\n",
    "    Returns estimate of pi\n",
    "    \"\"\"\n",
    "    n_in_circle = 0  # counts number of points that have radial coordinate < 1, i.e. in circle\n",
    "    \n",
    "    for i = 1:N\n",
    "        x = rand() * 2 - 1  # uniformly distributed number on x-axis\n",
    "        y = rand() * 2 - 1  # uniformly distributed number on y-axis\n",
    "        \n",
    "        # The rand() function generates a random number between [0, 1]\n",
    "        # rand() * 2 generates a random number between [0, 2]\n",
    "        # (rand() * 2 -1 ) generates a random number between [-1, 1]       \n",
    "\n",
    "        r2 = x*x + y*y  # radius squared, in radial coordinates\n",
    "        if r2 < 1.0     # in our case the radius is one\n",
    "            n_in_circle += 1  # if it is inside the circle, we add one\n",
    "        end\n",
    "    end\n",
    "\n",
    "    return n_in_circle / N * 4.0    # final calculation\n",
    "end"
   ]
  },
  {
   "cell_type": "code",
   "execution_count": 5,
   "id": "96fcde61-68d3-4ad3-801f-1869bc5bc9fc",
   "metadata": {},
   "outputs": [
    {
     "name": "stdout",
     "output_type": "stream",
     "text": [
      "  1.187117 seconds\n"
     ]
    },
    {
     "data": {
      "text/plain": [
       "3.14162612"
      ]
     },
     "execution_count": 5,
     "metadata": {},
     "output_type": "execute_result"
    }
   ],
   "source": [
    "@time compute_pi(100000000)   # cumputemos pi y veamos cuanto demora"
   ]
  },
  {
   "cell_type": "markdown",
   "id": "e86f4d42-27e4-428a-bb98-2432d7cd3006",
   "metadata": {},
   "source": [
    "El valor de $pi$ aproximado es ...\n",
    "$\\pi = 3.141 592 653 589 793 ...$"
   ]
  },
  {
   "cell_type": "markdown",
   "id": "b855322f-09cb-42d8-8492-190e8067c727",
   "metadata": {},
   "source": [
    "## Integral por el método Monte Carlo"
   ]
  },
  {
   "cell_type": "markdown",
   "id": "5dafd29c-b57b-4570-82fe-cee88ad545be",
   "metadata": {},
   "source": [
    "----------------\n",
    "Definamos la función a integrar, por ejemplo la `función cuadrado`"
   ]
  },
  {
   "cell_type": "code",
   "execution_count": 6,
   "id": "5e04fa1b-0fa7-49f9-bb99-3458cad4af6e",
   "metadata": {},
   "outputs": [
    {
     "data": {
      "text/plain": [
       "cuadrado (generic function with 1 method)"
      ]
     },
     "execution_count": 6,
     "metadata": {},
     "output_type": "execute_result"
    }
   ],
   "source": [
    "function cuadrado(x::Real)\n",
    "    \"\"\"\n",
    "    Definición de la Función cuadrado\n",
    "    \"\"\"\n",
    "    return x*x\n",
    "end"
   ]
  },
  {
   "cell_type": "markdown",
   "id": "91f649eb-720a-4b59-860d-9801067535e0",
   "metadata": {},
   "source": [
    "probemos si funciona"
   ]
  },
  {
   "cell_type": "code",
   "execution_count": 7,
   "id": "85f8f4f1-8b7c-49bc-b561-b74a49395462",
   "metadata": {},
   "outputs": [
    {
     "name": "stdout",
     "output_type": "stream",
     "text": [
      "9"
     ]
    }
   ],
   "source": [
    "print(cuadrado(3))"
   ]
  },
  {
   "cell_type": "markdown",
   "id": "32ff4d0d-690d-4c2d-a1ad-4d9962020a25",
   "metadata": {},
   "source": [
    "--------------------\n",
    "Definamos otra función simple para integrar"
   ]
  },
  {
   "cell_type": "code",
   "execution_count": 8,
   "id": "1ea5cc28-b5bb-4ee0-bef1-553546bae769",
   "metadata": {},
   "outputs": [
    {
     "data": {
      "text/plain": [
       "cte (generic function with 1 method)"
      ]
     },
     "execution_count": 8,
     "metadata": {},
     "output_type": "execute_result"
    }
   ],
   "source": [
    "function cte(x::Real)\n",
    "    \"\"\"\n",
    "    Definición de la Función Constante igual a 3.0\n",
    "    \"\"\"\n",
    "    return 3.0\n",
    "end"
   ]
  },
  {
   "cell_type": "code",
   "execution_count": 9,
   "id": "e4b44512-ddd1-4410-a70a-2c899e2184e8",
   "metadata": {},
   "outputs": [
    {
     "name": "stdout",
     "output_type": "stream",
     "text": [
      "3.0"
     ]
    }
   ],
   "source": [
    "print(cte(0))"
   ]
  },
  {
   "cell_type": "markdown",
   "id": "71cd21b5-9f16-4aba-8e12-29e86ad75701",
   "metadata": {},
   "source": [
    "--------------------------\n",
    "Grafiquemos las funciones"
   ]
  },
  {
   "cell_type": "code",
   "execution_count": 10,
   "id": "3a6be113-9047-45f0-93c9-b8c2c7ef439a",
   "metadata": {},
   "outputs": [],
   "source": [
    "using Plots # Llammamos la libreria Plots"
   ]
  },
  {
   "cell_type": "code",
   "execution_count": 11,
   "id": "fab9b4ba-fc93-4725-9a3e-b1cde06dac16",
   "metadata": {},
   "outputs": [
    {
     "data": {
      "image/svg+xml": [
       "<?xml version=\"1.0\" encoding=\"utf-8\"?>\n",
       "<svg xmlns=\"http://www.w3.org/2000/svg\" xmlns:xlink=\"http://www.w3.org/1999/xlink\" width=\"600\" height=\"400\" viewBox=\"0 0 2400 1600\">\n",
       "<defs>\n",
       "  <clipPath id=\"clip480\">\n",
       "    <rect x=\"0\" y=\"0\" width=\"2400\" height=\"1600\"/>\n",
       "  </clipPath>\n",
       "</defs>\n",
       "<path clip-path=\"url(#clip480)\" d=\"\n",
       "M0 1600 L2400 1600 L2400 0 L0 0  Z\n",
       "  \" fill=\"#ffffff\" fill-rule=\"evenodd\" fill-opacity=\"1\"/>\n",
       "<defs>\n",
       "  <clipPath id=\"clip481\">\n",
       "    <rect x=\"480\" y=\"0\" width=\"1681\" height=\"1600\"/>\n",
       "  </clipPath>\n",
       "</defs>\n",
       "<path clip-path=\"url(#clip480)\" d=\"\n",
       "M175.445 1423.18 L2352.76 1423.18 L2352.76 123.472 L175.445 123.472  Z\n",
       "  \" fill=\"#ffffff\" fill-rule=\"evenodd\" fill-opacity=\"1\"/>\n",
       "<defs>\n",
       "  <clipPath id=\"clip482\">\n",
       "    <rect x=\"175\" y=\"123\" width=\"2178\" height=\"1301\"/>\n",
       "  </clipPath>\n",
       "</defs>\n",
       "<polyline clip-path=\"url(#clip482)\" style=\"stroke:#000000; stroke-linecap:butt; stroke-linejoin:round; stroke-width:2; stroke-opacity:0.1; fill:none\" points=\"\n",
       "  237.067,1423.18 237.067,123.472 \n",
       "  \"/>\n",
       "<polyline clip-path=\"url(#clip482)\" style=\"stroke:#000000; stroke-linecap:butt; stroke-linejoin:round; stroke-width:2; stroke-opacity:0.1; fill:none\" points=\"\n",
       "  647.881,1423.18 647.881,123.472 \n",
       "  \"/>\n",
       "<polyline clip-path=\"url(#clip482)\" style=\"stroke:#000000; stroke-linecap:butt; stroke-linejoin:round; stroke-width:2; stroke-opacity:0.1; fill:none\" points=\"\n",
       "  1058.69,1423.18 1058.69,123.472 \n",
       "  \"/>\n",
       "<polyline clip-path=\"url(#clip482)\" style=\"stroke:#000000; stroke-linecap:butt; stroke-linejoin:round; stroke-width:2; stroke-opacity:0.1; fill:none\" points=\"\n",
       "  1469.51,1423.18 1469.51,123.472 \n",
       "  \"/>\n",
       "<polyline clip-path=\"url(#clip482)\" style=\"stroke:#000000; stroke-linecap:butt; stroke-linejoin:round; stroke-width:2; stroke-opacity:0.1; fill:none\" points=\"\n",
       "  1880.32,1423.18 1880.32,123.472 \n",
       "  \"/>\n",
       "<polyline clip-path=\"url(#clip482)\" style=\"stroke:#000000; stroke-linecap:butt; stroke-linejoin:round; stroke-width:2; stroke-opacity:0.1; fill:none\" points=\"\n",
       "  2291.13,1423.18 2291.13,123.472 \n",
       "  \"/>\n",
       "<polyline clip-path=\"url(#clip480)\" style=\"stroke:#000000; stroke-linecap:butt; stroke-linejoin:round; stroke-width:4; stroke-opacity:1; fill:none\" points=\"\n",
       "  175.445,1423.18 2352.76,1423.18 \n",
       "  \"/>\n",
       "<polyline clip-path=\"url(#clip480)\" style=\"stroke:#000000; stroke-linecap:butt; stroke-linejoin:round; stroke-width:4; stroke-opacity:1; fill:none\" points=\"\n",
       "  237.067,1423.18 237.067,1404.28 \n",
       "  \"/>\n",
       "<polyline clip-path=\"url(#clip480)\" style=\"stroke:#000000; stroke-linecap:butt; stroke-linejoin:round; stroke-width:4; stroke-opacity:1; fill:none\" points=\"\n",
       "  647.881,1423.18 647.881,1404.28 \n",
       "  \"/>\n",
       "<polyline clip-path=\"url(#clip480)\" style=\"stroke:#000000; stroke-linecap:butt; stroke-linejoin:round; stroke-width:4; stroke-opacity:1; fill:none\" points=\"\n",
       "  1058.69,1423.18 1058.69,1404.28 \n",
       "  \"/>\n",
       "<polyline clip-path=\"url(#clip480)\" style=\"stroke:#000000; stroke-linecap:butt; stroke-linejoin:round; stroke-width:4; stroke-opacity:1; fill:none\" points=\"\n",
       "  1469.51,1423.18 1469.51,1404.28 \n",
       "  \"/>\n",
       "<polyline clip-path=\"url(#clip480)\" style=\"stroke:#000000; stroke-linecap:butt; stroke-linejoin:round; stroke-width:4; stroke-opacity:1; fill:none\" points=\"\n",
       "  1880.32,1423.18 1880.32,1404.28 \n",
       "  \"/>\n",
       "<polyline clip-path=\"url(#clip480)\" style=\"stroke:#000000; stroke-linecap:butt; stroke-linejoin:round; stroke-width:4; stroke-opacity:1; fill:none\" points=\"\n",
       "  2291.13,1423.18 2291.13,1404.28 \n",
       "  \"/>\n",
       "<path clip-path=\"url(#clip480)\" d=\"M214.452 1454.1 Q210.84 1454.1 209.012 1457.66 Q207.206 1461.2 207.206 1468.33 Q207.206 1475.44 209.012 1479.01 Q210.84 1482.55 214.452 1482.55 Q218.086 1482.55 219.891 1479.01 Q221.72 1475.44 221.72 1468.33 Q221.72 1461.2 219.891 1457.66 Q218.086 1454.1 214.452 1454.1 M214.452 1450.39 Q220.262 1450.39 223.317 1455 Q226.396 1459.58 226.396 1468.33 Q226.396 1477.06 223.317 1481.67 Q220.262 1486.25 214.452 1486.25 Q208.641 1486.25 205.563 1481.67 Q202.507 1477.06 202.507 1468.33 Q202.507 1459.58 205.563 1455 Q208.641 1450.39 214.452 1450.39 Z\" fill=\"#000000\" fill-rule=\"evenodd\" fill-opacity=\"1\" /><path clip-path=\"url(#clip480)\" d=\"M234.614 1479.7 L239.498 1479.7 L239.498 1485.58 L234.614 1485.58 L234.614 1479.7 Z\" fill=\"#000000\" fill-rule=\"evenodd\" fill-opacity=\"1\" /><path clip-path=\"url(#clip480)\" d=\"M259.683 1454.1 Q256.072 1454.1 254.243 1457.66 Q252.437 1461.2 252.437 1468.33 Q252.437 1475.44 254.243 1479.01 Q256.072 1482.55 259.683 1482.55 Q263.317 1482.55 265.123 1479.01 Q266.951 1475.44 266.951 1468.33 Q266.951 1461.2 265.123 1457.66 Q263.317 1454.1 259.683 1454.1 M259.683 1450.39 Q265.493 1450.39 268.549 1455 Q271.627 1459.58 271.627 1468.33 Q271.627 1477.06 268.549 1481.67 Q265.493 1486.25 259.683 1486.25 Q253.873 1486.25 250.794 1481.67 Q247.738 1477.06 247.738 1468.33 Q247.738 1459.58 250.794 1455 Q253.873 1450.39 259.683 1450.39 Z\" fill=\"#000000\" fill-rule=\"evenodd\" fill-opacity=\"1\" /><path clip-path=\"url(#clip480)\" d=\"M625.763 1454.1 Q622.152 1454.1 620.323 1457.66 Q618.517 1461.2 618.517 1468.33 Q618.517 1475.44 620.323 1479.01 Q622.152 1482.55 625.763 1482.55 Q629.397 1482.55 631.202 1479.01 Q633.031 1475.44 633.031 1468.33 Q633.031 1461.2 631.202 1457.66 Q629.397 1454.1 625.763 1454.1 M625.763 1450.39 Q631.573 1450.39 634.628 1455 Q637.707 1459.58 637.707 1468.33 Q637.707 1477.06 634.628 1481.67 Q631.573 1486.25 625.763 1486.25 Q619.952 1486.25 616.874 1481.67 Q613.818 1477.06 613.818 1468.33 Q613.818 1459.58 616.874 1455 Q619.952 1450.39 625.763 1450.39 Z\" fill=\"#000000\" fill-rule=\"evenodd\" fill-opacity=\"1\" /><path clip-path=\"url(#clip480)\" d=\"M645.925 1479.7 L650.809 1479.7 L650.809 1485.58 L645.925 1485.58 L645.925 1479.7 Z\" fill=\"#000000\" fill-rule=\"evenodd\" fill-opacity=\"1\" /><path clip-path=\"url(#clip480)\" d=\"M661.04 1451.02 L679.397 1451.02 L679.397 1454.96 L665.323 1454.96 L665.323 1463.43 Q666.341 1463.08 667.36 1462.92 Q668.378 1462.73 669.397 1462.73 Q675.184 1462.73 678.563 1465.9 Q681.943 1469.08 681.943 1474.49 Q681.943 1480.07 678.471 1483.17 Q674.998 1486.25 668.679 1486.25 Q666.503 1486.25 664.235 1485.88 Q661.989 1485.51 659.582 1484.77 L659.582 1480.07 Q661.665 1481.2 663.887 1481.76 Q666.11 1482.32 668.586 1482.32 Q672.591 1482.32 674.929 1480.21 Q677.267 1478.1 677.267 1474.49 Q677.267 1470.88 674.929 1468.77 Q672.591 1466.67 668.586 1466.67 Q666.711 1466.67 664.836 1467.08 Q662.985 1467.5 661.04 1468.38 L661.04 1451.02 Z\" fill=\"#000000\" fill-rule=\"evenodd\" fill-opacity=\"1\" /><path clip-path=\"url(#clip480)\" d=\"M1025.85 1481.64 L1033.49 1481.64 L1033.49 1455.28 L1025.18 1456.95 L1025.18 1452.69 L1033.44 1451.02 L1038.12 1451.02 L1038.12 1481.64 L1045.75 1481.64 L1045.75 1485.58 L1025.85 1485.58 L1025.85 1481.64 Z\" fill=\"#000000\" fill-rule=\"evenodd\" fill-opacity=\"1\" /><path clip-path=\"url(#clip480)\" d=\"M1055.2 1479.7 L1060.08 1479.7 L1060.08 1485.58 L1055.2 1485.58 L1055.2 1479.7 Z\" fill=\"#000000\" fill-rule=\"evenodd\" fill-opacity=\"1\" /><path clip-path=\"url(#clip480)\" d=\"M1080.27 1454.1 Q1076.66 1454.1 1074.83 1457.66 Q1073.02 1461.2 1073.02 1468.33 Q1073.02 1475.44 1074.83 1479.01 Q1076.66 1482.55 1080.27 1482.55 Q1083.9 1482.55 1085.71 1479.01 Q1087.54 1475.44 1087.54 1468.33 Q1087.54 1461.2 1085.71 1457.66 Q1083.9 1454.1 1080.27 1454.1 M1080.27 1450.39 Q1086.08 1450.39 1089.13 1455 Q1092.21 1459.58 1092.21 1468.33 Q1092.21 1477.06 1089.13 1481.67 Q1086.08 1486.25 1080.27 1486.25 Q1074.46 1486.25 1071.38 1481.67 Q1068.32 1477.06 1068.32 1468.33 Q1068.32 1459.58 1071.38 1455 Q1074.46 1450.39 1080.27 1450.39 Z\" fill=\"#000000\" fill-rule=\"evenodd\" fill-opacity=\"1\" /><path clip-path=\"url(#clip480)\" d=\"M1437.16 1481.64 L1444.8 1481.64 L1444.8 1455.28 L1436.49 1456.95 L1436.49 1452.69 L1444.75 1451.02 L1449.43 1451.02 L1449.43 1481.64 L1457.07 1481.64 L1457.07 1485.58 L1437.16 1485.58 L1437.16 1481.64 Z\" fill=\"#000000\" fill-rule=\"evenodd\" fill-opacity=\"1\" /><path clip-path=\"url(#clip480)\" d=\"M1466.51 1479.7 L1471.39 1479.7 L1471.39 1485.58 L1466.51 1485.58 L1466.51 1479.7 Z\" fill=\"#000000\" fill-rule=\"evenodd\" fill-opacity=\"1\" /><path clip-path=\"url(#clip480)\" d=\"M1481.63 1451.02 L1499.98 1451.02 L1499.98 1454.96 L1485.91 1454.96 L1485.91 1463.43 Q1486.93 1463.08 1487.94 1462.92 Q1488.96 1462.73 1489.98 1462.73 Q1495.77 1462.73 1499.15 1465.9 Q1502.53 1469.08 1502.53 1474.49 Q1502.53 1480.07 1499.06 1483.17 Q1495.58 1486.25 1489.26 1486.25 Q1487.09 1486.25 1484.82 1485.88 Q1482.57 1485.51 1480.17 1484.77 L1480.17 1480.07 Q1482.25 1481.2 1484.47 1481.76 Q1486.69 1482.32 1489.17 1482.32 Q1493.18 1482.32 1495.51 1480.21 Q1497.85 1478.1 1497.85 1474.49 Q1497.85 1470.88 1495.51 1468.77 Q1493.18 1466.67 1489.17 1466.67 Q1487.3 1466.67 1485.42 1467.08 Q1483.57 1467.5 1481.63 1468.38 L1481.63 1451.02 Z\" fill=\"#000000\" fill-rule=\"evenodd\" fill-opacity=\"1\" /><path clip-path=\"url(#clip480)\" d=\"M1851.56 1481.64 L1867.88 1481.64 L1867.88 1485.58 L1845.93 1485.58 L1845.93 1481.64 Q1848.6 1478.89 1853.18 1474.26 Q1857.79 1469.61 1858.97 1468.27 Q1861.21 1465.74 1862.09 1464.01 Q1862.99 1462.25 1862.99 1460.56 Q1862.99 1457.8 1861.05 1456.07 Q1859.13 1454.33 1856.03 1454.33 Q1853.83 1454.33 1851.37 1455.09 Q1848.94 1455.86 1846.17 1457.41 L1846.17 1452.69 Q1848.99 1451.55 1851.44 1450.97 Q1853.9 1450.39 1855.93 1450.39 Q1861.3 1450.39 1864.5 1453.08 Q1867.69 1455.77 1867.69 1460.26 Q1867.69 1462.39 1866.88 1464.31 Q1866.1 1466.2 1863.99 1468.8 Q1863.41 1469.47 1860.31 1472.69 Q1857.21 1475.88 1851.56 1481.64 Z\" fill=\"#000000\" fill-rule=\"evenodd\" fill-opacity=\"1\" /><path clip-path=\"url(#clip480)\" d=\"M1877.69 1479.7 L1882.58 1479.7 L1882.58 1485.58 L1877.69 1485.58 L1877.69 1479.7 Z\" fill=\"#000000\" fill-rule=\"evenodd\" fill-opacity=\"1\" /><path clip-path=\"url(#clip480)\" d=\"M1902.76 1454.1 Q1899.15 1454.1 1897.32 1457.66 Q1895.52 1461.2 1895.52 1468.33 Q1895.52 1475.44 1897.32 1479.01 Q1899.15 1482.55 1902.76 1482.55 Q1906.4 1482.55 1908.2 1479.01 Q1910.03 1475.44 1910.03 1468.33 Q1910.03 1461.2 1908.2 1457.66 Q1906.4 1454.1 1902.76 1454.1 M1902.76 1450.39 Q1908.57 1450.39 1911.63 1455 Q1914.71 1459.58 1914.71 1468.33 Q1914.71 1477.06 1911.63 1481.67 Q1908.57 1486.25 1902.76 1486.25 Q1896.95 1486.25 1893.87 1481.67 Q1890.82 1477.06 1890.82 1468.33 Q1890.82 1459.58 1893.87 1455 Q1896.95 1450.39 1902.76 1450.39 Z\" fill=\"#000000\" fill-rule=\"evenodd\" fill-opacity=\"1\" /><path clip-path=\"url(#clip480)\" d=\"M2262.87 1481.64 L2279.19 1481.64 L2279.19 1485.58 L2257.25 1485.58 L2257.25 1481.64 Q2259.91 1478.89 2264.49 1474.26 Q2269.1 1469.61 2270.28 1468.27 Q2272.52 1465.74 2273.4 1464.01 Q2274.31 1462.25 2274.31 1460.56 Q2274.31 1457.8 2272.36 1456.07 Q2270.44 1454.33 2267.34 1454.33 Q2265.14 1454.33 2262.68 1455.09 Q2260.25 1455.86 2257.48 1457.41 L2257.48 1452.69 Q2260.3 1451.55 2262.75 1450.97 Q2265.21 1450.39 2267.25 1450.39 Q2272.62 1450.39 2275.81 1453.08 Q2279 1455.77 2279 1460.26 Q2279 1462.39 2278.19 1464.31 Q2277.41 1466.2 2275.3 1468.8 Q2274.72 1469.47 2271.62 1472.69 Q2268.52 1475.88 2262.87 1481.64 Z\" fill=\"#000000\" fill-rule=\"evenodd\" fill-opacity=\"1\" /><path clip-path=\"url(#clip480)\" d=\"M2289 1479.7 L2293.89 1479.7 L2293.89 1485.58 L2289 1485.58 L2289 1479.7 Z\" fill=\"#000000\" fill-rule=\"evenodd\" fill-opacity=\"1\" /><path clip-path=\"url(#clip480)\" d=\"M2304.12 1451.02 L2322.48 1451.02 L2322.48 1454.96 L2308.4 1454.96 L2308.4 1463.43 Q2309.42 1463.08 2310.44 1462.92 Q2311.46 1462.73 2312.48 1462.73 Q2318.26 1462.73 2321.64 1465.9 Q2325.02 1469.08 2325.02 1474.49 Q2325.02 1480.07 2321.55 1483.17 Q2318.08 1486.25 2311.76 1486.25 Q2309.58 1486.25 2307.31 1485.88 Q2305.07 1485.51 2302.66 1484.77 L2302.66 1480.07 Q2304.74 1481.2 2306.97 1481.76 Q2309.19 1482.32 2311.67 1482.32 Q2315.67 1482.32 2318.01 1480.21 Q2320.35 1478.1 2320.35 1474.49 Q2320.35 1470.88 2318.01 1468.77 Q2315.67 1466.67 2311.67 1466.67 Q2309.79 1466.67 2307.92 1467.08 Q2306.06 1467.5 2304.12 1468.38 L2304.12 1451.02 Z\" fill=\"#000000\" fill-rule=\"evenodd\" fill-opacity=\"1\" /><path clip-path=\"url(#clip480)\" d=\"M1280.72 1532.4 L1267.82 1549.74 L1281.38 1568.04 L1274.48 1568.04 L1264.1 1554.04 L1253.72 1568.04 L1246.82 1568.04 L1260.66 1549.39 L1248 1532.4 L1254.9 1532.4 L1264.36 1545.1 L1273.81 1532.4 L1280.72 1532.4 Z\" fill=\"#000000\" fill-rule=\"evenodd\" fill-opacity=\"1\" /><polyline clip-path=\"url(#clip482)\" style=\"stroke:#000000; stroke-linecap:butt; stroke-linejoin:round; stroke-width:2; stroke-opacity:0.1; fill:none\" points=\"\n",
       "  175.445,1386.4 2352.76,1386.4 \n",
       "  \"/>\n",
       "<polyline clip-path=\"url(#clip482)\" style=\"stroke:#000000; stroke-linecap:butt; stroke-linejoin:round; stroke-width:2; stroke-opacity:0.1; fill:none\" points=\"\n",
       "  175.445,1190.21 2352.76,1190.21 \n",
       "  \"/>\n",
       "<polyline clip-path=\"url(#clip482)\" style=\"stroke:#000000; stroke-linecap:butt; stroke-linejoin:round; stroke-width:2; stroke-opacity:0.1; fill:none\" points=\"\n",
       "  175.445,994.031 2352.76,994.031 \n",
       "  \"/>\n",
       "<polyline clip-path=\"url(#clip482)\" style=\"stroke:#000000; stroke-linecap:butt; stroke-linejoin:round; stroke-width:2; stroke-opacity:0.1; fill:none\" points=\"\n",
       "  175.445,797.849 2352.76,797.849 \n",
       "  \"/>\n",
       "<polyline clip-path=\"url(#clip482)\" style=\"stroke:#000000; stroke-linecap:butt; stroke-linejoin:round; stroke-width:2; stroke-opacity:0.1; fill:none\" points=\"\n",
       "  175.445,601.666 2352.76,601.666 \n",
       "  \"/>\n",
       "<polyline clip-path=\"url(#clip482)\" style=\"stroke:#000000; stroke-linecap:butt; stroke-linejoin:round; stroke-width:2; stroke-opacity:0.1; fill:none\" points=\"\n",
       "  175.445,405.484 2352.76,405.484 \n",
       "  \"/>\n",
       "<polyline clip-path=\"url(#clip482)\" style=\"stroke:#000000; stroke-linecap:butt; stroke-linejoin:round; stroke-width:2; stroke-opacity:0.1; fill:none\" points=\"\n",
       "  175.445,209.302 2352.76,209.302 \n",
       "  \"/>\n",
       "<polyline clip-path=\"url(#clip480)\" style=\"stroke:#000000; stroke-linecap:butt; stroke-linejoin:round; stroke-width:4; stroke-opacity:1; fill:none\" points=\"\n",
       "  175.445,1423.18 175.445,123.472 \n",
       "  \"/>\n",
       "<polyline clip-path=\"url(#clip480)\" style=\"stroke:#000000; stroke-linecap:butt; stroke-linejoin:round; stroke-width:4; stroke-opacity:1; fill:none\" points=\"\n",
       "  175.445,1386.4 194.343,1386.4 \n",
       "  \"/>\n",
       "<polyline clip-path=\"url(#clip480)\" style=\"stroke:#000000; stroke-linecap:butt; stroke-linejoin:round; stroke-width:4; stroke-opacity:1; fill:none\" points=\"\n",
       "  175.445,1190.21 194.343,1190.21 \n",
       "  \"/>\n",
       "<polyline clip-path=\"url(#clip480)\" style=\"stroke:#000000; stroke-linecap:butt; stroke-linejoin:round; stroke-width:4; stroke-opacity:1; fill:none\" points=\"\n",
       "  175.445,994.031 194.343,994.031 \n",
       "  \"/>\n",
       "<polyline clip-path=\"url(#clip480)\" style=\"stroke:#000000; stroke-linecap:butt; stroke-linejoin:round; stroke-width:4; stroke-opacity:1; fill:none\" points=\"\n",
       "  175.445,797.849 194.343,797.849 \n",
       "  \"/>\n",
       "<polyline clip-path=\"url(#clip480)\" style=\"stroke:#000000; stroke-linecap:butt; stroke-linejoin:round; stroke-width:4; stroke-opacity:1; fill:none\" points=\"\n",
       "  175.445,601.666 194.343,601.666 \n",
       "  \"/>\n",
       "<polyline clip-path=\"url(#clip480)\" style=\"stroke:#000000; stroke-linecap:butt; stroke-linejoin:round; stroke-width:4; stroke-opacity:1; fill:none\" points=\"\n",
       "  175.445,405.484 194.343,405.484 \n",
       "  \"/>\n",
       "<polyline clip-path=\"url(#clip480)\" style=\"stroke:#000000; stroke-linecap:butt; stroke-linejoin:round; stroke-width:4; stroke-opacity:1; fill:none\" points=\"\n",
       "  175.445,209.302 194.343,209.302 \n",
       "  \"/>\n",
       "<path clip-path=\"url(#clip480)\" d=\"M127.501 1372.19 Q123.89 1372.19 122.061 1375.76 Q120.255 1379.3 120.255 1386.43 Q120.255 1393.54 122.061 1397.1 Q123.89 1400.64 127.501 1400.64 Q131.135 1400.64 132.941 1397.1 Q134.769 1393.54 134.769 1386.43 Q134.769 1379.3 132.941 1375.76 Q131.135 1372.19 127.501 1372.19 M127.501 1368.49 Q133.311 1368.49 136.367 1373.1 Q139.445 1377.68 139.445 1386.43 Q139.445 1395.16 136.367 1399.76 Q133.311 1404.35 127.501 1404.35 Q121.691 1404.35 118.612 1399.76 Q115.556 1395.16 115.556 1386.43 Q115.556 1377.68 118.612 1373.1 Q121.691 1368.49 127.501 1368.49 Z\" fill=\"#000000\" fill-rule=\"evenodd\" fill-opacity=\"1\" /><path clip-path=\"url(#clip480)\" d=\"M119.538 1203.56 L127.177 1203.56 L127.177 1177.19 L118.867 1178.86 L118.867 1174.6 L127.13 1172.93 L131.806 1172.93 L131.806 1203.56 L139.445 1203.56 L139.445 1207.49 L119.538 1207.49 L119.538 1203.56 Z\" fill=\"#000000\" fill-rule=\"evenodd\" fill-opacity=\"1\" /><path clip-path=\"url(#clip480)\" d=\"M123.126 1007.38 L139.445 1007.38 L139.445 1011.31 L117.501 1011.31 L117.501 1007.38 Q120.163 1004.62 124.746 999.992 Q129.353 995.339 130.533 993.996 Q132.779 991.473 133.658 989.737 Q134.561 987.978 134.561 986.288 Q134.561 983.533 132.617 981.797 Q130.695 980.061 127.593 980.061 Q125.394 980.061 122.941 980.825 Q120.51 981.589 117.732 983.14 L117.732 978.418 Q120.556 977.283 123.01 976.705 Q125.464 976.126 127.501 976.126 Q132.871 976.126 136.066 978.811 Q139.26 981.496 139.26 985.987 Q139.26 988.117 138.45 990.038 Q137.663 991.936 135.556 994.529 Q134.978 995.2 131.876 998.418 Q128.774 1001.61 123.126 1007.38 Z\" fill=\"#000000\" fill-rule=\"evenodd\" fill-opacity=\"1\" /><path clip-path=\"url(#clip480)\" d=\"M132.316 796.495 Q135.672 797.212 137.547 799.481 Q139.445 801.749 139.445 805.083 Q139.445 810.198 135.927 812.999 Q132.408 815.8 125.927 815.8 Q123.751 815.8 121.436 815.36 Q119.144 814.944 116.691 814.087 L116.691 809.573 Q118.635 810.707 120.95 811.286 Q123.265 811.865 125.788 811.865 Q130.186 811.865 132.478 810.129 Q134.792 808.393 134.792 805.083 Q134.792 802.027 132.64 800.314 Q130.51 798.578 126.691 798.578 L122.663 798.578 L122.663 794.735 L126.876 794.735 Q130.325 794.735 132.154 793.37 Q133.982 791.981 133.982 789.388 Q133.982 786.726 132.084 785.314 Q130.209 783.879 126.691 783.879 Q124.769 783.879 122.57 784.296 Q120.371 784.712 117.732 785.592 L117.732 781.425 Q120.394 780.685 122.709 780.314 Q125.047 779.944 127.107 779.944 Q132.431 779.944 135.533 782.374 Q138.635 784.782 138.635 788.902 Q138.635 791.772 136.992 793.763 Q135.348 795.731 132.316 796.495 Z\" fill=\"#000000\" fill-rule=\"evenodd\" fill-opacity=\"1\" /><path clip-path=\"url(#clip480)\" d=\"M129.862 588.461 L118.056 606.91 L129.862 606.91 L129.862 588.461 M128.635 584.386 L134.515 584.386 L134.515 606.91 L139.445 606.91 L139.445 610.798 L134.515 610.798 L134.515 618.946 L129.862 618.946 L129.862 610.798 L114.26 610.798 L114.26 606.285 L128.635 584.386 Z\" fill=\"#000000\" fill-rule=\"evenodd\" fill-opacity=\"1\" /><path clip-path=\"url(#clip480)\" d=\"M118.543 388.204 L136.899 388.204 L136.899 392.139 L122.825 392.139 L122.825 400.612 Q123.843 400.264 124.862 400.102 Q125.88 399.917 126.899 399.917 Q132.686 399.917 136.066 403.088 Q139.445 406.26 139.445 411.676 Q139.445 417.255 135.973 420.357 Q132.501 423.435 126.181 423.435 Q124.005 423.435 121.737 423.065 Q119.492 422.695 117.084 421.954 L117.084 417.255 Q119.168 418.389 121.39 418.945 Q123.612 419.5 126.089 419.5 Q130.093 419.5 132.431 417.394 Q134.769 415.287 134.769 411.676 Q134.769 408.065 132.431 405.959 Q130.093 403.852 126.089 403.852 Q124.214 403.852 122.339 404.269 Q120.487 404.686 118.543 405.565 L118.543 388.204 Z\" fill=\"#000000\" fill-rule=\"evenodd\" fill-opacity=\"1\" /><path clip-path=\"url(#clip480)\" d=\"M127.917 207.438 Q124.769 207.438 122.918 209.591 Q121.089 211.744 121.089 215.494 Q121.089 219.221 122.918 221.397 Q124.769 223.549 127.917 223.549 Q131.066 223.549 132.894 221.397 Q134.746 219.221 134.746 215.494 Q134.746 211.744 132.894 209.591 Q131.066 207.438 127.917 207.438 M137.2 192.786 L137.2 197.045 Q135.441 196.212 133.635 195.772 Q131.853 195.332 130.093 195.332 Q125.464 195.332 123.01 198.457 Q120.58 201.582 120.232 207.901 Q121.598 205.888 123.658 204.823 Q125.718 203.735 128.195 203.735 Q133.404 203.735 136.413 206.906 Q139.445 210.054 139.445 215.494 Q139.445 220.818 136.297 224.036 Q133.149 227.253 127.917 227.253 Q121.922 227.253 118.751 222.67 Q115.58 218.063 115.58 209.337 Q115.58 201.142 119.468 196.281 Q123.357 191.397 129.908 191.397 Q131.667 191.397 133.45 191.744 Q135.255 192.091 137.2 192.786 Z\" fill=\"#000000\" fill-rule=\"evenodd\" fill-opacity=\"1\" /><path clip-path=\"url(#clip480)\" d=\"M14.479 803.277 L19.3487 803.277 L19.3487 808.878 Q19.3487 812.029 20.6219 813.271 Q21.895 814.48 25.2052 814.48 L28.3562 814.48 L28.3562 804.836 L32.9077 804.836 L32.9077 814.48 L64.0042 814.48 L64.0042 820.369 L32.9077 820.369 L32.9077 825.97 L28.3562 825.97 L28.3562 820.369 L25.8736 820.369 Q19.9216 820.369 17.2162 817.599 Q14.479 814.83 14.479 808.815 L14.479 803.277 Z\" fill=\"#000000\" fill-rule=\"evenodd\" fill-opacity=\"1\" /><path clip-path=\"url(#clip480)\" d=\"M14.5426 784.307 Q21.8632 788.572 29.0246 790.641 Q36.186 792.71 43.5384 792.71 Q50.8908 792.71 58.1159 790.641 Q65.3091 788.54 72.5979 784.307 L72.5979 789.399 Q65.1182 794.174 57.8931 796.561 Q50.668 798.916 43.5384 798.916 Q36.4406 798.916 29.2474 796.561 Q22.0542 794.206 14.5426 789.399 L14.5426 784.307 Z\" fill=\"#000000\" fill-rule=\"evenodd\" fill-opacity=\"1\" /><path clip-path=\"url(#clip480)\" d=\"M28.3562 743.312 L45.7028 756.202 L64.0042 742.643 L64.0042 749.55 L49.9996 759.926 L64.0042 770.302 L64.0042 777.209 L45.3526 763.364 L28.3562 776.031 L28.3562 769.125 L41.0558 759.672 L28.3562 750.218 L28.3562 743.312 Z\" fill=\"#000000\" fill-rule=\"evenodd\" fill-opacity=\"1\" /><path clip-path=\"url(#clip480)\" d=\"M14.5426 735.291 L14.5426 730.198 Q22.0542 725.424 29.2474 723.069 Q36.4406 720.682 43.5384 720.682 Q50.668 720.682 57.8931 723.069 Q65.1182 725.424 72.5979 730.198 L72.5979 735.291 Q65.3091 731.058 58.1159 728.989 Q50.8908 726.888 43.5384 726.888 Q36.186 726.888 29.0246 728.989 Q21.8632 731.058 14.5426 735.291 Z\" fill=\"#000000\" fill-rule=\"evenodd\" fill-opacity=\"1\" /><path clip-path=\"url(#clip480)\" d=\"M895.894 12.096 L930.65 12.096 L930.65 18.9825 L904.076 18.9825 L904.076 36.8065 L928.058 36.8065 L928.058 43.6931 L904.076 43.6931 L904.076 72.576 L895.894 72.576 L895.894 12.096 Z\" fill=\"#000000\" fill-rule=\"evenodd\" fill-opacity=\"1\" /><path clip-path=\"url(#clip480)\" d=\"M937.983 54.671 L937.983 27.2059 L945.436 27.2059 L945.436 54.3874 Q945.436 60.8284 947.948 64.0691 Q950.459 67.2693 955.482 67.2693 Q961.518 67.2693 965.002 63.421 Q968.526 59.5726 968.526 52.9291 L968.526 27.2059 L975.98 27.2059 L975.98 72.576 L968.526 72.576 L968.526 65.6084 Q965.812 69.7404 962.207 71.7658 Q958.642 73.7508 953.903 73.7508 Q946.084 73.7508 942.033 68.8897 Q937.983 64.0286 937.983 54.671 M956.738 26.1121 L956.738 26.1121 Z\" fill=\"#000000\" fill-rule=\"evenodd\" fill-opacity=\"1\" /><path clip-path=\"url(#clip480)\" d=\"M1029.05 45.1919 L1029.05 72.576 L1021.59 72.576 L1021.59 45.4349 Q1021.59 38.994 1019.08 35.7938 Q1016.57 32.5936 1011.55 32.5936 Q1005.51 32.5936 1002.03 36.4419 Q998.544 40.2903 998.544 46.9338 L998.544 72.576 L991.049 72.576 L991.049 27.2059 L998.544 27.2059 L998.544 34.2544 Q1001.22 30.163 1004.82 28.1376 Q1008.47 26.1121 1013.21 26.1121 Q1021.03 26.1121 1025.04 30.9732 Q1029.05 35.7938 1029.05 45.1919 Z\" fill=\"#000000\" fill-rule=\"evenodd\" fill-opacity=\"1\" /><path clip-path=\"url(#clip480)\" d=\"M1076.56 28.9478 L1076.56 35.9153 Q1073.4 34.1734 1070.2 33.3227 Q1067.04 32.4315 1063.8 32.4315 Q1056.55 32.4315 1052.54 37.0496 Q1048.53 41.6271 1048.53 49.9314 Q1048.53 58.2358 1052.54 62.8538 Q1056.55 67.4314 1063.8 67.4314 Q1067.04 67.4314 1070.2 66.5807 Q1073.4 65.6895 1076.56 63.9476 L1076.56 70.8341 Q1073.44 72.2924 1070.08 73.0216 Q1066.76 73.7508 1062.99 73.7508 Q1052.74 73.7508 1046.71 67.3098 Q1040.67 60.8689 1040.67 49.9314 Q1040.67 38.832 1046.75 32.472 Q1052.87 26.1121 1063.48 26.1121 Q1066.92 26.1121 1070.2 26.8413 Q1073.49 27.5299 1076.56 28.9478 Z\" fill=\"#000000\" fill-rule=\"evenodd\" fill-opacity=\"1\" /><path clip-path=\"url(#clip480)\" d=\"M1089.53 27.2059 L1096.98 27.2059 L1096.98 72.576 L1089.53 72.576 L1089.53 27.2059 M1089.53 9.54393 L1096.98 9.54393 L1096.98 18.9825 L1089.53 18.9825 L1089.53 9.54393 Z\" fill=\"#000000\" fill-rule=\"evenodd\" fill-opacity=\"1\" /><path clip-path=\"url(#clip480)\" d=\"M1130.16 32.4315 Q1124.16 32.4315 1120.68 37.1306 Q1117.19 41.7891 1117.19 49.9314 Q1117.19 58.0738 1120.64 62.7728 Q1124.12 67.4314 1130.16 67.4314 Q1136.11 67.4314 1139.6 62.7323 Q1143.08 58.0333 1143.08 49.9314 Q1143.08 41.8701 1139.6 37.1711 Q1136.11 32.4315 1130.16 32.4315 M1130.16 26.1121 Q1139.88 26.1121 1145.43 32.4315 Q1150.98 38.7509 1150.98 49.9314 Q1150.98 61.0714 1145.43 67.4314 Q1139.88 73.7508 1130.16 73.7508 Q1120.39 73.7508 1114.84 67.4314 Q1109.34 61.0714 1109.34 49.9314 Q1109.34 38.7509 1114.84 32.4315 Q1120.39 26.1121 1130.16 26.1121 M1135.79 6.22219 L1143.85 6.22219 L1130.64 21.4536 L1124.45 21.4536 L1135.79 6.22219 Z\" fill=\"#000000\" fill-rule=\"evenodd\" fill-opacity=\"1\" /><path clip-path=\"url(#clip480)\" d=\"M1201.05 45.1919 L1201.05 72.576 L1193.59 72.576 L1193.59 45.4349 Q1193.59 38.994 1191.08 35.7938 Q1188.57 32.5936 1183.55 32.5936 Q1177.51 32.5936 1174.03 36.4419 Q1170.54 40.2903 1170.54 46.9338 L1170.54 72.576 L1163.05 72.576 L1163.05 27.2059 L1170.54 27.2059 L1170.54 34.2544 Q1173.22 30.163 1176.82 28.1376 Q1180.47 26.1121 1185.21 26.1121 Q1193.03 26.1121 1197.04 30.9732 Q1201.05 35.7938 1201.05 45.1919 Z\" fill=\"#000000\" fill-rule=\"evenodd\" fill-opacity=\"1\" /><path clip-path=\"url(#clip480)\" d=\"M1287.9 16.7545 L1287.9 25.383 Q1283.77 21.5346 1279.07 19.6307 Q1274.41 17.7268 1269.14 17.7268 Q1258.77 17.7268 1253.26 24.0867 Q1247.76 30.4061 1247.76 42.3968 Q1247.76 54.3469 1253.26 60.7069 Q1258.77 67.0263 1269.14 67.0263 Q1274.41 67.0263 1279.07 65.1223 Q1283.77 63.2184 1287.9 59.3701 L1287.9 67.9175 Q1283.61 70.8341 1278.79 72.2924 Q1274.01 73.7508 1268.66 73.7508 Q1254.93 73.7508 1247.03 65.3654 Q1239.13 56.9395 1239.13 42.3968 Q1239.13 27.8135 1247.03 19.4281 Q1254.93 11.0023 1268.66 11.0023 Q1274.09 11.0023 1278.87 12.4606 Q1283.69 13.8784 1287.9 16.7545 Z\" fill=\"#000000\" fill-rule=\"evenodd\" fill-opacity=\"1\" /><path clip-path=\"url(#clip480)\" d=\"M1299.44 54.671 L1299.44 27.2059 L1306.9 27.2059 L1306.9 54.3874 Q1306.9 60.8284 1309.41 64.0691 Q1311.92 67.2693 1316.94 67.2693 Q1322.98 67.2693 1326.46 63.421 Q1329.99 59.5726 1329.99 52.9291 L1329.99 27.2059 L1337.44 27.2059 L1337.44 72.576 L1329.99 72.576 L1329.99 65.6084 Q1327.27 69.7404 1323.67 71.7658 Q1320.1 73.7508 1315.36 73.7508 Q1307.55 73.7508 1303.5 68.8897 Q1299.44 64.0286 1299.44 54.671 M1318.2 26.1121 L1318.2 26.1121 Z\" fill=\"#000000\" fill-rule=\"evenodd\" fill-opacity=\"1\" /><path clip-path=\"url(#clip480)\" d=\"M1373.41 49.7694 Q1364.38 49.7694 1360.9 51.8354 Q1357.41 53.9013 1357.41 58.8839 Q1357.41 62.8538 1360.01 65.2034 Q1362.64 67.5124 1367.14 67.5124 Q1373.33 67.5124 1377.06 63.1374 Q1380.83 58.7219 1380.83 51.4303 L1380.83 49.7694 L1373.41 49.7694 M1388.28 46.6907 L1388.28 72.576 L1380.83 72.576 L1380.83 65.6895 Q1378.28 69.8214 1374.47 71.8063 Q1370.66 73.7508 1365.15 73.7508 Q1358.18 73.7508 1354.05 69.8619 Q1349.96 65.9325 1349.96 59.3701 Q1349.96 51.7138 1355.06 47.825 Q1360.21 43.9361 1370.38 43.9361 L1380.83 43.9361 L1380.83 43.2069 Q1380.83 38.0623 1377.42 35.2672 Q1374.06 32.4315 1367.95 32.4315 Q1364.06 32.4315 1360.37 33.3632 Q1356.68 34.295 1353.28 36.1584 L1353.28 29.2718 Q1357.37 27.692 1361.22 26.9223 Q1365.07 26.1121 1368.72 26.1121 Q1378.56 26.1121 1383.42 31.2163 Q1388.28 36.3204 1388.28 46.6907 Z\" fill=\"#000000\" fill-rule=\"evenodd\" fill-opacity=\"1\" /><path clip-path=\"url(#clip480)\" d=\"M1433.49 34.0924 L1433.49 9.54393 L1440.94 9.54393 L1440.94 72.576 L1433.49 72.576 L1433.49 65.7705 Q1431.14 69.8214 1427.53 71.8063 Q1423.97 73.7508 1418.95 73.7508 Q1410.72 73.7508 1405.54 67.1883 Q1400.39 60.6258 1400.39 49.9314 Q1400.39 39.2371 1405.54 32.6746 Q1410.72 26.1121 1418.95 26.1121 Q1423.97 26.1121 1427.53 28.0971 Q1431.14 30.0415 1433.49 34.0924 M1408.09 49.9314 Q1408.09 58.1548 1411.45 62.8538 Q1414.85 67.5124 1420.77 67.5124 Q1426.68 67.5124 1430.09 62.8538 Q1433.49 58.1548 1433.49 49.9314 Q1433.49 41.7081 1430.09 37.0496 Q1426.68 32.3505 1420.77 32.3505 Q1414.85 32.3505 1411.45 37.0496 Q1408.09 41.7081 1408.09 49.9314 Z\" fill=\"#000000\" fill-rule=\"evenodd\" fill-opacity=\"1\" /><path clip-path=\"url(#clip480)\" d=\"M1482.59 34.1734 Q1481.33 33.4443 1479.83 33.1202 Q1478.37 32.7556 1476.59 32.7556 Q1470.27 32.7556 1466.87 36.8875 Q1463.51 40.9789 1463.51 48.6757 L1463.51 72.576 L1456.01 72.576 L1456.01 27.2059 L1463.51 27.2059 L1463.51 34.2544 Q1465.86 30.1225 1469.62 28.1376 Q1473.39 26.1121 1478.78 26.1121 Q1479.55 26.1121 1480.48 26.2337 Q1481.41 26.3147 1482.55 26.5172 L1482.59 34.1734 Z\" fill=\"#000000\" fill-rule=\"evenodd\" fill-opacity=\"1\" /><path clip-path=\"url(#clip480)\" d=\"M1511.02 49.7694 Q1501.99 49.7694 1498.51 51.8354 Q1495.02 53.9013 1495.02 58.8839 Q1495.02 62.8538 1497.61 65.2034 Q1500.25 67.5124 1504.74 67.5124 Q1510.94 67.5124 1514.67 63.1374 Q1518.44 58.7219 1518.44 51.4303 L1518.44 49.7694 L1511.02 49.7694 M1525.89 46.6907 L1525.89 72.576 L1518.44 72.576 L1518.44 65.6895 Q1515.88 69.8214 1512.08 71.8063 Q1508.27 73.7508 1502.76 73.7508 Q1495.79 73.7508 1491.66 69.8619 Q1487.57 65.9325 1487.57 59.3701 Q1487.57 51.7138 1492.67 47.825 Q1497.82 43.9361 1507.99 43.9361 L1518.44 43.9361 L1518.44 43.2069 Q1518.44 38.0623 1515.03 35.2672 Q1511.67 32.4315 1505.55 32.4315 Q1501.67 32.4315 1497.98 33.3632 Q1494.29 34.295 1490.89 36.1584 L1490.89 29.2718 Q1494.98 27.692 1498.83 26.9223 Q1502.68 26.1121 1506.32 26.1121 Q1516.17 26.1121 1521.03 31.2163 Q1525.89 36.3204 1525.89 46.6907 Z\" fill=\"#000000\" fill-rule=\"evenodd\" fill-opacity=\"1\" /><path clip-path=\"url(#clip480)\" d=\"M1571.1 34.0924 L1571.1 9.54393 L1578.55 9.54393 L1578.55 72.576 L1571.1 72.576 L1571.1 65.7705 Q1568.75 69.8214 1565.14 71.8063 Q1561.58 73.7508 1556.56 73.7508 Q1548.33 73.7508 1543.15 67.1883 Q1538 60.6258 1538 49.9314 Q1538 39.2371 1543.15 32.6746 Q1548.33 26.1121 1556.56 26.1121 Q1561.58 26.1121 1565.14 28.0971 Q1568.75 30.0415 1571.1 34.0924 M1545.7 49.9314 Q1545.7 58.1548 1549.06 62.8538 Q1552.46 67.5124 1558.38 67.5124 Q1564.29 67.5124 1567.7 62.8538 Q1571.1 58.1548 1571.1 49.9314 Q1571.1 41.7081 1567.7 37.0496 Q1564.29 32.3505 1558.38 32.3505 Q1552.46 32.3505 1549.06 37.0496 Q1545.7 41.7081 1545.7 49.9314 Z\" fill=\"#000000\" fill-rule=\"evenodd\" fill-opacity=\"1\" /><path clip-path=\"url(#clip480)\" d=\"M1611.49 32.4315 Q1605.49 32.4315 1602.01 37.1306 Q1598.52 41.7891 1598.52 49.9314 Q1598.52 58.0738 1601.97 62.7728 Q1605.45 67.4314 1611.49 67.4314 Q1617.44 67.4314 1620.92 62.7323 Q1624.41 58.0333 1624.41 49.9314 Q1624.41 41.8701 1620.92 37.1711 Q1617.44 32.4315 1611.49 32.4315 M1611.49 26.1121 Q1621.21 26.1121 1626.76 32.4315 Q1632.31 38.7509 1632.31 49.9314 Q1632.31 61.0714 1626.76 67.4314 Q1621.21 73.7508 1611.49 73.7508 Q1601.72 73.7508 1596.17 67.4314 Q1590.66 61.0714 1590.66 49.9314 Q1590.66 38.7509 1596.17 32.4315 Q1601.72 26.1121 1611.49 26.1121 Z\" fill=\"#000000\" fill-rule=\"evenodd\" fill-opacity=\"1\" /><polyline clip-path=\"url(#clip482)\" style=\"stroke:#0000ff; stroke-linecap:butt; stroke-linejoin:round; stroke-width:8; stroke-opacity:1; fill:none\" points=\"\n",
       "  237.067,1386.4 257.608,1386.27 278.149,1385.91 298.689,1385.29 319.23,1384.43 339.771,1383.33 360.311,1381.98 380.852,1380.39 401.393,1378.55 421.933,1376.46 \n",
       "  442.474,1374.13 463.015,1371.56 483.555,1368.74 504.096,1365.67 524.637,1362.36 545.177,1358.81 565.718,1355.01 586.259,1350.96 606.799,1346.67 627.34,1342.13 \n",
       "  647.881,1337.35 668.421,1332.32 688.962,1327.05 709.503,1321.53 730.043,1315.77 750.584,1309.76 771.125,1303.51 791.665,1297.01 812.206,1290.27 832.747,1283.28 \n",
       "  853.287,1276.04 873.828,1268.56 894.369,1260.84 914.909,1252.87 935.45,1244.65 955.991,1236.19 976.531,1227.49 997.072,1218.54 1017.61,1209.34 1038.15,1199.9 \n",
       "  1058.69,1190.21 1079.23,1180.28 1099.78,1170.1 1120.32,1159.68 1140.86,1149.02 1161.4,1138.1 1181.94,1126.94 1202.48,1115.54 1223.02,1103.89 1243.56,1092 \n",
       "  1264.1,1079.86 1284.64,1067.48 1305.18,1054.85 1325.72,1041.97 1346.26,1028.85 1366.8,1015.49 1387.34,1001.88 1407.89,988.023 1428.43,973.922 1448.97,959.577 \n",
       "  1469.51,944.985 1490.05,930.149 1510.59,915.068 1531.13,899.741 1551.67,884.169 1572.21,868.352 1592.75,852.289 1613.29,835.982 1633.83,819.429 1654.37,802.631 \n",
       "  1674.91,785.587 1695.45,768.299 1716,750.765 1736.54,732.986 1757.08,714.962 1777.62,696.692 1798.16,678.178 1818.7,659.418 1839.24,640.412 1859.78,621.162 \n",
       "  1880.32,601.666 1900.86,581.926 1921.4,561.94 1941.94,541.708 1962.48,521.232 1983.02,500.51 2003.56,479.543 2024.11,458.331 2044.65,436.873 2065.19,415.171 \n",
       "  2085.73,393.223 2106.27,371.03 2126.81,348.591 2147.35,325.908 2167.89,302.979 2188.43,279.805 2208.97,256.386 2229.51,232.721 2250.05,208.811 2270.59,184.656 \n",
       "  2291.13,160.256 \n",
       "  \"/>\n",
       "<path clip-path=\"url(#clip480)\" d=\"\n",
       "M1963.61 270.476 L2280.18 270.476 L2280.18 166.796 L1963.61 166.796  Z\n",
       "  \" fill=\"#ffffff\" fill-rule=\"evenodd\" fill-opacity=\"1\"/>\n",
       "<polyline clip-path=\"url(#clip480)\" style=\"stroke:#000000; stroke-linecap:butt; stroke-linejoin:round; stroke-width:4; stroke-opacity:1; fill:none\" points=\"\n",
       "  1963.61,270.476 2280.18,270.476 2280.18,166.796 1963.61,166.796 1963.61,270.476 \n",
       "  \"/>\n",
       "<polyline clip-path=\"url(#clip480)\" style=\"stroke:#0000ff; stroke-linecap:butt; stroke-linejoin:round; stroke-width:4; stroke-opacity:1; fill:none\" points=\"\n",
       "  1987.61,218.636 2131.61,218.636 \n",
       "  \"/>\n",
       "<path clip-path=\"url(#clip480)\" d=\"M2172.11 199.897 L2172.11 203.439 L2168.04 203.439 Q2165.74 203.439 2164.84 204.365 Q2163.96 205.291 2163.96 207.698 L2163.96 209.99 L2170.98 209.99 L2170.98 213.3 L2163.96 213.3 L2163.96 235.916 L2159.68 235.916 L2159.68 213.3 L2155.61 213.3 L2155.61 209.99 L2159.68 209.99 L2159.68 208.184 Q2159.68 203.856 2161.69 201.888 Q2163.71 199.897 2168.08 199.897 L2172.11 199.897 Z\" fill=\"#000000\" fill-rule=\"evenodd\" fill-opacity=\"1\" /><path clip-path=\"url(#clip480)\" d=\"M2185.91 199.944 Q2182.8 205.268 2181.3 210.476 Q2179.79 215.684 2179.79 221.032 Q2179.79 226.379 2181.3 231.633 Q2182.83 236.865 2185.91 242.166 L2182.2 242.166 Q2178.73 236.726 2176.99 231.471 Q2175.28 226.217 2175.28 221.032 Q2175.28 215.87 2176.99 210.638 Q2178.71 205.407 2182.2 199.944 L2185.91 199.944 Z\" fill=\"#000000\" fill-rule=\"evenodd\" fill-opacity=\"1\" /><path clip-path=\"url(#clip480)\" d=\"M2215.72 209.99 L2206.35 222.606 L2216.21 235.916 L2211.18 235.916 L2203.64 225.731 L2196.09 235.916 L2191.07 235.916 L2201.14 222.351 L2191.92 209.99 L2196.95 209.99 L2203.82 219.226 L2210.7 209.99 L2215.72 209.99 Z\" fill=\"#000000\" fill-rule=\"evenodd\" fill-opacity=\"1\" /><path clip-path=\"url(#clip480)\" d=\"M2221.55 199.944 L2225.26 199.944 Q2228.73 205.407 2230.44 210.638 Q2232.18 215.87 2232.18 221.032 Q2232.18 226.217 2230.44 231.471 Q2228.73 236.726 2225.26 242.166 L2221.55 242.166 Q2224.63 236.865 2226.14 231.633 Q2227.67 226.379 2227.67 221.032 Q2227.67 215.684 2226.14 210.476 Q2224.63 205.268 2221.55 199.944 Z\" fill=\"#000000\" fill-rule=\"evenodd\" fill-opacity=\"1\" /></svg>\n"
      ]
     },
     "metadata": {},
     "output_type": "display_data"
    }
   ],
   "source": [
    "x_min = 0\n",
    "x_max = 2.5\n",
    "x = collect(x_min:(x_max-x_min)/100:x_max)\n",
    "y = cuadrado.(x)\n",
    "z = cte.(x)\n",
    "\n",
    "plt_funcion = plot(x,y, xlabel=\"x\", ylabel=\"f(x)\", title = \"Función Cuadrado\", labels=\"f(x)\",\n",
    "               color=\"blue\", legend=true, linewidth = 2, grid = true)\n",
    "display(plt_funcion)"
   ]
  },
  {
   "cell_type": "markdown",
   "id": "3fa69aa3-781d-4676-bdc6-b4bbbcac4ee1",
   "metadata": {},
   "source": [
    "Importante!! De este gráfico sacaremos los límites del grafico, x0, x1, y0, y1\n",
    "con y0 = f(x0) e y1 = f(x1)\n",
    "-----------------------------\n",
    "Para el caso de la Función cuadrada tendríamos:"
   ]
  },
  {
   "cell_type": "code",
   "execution_count": 12,
   "id": "525f363e-b0f4-46be-932b-8c6af97ceecc",
   "metadata": {},
   "outputs": [
    {
     "data": {
      "text/plain": [
       "6.5"
      ]
     },
     "execution_count": 12,
     "metadata": {},
     "output_type": "execute_result"
    }
   ],
   "source": [
    "x0 = x_min # x_min = 0  \n",
    "x1 = x_max # x_max = 2.5\n",
    "#y0 = -cuadrado(x_max)\n",
    "y0 = 0.0 #-17.5 # estimado desde el gráfico o calculado para este caso como f(x1)\n",
    "y1 = 6.5 # estimado del gráfico o calculado para este caso como f(2.5) = 6.25, \n",
    "    #pero preferimos poner un poco más, veremos que no molesta, perdemos un poco de precisión"
   ]
  },
  {
   "cell_type": "code",
   "execution_count": 13,
   "id": "aecbc27a-3d97-40f9-8e02-a5bca6a7cb83",
   "metadata": {},
   "outputs": [
    {
     "data": {
      "text/plain": [
       "integral (generic function with 1 method)"
      ]
     },
     "execution_count": 13,
     "metadata": {},
     "output_type": "execute_result"
    }
   ],
   "source": [
    "function integral(x0, x1, y0, y1::Real, N::Integer)\n",
    "    \"\"\"\n",
    "    Aqui definimos la Función Integral\n",
    "    -------\n",
    "    \"\"\"\n",
    "    #x = LinRange(a, b, N)\n",
    "    \n",
    "    n_landed_in = 0  # counts number of points that have radial coordinate < 1, i.e. in circle\n",
    "\n",
    "    for i = 1:N\n",
    "#        x = rand() * 2 - 1  # uniformly distributed number on x-axis\n",
    "#        y = rand() * 2 - 1  # uniformly distributed number on y-axis\n",
    "        x = rand() * (x1 - x0) + x0 # x0 y x1 son los límites de integración\n",
    "        y = rand() * (y1 - y0) + y0 \n",
    "#        println(x)\n",
    "#        println(y)\n",
    "        yy = cuadrado(x)\n",
    "#        yy = cte(x)\n",
    "#        r2 = x*x + y*y  # radius squared, in radial coordinates\n",
    "        if y < yy\n",
    "            n_landed_in += 1\n",
    "        end\n",
    "    end\n",
    "    return n_landed_in / N * (x1-x0) * (y1-y0) \n",
    "end"
   ]
  },
  {
   "cell_type": "code",
   "execution_count": 14,
   "id": "ccccb5b8-5f7d-44b2-a967-7a000f993162",
   "metadata": {},
   "outputs": [
    {
     "data": {
      "text/plain": [
       "5.2086198125"
      ]
     },
     "execution_count": 14,
     "metadata": {},
     "output_type": "execute_result"
    }
   ],
   "source": [
    "integral(x0, x1, y0, y1, 40000000)"
   ]
  },
  {
   "cell_type": "markdown",
   "id": "14021568-54a7-4bd5-9f88-4d0b0f96fd30",
   "metadata": {},
   "source": [
    "¿Qué sucede si cambio el valor de y1?"
   ]
  },
  {
   "cell_type": "code",
   "execution_count": 15,
   "id": "66604b1c-5407-4022-ab0f-bb30a836dfc2",
   "metadata": {},
   "outputs": [
    {
     "data": {
      "text/plain": [
       "5.2086971250000005"
      ]
     },
     "execution_count": 15,
     "metadata": {},
     "output_type": "execute_result"
    }
   ],
   "source": [
    "x0 = x_min # x_min = 0  \n",
    "x1 = x_max # x_max = 2.5\n",
    "y0 = 0.0 #-17.5 # estimado desde el gráfico o calculado para este caso como f(x1)\n",
    "y1 = 9.0 # estimado del gráfico o calculado para este caso como f(0)y1 = -10.0\n",
    "integral(x0, x1, y0, y1, 40000000)"
   ]
  },
  {
   "cell_type": "code",
   "execution_count": 16,
   "id": "dd5a695a-3196-40c3-8fa9-ca2edb24f0a3",
   "metadata": {},
   "outputs": [
    {
     "data": {
      "text/plain": [
       "5.21103"
      ]
     },
     "execution_count": 16,
     "metadata": {},
     "output_type": "execute_result"
    }
   ],
   "source": [
    "x0 = 0.0 #x_min # -4\n",
    "x1 = 2.5 #x_max # 10\n",
    "#y0 = -cuadrado(x_max)\n",
    "y0 = 0.0 #-17.5 # estimado desde el gráfico o calculado para este caso como f(x1)\n",
    "y1 = 8.0 # estimado del gráfico o calculado para este caso como f(0)\n",
    "integral(x0, x1, y0, y1, 40000000)"
   ]
  },
  {
   "cell_type": "markdown",
   "id": "02e613db-ffc0-4eeb-9e7c-8a8af19a803c",
   "metadata": {},
   "source": [
    "A los efectos de comparar, integremos la función cuadrada y la valuemos en el intervalo de interés"
   ]
  },
  {
   "cell_type": "code",
   "execution_count": 17,
   "id": "e7f6e655-87f4-4263-82fa-a7cdf6ba5354",
   "metadata": {},
   "outputs": [
    {
     "data": {
      "text/plain": [
       "integrada (generic function with 1 method)"
      ]
     },
     "execution_count": 17,
     "metadata": {},
     "output_type": "execute_result"
    }
   ],
   "source": [
    "function integrada(x0, x1::Real)\n",
    "    return 1.0/3.0 * (x1^3 - x0^3)\n",
    "end"
   ]
  },
  {
   "cell_type": "code",
   "execution_count": 18,
   "id": "aac31744-11b0-4a7b-b31b-698451b55a30",
   "metadata": {},
   "outputs": [
    {
     "data": {
      "text/plain": [
       "5.208333333333333"
      ]
     },
     "execution_count": 18,
     "metadata": {},
     "output_type": "execute_result"
    }
   ],
   "source": [
    "integrada(x0, x1)"
   ]
  },
  {
   "cell_type": "markdown",
   "id": "7e1bb874-1e40-442e-a909-5d2e4308a193",
   "metadata": {},
   "source": [
    "Ahora modificaremos la Función Integral, para Integrar la función constante cte(x)"
   ]
  },
  {
   "cell_type": "code",
   "execution_count": 19,
   "id": "60c1eb7c-11ef-4bdf-94fb-f9f34ca6285e",
   "metadata": {},
   "outputs": [
    {
     "data": {
      "text/plain": [
       "integral (generic function with 1 method)"
      ]
     },
     "execution_count": 19,
     "metadata": {},
     "output_type": "execute_result"
    }
   ],
   "source": [
    "function integral(x0, x1, y0, y1::Real, N::Integer)\n",
    "    \"\"\"\n",
    "    Aqui definimos la Función Integral\n",
    "    -------\n",
    "    \"\"\"\n",
    "    #x = LinRange(a, b, N)\n",
    "    \n",
    "    n_landed_in = 0  # counts number of points that have radial coordinate < 1, i.e. in circle\n",
    "\n",
    "    for i = 1:N\n",
    "#        x = rand() * 2 - 1  # uniformly distributed number on x-axis\n",
    "#        y = rand() * 2 - 1  # uniformly distributed number on y-axis\n",
    "        x = rand() * (x1 - x0) + x0 # x0 y x1 son los límites de integración\n",
    "        y = rand() * (y1 - y0) + y0 \n",
    "#        println(x)\n",
    "#        println(y)\n",
    "        \"\"\"\n",
    "        Solamente cmabio aquí!\n",
    "        \"\"\"\n",
    "#        yy = cuadrado(x)  \n",
    "        yy = cte(x)\n",
    "#        r2 = x*x + y*y  # radius squared, in radial coordinates\n",
    "        if y < yy\n",
    "            n_landed_in += 1\n",
    "        end\n",
    "    end\n",
    "    return n_landed_in / N * (x1-x0) * (y1-y0) \n",
    "end"
   ]
  },
  {
   "cell_type": "code",
   "execution_count": 20,
   "id": "047bdb01-984b-4c91-9db5-2e170aac1970",
   "metadata": {},
   "outputs": [
    {
     "data": {
      "text/plain": [
       "15.000346"
      ]
     },
     "execution_count": 20,
     "metadata": {},
     "output_type": "execute_result"
    }
   ],
   "source": [
    "integral(0, 5, 0, 4, 40000000)"
   ]
  },
  {
   "cell_type": "code",
   "execution_count": 21,
   "id": "26d69769-63b8-4f7c-bdd5-418c87837369",
   "metadata": {},
   "outputs": [
    {
     "data": {
      "text/plain": [
       "14.997571999999998"
      ]
     },
     "execution_count": 21,
     "metadata": {},
     "output_type": "execute_result"
    }
   ],
   "source": [
    "integral(0, 5, 0, 8, 40000000)"
   ]
  },
  {
   "cell_type": "markdown",
   "id": "7aa7f261-df41-4481-b95f-ee4ea27897ec",
   "metadata": {},
   "source": [
    "Valor esperado!!"
   ]
  },
  {
   "cell_type": "code",
   "execution_count": null,
   "id": "58ef1215-18b1-4985-9767-bc215ced4c74",
   "metadata": {},
   "outputs": [],
   "source": []
  }
 ],
 "metadata": {
  "kernelspec": {
   "display_name": "Julia 1.6.0",
   "language": "julia",
   "name": "julia-1.6"
  },
  "language_info": {
   "file_extension": ".jl",
   "mimetype": "application/julia",
   "name": "julia",
   "version": "1.6.0"
  }
 },
 "nbformat": 4,
 "nbformat_minor": 5
}
