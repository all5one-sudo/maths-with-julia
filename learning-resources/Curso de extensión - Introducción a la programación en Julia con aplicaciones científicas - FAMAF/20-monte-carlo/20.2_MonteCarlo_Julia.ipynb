{
 "cells": [
  {
   "cell_type": "markdown",
   "id": "289ebbfb-f097-4c73-85d6-d92cfda6b556",
   "metadata": {},
   "source": [
    "<p style=\"text-align:center\"><img src=\"Julia.jpg\" width=\"350\" ></p>"
   ]
  },
  {
   "cell_type": "markdown",
   "id": "afd913c3-5b13-4b2a-9659-44c63ede5bbc",
   "metadata": {},
   "source": [
    "# Cálculo del Volumen de una esfera de n-dimensiones"
   ]
  },
  {
   "cell_type": "markdown",
   "id": "cc450168",
   "metadata": {},
   "source": [
    "Queremos escribir un código que calcule el volumen de una n-esfera.  \n",
    "Con una secuencia de puntos aleatorios $r_i (i = 1, ... , N)$ se puede aproximar el volumen de dicha esfera, donde `d` será la dimensión de la esfera y `N` el número de puntos."
   ]
  },
  {
   "cell_type": "markdown",
   "id": "4235c0aa-1540-402e-b6bd-f40b67f5b0ca",
   "metadata": {},
   "source": [
    "Uso de los números random"
   ]
  },
  {
   "cell_type": "markdown",
   "id": "a6c3d989-5cfd-4ef2-9965-a2c302855015",
   "metadata": {},
   "source": [
    "veamos como podemos generar un vector de d dimensiones con números random"
   ]
  },
  {
   "cell_type": "markdown",
   "id": "ff3b343e-02db-4eda-bc0c-c30b30a4e0d8",
   "metadata": {},
   "source": [
    "## Calculo de $\\pi$ en un Círculo\n",
    "\n",
    "Comencemos con un cálculo más simple"
   ]
  },
  {
   "cell_type": "code",
   "execution_count": 20,
   "id": "e862b0a0-1687-4efd-a4ae-d6c7f1abd99d",
   "metadata": {},
   "outputs": [
    {
     "name": "stdout",
     "output_type": "stream",
     "text": [
      "3.1419028"
     ]
    }
   ],
   "source": [
    "N = 10^6 # number of trials (ie, number of points to sample)\n",
    "R = 1.5 # circle radius\n",
    "\n",
    "# whether p(x,y) is inside a circle\n",
    "function in_circle(x, y)\n",
    "    return x^2 + y^2 < R^2\n",
    "end \n",
    "\n",
    "# use integer ops as much as possible for speed\n",
    "c = 0\n",
    "for i in 1: N\n",
    "    x, y = rand()*R, rand()*R\n",
    "    if in_circle(x, y)\n",
    "        c += 1\n",
    "    end \n",
    "end     \n",
    "pi = 4 * c / N\n",
    "print(pi) # pi-> 3.14\n"
   ]
  },
  {
   "cell_type": "markdown",
   "id": "7cade791-6276-496c-bb23-c6d119e2e0b8",
   "metadata": {},
   "source": [
    "---------------------------------------\n",
    "--------------------------------------\n",
    "## Calculo de $\\pi$ en una Esfera\n",
    "\n",
    "Ahora hagamos el caso de una esfera"
   ]
  },
  {
   "cell_type": "code",
   "execution_count": 22,
   "id": "62bbbdb0-c3ef-4cce-861f-5a845d5b7644",
   "metadata": {},
   "outputs": [
    {
     "name": "stdout",
     "output_type": "stream",
     "text": [
      "3.140484"
     ]
    }
   ],
   "source": [
    "N = 10^6 # number of trials (ie, number of points to sample)\n",
    "R = 1.5 # circle radius\n",
    "\n",
    "# whether p(x,y) is inside a circle\n",
    "function in_circle(x, y, z)\n",
    "    return x^2 + y^2 +z^2 < R^2\n",
    "end \n",
    "\n",
    "# use integer ops as much as possible for speed\n",
    "c = 0\n",
    "for i in 1: N\n",
    "    x, y, z = rand()*R, rand()*R, rand()*R\n",
    "    if in_circle(x, y, z)\n",
    "        c += 1\n",
    "    end \n",
    "end     \n",
    "pi = 6 * c / N\n",
    "print(pi) # pi-> 3.14\n"
   ]
  },
  {
   "cell_type": "markdown",
   "id": "a0cca200-0951-4dc4-8c5d-5ccf53662bc2",
   "metadata": {},
   "source": [
    "## Calculo del Volumen de una Esfera d-dimensional"
   ]
  },
  {
   "cell_type": "markdown",
   "id": "0ee44b95-82b6-4c20-b8d6-99ae65852c42",
   "metadata": {},
   "source": [
    "Apliquemos lo aprendido para calcular el volumen de una esfera d-dimensional.  \n",
    "\n",
    "Definamos una Función"
   ]
  },
  {
   "cell_type": "code",
   "execution_count": 23,
   "id": "ae634a4f",
   "metadata": {},
   "outputs": [
    {
     "data": {
      "text/plain": [
       "MonteCarloHyperSphereVolume (generic function with 1 method)"
      ]
     },
     "execution_count": 23,
     "metadata": {},
     "output_type": "execute_result"
    }
   ],
   "source": [
    "function MonteCarloHyperSphereVolume(radius, dimension, number_of_generations)\n",
    "    \n",
    "    number_within_sphere = 0 # Este es el contador de random que caen dentro de la esfera\n",
    "    \n",
    "    randoms = zeros( 1, dimension )  # generamos un vector de largo `dimension`\n",
    "    \n",
    "    for i = 1 : number_of_generations \n",
    "        for j = 1 : dimension     # Aqui llenamos el vecto de d-dimension con nros aleatorios\n",
    "            randoms[j] = 2*radius*rand() - radius   # entre [-radius y +radius]\n",
    "        end\n",
    "        \n",
    "        # Recordemos que hacía la función `sum`\n",
    "        \"\"\"\n",
    "        sum(A, dims)\n",
    "            Sum elements of an array over the given dimensions.\n",
    "        abs2() function is a library function in Julia programming language, \n",
    "            it is used to get the squared absolute value of the given signed integer.\n",
    "        sum(abs2, v) used in a vector\n",
    "        \"\"\"        \n",
    "        # Chequeamos si el punto aleatrorio está dentro de la esfera\n",
    "        if sum(abs2, randoms) <= radius^2 # could also use anonymous function x->x^2 if you didn't wnat to use abs2\n",
    "            number_within_sphere += 1\n",
    "        end\n",
    "    end\n",
    "\n",
    "    return approximate_volume = (number_within_sphere/number_of_generations) * (2*radius)^dimension\n",
    "\n",
    "end"
   ]
  },
  {
   "cell_type": "markdown",
   "id": "97fa04b0-7a2a-4077-8879-b8ab5e10731d",
   "metadata": {},
   "source": [
    "--------------------------------\n",
    "Hagamos un cálculo del volumen de esfera en 3-d de radio 1, para 100 000 puntos"
   ]
  },
  {
   "cell_type": "code",
   "execution_count": 24,
   "id": "1f5fe14f",
   "metadata": {},
   "outputs": [
    {
     "data": {
      "text/plain": [
       "4.18384"
      ]
     },
     "execution_count": 24,
     "metadata": {},
     "output_type": "execute_result"
    }
   ],
   "source": [
    "MonteCarloHyperSphereVolume(1, 3, 100000)"
   ]
  },
  {
   "cell_type": "markdown",
   "id": "8eeecb5c-165f-4798-b311-62a25989e06f",
   "metadata": {},
   "source": [
    "-------------------\n",
    "Comprobemos el resultado, calculando el Volumen de esta esfera.  \n",
    "\n",
    "El Volumen de esta esfera es:"
   ]
  },
  {
   "cell_type": "code",
   "execution_count": 25,
   "id": "8e2ed95b",
   "metadata": {},
   "outputs": [
    {
     "data": {
      "text/plain": [
       "4.1873119999999995"
      ]
     },
     "execution_count": 25,
     "metadata": {},
     "output_type": "execute_result"
    }
   ],
   "source": [
    "# Volume de la esfera de radio 1 en 3 dimensiones\n",
    "4/3*pi*1"
   ]
  },
  {
   "cell_type": "markdown",
   "id": "6e0f6366-d520-4550-b219-2ee8a5988831",
   "metadata": {},
   "source": [
    "---------------------------------\n",
    "Comprobemos para otro caso de 5-d"
   ]
  },
  {
   "cell_type": "code",
   "execution_count": 27,
   "id": "54851122",
   "metadata": {},
   "outputs": [
    {
     "data": {
      "text/plain": [
       "5.2665984"
      ]
     },
     "execution_count": 27,
     "metadata": {},
     "output_type": "execute_result"
    }
   ],
   "source": [
    "MonteCarloHyperSphereVolume(1,5,1E7)"
   ]
  },
  {
   "cell_type": "markdown",
   "id": "9467bc1b-ca41-4562-85be-9cd56eb7d38c",
   "metadata": {},
   "source": [
    "Podemos comparar el resultado del cálculo mirando este sitio:  \n",
    "Volume of a sphere in n-dimension Calculator  \n",
    "https://keisan.casio.com/exec/system/1223381019"
   ]
  }
 ],
 "metadata": {
  "kernelspec": {
   "display_name": "Julia 1.6.0",
   "language": "julia",
   "name": "julia-1.6"
  },
  "language_info": {
   "file_extension": ".jl",
   "mimetype": "application/julia",
   "name": "julia",
   "version": "1.6.0"
  }
 },
 "nbformat": 4,
 "nbformat_minor": 5
}
