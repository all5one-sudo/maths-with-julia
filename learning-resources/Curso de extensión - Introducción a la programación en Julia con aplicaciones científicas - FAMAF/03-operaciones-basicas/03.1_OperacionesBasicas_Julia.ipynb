{
 "cells": [
  {
   "cell_type": "markdown",
   "id": "38e3f6fd-2236-4677-8492-de8f1087b280",
   "metadata": {},
   "source": [
    "<p style=\"text-align:center\"><img src=\"Julia.jpg\" width=\"350\" ></p>"
   ]
  },
  {
   "cell_type": "markdown",
   "id": "bc316167-c1e0-4d79-a49a-54b0f2e75e91",
   "metadata": {},
   "source": [
    "Este **Notebook de Julia** está `inspirado` en este Libro:  \n",
    "**Introducción a la Programación en Julia**  \n",
    "*Ben Lauwens y Allen Downey. Traducido por Pamela Alejandra Bustamante Faúndez*  \n",
    "Narrador: Edgardo BONZI"
   ]
  },
  {
   "cell_type": "markdown",
   "id": "ea30a55b-4639-4e10-8895-9e5ed5f773f2",
   "metadata": {},
   "source": [
    "[Introduccion a Julia](https://introajulia.org/introAjulia.pdf)"
   ]
  },
  {
   "cell_type": "markdown",
   "id": "23fae848-6d91-4db4-a466-68c8b480aeeb",
   "metadata": {},
   "source": [
    "Tradicionalmente, el primer programa que se escribe en un nuevo lenguaje se\n",
    "llama “¡Hola, mundo!”, porque todo lo que hace es mostrar las palabras “¡Hola,\n",
    "mundo!”. En `Julia`, se ve así:"
   ]
  },
  {
   "cell_type": "code",
   "execution_count": 5,
   "id": "59c52944-d31b-4600-bce3-60d3175a7b11",
   "metadata": {},
   "outputs": [
    {
     "name": "stdout",
     "output_type": "stream",
     "text": [
      "¡Hola, mundo Juliano!\n",
      " Excelente día para aprender Julia\n"
     ]
    }
   ],
   "source": [
    "println(\"¡Hola, mundo Juliano!\")\n",
    "println(\" Excelente día para aprender Julia\")"
   ]
  },
  {
   "cell_type": "code",
   "execution_count": 6,
   "id": "da9ffdc2-6772-4b2c-a5e5-e49ef98b3784",
   "metadata": {},
   "outputs": [
    {
     "name": "stdout",
     "output_type": "stream",
     "text": [
      "¡Hola, mundo Juliano! Excelente día para aprender Julia"
     ]
    }
   ],
   "source": [
    "print(\"¡Hola, mundo Juliano!\")\n",
    "print(\" Excelente día para aprender Julia\")"
   ]
  },
  {
   "cell_type": "markdown",
   "id": "413bd103-77ed-49eb-82fa-4e6158fdab00",
   "metadata": {},
   "source": [
    "## Operadores aritméticos\n",
    "Después de nuestro programa “¡Hola, mundo!”, el siguiente paso es la\n",
    "aritmética.  \n",
    "`Julia` tiene operadores, los cuales son símbolos que representan cálculos como la suma y la multiplicación.  \n"
   ]
  },
  {
   "cell_type": "markdown",
   "id": "70854254-e127-4d80-9a2a-35cc454da810",
   "metadata": {},
   "source": [
    "`Julia` tiene todas las operaciones matemáticas básicas:\n",
    "\n",
    "1.    Suma (+)\n",
    "2.    Resta (-)\n",
    "3.    Multiplicación (*)\n",
    "4.    División (/)\n",
    "5.    Potencia (^)\n",
    "6.    Módulo (%)\n",
    "\n",
    "Los operadores `+`, `-`, `*` y `/` realizan las operaciones de suma, resta, multiplicación y división,\n",
    "respectivamente, como se muestra en los siguientes ejemplos:"
   ]
  },
  {
   "cell_type": "markdown",
   "id": "9fcda103-e770-403c-9d33-ec90c93d75f1",
   "metadata": {},
   "source": [
    "El operadors `+` realiza la adición o suma"
   ]
  },
  {
   "cell_type": "code",
   "execution_count": 2,
   "id": "fd883d78-d4dc-4b3c-a0c7-c016433da60a",
   "metadata": {},
   "outputs": [
    {
     "data": {
      "text/plain": [
       "42"
      ]
     },
     "execution_count": 2,
     "metadata": {},
     "output_type": "execute_result"
    }
   ],
   "source": [
    "40 + 2"
   ]
  },
  {
   "cell_type": "markdown",
   "id": "5a0c4221-4b7e-490f-9bd8-2d72dde88ff1",
   "metadata": {},
   "source": [
    "El operador `-` realiza la resta o sustracción"
   ]
  },
  {
   "cell_type": "code",
   "execution_count": 3,
   "id": "449b3342-287b-40cf-aea5-f3e0104fc2dc",
   "metadata": {},
   "outputs": [
    {
     "data": {
      "text/plain": [
       "42"
      ]
     },
     "execution_count": 3,
     "metadata": {},
     "output_type": "execute_result"
    }
   ],
   "source": [
    "43 - 1"
   ]
  },
  {
   "cell_type": "markdown",
   "id": "d85ca8db-52ac-4736-93a6-99898081017c",
   "metadata": {},
   "source": [
    "El operador `*` realiza la multiplicación"
   ]
  },
  {
   "cell_type": "code",
   "execution_count": 4,
   "id": "9606044f-c17f-4869-abfb-f24ad0ef46b2",
   "metadata": {},
   "outputs": [
    {
     "data": {
      "text/plain": [
       "42"
      ]
     },
     "execution_count": 4,
     "metadata": {},
     "output_type": "execute_result"
    }
   ],
   "source": [
    "6 * 7"
   ]
  },
  {
   "cell_type": "markdown",
   "id": "5650ae01-2b3c-479e-a0e2-25d3d8db5637",
   "metadata": {},
   "source": [
    "El operador / realiza la división:"
   ]
  },
  {
   "cell_type": "code",
   "execution_count": 5,
   "id": "5c2bcf74-0194-49a7-b10f-d6676f1bc703",
   "metadata": {},
   "outputs": [
    {
     "data": {
      "text/plain": [
       "42.0"
      ]
     },
     "execution_count": 5,
     "metadata": {},
     "output_type": "execute_result"
    }
   ],
   "source": [
    "84/2"
   ]
  },
  {
   "cell_type": "markdown",
   "id": "7c5d6a56-3390-41f7-8139-de3f8c10c838",
   "metadata": {},
   "source": [
    "El operador `^` realiza la potencición, es decir, eleva un número a una\n",
    "potencia:"
   ]
  },
  {
   "cell_type": "code",
   "execution_count": 6,
   "id": "f19a0d6e-c7f8-46a8-9f24-71ebd7bd4f63",
   "metadata": {},
   "outputs": [
    {
     "data": {
      "text/plain": [
       "42"
      ]
     },
     "execution_count": 6,
     "metadata": {},
     "output_type": "execute_result"
    }
   ],
   "source": [
    "6^2 + 6"
   ]
  },
  {
   "cell_type": "markdown",
   "id": "c12ceb97-07af-4123-8b36-9599f865bbbc",
   "metadata": {},
   "source": [
    "## Valores y tipos\n",
    "Un valor es uno de los elementos básicos con los que trabaja un programa, tal\n",
    "como una letra o un número. Algunos de los valores que hemos visto hasta ahora\n",
    "son 2, 42.0 y \"Hola, Mundo!\".  \n",
    "\n",
    "Estos valores pertenecen a diferentes tipos: 2 es un entero (integer en inglés),\n",
    "42.0 es un número de punto flotante (floating-point number en inglés), y \"Hola,\n",
    "Mundo!\" es una cadena de caracteres (string en inglés), llamada así porque las\n",
    "letras que contiene están unidas.  \n",
    "\n",
    "Si no está seguro del tipo de un valor, el REPL `typeof()` puede ayudarle  \n",
    "*Un REPL (Read–Eval–Print Loop) es un pequeño programa que lee un comando del usuario, lo interpreta, lo evalúa, e imprime el resultado.*"
   ]
  },
  {
   "cell_type": "code",
   "execution_count": 7,
   "id": "4191c187-259c-44c0-81e5-7f4b4c2e0692",
   "metadata": {},
   "outputs": [
    {
     "data": {
      "text/plain": [
       "Int64"
      ]
     },
     "execution_count": 7,
     "metadata": {},
     "output_type": "execute_result"
    }
   ],
   "source": [
    "typeof(2)"
   ]
  },
  {
   "cell_type": "code",
   "execution_count": 8,
   "id": "0d09efd3-fd84-4fc7-88ef-3f7a606820f1",
   "metadata": {},
   "outputs": [
    {
     "data": {
      "text/plain": [
       "Float64"
      ]
     },
     "execution_count": 8,
     "metadata": {},
     "output_type": "execute_result"
    }
   ],
   "source": [
    "typeof(42.0)"
   ]
  },
  {
   "cell_type": "code",
   "execution_count": 9,
   "id": "a90122da-b77f-43a4-a69e-b336a6fed827",
   "metadata": {},
   "outputs": [
    {
     "data": {
      "text/plain": [
       "String"
      ]
     },
     "execution_count": 9,
     "metadata": {},
     "output_type": "execute_result"
    }
   ],
   "source": [
    "typeof(\"¡Hola, mundo!\")"
   ]
  },
  {
   "cell_type": "code",
   "execution_count": 2,
   "id": "e02abbb8-5bb4-4f4c-8066-b78ac3ac51fb",
   "metadata": {},
   "outputs": [
    {
     "data": {
      "text/plain": [
       "\"Y ahora, algo completamente diferente\""
      ]
     },
     "execution_count": 2,
     "metadata": {},
     "output_type": "execute_result"
    }
   ],
   "source": [
    "mensaje = \"Y ahora, algo completamente diferente\""
   ]
  },
  {
   "cell_type": "code",
   "execution_count": 3,
   "id": "b55eb9c7-416c-4d95-b2a5-5bdeb2d00b0e",
   "metadata": {},
   "outputs": [
    {
     "name": "stdout",
     "output_type": "stream",
     "text": [
      "Y ahora, algo completamente diferente\n"
     ]
    }
   ],
   "source": [
    "println(mensaje)"
   ]
  },
  {
   "cell_type": "code",
   "execution_count": 4,
   "id": "ec76a09a-986d-4d86-9406-e88f6c2463a0",
   "metadata": {},
   "outputs": [
    {
     "data": {
      "text/plain": [
       "String"
      ]
     },
     "execution_count": 4,
     "metadata": {},
     "output_type": "execute_result"
    }
   ],
   "source": [
    "typeof(mensaje)"
   ]
  },
  {
   "cell_type": "code",
   "execution_count": 12,
   "id": "43473f74-d1a7-4d66-ab68-cb085d4f2d14",
   "metadata": {},
   "outputs": [
    {
     "data": {
      "text/plain": [
       "17"
      ]
     },
     "execution_count": 12,
     "metadata": {},
     "output_type": "execute_result"
    }
   ],
   "source": [
    "n = 17"
   ]
  },
  {
   "cell_type": "code",
   "execution_count": 13,
   "id": "9aae95c6-8340-4f55-b08f-adf21d6b3d49",
   "metadata": {},
   "outputs": [
    {
     "data": {
      "text/plain": [
       "3.141592653589793"
      ]
     },
     "execution_count": 13,
     "metadata": {},
     "output_type": "execute_result"
    }
   ],
   "source": [
    "π_val = 3.141592653589793"
   ]
  },
  {
   "cell_type": "markdown",
   "id": "de614bb3-2241-40eb-b2fe-e3fecf81af88",
   "metadata": {},
   "source": [
    "## Nombres de variables\n",
    "Los programadores generalmente eligen nombres representativos para sus variables, es decir, nombres que explican para qué se usa o qué contiene la variable.\n",
    "\n",
    "Los nombres de las variables pueden ser tan largos como se desee. Pueden contener casi todos los caracteres Unicode https://docs.julialang.org/en/v1/manual/unicode-input/, pero no pueden comenzar con un número. Es válido usar letras mayúsculas, pero lo\n",
    "común es usar solo minúsculas para nombres de variables.\n",
    "\n",
    "Los caracteres Unicode se pueden ingresar mediante autocompletado por tabulación de las abreviaturas tipo LaTeX en el REPL de Julia.\n",
    "\n",
    "El carácter guión bajo, _, puede formar parte del nombre de una variable.\n",
    "\n",
    "Generalmente se usa como separador en nombres con varias palabras, como por\n",
    "ejemplo en tu_nombre o velocidad_aerodinamica_de_una_golondrina_sin_cargamento.\n",
    "\n",
    "Si se le da un nombre inválido a una variable, aparece un error de sintaxis:"
   ]
  },
  {
   "cell_type": "code",
   "execution_count": 14,
   "id": "c15bed64-87c1-49af-9121-2e02cf3e9a1a",
   "metadata": {},
   "outputs": [
    {
     "ename": "LoadError",
     "evalue": "syntax: \"3\" is not a valid function argument name around In[14]:1",
     "output_type": "error",
     "traceback": [
      "syntax: \"3\" is not a valid function argument name around In[14]:1",
      "",
      "Stacktrace:",
      " [1] top-level scope",
      "   @ In[14]:1",
      " [2] eval",
      "   @ ./boot.jl:360 [inlined]",
      " [3] include_string(mapexpr::typeof(REPL.softscope), mod::Module, code::String, filename::String)",
      "   @ Base ./loading.jl:1094"
     ]
    }
   ],
   "source": [
    "3Pi = 3.14159"
   ]
  },
  {
   "cell_type": "markdown",
   "id": "6594b3f6-0d5a-4054-9de3-4f82db1a8f70",
   "metadata": {},
   "source": [
    "Julia tiene las siguientes palabras reservadas:\n",
    "\n",
    "abstract, type, baremodule, begin, break, catch,\n",
    "const, continue, do, else, elseif,\n",
    "end, export, finally, for, function,\n",
    "global, if, import, importall, in,\n",
    "let, local, macro, module, mutable, struct,\n",
    "primitive, type, quote, return, try, using,\n",
    "struct, where, while,"
   ]
  },
  {
   "cell_type": "markdown",
   "id": "f6551cd2-43e7-49f4-acd2-415a70324d1e",
   "metadata": {},
   "source": [
    "## Modo script\n",
    "Hasta ahora se ha ejecutado Julia en modo interactivo, lo que significa que se ha\n",
    "interactuado directamente con el REPL. Este modo es una buena manera de\n",
    "comenzar, pero si está trabajando con varias líneas de código, puede resultar\n",
    "incómodo.\n",
    "\n",
    "Una alternativa es guardar el código en un archivo de órdenes o `script` y luego\n",
    "utilizar `Julia` en modo `script` para ejecutarlo. \n",
    "\n",
    "Por convención, los scripts de Julia tienen nombres que terminan con la extensión `.jl`.\n",
    "\n",
    "Si sabe cómo crear y ejecutar un script en su computadora, está listo para\n",
    "comenzar. De lo contrario, es recomendable usar Jupyter nuevamente. \n",
    "\n",
    "Para probar, puede abrir un archivo de texto, escriba el script y guárdelo con la extensión .jl. \n",
    "\n",
    "El script se puede ejecutar en una terminal con el comando `julia nombre_del_script.jl`.\n",
    "\n",
    "Debido a que `Julia` proporciona ambos modos, puede probar líneas de código en\n",
    "modo interactivo antes de colocarlos en un `script`. \n",
    "\n",
    "Aún así, tenga en consideración que existen diferencias entre el modo interactivo y el modo script\n",
    "que pueden generar confusión."
   ]
  },
  {
   "cell_type": "markdown",
   "id": "7ae3e331-b10e-481e-8afd-43417da9e953",
   "metadata": {},
   "source": [
    "Ahora, Julia evalúa la expresión, y muestra el valor si se lo indicamos:"
   ]
  },
  {
   "cell_type": "code",
   "execution_count": 5,
   "id": "ef11f19a-6e86-469e-ba9f-d9379fb9211d",
   "metadata": {},
   "outputs": [
    {
     "data": {
      "text/plain": [
       "26.2"
      ]
     },
     "execution_count": 5,
     "metadata": {},
     "output_type": "execute_result"
    }
   ],
   "source": [
    "millas = 26.2\n",
    "# println(millas * 1.61) #en km"
   ]
  },
  {
   "cell_type": "code",
   "execution_count": 16,
   "id": "df2b341d-0412-48bf-a385-27052ba99aa5",
   "metadata": {},
   "outputs": [
    {
     "data": {
      "text/plain": [
       "6"
      ]
     },
     "execution_count": 16,
     "metadata": {},
     "output_type": "execute_result"
    }
   ],
   "source": [
    "x = 5\n",
    "x + 1"
   ]
  },
  {
   "cell_type": "markdown",
   "id": "d2dee47a-d633-41e0-b0a6-c81f2360c915",
   "metadata": {},
   "source": [
    "Observe como la adición de 1 al valor de x se perdió"
   ]
  },
  {
   "cell_type": "code",
   "execution_count": 17,
   "id": "a6c8dd40-5fa0-4f82-858e-a0efdcee862f",
   "metadata": {},
   "outputs": [
    {
     "name": "stdout",
     "output_type": "stream",
     "text": [
      "5\n"
     ]
    }
   ],
   "source": [
    "println(x)"
   ]
  },
  {
   "cell_type": "markdown",
   "id": "79196100-da04-43ed-ac70-7f87412a4aa3",
   "metadata": {},
   "source": [
    "## Orden de operaciones\n",
    "\n",
    "Cuando una expresión contiene más de un operador, el orden de evaluación depende de las reglas de precedencia. Julia sigue la convención matemática para el orden de evaluación de los operadores matemáticos.  \n",
    "El acrónimo **PAPOMUDAS** es una forma útil de recordar estas reglas:\n",
    "\n",
    "• **PA**réntesis: tienen la mayor precedencia y se pueden utilizar para forzar la evaluación de una expresión en el orden que se desee.   \n",
    "Dado que las expresiones entre paréntesis se evalúan primero, 2*(3-1) es 4, y (1+1)^(5-2) es 8.  \n",
    "También puede usar paréntesis para hacer una expresión más fácil de leer, como en (minuto*100)/60, incluso si no cambia el resultado.\n",
    "\n",
    "• **PO**tenciación: tiene la siguiente precedencia más alta, por lo que 1+2^3 es 9, no 27, y 2*3^2 es 18, no 36.\n",
    "• **MU**ltiplicación y **D**ivisión tienen mayor precedencia que la **A**dición y **S**ustracción. Entonces 2*3-1 es 5, no 4, y 6+4/2 es 8, no 5.\n",
    "• La **A**dicion y la **S**ustraccion tiene la última preponderancia, por ejemplo 4 + 3 * 3 = 13.\n",
    "\n",
    "• Los operadores con la misma precedencia se evalúan de izquierda a derecha (excepto potencias). Entonces, en la expresión grados/2*π, la división ocurre primero y el resultado se multiplica por π. Para dividir entre 2*π , puede usar paréntesis, escribir grados/2/π o grados/2π"
   ]
  },
  {
   "cell_type": "code",
   "execution_count": 18,
   "id": "0e857ade-bc62-4790-8b30-44c3eb840d46",
   "metadata": {},
   "outputs": [
    {
     "data": {
      "text/plain": [
       "13"
      ]
     },
     "execution_count": 18,
     "metadata": {},
     "output_type": "execute_result"
    }
   ],
   "source": [
    "4 + 3 * 3"
   ]
  },
  {
   "cell_type": "markdown",
   "id": "fbfcf66d-6f80-49c9-bb01-fba08813ab45",
   "metadata": {},
   "source": [
    "## División entera y Módulo\n",
    "El operador división entera, `÷` (\\div TAB), divide dos números y redondea hacia abajo el resultado.  \n",
    "Por ejemplo, suponga que la duración de una película es de 105 minutos.  \n",
    "Es posible que desee saber la duración en horas. \n",
    "\n",
    "La división convencional devuelve un número de punto flotante:"
   ]
  },
  {
   "cell_type": "code",
   "execution_count": 6,
   "id": "08549d6e-b1d1-4019-8145-01126f567e62",
   "metadata": {},
   "outputs": [
    {
     "data": {
      "text/plain": [
       "1.75"
      ]
     },
     "execution_count": 6,
     "metadata": {},
     "output_type": "execute_result"
    }
   ],
   "source": [
    "minutos = 105\n",
    "minutos / 60"
   ]
  },
  {
   "cell_type": "code",
   "execution_count": 10,
   "id": "2c6d4045-31e2-4a56-8fc2-922e2c623db9",
   "metadata": {},
   "outputs": [
    {
     "name": "stdout",
     "output_type": "stream",
     "text": [
      "105\n"
     ]
    },
    {
     "data": {
      "text/plain": [
       "1"
      ]
     },
     "execution_count": 10,
     "metadata": {},
     "output_type": "execute_result"
    }
   ],
   "source": [
    "println(minutos)\n",
    "horas = minutos ÷ 60  #Aunque a este símbolo `÷` no está en mi teclado!! \n",
    "# probemos haciendo \\div + TAB"
   ]
  },
  {
   "cell_type": "code",
   "execution_count": 11,
   "id": "400b1985-aa5b-4922-972e-6b8009869cff",
   "metadata": {},
   "outputs": [
    {
     "data": {
      "text/plain": [
       "div (generic function with 53 methods)"
      ]
     },
     "execution_count": 11,
     "metadata": {},
     "output_type": "execute_result"
    }
   ],
   "source": [
    "÷"
   ]
  },
  {
   "cell_type": "code",
   "execution_count": 12,
   "id": "08c1921a-0fbf-4c21-abe7-24ebb0086766",
   "metadata": {},
   "outputs": [
    {
     "data": {
      "text/plain": [
       "/ (generic function with 106 methods)"
      ]
     },
     "execution_count": 12,
     "metadata": {},
     "output_type": "execute_result"
    }
   ],
   "source": [
    "/"
   ]
  },
  {
   "cell_type": "code",
   "execution_count": 22,
   "id": "9adaa558-6771-404f-8882-1ec274013116",
   "metadata": {},
   "outputs": [
    {
     "data": {
      "text/plain": [
       "45"
      ]
     },
     "execution_count": 22,
     "metadata": {},
     "output_type": "execute_result"
    }
   ],
   "source": [
    "resto = minutos - horas * 60"
   ]
  },
  {
   "cell_type": "code",
   "execution_count": 23,
   "id": "5f4ab367-51bf-46a6-84e3-aaee14360e50",
   "metadata": {},
   "outputs": [
    {
     "data": {
      "text/plain": [
       "45"
      ]
     },
     "execution_count": 23,
     "metadata": {},
     "output_type": "execute_result"
    }
   ],
   "source": [
    "resto = minutos % 60"
   ]
  },
  {
   "cell_type": "markdown",
   "id": "76a2b6d3-4e68-48e0-87d9-5ad43a28a8a6",
   "metadata": {},
   "source": [
    "## Operaciones con cadenas\n",
    "\n",
    "En general, no se pueden realizar operaciones matemáticas con cadenas, aunque las cadenas puedan parecer números, por lo que lo siguiente es inválido: \n",
    "`\"2\" - \"1\"`  \n",
    "`\"huevos\" / \"fácil\"`  \n",
    "`\"tercero\" + \"talismán\"`  \n",
    "\n",
    "No obstante, hay dos excepciones, `*` y `^`.\n",
    "\n",
    "El operador `*` realiza concatenación de cadenas, lo que significa que une las cadenas de extremo a extremo. Por ejemplo:"
   ]
  },
  {
   "cell_type": "code",
   "execution_count": 13,
   "id": "10d93fe6-01ff-431c-8295-c2b7b574d9ed",
   "metadata": {},
   "outputs": [
    {
     "data": {
      "text/plain": [
       "\"automóvil\""
      ]
     },
     "execution_count": 13,
     "metadata": {},
     "output_type": "execute_result"
    }
   ],
   "source": [
    "primer_str = \"auto\"\n",
    "segundo_str = \"móvil\"\n",
    "primer_str * segundo_str"
   ]
  },
  {
   "cell_type": "markdown",
   "id": "29e353a2-e849-4710-b617-e3693b833edc",
   "metadata": {},
   "source": [
    "El operador `^` también funciona con cadenas generando repeticiones.  \n",
    "Por ejemplo, `\"Spam\"^3` es `\"SpamSpamSpam\"`.  \n",
    "Si uno de los valores es una cadena, el otro tiene que ser un número entero.  \n",
    "\n",
    "De manera análoga, este uso de `*` y `^` también tiene sentido en la multiplicación y\n",
    "potencia.  \n",
    "Así como `4^3` es equivalente a `4*4*4`, esperamos que el `\"Spam\"^3` sea lo\n",
    "mismo que el `\"Spam\"*\"Spam\"*\"Spam\"`, y lo es."
   ]
  },
  {
   "cell_type": "code",
   "execution_count": 14,
   "id": "ffcef6a7-0ea1-4aa9-a190-956b5a090593",
   "metadata": {},
   "outputs": [
    {
     "data": {
      "text/plain": [
       "\"SpamSpamSpam\""
      ]
     },
     "execution_count": 14,
     "metadata": {},
     "output_type": "execute_result"
    }
   ],
   "source": [
    "\"Spam\"^3"
   ]
  },
  {
   "cell_type": "markdown",
   "id": "e27b8389-db3b-4592-874b-c1c5e2fed674",
   "metadata": {},
   "source": [
    "## Comentarios\n",
    "A medida que los programas se hacen más largos y complejos, se vuelven más\n",
    "difíciles de leer.  \n",
    "Los lenguajes formales son densos, y a menudo es difícil leer el\n",
    "código y entender qué está haciendo o por qué.  \n",
    "\n",
    "Por esta razón, es una buena idea agregar notas a sus programas para explicar\n",
    "en lenguaje natural lo que está haciendo el programa. Estas notas se llaman\n",
    "comentarios, y comienzan con el símbolo `#`:\n"
   ]
  },
  {
   "cell_type": "code",
   "execution_count": 26,
   "id": "6228f607-5d4d-41f9-8a46-063991124581",
   "metadata": {},
   "outputs": [
    {
     "data": {
      "text/plain": [
       "100.0"
      ]
     },
     "execution_count": 26,
     "metadata": {},
     "output_type": "execute_result"
    }
   ],
   "source": [
    "# calcula el porcentaje de hora que ha transcurrido\n",
    "minuto = 60\n",
    "## porcentaje = (minuto * 100) / 60\n",
    "porcentaje = (minuto * 100) / 60    # porcentaje de una hora"
   ]
  },
  {
   "cell_type": "markdown",
   "id": "45bc14f7-f870-42e8-b731-7112deab2604",
   "metadata": {},
   "source": [
    "## Docstring\n",
    "Un `docstring` es una cadena que va antes de una función y que explica la interfaz\n",
    "`doc` es la abreviatura de *documentación* y *cadena de caracteres* o `string`.   \n",
    "Aquí hay un ejemplo:"
   ]
  },
  {
   "cell_type": "code",
   "execution_count": 15,
   "id": "81ba553d-1102-42a7-b3d1-eea4329efdad",
   "metadata": {},
   "outputs": [
    {
     "data": {
      "text/plain": [
       "polilinea"
      ]
     },
     "execution_count": 15,
     "metadata": {},
     "output_type": "execute_result"
    }
   ],
   "source": [
    "\"\"\"\n",
    "polilinea(t, n, lon, angulo)\n",
    "Dibuja n segmentos de línea de la longitud dada y con\n",
    "ángulo entre ellos (en grados) dado. t es una tortuga.\n",
    "\"\"\"\n",
    "function polilinea(t, n, lon, angulo)\n",
    "  pass\n",
    "end"
   ]
  },
  {
   "cell_type": "markdown",
   "id": "7eaef310-a987-440c-8d52-9c9fdadac68e",
   "metadata": {},
   "source": [
    "Aquí podemos ver el uso de un DocString"
   ]
  },
  {
   "cell_type": "code",
   "execution_count": 18,
   "id": "b145d3c6-bc70-4dd8-a271-3acd1d7d4918",
   "metadata": {},
   "outputs": [
    {
     "data": {
      "text/latex": [
       "polilinea(t, n, lon, angulo) Dibuja n segmentos de línea de la longitud dada y con ángulo entre ellos (en grados) dado. t es una tortuga.\n",
       "\n"
      ],
      "text/markdown": [
       "polilinea(t, n, lon, angulo) Dibuja n segmentos de línea de la longitud dada y con ángulo entre ellos (en grados) dado. t es una tortuga.\n"
      ],
      "text/plain": [
       "  polilinea(t, n, lon, angulo) Dibuja n segmentos de línea de la longitud dada\n",
       "  y con ángulo entre ellos (en grados) dado. t es una tortuga."
      ]
     },
     "execution_count": 18,
     "metadata": {},
     "output_type": "execute_result"
    }
   ],
   "source": [
    "@doc polilinea"
   ]
  },
  {
   "cell_type": "markdown",
   "id": "29227b29-10cf-4000-a035-a71dbfb961b8",
   "metadata": {},
   "source": [
    "Ahora podemos ver `comentarios` que no funcionan como `docstring`"
   ]
  },
  {
   "cell_type": "code",
   "execution_count": 22,
   "id": "927e04f9-34b0-45fc-b609-3b16212a0de4",
   "metadata": {},
   "outputs": [
    {
     "data": {
      "text/plain": [
       "multilinea"
      ]
     },
     "execution_count": 22,
     "metadata": {},
     "output_type": "execute_result"
    }
   ],
   "source": [
    "#=\n",
    "multilinea(t, n, lon, angulo)\n",
    "Dibuja n segmentos de línea de la longitud dada y con\n",
    "ángulo entre ellos (en grados) dado.\n",
    "=#\n",
    "\"\"\"\n",
    "function multilinea(t, n, lon, angulo)\n",
    "\"\"\"\n",
    "function multilinea(t, n, lon, angulo)\n",
    "  pass\n",
    "end"
   ]
  },
  {
   "cell_type": "code",
   "execution_count": 23,
   "id": "4d935509-fa71-4725-b421-cb21ac9240c4",
   "metadata": {},
   "outputs": [
    {
     "data": {
      "text/latex": [
       "function multilinea(t, n, lon, angulo)\n",
       "\n"
      ],
      "text/markdown": [
       "function multilinea(t, n, lon, angulo)\n"
      ],
      "text/plain": [
       "  function multilinea(t, n, lon, angulo)"
      ]
     },
     "execution_count": 23,
     "metadata": {},
     "output_type": "execute_result"
    }
   ],
   "source": [
    "@doc multilinea"
   ]
  },
  {
   "cell_type": "markdown",
   "id": "2e26701a-e3a4-4e11-9182-d48db25442b6",
   "metadata": {},
   "source": [
    "## Entrada por teclado\n",
    "\n",
    "Los programas que se han escrito hasta ahora no aceptan entradas del usuario.  \n",
    "Simplemente hacen lo mismo cada vez.  \n",
    "`Julia` tiene una función incorporada llamada `readline` que detiene el programa y\n",
    "espera a que el usuario escriba algo. \n",
    "\n",
    "Cuando el usuario presiona `RETURN` o `ENTER`, el programa se reanuda y readline devuelve lo que el usuario escribió como una cadena."
   ]
  },
  {
   "cell_type": "code",
   "execution_count": 35,
   "id": "9704162e-2ae1-4590-8192-c79b7f5b131a",
   "metadata": {},
   "outputs": [
    {
     "name": "stdin",
     "output_type": "stream",
     "text": [
      "stdin>  Hola!!!\n"
     ]
    },
    {
     "data": {
      "text/plain": [
       "\"Hola!!!\""
      ]
     },
     "execution_count": 35,
     "metadata": {},
     "output_type": "execute_result"
    }
   ],
   "source": [
    "text = readline()"
   ]
  },
  {
   "cell_type": "code",
   "execution_count": 36,
   "id": "759f3b21-97ab-4294-9c97-ef9eeb8b0244",
   "metadata": {},
   "outputs": [
    {
     "data": {
      "text/plain": [
       "\"Hola!!!\""
      ]
     },
     "execution_count": 36,
     "metadata": {},
     "output_type": "execute_result"
    }
   ],
   "source": [
    "text"
   ]
  },
  {
   "cell_type": "code",
   "execution_count": 27,
   "id": "69de08d0-e158-4456-a77e-2f9f581691e2",
   "metadata": {},
   "outputs": [
    {
     "name": "stdin",
     "output_type": "stream",
     "text": [
      "stdin>  Edgardo\n"
     ]
    },
    {
     "name": "stdout",
     "output_type": "stream",
     "text": [
      "¿Cuál... es su nombre? "
     ]
    },
    {
     "data": {
      "text/plain": [
       "\"Edgardo\""
      ]
     },
     "execution_count": 27,
     "metadata": {},
     "output_type": "execute_result"
    }
   ],
   "source": [
    "print(\"¿Cuál... es su nombre? \"); \n",
    "readline()"
   ]
  },
  {
   "cell_type": "code",
   "execution_count": 38,
   "id": "9c4c567c-23bd-4001-97fe-72327e45339e",
   "metadata": {},
   "outputs": [
    {
     "name": "stdin",
     "output_type": "stream",
     "text": [
      "stdin>  Edgardo\n"
     ]
    },
    {
     "name": "stdout",
     "output_type": "stream",
     "text": [
      "¿Me puede repetir tu nombre? Hola!!! Edgardo\n"
     ]
    }
   ],
   "source": [
    "print(\"¿Me puede repetir tu nombre? \"); \n",
    "nombre = readline()\n",
    "println(text*' '*nombre)"
   ]
  },
  {
   "cell_type": "code",
   "execution_count": 28,
   "id": "849928e4-00b4-4920-ac29-2ed30ab8c1c4",
   "metadata": {},
   "outputs": [
    {
     "name": "stdin",
     "output_type": "stream",
     "text": [
      "stdin>  17\n"
     ]
    },
    {
     "name": "stdout",
     "output_type": "stream",
     "text": [
      "¿Dime tu número favorito\n"
     ]
    },
    {
     "data": {
      "text/plain": [
       "\"17\""
      ]
     },
     "execution_count": 28,
     "metadata": {},
     "output_type": "execute_result"
    }
   ],
   "source": [
    "println(\"¿Dime tu número favorito\");\n",
    "numero = readline()"
   ]
  },
  {
   "cell_type": "markdown",
   "id": "2b4ff4fe-9dd2-40ce-8151-b39751a57ea9",
   "metadata": {},
   "source": [
    "No obstante de seer un número, debemos convertirlo a un variable numérica, para operar"
   ]
  },
  {
   "cell_type": "code",
   "execution_count": 32,
   "id": "2484ae70-a35e-4495-8912-0154ada1bb67",
   "metadata": {},
   "outputs": [
    {
     "ename": "LoadError",
     "evalue": "MethodError: no method matching +(::String, ::Int64)\n\u001b[0mClosest candidates are:\n\u001b[0m  +(::Any, ::Any, \u001b[91m::Any\u001b[39m, \u001b[91m::Any...\u001b[39m) at operators.jl:560\n\u001b[0m  +(\u001b[91m::T\u001b[39m, ::T) where T<:Union{Int128, Int16, Int32, Int64, Int8, UInt128, UInt16, UInt32, UInt64, UInt8} at int.jl:87\n\u001b[0m  +(\u001b[91m::Base.TwicePrecision\u001b[39m, ::Number) at twiceprecision.jl:267\n\u001b[0m  ...",
     "output_type": "error",
     "traceback": [
      "MethodError: no method matching +(::String, ::Int64)\n\u001b[0mClosest candidates are:\n\u001b[0m  +(::Any, ::Any, \u001b[91m::Any\u001b[39m, \u001b[91m::Any...\u001b[39m) at operators.jl:560\n\u001b[0m  +(\u001b[91m::T\u001b[39m, ::T) where T<:Union{Int128, Int16, Int32, Int64, Int8, UInt128, UInt16, UInt32, UInt64, UInt8} at int.jl:87\n\u001b[0m  +(\u001b[91m::Base.TwicePrecision\u001b[39m, ::Number) at twiceprecision.jl:267\n\u001b[0m  ...",
      "",
      "Stacktrace:",
      " [1] top-level scope",
      "   @ In[32]:1",
      " [2] eval",
      "   @ ./boot.jl:360 [inlined]",
      " [3] include_string(mapexpr::typeof(REPL.softscope), mod::Module, code::String, filename::String)",
      "   @ Base ./loading.jl:1094"
     ]
    }
   ],
   "source": [
    "numero + 4"
   ]
  },
  {
   "cell_type": "markdown",
   "id": "3ec5e22c-5f66-4601-b45a-c5b56ca745d7",
   "metadata": {},
   "source": [
    "Aqui lo convertimos a número, o lo casteamos o parseamos!!!"
   ]
  },
  {
   "cell_type": "code",
   "execution_count": 31,
   "id": "9d26ae3d-31c1-4594-b4df-565ac65d14ae",
   "metadata": {},
   "outputs": [
    {
     "data": {
      "text/plain": [
       "21"
      ]
     },
     "execution_count": 31,
     "metadata": {},
     "output_type": "execute_result"
    }
   ],
   "source": [
    "n = parse(Int64, numero)\n",
    "n + 4"
   ]
  }
 ],
 "metadata": {
  "kernelspec": {
   "display_name": "Julia 1.6.0",
   "language": "julia",
   "name": "julia-1.6"
  },
  "language_info": {
   "file_extension": ".jl",
   "mimetype": "application/julia",
   "name": "julia",
   "version": "1.6.0"
  }
 },
 "nbformat": 4,
 "nbformat_minor": 5
}
