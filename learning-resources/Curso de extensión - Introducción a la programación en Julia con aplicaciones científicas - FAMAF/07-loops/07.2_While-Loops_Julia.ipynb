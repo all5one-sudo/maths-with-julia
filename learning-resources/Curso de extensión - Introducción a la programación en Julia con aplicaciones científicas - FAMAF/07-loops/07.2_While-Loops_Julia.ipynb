{
 "cells": [
  {
   "cell_type": "markdown",
   "id": "8e537b4c-3502-4ba7-aaa2-64d4d25496cd",
   "metadata": {},
   "source": [
    "<p style=\"text-align:center\"><img src=\"Julia.jpg\" width=\"350\" ></p>"
   ]
  },
  {
   "cell_type": "markdown",
   "id": "52881b79-a8a7-40c7-884d-2abed4c224d4",
   "metadata": {},
   "source": [
    "# Bucle `while` en Julia"
   ]
  },
  {
   "cell_type": "markdown",
   "id": "95054e91-77f5-4ca0-b766-3c31e3661e76",
   "metadata": {},
   "source": [
    "While-loop (bucle while) es una declaración de flujo de control, que se utiliza para ejecutar un conjunto de declaraciones siempre que esta condición de control dada se cumpla. Cae en la categoría de iteración indefinida. \n",
    "\n",
    "[Manualito de Julia](https://www.machinelearningplus.com/julia/for-loop-in-julia/)"
   ]
  },
  {
   "cell_type": "markdown",
   "id": "cb4a51f9-290e-4673-9381-42fad7920c5c",
   "metadata": {},
   "source": [
    "## Contenido\n",
    "\n",
    "1.    Introducción al ciclo while en Julia\n",
    "2.    Declaración de ruptura\n",
    "3.    Continuar Declaración\n",
    "4.    Ejercicio práctico "
   ]
  },
  {
   "cell_type": "markdown",
   "id": "f1c077bd-cbd2-418d-a04a-0f3db07df479",
   "metadata": {},
   "source": [
    "## 1. Introducción al ciclo while en Julia \n",
    "\n",
    "While-loop es una declaración de flujo de control, que se utiliza para ejecutar un conjunto de declaraciones siempre que esta condición de control dada se cumpla. Cae en la categoría de iteración indefinida. Cuando el número de iteraciones no se especifica explícitamente de antemano, se denomina iteración indefinida.\n",
    "\n",
    "El ciclo while en `Julia` sigue una sintaxis similar al ciclo `while` en otros lenguajes de programación. Y se requiere de una declaración `end` para finalizar el ciclo.\n",
    "\n",
    "Veamos la Sintaxis de un ciclo `while`\n",
    "```Julia\n",
    "while condition is true\n",
    "    # do something here\n",
    "    # make sure the logic breaks the condition at some point\n",
    "    # else results in infinite loop\n",
    "end\n",
    "```\n",
    "Entendamos el ciclo `while` con un ejemplo simple. "
   ]
  },
  {
   "cell_type": "code",
   "execution_count": 1,
   "id": "01569d1c-31c1-44a7-bfc3-ca1e3bf393bc",
   "metadata": {},
   "outputs": [
    {
     "name": "stdout",
     "output_type": "stream",
     "text": [
      "-5\n",
      "-4\n",
      "-3\n",
      "-2\n",
      "-1\n"
     ]
    }
   ],
   "source": [
    "# Imprime todos los números negativos, desde un número dado `-5`\n",
    "num = -5\n",
    "while num < 0\n",
    "    println(num)\n",
    "    num += 1\n",
    "end"
   ]
  },
  {
   "cell_type": "markdown",
   "id": "cf1d40e2-5c82-4a71-8fc0-0b28cf07b081",
   "metadata": {},
   "source": [
    "## 2. Declaración de ruptura\n",
    "\n",
    "La instrucción `Break` es una instrucción de control de bucle, que se utiliza para detener el ciclo `while` incluso antes de que la instrucción de control se vuelva falsa.\n",
    "\n",
    "Veamos explicado con un ejemplo. "
   ]
  },
  {
   "cell_type": "code",
   "execution_count": 4,
   "id": "07c6f9d6-f388-4b84-afd2-64a33c4f972f",
   "metadata": {},
   "outputs": [
    {
     "name": "stdout",
     "output_type": "stream",
     "text": [
      "1\n",
      "4\n",
      "9\n",
      "16\n",
      "25\n",
      "36\n",
      "49\n",
      "64\n",
      "81\n",
      "100\n"
     ]
    }
   ],
   "source": [
    "# Imprime todos los números cuadrados del 1 al 20, pero asegúrandose de que \n",
    "# los números cuadrados sean menores que 100\n",
    "\n",
    "num = 1\n",
    "while num < 20\n",
    "    sq_num = num*num\n",
    "    if sq_num > 100\n",
    "        break\n",
    "    end\n",
    "    println(sq_num)\n",
    "    num += 1\n",
    "end"
   ]
  },
  {
   "cell_type": "markdown",
   "id": "8a658e3d-5efd-4893-b56d-3c25b43cf7ec",
   "metadata": {},
   "source": [
    "Sin la palabra clave `break`, el ciclo `while` anterior iteraría hasta 20. Este ciclo se cierra antes de tiempo usando una instrucción `break`."
   ]
  },
  {
   "cell_type": "markdown",
   "id": "171c2e3f-65e2-4986-8a33-cda0f9931625",
   "metadata": {},
   "source": [
    "## 3. Declaración de continuación\n",
    "\n",
    "Hemos visto cómo romper un ciclo sobre alguna condición específica con la sentencia `break`.  \n",
    "¿Qué sucede si desea continuar un ciclo sobre alguna condición específica? \n",
    "Vamos a ver cómo hacer eso. \n",
    "\n",
    "La declaración de `continuación` es una declaración de control de bucle, que se utiliza para detener una iteración y pasar a la siguiente inmediatamente.\n",
    "\n",
    "Mejor explicarlo con un ejemplo. "
   ]
  },
  {
   "cell_type": "code",
   "execution_count": 5,
   "id": "20ab16ad-346a-49cc-97bf-d870e654e43e",
   "metadata": {},
   "outputs": [
    {
     "name": "stdout",
     "output_type": "stream",
     "text": [
      "3\n",
      "6\n",
      "9\n"
     ]
    }
   ],
   "source": [
    "# Imprime todos los múltiplos de 3 que sean menores que 10\n",
    "num = 1     \n",
    "while num < 10  \n",
    "    num += 1\n",
    "    if num % 3 != 0\n",
    "        continue\n",
    "    end\n",
    "    println(num)\n",
    "end"
   ]
  },
  {
   "cell_type": "code",
   "execution_count": 7,
   "id": "4da0590c-cdf7-4969-85f2-b89070e019f5",
   "metadata": {},
   "outputs": [
    {
     "name": "stdout",
     "output_type": "stream",
     "text": [
      "3\n",
      "6\n",
      "9\n"
     ]
    }
   ],
   "source": [
    "# Imprime todos los múltiplos de 3 que sean menores que 10\n",
    "# Un ejemplo equivalente sin continue\n",
    "num = 1     \n",
    "while num < 10  \n",
    "    num += 1\n",
    "    if num % 3 == 0\n",
    "        println(num)\n",
    "    end\n",
    "end"
   ]
  },
  {
   "cell_type": "markdown",
   "id": "38c7b084-751d-4242-a235-749d222e29a3",
   "metadata": {},
   "source": [
    "## 4. Ejercicios de práctica\n",
    "\n",
    "Contar los dígitos totales en un número dado"
   ]
  },
  {
   "cell_type": "code",
   "execution_count": 11,
   "id": "e08a4582-ab42-4527-855f-0758cd8babf7",
   "metadata": {},
   "outputs": [
    {
     "name": "stdout",
     "output_type": "stream",
     "text": [
      "2123678\n",
      "212367\n",
      "21236\n",
      "2123\n",
      "212\n",
      "21\n",
      "2\n",
      "0\n",
      "Total digits are: 8\n"
     ]
    }
   ],
   "source": [
    "num = 21236789\n",
    "count = 0\n",
    "while num != 0\n",
    "    num ÷= 10  # Lo dividimos por 10 y nos quedamos con la parte entera\n",
    "    println(num)\n",
    "    count+= 1\n",
    "end\n",
    "println(\"Total digits are: \", count)"
   ]
  },
  {
   "cell_type": "markdown",
   "id": "3a4926da-3a1b-4d0b-b0ce-d00482086a56",
   "metadata": {},
   "source": [
    "Hallar el factorial de un número"
   ]
  },
  {
   "cell_type": "code",
   "execution_count": 15,
   "id": "40134e36-9bf5-48e9-9394-eb1a88b4e0c5",
   "metadata": {},
   "outputs": [
    {
     "name": "stdout",
     "output_type": "stream",
     "text": [
      "24\n"
     ]
    }
   ],
   "source": [
    "num = 4\n",
    "fac = 1\n",
    "if num == 0\n",
    "    println(1)\n",
    "else\n",
    "    while num >= 1\n",
    "        fac = fac*num\n",
    "        num -= 1\n",
    "    end\n",
    "    println(fac)\n",
    "end"
   ]
  },
  {
   "cell_type": "markdown",
   "id": "0e541469-5d8b-4bbb-9086-25caa7040b7c",
   "metadata": {},
   "source": [
    "Bucles con Diccionarios"
   ]
  },
  {
   "cell_type": "code",
   "execution_count": 2,
   "id": "f0f106ef-2819-4eea-9a05-4f0dbb6c22a6",
   "metadata": {},
   "outputs": [
    {
     "data": {
      "text/plain": [
       "Dict{String, Int64} with 2 entries:\n",
       "  \"B\" => 2\n",
       "  \"A\" => 1"
      ]
     },
     "execution_count": 2,
     "metadata": {},
     "output_type": "execute_result"
    }
   ],
   "source": [
    "# Definimos un Diccionario\n",
    "Dicti = Dict(\"A\"=>1, \"B\"=>2)"
   ]
  },
  {
   "cell_type": "code",
   "execution_count": 3,
   "id": "b33c754e-d307-4380-8772-bd658bf947be",
   "metadata": {},
   "outputs": [
    {
     "data": {
      "text/plain": [
       "1"
      ]
     },
     "execution_count": 3,
     "metadata": {},
     "output_type": "execute_result"
    }
   ],
   "source": [
    "Dicti[\"A\"]"
   ]
  },
  {
   "cell_type": "code",
   "execution_count": 13,
   "id": "b1c77fb4-b570-41f4-bf3b-99317f19c861",
   "metadata": {},
   "outputs": [
    {
     "name": "stdout",
     "output_type": "stream",
     "text": [
      "B2A1"
     ]
    }
   ],
   "source": [
    "for (key, value) in Dicti\n",
    "    print(key, value)\n",
    "end    "
   ]
  },
  {
   "cell_type": "code",
   "execution_count": null,
   "id": "20871be9-2225-454f-8d1b-017bfadb5859",
   "metadata": {},
   "outputs": [],
   "source": []
  }
 ],
 "metadata": {
  "kernelspec": {
   "display_name": "Julia 1.6.0",
   "language": "julia",
   "name": "julia-1.6"
  },
  "language_info": {
   "file_extension": ".jl",
   "mimetype": "application/julia",
   "name": "julia",
   "version": "1.6.0"
  }
 },
 "nbformat": 4,
 "nbformat_minor": 5
}
