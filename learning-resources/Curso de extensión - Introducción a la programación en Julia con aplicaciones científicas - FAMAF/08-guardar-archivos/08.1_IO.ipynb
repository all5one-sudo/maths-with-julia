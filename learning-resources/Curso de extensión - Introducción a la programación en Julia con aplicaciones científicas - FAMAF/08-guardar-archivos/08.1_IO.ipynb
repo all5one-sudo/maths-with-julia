{
 "cells": [
  {
   "cell_type": "markdown",
   "id": "3ac927be-c698-4a81-b6aa-b10226cb78c7",
   "metadata": {},
   "source": [
    "<p style=\"text-align:center\"><img src=\"Julia.jpg\" width=\"350\" ></p>"
   ]
  },
  {
   "cell_type": "markdown",
   "id": "95441625-ea18-492b-a17d-aad41b94c5cf",
   "metadata": {},
   "source": [
    "# I/O Input / Output\n",
    "[web de donde leer este tema](https://docs.julialang.org/en/v1/base/io-network/)"
   ]
  },
  {
   "cell_type": "markdown",
   "id": "d89816ff-4f67-4a80-86ca-44f43fb55457",
   "metadata": {},
   "source": [
    "Vamos a crear un archivo que se llame \"myfile.txt\" y escribiremos un saludo!"
   ]
  },
  {
   "cell_type": "code",
   "execution_count": 4,
   "id": "6ef2554b-8da7-4be7-8bab-282df94276c2",
   "metadata": {},
   "outputs": [],
   "source": [
    "open(\"myfile.txt\", \"w\") do io\n",
    "           write(io, \"Hello world!\")\n",
    "end;  # debo cerrar el open"
   ]
  },
  {
   "cell_type": "markdown",
   "id": "3b549668-c1f5-40c8-a4be-cf3cd813199a",
   "metadata": {},
   "source": [
    "Lo leemos!"
   ]
  },
  {
   "cell_type": "code",
   "execution_count": 5,
   "id": "74cf6eda-de3e-4e5c-9e12-fdfeb6784507",
   "metadata": {},
   "outputs": [
    {
     "data": {
      "text/plain": [
       "\"Hello world!\""
      ]
     },
     "execution_count": 5,
     "metadata": {},
     "output_type": "execute_result"
    }
   ],
   "source": [
    "open(f->read(f, String), \"myfile.txt\")"
   ]
  },
  {
   "cell_type": "markdown",
   "id": "19a7129b-eff9-498c-8994-715d965c8534",
   "metadata": {},
   "source": [
    "Y lo borramos!"
   ]
  },
  {
   "cell_type": "code",
   "execution_count": 6,
   "id": "0ca1565e-a2a1-4ee7-a450-b41b08a32cc6",
   "metadata": {},
   "outputs": [],
   "source": [
    "rm(\"myfile.txt\") # Aqui estoy borrando el archivo"
   ]
  },
  {
   "cell_type": "markdown",
   "id": "a4fe319c-1d3e-4447-b099-573a5ae000d4",
   "metadata": {},
   "source": [
    "Lo creamos de nuevo, de otra forma, guardando la apertura en una variable \"iofile\".\n",
    "\n",
    "este es con modo \"w\" write, sobrescribe lo que tenga y sino existe lo crea"
   ]
  },
  {
   "cell_type": "code",
   "execution_count": 10,
   "id": "a1caf39d-692b-4d57-940c-b5050428d794",
   "metadata": {},
   "outputs": [],
   "source": [
    "iofile = open(\"myfile.txt\", \"w\");\n",
    "write(iofile, \"1. Hello world!\\n\");\n",
    "close(iofile);"
   ]
  },
  {
   "cell_type": "markdown",
   "id": "f0f2c265-fc45-448e-9e16-a9b078d92e93",
   "metadata": {},
   "source": [
    "Agregamos con el modo \"a\" de append"
   ]
  },
  {
   "cell_type": "code",
   "execution_count": 12,
   "id": "6aa44083-cc55-4603-8e15-7611acb5fcf5",
   "metadata": {},
   "outputs": [],
   "source": [
    "iofile = open(\"myfile.txt\", \"a\");\n",
    "write(iofile, \"2. Hello world!\\n\");\n",
    "write(iofile, \"3. Hello world!\\n\");\n",
    "close(iofile);"
   ]
  },
  {
   "cell_type": "markdown",
   "id": "9835eeed-6b28-4aab-8f2d-4659c9ef5dcf",
   "metadata": {},
   "source": [
    "leemos lo que hemos escrito"
   ]
  },
  {
   "cell_type": "code",
   "execution_count": 14,
   "id": "8bc2cf51-4bdd-4a8f-b89c-a63eb07082db",
   "metadata": {},
   "outputs": [
    {
     "data": {
      "text/plain": [
       "\"1. Hello world!\\n2. Hello world!\\n3. Hello world!\\n2. Hello world!\\n3. Hello world!\\n\""
      ]
     },
     "execution_count": 14,
     "metadata": {},
     "output_type": "execute_result"
    }
   ],
   "source": [
    "iofile = open(\"myfile.txt\", \"r\");\n",
    "read(iofile, String)"
   ]
  },
  {
   "cell_type": "markdown",
   "id": "2c1b958c-0e0d-4f3f-a593-f028df0f4d77",
   "metadata": {},
   "source": [
    "cerramos el archivo!!"
   ]
  },
  {
   "cell_type": "code",
   "execution_count": 15,
   "id": "fae75edf-6e46-4bc7-a1d0-4f1f230475e0",
   "metadata": {},
   "outputs": [],
   "source": [
    "close(iofile)"
   ]
  },
  {
   "cell_type": "code",
   "execution_count": 17,
   "id": "2b853a45-b9d9-47a3-bdc5-d4a12283dadd",
   "metadata": {},
   "outputs": [
    {
     "ename": "LoadError",
     "evalue": "ArgumentError: write failed, IOStream is not writeable",
     "output_type": "error",
     "traceback": [
      "ArgumentError: write failed, IOStream is not writeable",
      "",
      "Stacktrace:",
      " [1] unsafe_write(s::IOStream, p::Ptr{UInt8}, nb::UInt64)",
      "   @ Base ./iostream.jl:372",
      " [2] write(io::IOStream, s::String)",
      "   @ Base ./strings/io.jl:185",
      " [3] top-level scope",
      "   @ In[17]:1",
      " [4] eval",
      "   @ ./boot.jl:360 [inlined]",
      " [5] include_string(mapexpr::typeof(REPL.softscope), mod::Module, code::String, filename::String)",
      "   @ Base ./loading.jl:1094"
     ]
    }
   ],
   "source": [
    "write(iofile, \"This file is read only\")\n",
    "#ERROR: ArgumentError: write failed, IOStream is not writeable\n",
    "#[...]\n",
    "\n",
    "close(iofile) ## Ups!! No se puede! Ya está cerrado!"
   ]
  },
  {
   "cell_type": "markdown",
   "id": "99dd2399-3cdb-4d9e-8811-05d9352dae3b",
   "metadata": {},
   "source": [
    "Abrimos, escribimos y cerramos!"
   ]
  },
  {
   "cell_type": "code",
   "execution_count": 43,
   "id": "45c89516-f494-452a-ab20-032e1900ae1a",
   "metadata": {},
   "outputs": [],
   "source": [
    "iofile = open(\"myfile.txt\", \"a\");\n",
    "\n",
    "write(iofile, \"This stream is not read only\")\n",
    "\n",
    "close(iofile)"
   ]
  },
  {
   "cell_type": "markdown",
   "id": "a998d426-b71b-465b-bfa6-1bcc24d9800d",
   "metadata": {},
   "source": [
    "otra vez"
   ]
  },
  {
   "cell_type": "code",
   "execution_count": 44,
   "id": "7d52c8df-84db-4b5b-8a9a-c182b17339e0",
   "metadata": {},
   "outputs": [],
   "source": [
    "iofile = open(\"myfile.txt\", \"a\");\n",
    "\n",
    "write(iofile, \"\\n This stream is not read only\")\n",
    "\n",
    "close(iofile)"
   ]
  },
  {
   "cell_type": "markdown",
   "id": "4055e585-a35f-4151-96e5-a6d98a845bd6",
   "metadata": {},
   "source": [
    "veamos que quedo!"
   ]
  },
  {
   "cell_type": "code",
   "execution_count": 45,
   "id": "6ff8ea6e-a476-438e-bb78-03ccc3fcdbe6",
   "metadata": {},
   "outputs": [],
   "source": [
    "iofile = open(\"myfile.txt\", \"r\");\n",
    "cosas = read(iofile, String)\n",
    "close(iofile)"
   ]
  },
  {
   "cell_type": "markdown",
   "id": "2dea9608-75f5-4669-8fe3-922bc959ed95",
   "metadata": {},
   "source": [
    "y ahora mostramos!"
   ]
  },
  {
   "cell_type": "code",
   "execution_count": 46,
   "id": "586d0cd9-7d57-4439-96df-fa301e08a53d",
   "metadata": {},
   "outputs": [
    {
     "data": {
      "text/plain": [
       "\"This stream is not read only\\n This stream is not read only\""
      ]
     },
     "execution_count": 46,
     "metadata": {},
     "output_type": "execute_result"
    }
   ],
   "source": [
    "cosas"
   ]
  },
  {
   "cell_type": "markdown",
   "id": "3af199a0-324c-4b42-87e4-be0063c6b7e4",
   "metadata": {},
   "source": [
    "| `Mode`    |     `Description`                 |   `Keywords`                   |\n",
    "|-----------|-----------------------------------|--------------------------------|\n",
    "| `r`       |              read                 |   none                         |\n",
    "| `w`       |   write, create, truncate         | write = true                   |\n",
    "| `a`       | write, create, append\t            | append = true                  |\n",
    "| `r+`\t    | read, write                       | read = true, write = true      |  \n",
    "| `w+`\t    | read, write, create, truncate\t    |  truncate = true, read = true  |\n",
    "| `a+`\t    | read, write, create, append\t    |  append = true, read = true    |  "
   ]
  },
  {
   "cell_type": "markdown",
   "id": "81a924ac-125a-48a8-b33a-685202e99caf",
   "metadata": {},
   "source": [
    "en modo lectura `r`"
   ]
  },
  {
   "cell_type": "code",
   "execution_count": 47,
   "id": "76acf6e7-96a6-4f8f-92a3-8a8e6156a242",
   "metadata": {},
   "outputs": [
    {
     "name": "stdout",
     "output_type": "stream",
     "text": [
      "This stream is not read only\n",
      " This stream is not read only"
     ]
    }
   ],
   "source": [
    "iofile = open(\"myfile.txt\", \"r\");\n",
    "texto = read(iofile, String)\n",
    "print(texto)\n",
    "close(iofile)"
   ]
  },
  {
   "cell_type": "code",
   "execution_count": 48,
   "id": "64124277-d6f2-4ef6-b493-c2f31d022ea9",
   "metadata": {},
   "outputs": [
    {
     "name": "stdout",
     "output_type": "stream",
     "text": [
      "This stream is not read only\n",
      " This stream is not"
     ]
    }
   ],
   "source": [
    "print(texto[1:16])\n",
    "print(texto[17:32])\n",
    "print(texto[33:48])"
   ]
  },
  {
   "cell_type": "code",
   "execution_count": 49,
   "id": "cd90020b-e664-4302-baa1-a27f89bdef6e",
   "metadata": {},
   "outputs": [
    {
     "data": {
      "text/plain": [
       "\"This stream is not read only\\n This stream is not read only\""
      ]
     },
     "execution_count": 49,
     "metadata": {},
     "output_type": "execute_result"
    }
   ],
   "source": [
    "iofile = open(\"myfile.txt\", \"r\");\n",
    "read(iofile, String)"
   ]
  },
  {
   "cell_type": "code",
   "execution_count": 50,
   "id": "6b10e5dc-dcb8-40f3-af6b-64bc0c028f7c",
   "metadata": {},
   "outputs": [],
   "source": [
    "close(iofile)"
   ]
  },
  {
   "cell_type": "markdown",
   "id": "39bf2223-46dd-457c-9f3a-dbb8080874be",
   "metadata": {},
   "source": [
    "en modo escritura y más!"
   ]
  },
  {
   "cell_type": "code",
   "execution_count": 51,
   "id": "6e5f3cc8-0ff3-468e-8566-de53df724f68",
   "metadata": {},
   "outputs": [],
   "source": [
    "iofile = open(\"myfile.txt\", \"w+\");\n",
    "write(iofile, \"\\n This stream is truncate\")\n",
    "close(iofile)"
   ]
  },
  {
   "cell_type": "markdown",
   "id": "d0078fcf-6ee6-402b-ae18-15b24e6289d1",
   "metadata": {},
   "source": [
    "y ahora en modo solo lectura `r`"
   ]
  },
  {
   "cell_type": "code",
   "execution_count": 52,
   "id": "3c71079a-879e-420e-a8b9-0ef520a72698",
   "metadata": {},
   "outputs": [
    {
     "name": "stdout",
     "output_type": "stream",
     "text": [
      "String"
     ]
    }
   ],
   "source": [
    "iofile = open(\"myfile.txt\", \"r\");\n",
    "read(iofile, String)\n",
    "read(iofile, String)\n",
    "print(String)\n",
    "close(iofile)"
   ]
  },
  {
   "cell_type": "markdown",
   "id": "dd104036-372e-4210-a7b5-94c0c5b927ca",
   "metadata": {},
   "source": [
    "Ahora borramos el archivo, si queremos! \n",
    "\n",
    "pero solo una vez, si no, será un error!!"
   ]
  },
  {
   "cell_type": "code",
   "execution_count": 53,
   "id": "151468d0-82d2-4de1-981a-3babd5624e1a",
   "metadata": {},
   "outputs": [],
   "source": [
    "rm(\"myfile.txt\")"
   ]
  }
 ],
 "metadata": {
  "kernelspec": {
   "display_name": "Julia 1.6.0",
   "language": "julia",
   "name": "julia-1.6"
  },
  "language_info": {
   "file_extension": ".jl",
   "mimetype": "application/julia",
   "name": "julia",
   "version": "1.6.0"
  }
 },
 "nbformat": 4,
 "nbformat_minor": 5
}
