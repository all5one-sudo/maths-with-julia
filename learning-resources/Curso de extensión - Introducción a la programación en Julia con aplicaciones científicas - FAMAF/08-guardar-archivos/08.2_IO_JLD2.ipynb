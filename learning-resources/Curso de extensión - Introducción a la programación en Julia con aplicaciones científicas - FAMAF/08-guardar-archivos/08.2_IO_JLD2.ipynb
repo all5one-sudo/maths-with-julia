{
 "cells": [
  {
   "cell_type": "markdown",
   "id": "3ac927be-c698-4a81-b6aa-b10226cb78c7",
   "metadata": {},
   "source": [
    "<p style=\"text-align:center\"><img src=\"Julia.jpg\" width=\"350\" ></p>"
   ]
  },
  {
   "cell_type": "markdown",
   "id": "95441625-ea18-492b-a17d-aad41b94c5cf",
   "metadata": {},
   "source": [
    "# I/O Input / Output\n",
    "[web de donde leer este tema](https://docs.julialang.org/en/v1/base/io-network/)"
   ]
  },
  {
   "cell_type": "markdown",
   "id": "ff1a12e7-7f2e-43de-bf28-ceed11d65ac6",
   "metadata": {},
   "source": [
    "## Formato de datos Julia - JLD2\n",
    "\n",
    "`JLD2` guarda y carga estructuras de datos de `Julia` en un formato que comprende un subconjunto de `HDF5`, sin ninguna dependencia de la biblioteca `C` de `HDF5`. "
   ]
  },
  {
   "cell_type": "markdown",
   "id": "5dd72296-7d8c-4f9b-95c4-b3742980bac4",
   "metadata": {},
   "source": [
    "## HDF5.jl\n",
    "#### Visión general\n",
    "\n",
    "`HDF5` significa **H**ierarchical **D**ata **F**ormat **v5** y está estrechamente modelado en los sistemas de archivos.  \n",
    "En `HDF5`, un \"grupo\" es análogo a un directorio, un \"conjunto de datos\" es como un archivo.  \n",
    "`HDF5` también usa \"atributos\" para asociar metadatos con un grupo o conjunto de datos en particular.  \n",
    "`HDF5` usa nombres `ASCII` para estos diferentes objetos, y se puede acceder a los objetos mediante nombres de ruta similares a Unix, por ejemplo, \"/sample1/tempsensor/firsttrial\" para un grupo de nivel superior \"sample1\", un subgrupo \"tempsensor\" y un conjunto de datos \"firsttrial\". "
   ]
  },
  {
   "cell_type": "markdown",
   "id": "68b15246-2840-48d7-8373-195058ae3e67",
   "metadata": {},
   "source": [
    "Mientras que otras implementaciones de HDF5 que admiten la especificación de formato de archivo `HDF5 versión 3.0` (es decir, libhdf5 1.10 o posterior) deberían poder leer los archivos que produce `JLD2`, es probable que `JLD2` no pueda leer archivos creados o modificados por otras implementaciones de `HDF5`.  \n",
    "`JLD2` no pretende ser compatible hacia atrás o hacia adelante con el paquete `JLD`. "
   ]
  },
  {
   "cell_type": "markdown",
   "id": "bce0c926-2de9-49fe-ab59-c4112facb6f7",
   "metadata": {},
   "source": [
    "### Leer y escribir datos  \n",
    "Una nueva interfaz: `jldsave`\n",
    "\n",
    "`jldsave`hace uso de la sintaxis de argumento de palabra clave de `Julia` para almacenar archivos, aprovechando así el analizador y no teniendo que depender de macros.  \n",
    "Para usarlo se escribe:"
   ]
  },
  {
   "cell_type": "markdown",
   "id": "08fa6949-a3ba-46d7-9960-48d5c504879e",
   "metadata": {},
   "source": [
    "### Installation\n",
    "\n",
    "Within Julia, use the package manager:"
   ]
  },
  {
   "cell_type": "code",
   "execution_count": 1,
   "id": "98b8d6fb-efb4-45db-8f6c-c9099a8bc667",
   "metadata": {},
   "outputs": [],
   "source": [
    "# import Pkg; Pkg.add(\"JLD2\")"
   ]
  },
  {
   "cell_type": "code",
   "execution_count": 2,
   "id": "686fde6d-c0e3-4248-bde1-d2de6d040fb6",
   "metadata": {},
   "outputs": [],
   "source": [
    "# To use the JLD2 module, begin your code with\n",
    "using JLD2"
   ]
  },
  {
   "cell_type": "code",
   "execution_count": 3,
   "id": "3058afe6-bf66-422b-90a2-1ac9c3aa2a25",
   "metadata": {},
   "outputs": [
    {
     "data": {
      "text/plain": [
       "17"
      ]
     },
     "execution_count": 3,
     "metadata": {},
     "output_type": "execute_result"
    }
   ],
   "source": [
    "x = 17"
   ]
  },
  {
   "cell_type": "code",
   "execution_count": 4,
   "id": "b27dc6ab-898d-450a-a285-70ce7d519e09",
   "metadata": {},
   "outputs": [],
   "source": [
    "save(\"example_1.jld2\", Dict(\"x\" => x)) # Aqui ponemos \"x\" -> x, en un diccionario"
   ]
  },
  {
   "cell_type": "code",
   "execution_count": 5,
   "id": "a12da703-955a-4b1a-8658-740cce93f71e",
   "metadata": {},
   "outputs": [
    {
     "data": {
      "text/plain": [
       "Dict{String, Any} with 1 entry:\n",
       "  \"x\" => 17"
      ]
     },
     "execution_count": 5,
     "metadata": {},
     "output_type": "execute_result"
    }
   ],
   "source": [
    "z = load(\"example_1.jld2\") # cargamos todo en 'z'"
   ]
  },
  {
   "cell_type": "code",
   "execution_count": 6,
   "id": "6ba3c8e4-3ddd-4776-8167-9a22f37fd678",
   "metadata": {},
   "outputs": [
    {
     "name": "stdout",
     "output_type": "stream",
     "text": [
      "Dict{String, Any}(\"x\" => 17)"
     ]
    }
   ],
   "source": [
    "print(z)  # Podemos imprimir para mostrar los datos"
   ]
  },
  {
   "cell_type": "markdown",
   "id": "1aeeaa3a-d8f3-49aa-9454-fec4e87d9d4f",
   "metadata": {},
   "source": [
    "-------------------------------------\n",
    "-------------------------------------\n",
    "### `jldsave`\n",
    "Con la función `jldsave` grabo directamente en el disco\n",
    "\n",
    "Probemos con más datos!"
   ]
  },
  {
   "cell_type": "code",
   "execution_count": 7,
   "id": "37a674fd-b3af-43c0-9df3-028948e553a0",
   "metadata": {},
   "outputs": [
    {
     "name": "stdout",
     "output_type": "stream",
     "text": [
      "1 2 42 [1, 3]"
     ]
    }
   ],
   "source": [
    "x = 1\n",
    "y = 2\n",
    "z = 42\n",
    "t = [1,3]\n",
    "print(x,' ', y,' ', z,' ', t)"
   ]
  },
  {
   "cell_type": "markdown",
   "id": "a87d5f30-7fb6-4a88-8b25-870e557ae903",
   "metadata": {},
   "source": [
    "Ahora los guardo con `jldsave`"
   ]
  },
  {
   "cell_type": "code",
   "execution_count": 8,
   "id": "10536b8f-25b0-48b2-addf-20a1f0ee3c21",
   "metadata": {},
   "outputs": [],
   "source": [
    "# The simplest case:\n",
    "jldsave(\"example_2.jld2\"; x, y, z, t)\n",
    "# it is equivalent to \n",
    "#  jldsave(\"example.jld2\"; x=x, y=y, z=z)\n",
    "\n",
    "# You can assign new names selectively\n",
    "#  jldsave(\"example.jld2\"; x, a=y, z)\n",
    "\n",
    "# and if you want to confuse your future self and everyone else, do\n",
    "#  jldsave(\"example.jld2\"; z=x, x=y, y=z)"
   ]
  },
  {
   "cell_type": "code",
   "execution_count": 9,
   "id": "1c249eee-8b83-47e9-a20d-94227de06f11",
   "metadata": {},
   "outputs": [],
   "source": [
    "x = nothing\n",
    "y = nothing\n",
    "z = nothing\n",
    "t = nothing"
   ]
  },
  {
   "cell_type": "code",
   "execution_count": 10,
   "id": "8518ac37-1396-4dfe-ad3c-d33b7c0ef5ab",
   "metadata": {},
   "outputs": [
    {
     "name": "stdout",
     "output_type": "stream",
     "text": [
      "nothing nothing nothing nothing"
     ]
    }
   ],
   "source": [
    "print(x,' ',y,' ', z,' ', t)"
   ]
  },
  {
   "cell_type": "markdown",
   "id": "b6623d4b-1f8f-45a2-b57d-a1a5b022f85f",
   "metadata": {},
   "source": [
    "-------------------------------------\n",
    "-------------------------------------\n",
    "### `jldopen`\n",
    "Ahora abrimos el archivo y cargamos los datos con `jldopen`."
   ]
  },
  {
   "cell_type": "code",
   "execution_count": 11,
   "id": "5de3d181-d7e2-4796-9948-cd0035964f5e",
   "metadata": {},
   "outputs": [],
   "source": [
    "f = jldopen(\"example_2.jld2\", \"r\")  # open read-only (default)\n",
    "close(f)"
   ]
  },
  {
   "cell_type": "markdown",
   "id": "b1930c64-c25d-480e-9dd0-a720bf4d1ce4",
   "metadata": {},
   "source": [
    "Ahora los mostramos"
   ]
  },
  {
   "cell_type": "code",
   "execution_count": 12,
   "id": "cbaf3379-a67d-41c0-ab96-9c2cc88ce64e",
   "metadata": {},
   "outputs": [
    {
     "name": "stdout",
     "output_type": "stream",
     "text": [
      "JLDFile /home/edgardo/Documents/Julia/curso-julia-2022-1-priv/clases/08-guardar-archivos/example_2.jld2 (read-only)"
     ]
    }
   ],
   "source": [
    "print(f)   # Ups, no se ve nada"
   ]
  },
  {
   "cell_type": "code",
   "execution_count": 13,
   "id": "6253a77d-b424-4680-b81b-001b7606fed9",
   "metadata": {},
   "outputs": [
    {
     "ename": "LoadError",
     "evalue": "ArgumentError: file is closed",
     "output_type": "error",
     "traceback": [
      "ArgumentError: file is closed",
      "",
      "Stacktrace:",
      " [1] getindex(g::JLD2.Group{JLD2.JLDFile{JLD2.MmapIO}}, name::String)",
      "   @ JLD2 ~/.julia/packages/JLD2/MXv8x/src/groups.jl:94",
      " [2] getindex(f::JLD2.JLDFile{JLD2.MmapIO}, name::String)",
      "   @ JLD2 ~/.julia/packages/JLD2/MXv8x/src/JLD2.jl:393",
      " [3] top-level scope",
      "   @ In[13]:1",
      " [4] eval",
      "   @ ./boot.jl:360 [inlined]",
      " [5] include_string(mapexpr::typeof(REPL.softscope), mod::Module, code::String, filename::String)",
      "   @ Base ./loading.jl:1094"
     ]
    }
   ],
   "source": [
    "println(f[\"t\"]) # Ups, aqui tampoco! que pasó?"
   ]
  },
  {
   "cell_type": "markdown",
   "id": "d53b98cf-2b58-4ef9-850a-d46d06d924e7",
   "metadata": {},
   "source": [
    "sucede que lo habíamos cerrado, lo hagamos de nuevo, pero mostremos los datos antes de cerrar!"
   ]
  },
  {
   "cell_type": "code",
   "execution_count": 14,
   "id": "7da2fafc-a189-4321-91ea-e22d8af3f6ef",
   "metadata": {},
   "outputs": [
    {
     "name": "stdout",
     "output_type": "stream",
     "text": [
      "[1, 3]\n",
      "1\n",
      "2\n",
      "42\n"
     ]
    }
   ],
   "source": [
    "f = jldopen(\"example_2.jld2\", \"r\")  # open read-only (default)\n",
    "println(f[\"t\"])\n",
    "println(f[\"x\"])\n",
    "println(f[\"y\"])\n",
    "println(f[\"z\"])\n",
    "close(f)"
   ]
  },
  {
   "cell_type": "markdown",
   "id": "33f55a07-dab7-4195-8461-d33caecb07fb",
   "metadata": {},
   "source": [
    "------------------------------\n",
    "------------------------------\n",
    "Dado que al archivo ya lo cerré, me dará un error cuando lo quiere imprimir"
   ]
  },
  {
   "cell_type": "code",
   "execution_count": 15,
   "id": "e40dd964-521f-48ee-a2ba-ca14065612dc",
   "metadata": {},
   "outputs": [
    {
     "ename": "LoadError",
     "evalue": "ArgumentError: file is closed",
     "output_type": "error",
     "traceback": [
      "ArgumentError: file is closed",
      "",
      "Stacktrace:",
      " [1] getindex(g::JLD2.Group{JLD2.JLDFile{JLD2.MmapIO}}, name::String)",
      "   @ JLD2 ~/.julia/packages/JLD2/MXv8x/src/groups.jl:94",
      " [2] getindex(f::JLD2.JLDFile{JLD2.MmapIO}, name::String)",
      "   @ JLD2 ~/.julia/packages/JLD2/MXv8x/src/JLD2.jl:393",
      " [3] top-level scope",
      "   @ In[15]:1",
      " [4] eval",
      "   @ ./boot.jl:360 [inlined]",
      " [5] include_string(mapexpr::typeof(REPL.softscope), mod::Module, code::String, filename::String)",
      "   @ Base ./loading.jl:1094"
     ]
    }
   ],
   "source": [
    "println(f[\"t\"])  "
   ]
  },
  {
   "cell_type": "markdown",
   "id": "b721a25d-855d-4c51-a271-c92a096d5b45",
   "metadata": {},
   "source": [
    "------------------------------------------\n",
    "------------------------------------------\n",
    "## `load`  \n",
    "Ahora usaremos el comando `load`.   \n",
    "En este caso lo estoy cargando en memoria, y perdurará"
   ]
  },
  {
   "cell_type": "code",
   "execution_count": 16,
   "id": "7076c9f4-25fb-4f57-b1f0-9f6f15f59b44",
   "metadata": {},
   "outputs": [
    {
     "data": {
      "text/plain": [
       "Dict{String, Any} with 4 entries:\n",
       "  \"t\" => [1, 3]\n",
       "  \"x\" => 1\n",
       "  \"z\" => 42\n",
       "  \"y\" => 2"
      ]
     },
     "execution_count": 16,
     "metadata": {},
     "output_type": "execute_result"
    }
   ],
   "source": [
    "file = load(\"example_2.jld2\")"
   ]
  },
  {
   "cell_type": "code",
   "execution_count": 17,
   "id": "b2a0868b-f08f-49c4-b4c9-244c4fdc76a9",
   "metadata": {},
   "outputs": [
    {
     "data": {
      "text/plain": [
       "2-element Vector{Int64}:\n",
       " 1\n",
       " 3"
      ]
     },
     "execution_count": 17,
     "metadata": {},
     "output_type": "execute_result"
    }
   ],
   "source": [
    "Te = file[\"t\"]"
   ]
  },
  {
   "cell_type": "code",
   "execution_count": 18,
   "id": "7987d2f9-fb3a-45a5-adb7-71a8af2e815c",
   "metadata": {},
   "outputs": [
    {
     "name": "stdout",
     "output_type": "stream",
     "text": [
      "[1, 3]"
     ]
    }
   ],
   "source": [
    "print(Te)"
   ]
  },
  {
   "cell_type": "markdown",
   "id": "1a97faad-aeb9-4ca8-a718-443af86f9dd9",
   "metadata": {},
   "source": [
    "probemos de cerrarlo, a ver que sucede!"
   ]
  },
  {
   "cell_type": "code",
   "execution_count": 19,
   "id": "d1d67f77-59e0-4e03-af6b-e9218c9ac230",
   "metadata": {},
   "outputs": [
    {
     "ename": "LoadError",
     "evalue": "MethodError: no method matching close(::Dict{String, Any})\n\u001b[0mClosest candidates are:\n\u001b[0m  close(\u001b[91m::Union{Base.AsyncCondition, Timer}\u001b[39m) at asyncevent.jl:136\n\u001b[0m  close(\u001b[91m::Union{FileWatching.FileMonitor, FileWatching.FolderMonitor, FileWatching.PollingFileWatcher}\u001b[39m) at /buildworker/worker/package_linux64/build/usr/share/julia/stdlib/v1.6/FileWatching/src/FileWatching.jl:304\n\u001b[0m  close(\u001b[91m::Union{ZMQ._Message, Base.RefValue{ZMQ._Message}}\u001b[39m) at /home/edgardo/.julia/packages/ZMQ/R3wSD/src/_message.jl:25\n\u001b[0m  ...",
     "output_type": "error",
     "traceback": [
      "MethodError: no method matching close(::Dict{String, Any})\n\u001b[0mClosest candidates are:\n\u001b[0m  close(\u001b[91m::Union{Base.AsyncCondition, Timer}\u001b[39m) at asyncevent.jl:136\n\u001b[0m  close(\u001b[91m::Union{FileWatching.FileMonitor, FileWatching.FolderMonitor, FileWatching.PollingFileWatcher}\u001b[39m) at /buildworker/worker/package_linux64/build/usr/share/julia/stdlib/v1.6/FileWatching/src/FileWatching.jl:304\n\u001b[0m  close(\u001b[91m::Union{ZMQ._Message, Base.RefValue{ZMQ._Message}}\u001b[39m) at /home/edgardo/.julia/packages/ZMQ/R3wSD/src/_message.jl:25\n\u001b[0m  ...",
      "",
      "Stacktrace:",
      " [1] top-level scope",
      "   @ In[19]:1",
      " [2] eval",
      "   @ ./boot.jl:360 [inlined]",
      " [3] include_string(mapexpr::typeof(REPL.softscope), mod::Module, code::String, filename::String)",
      "   @ Base ./loading.jl:1094"
     ]
    }
   ],
   "source": [
    "close(file)  # No hay método para cerrar, cuando lo abrimos de esta forma."
   ]
  },
  {
   "cell_type": "markdown",
   "id": "1862328b-2b5a-4376-b310-8cbbcfcd4c37",
   "metadata": {},
   "source": [
    "-------------------------\n",
    "-------------------------\n",
    "Y los datos quedan almacenados en `file`, probemos..."
   ]
  },
  {
   "cell_type": "code",
   "execution_count": 20,
   "id": "6b1f5153-997f-4fa1-b941-b85ce3e342c0",
   "metadata": {},
   "outputs": [
    {
     "data": {
      "text/plain": [
       "42"
      ]
     },
     "execution_count": 20,
     "metadata": {},
     "output_type": "execute_result"
    }
   ],
   "source": [
    "Zeta = file[\"z\"]"
   ]
  },
  {
   "cell_type": "markdown",
   "id": "7473e83a-a104-411c-89bd-ccf2643c7a4d",
   "metadata": {},
   "source": [
    "-------------------------------\n",
    "-------------------------------\n",
    "Escribamos la siguiente estructura"
   ]
  },
  {
   "cell_type": "code",
   "execution_count": 21,
   "id": "a2b234f0-715f-4c89-a441-0bab0c200b01",
   "metadata": {},
   "outputs": [
    {
     "data": {
      "text/plain": [
       "\"total\""
      ]
     },
     "execution_count": 21,
     "metadata": {},
     "output_type": "execute_result"
    }
   ],
   "source": [
    "file = jldopen(\"example_2.jld2\", \"a+\")  # Lo abre en el disco para agregar elementos\n",
    "file[\"w/visus\"] = \"total\"\n",
    "# close(z)"
   ]
  },
  {
   "cell_type": "code",
   "execution_count": 22,
   "id": "5c791fe3-c29c-42c1-8b6a-5331cb2349f4",
   "metadata": {},
   "outputs": [
    {
     "name": "stdout",
     "output_type": "stream",
     "text": [
      "total"
     ]
    }
   ],
   "source": [
    "print(file[\"w/visus\"])"
   ]
  },
  {
   "cell_type": "code",
   "execution_count": 23,
   "id": "94591977-ebf7-455a-bb93-2a4b595fe04b",
   "metadata": {},
   "outputs": [],
   "source": [
    "close(file)"
   ]
  },
  {
   "cell_type": "markdown",
   "id": "2a9dfe2a-1bbf-4d46-b989-8486bb8584ab",
   "metadata": {},
   "source": [
    "Si hacemos load, no tenemos que usar el `close`"
   ]
  },
  {
   "cell_type": "code",
   "execution_count": 24,
   "id": "6059a35a-5bcc-4371-8665-32678208717d",
   "metadata": {},
   "outputs": [
    {
     "name": "stdout",
     "output_type": "stream",
     "text": [
      "42"
     ]
    }
   ],
   "source": [
    "file = load(\"example_2.jld2\") # Lo carga en memoria\n",
    "print(file[\"z\"])\n",
    "#close(file)"
   ]
  },
  {
   "cell_type": "markdown",
   "id": "ef2650fa-dc38-4e6c-a35c-59a0f57b5e36",
   "metadata": {},
   "source": [
    "No obstante, si hacemos `jldopen` en ese caso `si` debemos hacer `close`"
   ]
  },
  {
   "cell_type": "code",
   "execution_count": 25,
   "id": "33ed92fc-a0df-4633-9564-fea8fa906cda",
   "metadata": {},
   "outputs": [],
   "source": [
    "f = jldopen(\"example_2.jld2\", \"r\")  # open read-only (default)\n",
    "#f = jldopen(\"example_2.jld2\", \"r+\") # open read/write, failing if no file exists\n",
    "#f = jldopen(\"example_2.jld2\", \"w\")  # open read/write, overwriting existing file\n",
    "#f = jldopen(\"example_2.jld2\", \"a+\") # open read/write, preserving contents of existing file or creating a new file\n",
    "close(f) # Siempre que abramos con jldopen debemos cerrar para seguir operando"
   ]
  },
  {
   "cell_type": "code",
   "execution_count": 26,
   "id": "1025189e-3d40-4a6b-8cbd-170fb1ad92f1",
   "metadata": {},
   "outputs": [
    {
     "data": {
      "text/plain": [
       "JLDFile /home/edgardo/Documents/Julia/curso-julia-2022-1-priv/clases/08-guardar-archivos/example_2.jld2 (read-only)\n",
       " ├─🔢 x\n",
       " ├─🔢 y\n",
       " ├─🔢 z\n",
       " ├─🔢 t\n",
       " └─📂 w\n",
       "    └─🔢 visus"
      ]
     },
     "execution_count": 26,
     "metadata": {},
     "output_type": "execute_result"
    }
   ],
   "source": [
    "file = jldopen(\"example_2.jld2\", \"r\")  # Aquí lo abrimos con `r `"
   ]
  },
  {
   "cell_type": "code",
   "execution_count": 27,
   "id": "d091632a-af48-4db2-b184-19c59bfa961e",
   "metadata": {},
   "outputs": [
    {
     "name": "stdout",
     "output_type": "stream",
     "text": [
      "42\n",
      "2\n",
      "1\n"
     ]
    }
   ],
   "source": [
    "println(file[\"z\"])\n",
    "println(file[\"y\"])\n",
    "println(file[\"x\"])"
   ]
  },
  {
   "cell_type": "code",
   "execution_count": 28,
   "id": "98a49e23-5620-4a6a-932a-4a6c047f6618",
   "metadata": {},
   "outputs": [],
   "source": [
    "close(file)"
   ]
  },
  {
   "cell_type": "markdown",
   "id": "601b7cf8-e9bb-421d-b35b-b9ea2b8b34fc",
   "metadata": {},
   "source": [
    "### Veamos un ejemplo para agregar varios datos\n",
    "\n",
    "``` Julia\n",
    "jldopen(\"example_3.jld2\", \"a\") do file\n",
    "    file[\"bigdata\"] = randn(10)  # Usamos random para generar cualquier número\n",
    "end\n",
    "```"
   ]
  },
  {
   "cell_type": "code",
   "execution_count": 29,
   "id": "63e8c178-bd33-4d19-ba53-a54380e82f09",
   "metadata": {},
   "outputs": [
    {
     "data": {
      "text/plain": [
       "2-element Vector{Float64}:\n",
       " -0.2838928307032815\n",
       " -0.5076908053773049"
      ]
     },
     "execution_count": 29,
     "metadata": {},
     "output_type": "execute_result"
    }
   ],
   "source": [
    "jldopen(\"example_3.jld2\", \"a+\") do file\n",
    "    file[\"bigdata\"] = randn(10) \n",
    "    file[\"mediumdata\"] = randn(5)     \n",
    "    file[\"smalldata\"] = randn(2) # put your data here instead of random\n",
    "end"
   ]
  },
  {
   "cell_type": "markdown",
   "id": "950c557e-539c-4ebd-ba07-0d93e9f166f3",
   "metadata": {},
   "source": [
    "--------------------------\n",
    "Agregamos mas datos!"
   ]
  },
  {
   "cell_type": "code",
   "execution_count": 30,
   "id": "d6d9392d",
   "metadata": {},
   "outputs": [
    {
     "data": {
      "text/plain": [
       "\"fofo\""
      ]
     },
     "execution_count": 30,
     "metadata": {},
     "output_type": "execute_result"
    }
   ],
   "source": [
    "jldopen(\"example_3.jld2\", \"a+\") do file\n",
    "    file[\"toto\"] = \"fofo\" \n",
    "end"
   ]
  },
  {
   "cell_type": "markdown",
   "id": "f549097a-c2c0-43bf-bd88-4b5abdd1d4d1",
   "metadata": {},
   "source": [
    "-------------------------------\n",
    "miremos como el estatus `w+` sobre escribirá el archivo"
   ]
  },
  {
   "cell_type": "code",
   "execution_count": 40,
   "id": "d3a8487f-638e-4ef3-9f44-94033103fcf9",
   "metadata": {},
   "outputs": [
    {
     "data": {
      "text/plain": [
       "\"fafa\""
      ]
     },
     "execution_count": 40,
     "metadata": {},
     "output_type": "execute_result"
    }
   ],
   "source": [
    "jldopen(\"example_3.jld2\", \"w+\") do file\n",
    "    file[\"big\"] = randn(8) \n",
    "    file[\"small\"] = randn(2) # put your data here instead of random\n",
    "    file[\"tata\"] = \"fafa\" \n",
    "end"
   ]
  },
  {
   "cell_type": "markdown",
   "id": "8c6863eb-ee19-4b11-acb0-e2bb9311d349",
   "metadata": {},
   "source": [
    "leamos los datos"
   ]
  },
  {
   "cell_type": "code",
   "execution_count": 41,
   "id": "a7e1bb70",
   "metadata": {},
   "outputs": [
    {
     "data": {
      "text/plain": [
       "JLDFile /home/edgardo/Documents/Julia/curso-julia-2022-1-priv/clases/08-guardar-archivos/example_3.jld2 (read-only)\n",
       " ├─🔢 big\n",
       " ├─🔢 small\n",
       " └─🔢 tata"
      ]
     },
     "execution_count": 41,
     "metadata": {},
     "output_type": "execute_result"
    }
   ],
   "source": [
    "file = jldopen(\"example_3.jld2\", \"r\")"
   ]
  },
  {
   "cell_type": "code",
   "execution_count": 33,
   "id": "9129cecf-0dbc-4eab-ad3c-15b3dfb4c956",
   "metadata": {},
   "outputs": [],
   "source": [
    "close(file) # Recordemos cerrar el archivo!"
   ]
  },
  {
   "cell_type": "markdown",
   "id": "ebdd8dc1-d826-4ad4-8858-63490e983903",
   "metadata": {},
   "source": [
    "-------------------------\n",
    "Hagamos un último ejemplo\n",
    "\n",
    "Aquí uso `w+`"
   ]
  },
  {
   "cell_type": "code",
   "execution_count": 52,
   "id": "22e94619-d4ca-4b3a-a924-85059a26c605",
   "metadata": {},
   "outputs": [
    {
     "data": {
      "text/plain": [
       "2-element Vector{Float64}:\n",
       " 1.3349483464672027\n",
       " 0.15372692262200915"
      ]
     },
     "execution_count": 52,
     "metadata": {},
     "output_type": "execute_result"
    }
   ],
   "source": [
    "jldopen(\"example_4.jld2\", \"w+\") do file\n",
    "    file[\"big\"] = randn(8) \n",
    "    file[\"small\"] = randn(2) # put your data here instead of random\n",
    "end   # Obsrvemos que con este `end` estoy cerrando el archivo"
   ]
  },
  {
   "cell_type": "markdown",
   "id": "a43788ff-c1b2-4c38-be22-e29f8d9aacfb",
   "metadata": {},
   "source": [
    "----------------------------\n",
    "veamos que guardó"
   ]
  },
  {
   "cell_type": "code",
   "execution_count": 53,
   "id": "b74c70ae-7249-41cb-8731-e7ed682b07ff",
   "metadata": {},
   "outputs": [
    {
     "data": {
      "text/plain": [
       "JLDFile /home/edgardo/Documents/Julia/curso-julia-2022-1-priv/clases/08-guardar-archivos/example_4.jld2 (read-only)\n",
       " ├─🔢 big\n",
       " └─🔢 small"
      ]
     },
     "execution_count": 53,
     "metadata": {},
     "output_type": "execute_result"
    }
   ],
   "source": [
    "archivo = jldopen(\"example_4.jld2\", \"r\")"
   ]
  },
  {
   "cell_type": "markdown",
   "id": "b0582ce6-edf8-4092-9583-b90e05388d02",
   "metadata": {},
   "source": [
    "Recordemos cerrar el archivo!"
   ]
  },
  {
   "cell_type": "code",
   "execution_count": 54,
   "id": "2e3a8746-f025-44c4-8cbf-da886b6fa2bf",
   "metadata": {},
   "outputs": [],
   "source": [
    "close(archivo)"
   ]
  },
  {
   "cell_type": "markdown",
   "id": "580df2cd-ab43-4caf-be2b-993ad9ed586d",
   "metadata": {},
   "source": [
    "-------------------------\n",
    "Agreguemos más datos, con `a`"
   ]
  },
  {
   "cell_type": "code",
   "execution_count": 55,
   "id": "ff3ad402-c579-4206-b6dd-48642afea57d",
   "metadata": {},
   "outputs": [
    {
     "data": {
      "text/plain": [
       "\"fafa\""
      ]
     },
     "execution_count": 55,
     "metadata": {},
     "output_type": "execute_result"
    }
   ],
   "source": [
    "jldopen(\"example_4.jld2\", \"a\") do file\n",
    "    file[\"bigdata\"] = randn(8) \n",
    "    file[\"smalldata\"] = randn(2) # put your data here instead of random\n",
    "    file[\"tata\"] = \"fafa\" \n",
    "end"
   ]
  },
  {
   "cell_type": "markdown",
   "id": "38c1f3ab-6df0-4e4a-bc52-dd40693e5428",
   "metadata": {},
   "source": [
    "y veamos que tiene ahora"
   ]
  },
  {
   "cell_type": "code",
   "execution_count": 56,
   "id": "845b5a07-28cb-49ea-8028-f70e93271085",
   "metadata": {},
   "outputs": [
    {
     "data": {
      "text/plain": [
       "JLDFile /home/edgardo/Documents/Julia/curso-julia-2022-1-priv/clases/08-guardar-archivos/example_4.jld2 (read-only)\n",
       " ├─🔢 big\n",
       " ├─🔢 small\n",
       " ├─🔢 bigdata\n",
       " ├─🔢 smalldata\n",
       " └─🔢 tata"
      ]
     },
     "execution_count": 56,
     "metadata": {},
     "output_type": "execute_result"
    }
   ],
   "source": [
    "archivo = jldopen(\"example_4.jld2\", \"r\")"
   ]
  },
  {
   "cell_type": "code",
   "execution_count": null,
   "id": "d32e16f8-1171-43e7-81ab-28769b696f90",
   "metadata": {},
   "outputs": [],
   "source": []
  }
 ],
 "metadata": {
  "kernelspec": {
   "display_name": "Julia 1.6.0",
   "language": "julia",
   "name": "julia-1.6"
  },
  "language_info": {
   "file_extension": ".jl",
   "mimetype": "application/julia",
   "name": "julia",
   "version": "1.6.0"
  }
 },
 "nbformat": 4,
 "nbformat_minor": 5
}
