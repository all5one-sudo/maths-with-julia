{
 "cells": [
  {
   "cell_type": "markdown",
   "metadata": {},
   "source": [
    "# **Librería Plots**\n",
    "\n",
    "Este notebook está basado en el curso de [_Julia Academy_](https://github.com/JuliaAcademy/Introduction-to-Julia).\n",
    "\n",
    "La librería Plots permite realizar gráficos y animaciones en Julia. Para importarla corremos `using Plots`"
   ]
  },
  {
   "cell_type": "code",
   "execution_count": null,
   "metadata": {},
   "outputs": [],
   "source": [
    "#===================================================================================\n",
    "using Pkg\n",
    "Pkg.add(\"Plots\")    #Recuerde correr estas líneas si no tiene Plots instalada\n",
    "====================================================================================#\n",
    "\n",
    "using Plots"
   ]
  },
  {
   "cell_type": "markdown",
   "metadata": {},
   "source": [
    "## **La función `plot`**\n",
    "La función más importante de la librería es es la función `plot`. La sintaxis básica para obtener gráficos es `plot(x,y)`, donde, al igual que en otros lenguajes, `x` e `y` son series de datos. Este es un ejemplo sencillo:"
   ]
  },
  {
   "cell_type": "code",
   "execution_count": null,
   "metadata": {},
   "outputs": [],
   "source": [
    "x = range(-1,1,length=50)   #El rango (-1,1) con 50 puntos equiespaciados\n",
    "\n",
    "y = x.^3                    #Aplicamos la función cubo a cada elemento de x\n",
    "\n",
    "plot(x, y)"
   ]
  },
  {
   "cell_type": "markdown",
   "metadata": {},
   "source": [
    "También podemos pasar como segundo argumento una función, y `Julia` hará un mapeo para poder plotearla"
   ]
  },
  {
   "cell_type": "code",
   "execution_count": null,
   "metadata": {},
   "outputs": [],
   "source": [
    "plot(x, x -> x^2)         #Como segundo argumento pasamos una función lambda"
   ]
  },
  {
   "cell_type": "markdown",
   "metadata": {},
   "source": [
    "### **Cómo hacer varios gráficos a la vez:**"
   ]
  },
  {
   "cell_type": "markdown",
   "metadata": {},
   "source": [
    "Para disponer varias curvas en el mismo gráfico, podemos dar también un arreglo cuyas columnas sean las distintas series de datos a visualizar:"
   ]
  },
  {
   "cell_type": "code",
   "execution_count": null,
   "metadata": {},
   "outputs": [],
   "source": [
    "y = zeros(50,2)  # Creamos un arreglo de dos columnas lleno de ceros\n",
    "\n",
    "y[:,1] = x.^3\n",
    "y[:,2] = sin.(3*x)\n",
    "\n",
    "plot(x,y)"
   ]
  },
  {
   "cell_type": "markdown",
   "metadata": {},
   "source": [
    "También podemos utilizar la función modificatoria `plot!`, que, de acuerdo a la convención de Julia sobre el símbolo `!`, agregará la curva sobre el gráfico activo. "
   ]
  },
  {
   "cell_type": "code",
   "execution_count": null,
   "metadata": {},
   "outputs": [],
   "source": [
    "z = cos.(2*x)\n",
    "\n",
    "plot!(x,z, marker = :circle)  #Esta función agrega un gráfico sobre el último plot activo.\n",
    "                              #Agregando el argumento marker podemos hacer una línea punteada"
   ]
  },
  {
   "cell_type": "markdown",
   "metadata": {},
   "source": [
    "Podemos cambiar el estilo de gráfico de líneas a puntos usando el comando `scatter` en vez de `plot`."
   ]
  },
  {
   "cell_type": "code",
   "execution_count": null,
   "metadata": {},
   "outputs": [],
   "source": [
    "scatter(x,y)\n",
    "#scatter(x,y) es equivalente a escribir 'plot(x,y, seriestype = :scatter)'"
   ]
  },
  {
   "cell_type": "markdown",
   "metadata": {},
   "source": [
    "Esto es equivalente a `plot(x,y,seriestype = :scatter)`"
   ]
  },
  {
   "cell_type": "markdown",
   "metadata": {},
   "source": [
    "### **Atributos: cómo agregar más cosas al gráfico**\n",
    "\n",
    "Los gráficos tienen varios _atributos_ que permiten estilizarlos, como el título, las etiquetas de los ejes, las leyendas, el ancho de la línea, etc. Los atributos ingresan a la función como argumentos de tipo keyword, es decir, de la forma `plot(x,y,atributo=valor)`. La lista completa de los atributos puede encontarse en la [documentación del paquete](https://docs.juliaplots.org/latest/generated/attributes_series/). \n",
    "\n",
    "Por ejemplo, aquí modificamos el título, las leyendas y el ancho de línea:"
   ]
  },
  {
   "cell_type": "code",
   "execution_count": null,
   "metadata": {},
   "outputs": [],
   "source": [
    "plt = plot(x, y, title = \"Dos curvas\", label = [\"Cubo\" \"Seno\"], lw = 8)\n",
    "#lw = linewidth\n",
    "\n",
    "#Nota: note que hemos escrito las leyendas como un vector fila (Es decir, como [\"Cubo\" \"Seno\"]\n",
    "#en lugar de [\"Cubo\", \"Seno\"])\n",
    "#Esta es la forma en la que plot acepta múltiples leyendas."
   ]
  },
  {
   "cell_type": "markdown",
   "metadata": {},
   "source": [
    "Equivalentemente, cada atributo puede cambiarse con una función modificatoria correspondiente que actúa sobre el gráfico activo. Por ejemplo, así podemos cambiar el título y agregar etiquetas a los ejes:"
   ]
  },
  {
   "cell_type": "code",
   "execution_count": null,
   "metadata": {},
   "outputs": [],
   "source": [
    "title!(\"Nuevo título\")\n",
    "xlabel!(\"x\")\n",
    "ylabel!(\"y\")\n",
    "xflip!()"
   ]
  },
  {
   "cell_type": "markdown",
   "metadata": {},
   "source": [
    "También podemos ajustar los límites de los ejes:"
   ]
  },
  {
   "cell_type": "code",
   "execution_count": null,
   "metadata": {},
   "outputs": [],
   "source": [
    "xlims!(-0.5,0.5)\n",
    "ylims!(-0.3,0.7)"
   ]
  },
  {
   "cell_type": "markdown",
   "metadata": {},
   "source": [
    "### **Subgráficos**\n",
    "\n",
    "Por otro lado, podemos organizar los datos en subgráficos a través del atributo `layout=(M,N)`, que genera una grilla $M \\times N$ de subgráficos y asigna las series de datos en forma automática a cada uno. Por ejemplo:"
   ]
  },
  {
   "cell_type": "code",
   "execution_count": null,
   "metadata": {},
   "outputs": [],
   "source": [
    "plot(x,y,layout=(2,1),label=false)  #2 filas y 1 columna"
   ]
  },
  {
   "cell_type": "markdown",
   "metadata": {},
   "source": [
    "Distintos tipos de gráficos pueden combinarse en forma más compleja de la siguiente manera:"
   ]
  },
  {
   "cell_type": "code",
   "execution_count": null,
   "metadata": {},
   "outputs": [],
   "source": [
    "#Creamos los gráficos y los asignamos a distintas variables\n",
    "\n",
    "p1 = plot(x,y, ylabel=\"Una etiqueta\")\n",
    "p2 = scatter(x,y,title=\"Puntos\")\n",
    "p3 = plot(x,y,xlabel=\"Otra etiqueta\")\n",
    "p4 = plot(x,y[:,1]+y[:,2],title=\"Suma de ambas curvas\")\n",
    "\n",
    "plt = plot(p1,p2,p3,p4,layout=(2,2),legend=false)\n",
    "\n"
   ]
  },
  {
   "cell_type": "markdown",
   "metadata": {},
   "source": [
    "**Nota importante**: Fíjese que hemos guardado el retorno de la función plot en distintas variables (`p1`, `p2`, `p3`, `p4`  y `plt`). Las funciones `plot!`, `title!`, `xlim!` y demás aceptan como primer argumento estas variables, por lo que podemos modificar un gráfico en específico.\n"
   ]
  },
  {
   "cell_type": "code",
   "execution_count": null,
   "metadata": {},
   "outputs": [],
   "source": [
    "title!(p1, \"Título 1\")"
   ]
  },
  {
   "cell_type": "markdown",
   "metadata": {},
   "source": [
    "### **Histogramas**\n",
    "Mencionamos brevemente la función histogramas. La usaremos junto con el paquete `Distributions.jl`, que nos permite generar números aleatorios con distribuciones de probabilidad no aleatorias."
   ]
  },
  {
   "cell_type": "code",
   "execution_count": null,
   "metadata": {},
   "outputs": [],
   "source": [
    "#using Pkg\n",
    "#Pkg.add(\"Distributions\")  #Probablemente necesiten instalar el paquete distribuciones\n",
    "using Distributions\n",
    "d = Normal()               #Crea una distribución normal aleatoria normal de media μ=0.0, σ=1.0\n",
    "#=============================================\n",
    "μ = 0.0\n",
    "σ = 1.0\n",
    "d = Normal(μ=μ.0,σ=σ)   #Sintaxis alternativa\n",
    "==============================================#\n",
    "μ = 0.0\n",
    "σ = 1.0\n",
    "x = rand(d, 1000)                                     #Genera 1000 números aleatorios con distribución d\n",
    "bins = range(-4,stop = 4, length = 20)                #intervalos del histograma\n",
    "hist =histogram(x, bins = bins, label = \"histograma\") #en bins podemos poner un número, y la función\n",
    "                                                      #creará un histograma con una cantidad aproximada\n",
    "                                                      #de intervalos."
   ]
  },
  {
   "cell_type": "markdown",
   "metadata": {},
   "source": [
    "### **Cómo guardar las figuras** \n",
    "\n",
    "Podemos guardar las imágenes que generemos utilizando la función `savefig()`"
   ]
  },
  {
   "cell_type": "code",
   "execution_count": null,
   "metadata": {},
   "outputs": [],
   "source": [
    "savefig(plt, \"imagen.png\")"
   ]
  },
  {
   "cell_type": "markdown",
   "metadata": {},
   "source": [
    "### **Strings en LaTex**"
   ]
  },
  {
   "cell_type": "markdown",
   "metadata": {},
   "source": [
    "El paquete `LaTeXStrings` permite crear fórmulas en LaTeX como strings. Esto nos sirve para utilizar símbolos matemáticos en nuestras etiquetas y títulos. El uso es sencillo, simplemente escribimos la fórmula en Latex entre signos `$` dentro de un string precedido por una `L`. Por ejemplo, `L\"$x^2$\"` devuelve un string con el símbolo $x^2$."
   ]
  },
  {
   "cell_type": "code",
   "execution_count": null,
   "metadata": {},
   "outputs": [],
   "source": [
    "using LaTeXStrings\n",
    "\n",
    "x = range(-1,1,length=50)   #El rango (-1,1) con 50 puntos equiespaciados\n",
    "y = zeros(50,2)  # Creamos un arreglo de dos columnas lleno de ceros\n",
    "\n",
    "y[:,1] = x.^3\n",
    "y[:,2] = sin.(3*x)\n",
    "\n",
    "\n",
    "plot(x,-y,label=[L\"$-x^3$\" L\"$-\\sin (x)$\"])\n",
    "xlabel!(L\"$x$\")\n",
    "ylabel!(L\"$y$\")"
   ]
  },
  {
   "cell_type": "markdown",
   "metadata": {},
   "source": [
    "### **Animaciones**"
   ]
  },
  {
   "cell_type": "markdown",
   "metadata": {},
   "source": [
    "Podemos crear animaciones fácilmente con el macro `@animate` que devuelve un objeto Animación. Creamos los frames con una iteración y asignamos el objeto a una variable."
   ]
  },
  {
   "cell_type": "code",
   "execution_count": null,
   "metadata": {},
   "outputs": [],
   "source": [
    "#Asignamos el macro a una variable\n",
    "\n",
    "x = range(-π,π,length=100)\n",
    "\n",
    "anim = @animate for t in range(0,2π,length=100)\n",
    "    y = sin.(x.-t)\n",
    "    plot(x,y,label=L\"$\\sin(x-t)$\",ylim=(-1.1,1.1),xlabel=L\"$x$\")\n",
    "    end"
   ]
  },
  {
   "cell_type": "markdown",
   "metadata": {},
   "source": [
    "Finalmente, vemos la animación con el comando `gif`. El atributo `fps` permite modificar la cantidad de frames por segundo."
   ]
  },
  {
   "cell_type": "code",
   "execution_count": null,
   "metadata": {},
   "outputs": [],
   "source": [
    "gif(anim,fps=30)"
   ]
  },
  {
   "cell_type": "markdown",
   "metadata": {},
   "source": [
    "Opcionalmente podemos guardar la animación en un archivo como"
   ]
  },
  {
   "cell_type": "code",
   "execution_count": null,
   "metadata": {},
   "outputs": [],
   "source": [
    "gif(anim,\"wave.gif\",fps=30)"
   ]
  },
  {
   "cell_type": "markdown",
   "metadata": {
    "tags": []
   },
   "source": [
    "### **Backends** ###\n",
    "\n",
    "Como nota final mencionamos el concepto de _backends_. La librería plots tiene diversos _backends_ que cambian la forma en que la librería funciona\n",
    "El backend más común y rápido es `GR`, y se activa por defecto. Otros comunes son `Plotly` y `PlotlyJS`, que son más interactivos, y `PyPlot`, que es una interfaz a la librería `matplotlib.pyplot`. Para activar `PlotlyJS` simplemente correremos la línea\n",
    "```\n",
    "plotlyjs()\n",
    "```\n",
    "Para activar `GR` podemos escribir `gr()`, para activar pyplot escribimos `pyplot()`, y de igual manera podemos activar otros. Mostraremos brevemente `PlotlyJS`."
   ]
  },
  {
   "cell_type": "code",
   "execution_count": null,
   "metadata": {
    "tags": []
   },
   "outputs": [],
   "source": [
    "#===================================================================================\n",
    "using Pkg\n",
    "Pkg.add(\"PlotlyJS\")   #Probablemente deba instalar el backend antes de usarlo\n",
    "                      #La primera vez que lo use puede tardar un rato en compilar\n",
    "Pkg.add(\"UnicodePlots\")\n",
    "====================================================================================#"
   ]
  },
  {
   "cell_type": "code",
   "execution_count": null,
   "metadata": {},
   "outputs": [],
   "source": [
    "plotly()            #Cambiamos de backend"
   ]
  },
  {
   "cell_type": "code",
   "execution_count": null,
   "metadata": {},
   "outputs": [],
   "source": [
    "temperatura_global = [14.4, 14.5, 14.8, 15.2, 15.5, 15.8]\n",
    "numero_de_piratas = [45000, 20000, 15000, 5000, 400, 17];\n",
    "\n",
    "plot(numero_de_piratas, temperatura_global, label=\"linea\")\n",
    "scatter!(numero_de_piratas, temperatura_global, label=\"puntos\")\n",
    "xlabel!(\"Número de piratas (aproximado)\")\n",
    "ylabel!(\"Temperatura global (°C)\")\n",
    "title!(\"Influencia de la población de piratas en el calentamiento global\")"
   ]
  },
  {
   "cell_type": "code",
   "execution_count": null,
   "metadata": {},
   "outputs": [],
   "source": [
    "unicodeplots()"
   ]
  },
  {
   "cell_type": "markdown",
   "metadata": {},
   "source": [
    "`Plotly` es un poco más lento que `GR`, pero verá que es mucho más interactivo."
   ]
  },
  {
   "cell_type": "code",
   "execution_count": null,
   "metadata": {},
   "outputs": [],
   "source": [
    "temperatura_global = [14.4, 14.5, 14.8, 15.2, 15.5, 15.8];\n",
    "numero_de_piratas = [45000, 20000, 15000, 5000, 400, 17];\n",
    "\n",
    "unicodeplots()\n",
    "plt = plot(numero_de_piratas, temperatura_global, label=\"linea\");\n",
    "scatter!(numero_de_piratas, temperatura_global, label=\"puntos\");\n",
    "xlabel!(\"Número de piratas (aproximado)\");\n",
    "ylabel!(\"Temperatura global (°C)\");\n",
    "title!(\"Influencia de la población de piratas en el calentamiento global\");\n",
    "display(plt)"
   ]
  },
  {
   "cell_type": "code",
   "execution_count": null,
   "metadata": {},
   "outputs": [],
   "source": []
  }
 ],
 "metadata": {
  "kernelspec": {
   "display_name": "Julia 1.7.2",
   "language": "julia",
   "name": "julia-1.7"
  },
  "language_info": {
   "file_extension": ".jl",
   "mimetype": "application/julia",
   "name": "julia",
   "version": "1.7.2"
  }
 },
 "nbformat": 4,
 "nbformat_minor": 4
}
