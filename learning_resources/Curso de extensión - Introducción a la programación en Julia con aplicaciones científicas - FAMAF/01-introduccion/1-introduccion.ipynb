{
 "cells": [
  {
   "cell_type": "markdown",
   "metadata": {},
   "source": [
    "# Introducción\n",
    "\n",
    "* Mencionar Slack.\n",
    "* Mostrar como bajar el repo público entero o archivos individuales.\n",
    "\n",
    "# Porqué Julia?\n",
    "\n",
    "\n",
    "## Metaprogramación\n",
    "\n",
    "Metaprogramar consiste en usar un lenguaje X para leer, generar, analizar, transformar, compilar, interpretar, extender, etc. código escrito en otro lenguaje Y. \n",
    "\n",
    "Algunos lenguajes como LISP y Julia son reflexivos, i.e. están especialmente diseñados para metaprogramarse a si mismos (Y = X).\n",
    "   \n",
    "https://en.wikipedia.org/wiki/Metaprogramming    \n",
    "\n",
    "## Bootstraping\n",
    "\n",
    "Para entender un poco mejor la idea, consideremos el siguiente *ejercicio*:\n",
    "\n",
    "* Inventamos un lenguaje de programación llamado $X$.\n",
    "\n",
    "* Programamos en otro lenguaje (ej. C) un compilador rudimentario version $V_0$ para $X$.\n",
    "\n",
    "* Programamos en $X$ un compilador de $X$ version $V_1$ que sea mejor.\n",
    "\n",
    "* Usamos $V_0$ para compilar $V_1$.\n",
    "\n",
    "* Y así sucesivamente hasta crear un compilador $V_n$ de $X$ que sea decente.\n",
    "\n",
    "## Julia\n",
    "\n",
    "* FORTRAN y C tienen capacidades de metaprogramación limitadas.\n",
    "\n",
    "* Python requiere de librerias en C y FORTRAN para alto rendimiento.\n",
    "\n",
    "* LISP no es fácil.\n",
    "\n",
    "Julia incluye excelentes capacidades metalinguisticas:\n",
    "\n",
    "* Julia y su sintaxis se (red)define en Julia.\n",
    "\n",
    "* El compilador de Julia se programa en Julia.\n",
    "\n",
    "* Las librerias de Julia se escriben en Julia.\n",
    "\n",
    "* Julia compila a LLVM.\n",
    "\n",
    "* Julia posee potentes herramientas de introspección de código y de ejecución.\n",
    "\n",
    "* Julia puede generar código de cualquier otro lenguaje para interoperar facilmente.\n",
    "\n",
    "#### Otras características de Julia por diseño\n",
    "\n",
    "* Julia \"resuelve\" el *problema de la expresividad* usando *multiple dispatch* y funciones genéricas\n",
    "\n",
    "    * [https://www.youtube.com/watch?v=kc9HwsxE1OY](https://www.youtube.com/watch?v=kc9HwsxE1OY)\n",
    "\n",
    "  lo que a su vez \"resuelve\" el *problema de los dos lenguajes*:\n",
    "\n",
    "    * Se pueden omitir tipos de variables para un rápido prototipado de programas como en Python (funciones genéricas y duck typing).   \n",
    "    \n",
    "    * Se puede especificar tipos de variables para mayor correctitud y velocidad como en FORTRAN o C.\n",
    "    \n",
    "* Julia está pensado para HPC, machine learning y ciencia de datos (no `gil`).\n",
    "\n",
    "* Julia incluye una gran variedad de estructuras de datos: tuplas, arrays, vectores, matrices, conjuntos, diccionarios, dequeues, etc.\n",
    "    \n",
    "* Julia posee *garbage collection*.\n",
    "\n",
    "* Julia soporta la programación *paralela* y *distribuida* por diseño.\n",
    "\n",
    "* Julia puede usarse en modo:\n",
    "\n",
    "    * script (útil para correr en un cluster),\n",
    "    \n",
    "    * REPL (útil para desarrollar y testear código de manera interactiva), y\n",
    "    \n",
    "    * Jupyter, Neptuno, JupyterLab, etc. (REPL en modo web con celdas a la *Wolfram Mathematica, Maple, Matlab*, útil para desarrollar, testear y correr código científico).\n",
    "    \n",
    "* Julia posee un excelente administrador de proyectos y paquetes, resultando muy fácil:\n",
    "\n",
    "    * instalar paquetes,\n",
    "\n",
    "    * crear nuevos proyectos,\n",
    "    \n",
    "    * reproducir un entorno de trabajo,\n",
    "    \n",
    "    * publicar nuevos proyectos como paquetes,\n",
    "    \n",
    "    * colaborar en el desarrollo de paquetes, y\n",
    "    \n",
    "* Julia dispone de:\n",
    "\n",
    "    * un relativamente amplio ecosistema de paquetes en constante desarrollo y crecimiento:\n",
    "    \n",
    "       * [https://juliahub.com/ui/Packages](https://juliahub.com/ui/Packages)\n",
    "   \n",
    "    * y excelentes plataformas online para trabajar de manera colaborativa en el desarrollo, mantenimiento, uso y documentación de Julia y sus paquetes, en donde una activa comunidad está muy dispuesta a contestar preguntas:\n",
    "\n",
    "       * [https://julialang.org/community/]()"
   ]
  },
  {
   "cell_type": "code",
   "execution_count": null,
   "metadata": {},
   "outputs": [],
   "source": [
    "Float32(1.0)"
   ]
  },
  {
   "cell_type": "markdown",
   "metadata": {},
   "source": [
    "## Introspección: ejemplos"
   ]
  },
  {
   "cell_type": "code",
   "execution_count": null,
   "metadata": {},
   "outputs": [],
   "source": [
    "function fib(n::Int)\n",
    "    n<0 && error(\"n must be non negative\")\n",
    "    n==1 && return 1\n",
    "    fib(n-1) + fib(n-2)\n",
    "end"
   ]
  },
  {
   "cell_type": "code",
   "execution_count": null,
   "metadata": {},
   "outputs": [],
   "source": [
    "@code_llvm fib(5)"
   ]
  },
  {
   "cell_type": "code",
   "execution_count": null,
   "metadata": {},
   "outputs": [],
   "source": [
    "@code_native fib(5)"
   ]
  },
  {
   "cell_type": "code",
   "execution_count": null,
   "metadata": {},
   "outputs": [],
   "source": [
    "A = rand(1000,1000);\n",
    "@time inv(A); "
   ]
  },
  {
   "cell_type": "code",
   "execution_count": null,
   "metadata": {},
   "outputs": [],
   "source": [
    "@code_native inv(A);"
   ]
  },
  {
   "cell_type": "markdown",
   "metadata": {},
   "source": [
    "## Julia benchmarks comparativos\n",
    "\n",
    "* https://github.com/Beliavsky/Fortran-code-on-GitHub#benchmarks\n",
    "\n",
    "* https://github.com/JulesKouatchou/basic_language_comparison\n",
    "\n",
    "* https://github.com/zyth0s/bench_density_gradient_wfn\n",
    "\n",
    "* https://github.com/mdmaas/julia-numpy-fortran-test\n",
    "\n",
    "* https://github.com/rdeits/julia-matlab-fortran-fem-benchmark\n",
    "\n",
    "* https://github.com/JuliaLang/Microbenchmarks\n",
    "\n",
    "* https://github.com/PIK-ICoNe/NetworkDynamicsBenchmarks\n",
    "\n",
    "* https://github.com/scivision/python-performance\n",
    "\n",
    "* https://github.com/edin/raytracer\n",
    "\n",
    "* https://github.com/marblestation/benchmark-leapfrog\n",
    "\n",
    "* https://github.com/harveytriana/TspApproach"
   ]
  }
 ],
 "metadata": {
  "@webio": {
   "lastCommId": null,
   "lastKernelId": null
  },
  "kernelspec": {
   "display_name": "Julia 1.6.1",
   "language": "julia",
   "name": "julia-1.6"
  },
  "language_info": {
   "file_extension": ".jl",
   "mimetype": "application/julia",
   "name": "julia",
   "version": "1.6.1"
  }
 },
 "nbformat": 4,
 "nbformat_minor": 2
}
