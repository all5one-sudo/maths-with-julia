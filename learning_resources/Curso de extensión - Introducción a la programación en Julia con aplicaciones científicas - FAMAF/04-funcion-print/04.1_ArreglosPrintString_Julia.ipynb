{
 "cells": [
  {
   "cell_type": "markdown",
   "id": "c58864a7-6342-4d59-8212-3669c428d098",
   "metadata": {},
   "source": [
    "<p style=\"text-align:center\"><img src=\"Julia.jpg\" width=\"350\" ></p>"
   ]
  },
  {
   "cell_type": "markdown",
   "id": "0b68f409-fb96-4381-8a6a-b4165bb4e282",
   "metadata": {},
   "source": [
    "## Un arreglo es una secuencia\n",
    "Al igual que una cadena de texto, un arreglo es una secuencia de valores. En una\n",
    "cadena los valores son caracteres, en un arreglo pueden ser de cualquier tipo.\n",
    "Los valores en un arreglo se denominan elementos o, a veces, items.\n",
    "Hay varias formas de crear un nuevo arreglo, la más sencilla es encerrar los\n",
    "elementos entre corchetes ([ ]):"
   ]
  },
  {
   "cell_type": "code",
   "execution_count": 1,
   "id": "340de4a3-050e-4a29-9e01-12e42a9365b0",
   "metadata": {},
   "outputs": [
    {
     "data": {
      "text/plain": [
       "3-element Vector{String}:\n",
       " \"abadejo\"\n",
       " \"falsía\"\n",
       " \"estrambote\""
      ]
     },
     "execution_count": 1,
     "metadata": {},
     "output_type": "execute_result"
    }
   ],
   "source": [
    "numeros = [10, 20, 30, 40]\n",
    "palabras = [\"abadejo\", \"falsía\", \"estrambote\"]"
   ]
  },
  {
   "cell_type": "code",
   "execution_count": 2,
   "id": "2a6b0826-79d2-4bd3-bafd-ccf5d71f590e",
   "metadata": {},
   "outputs": [
    {
     "data": {
      "text/plain": [
       "4-element Vector{Int64}:\n",
       " 10\n",
       " 20\n",
       " 30\n",
       " 40"
      ]
     },
     "execution_count": 2,
     "metadata": {},
     "output_type": "execute_result"
    }
   ],
   "source": [
    "numeros"
   ]
  },
  {
   "cell_type": "markdown",
   "id": "923c3a76-31e4-48ee-bf3b-96560e28eb4d",
   "metadata": {},
   "source": [
    "El siguiente arreglo contiene una cadena, un número de punto\n",
    "flotante, un entero y otro arreglo:"
   ]
  },
  {
   "cell_type": "code",
   "execution_count": 3,
   "id": "d0f772ab-edd6-47ef-8468-42541d7e81b1",
   "metadata": {},
   "outputs": [
    {
     "data": {
      "text/plain": [
       "4-element Vector{Any}:\n",
       "  \"spam\"\n",
       " 2.0\n",
       " 5\n",
       "  [10, 20]"
      ]
     },
     "execution_count": 3,
     "metadata": {},
     "output_type": "execute_result"
    }
   ],
   "source": [
    "[\"spam\", 2.0, 5, [10, 20]]"
   ]
  },
  {
   "cell_type": "markdown",
   "id": "bbff9eaa-9632-4e47-b601-964c698d7427",
   "metadata": {},
   "source": [
    "Se dice que un arreglo dentro de otro arreglo está anidado.  \n",
    "Un arreglo que no contiene elementos se llama arreglo vacío y se puede crear\n",
    "uno con corchetes vacíos, []."
   ]
  },
  {
   "cell_type": "code",
   "execution_count": 4,
   "id": "d31da076-3dc1-4f68-87a0-da3939d6a584",
   "metadata": {},
   "outputs": [
    {
     "data": {
      "text/plain": [
       "Any[]"
      ]
     },
     "execution_count": 4,
     "metadata": {},
     "output_type": "execute_result"
    }
   ],
   "source": [
    "vacio = []"
   ]
  },
  {
   "cell_type": "markdown",
   "id": "acfacacf-bb9f-4f25-8d60-842ca0f447e9",
   "metadata": {},
   "source": [
    "## Los arreglos son mutables\n",
    "La sintaxis para acceder a los elementos de un arreglo es el mismo que para\n",
    "acceder a los caracteres de una cadena: el operador corchete. La expresión\n",
    "dentro de los corchetes especifica el índice. Recuerde que los índices comienzan\n",
    "en 1:"
   ]
  },
  {
   "cell_type": "code",
   "execution_count": 5,
   "id": "ffa1732e-4e92-4203-882f-b43aa3ecdcc1",
   "metadata": {},
   "outputs": [
    {
     "data": {
      "text/plain": [
       "3-element Vector{String}:\n",
       " \"Cheddar\"\n",
       " \"Edam\"\n",
       " \"Gouda\""
      ]
     },
     "execution_count": 5,
     "metadata": {},
     "output_type": "execute_result"
    }
   ],
   "source": [
    "quesos = [\"Cheddar\", \"Edam\", \"Gouda\"]; # En los scripts debemos poner el `;` al final de cada operación"
   ]
  },
  {
   "cell_type": "code",
   "execution_count": 6,
   "id": "d2ab6758-7d57-434b-96ce-f5adc3aa1f2a",
   "metadata": {},
   "outputs": [
    {
     "data": {
      "text/plain": [
       "\"Cheddar\""
      ]
     },
     "execution_count": 6,
     "metadata": {},
     "output_type": "execute_result"
    }
   ],
   "source": [
    "quesos[1]"
   ]
  },
  {
   "cell_type": "markdown",
   "id": "05e09688-dc94-4bb8-acf4-0da0b598e362",
   "metadata": {},
   "source": [
    "A diferencia de las cadenas, los arreglos son mutables, lo que significa que\n",
    "podemos cambiar sus elementos. Se puede modificar uno de sus elementos\n",
    "usando el operador corchetes en el lado izquierdo de una asignación:"
   ]
  },
  {
   "cell_type": "code",
   "execution_count": 7,
   "id": "6a5a9c18-73a6-41a2-8f68-1e65e4373232",
   "metadata": {},
   "outputs": [],
   "source": [
    "numeros = [42, 123];"
   ]
  },
  {
   "cell_type": "code",
   "execution_count": 8,
   "id": "22e32a3e-f040-42dd-952e-c21b1a7503e6",
   "metadata": {},
   "outputs": [
    {
     "data": {
      "text/plain": [
       "2-element Vector{Int64}:\n",
       "  42\n",
       " 123"
      ]
     },
     "execution_count": 8,
     "metadata": {},
     "output_type": "execute_result"
    }
   ],
   "source": [
    "numeros"
   ]
  },
  {
   "cell_type": "code",
   "execution_count": 9,
   "id": "16feefde-8e7a-4bca-a962-326d3e1482a7",
   "metadata": {},
   "outputs": [
    {
     "data": {
      "text/plain": [
       "2-element Vector{Int64}:\n",
       " 42\n",
       "  5"
      ]
     },
     "execution_count": 9,
     "metadata": {},
     "output_type": "execute_result"
    }
   ],
   "source": [
    "numeros[2] = 5\n",
    "numeros"
   ]
  },
  {
   "cell_type": "markdown",
   "id": "a02977ca-7775-49ab-b5f4-5831d11d0d41",
   "metadata": {},
   "source": [
    "Pertenencia a un arreglo"
   ]
  },
  {
   "cell_type": "code",
   "execution_count": 14,
   "id": "8c5dc549-c3c6-4133-8c0b-65875f2c40eb",
   "metadata": {},
   "outputs": [
    {
     "data": {
      "text/plain": [
       "true"
      ]
     },
     "execution_count": 14,
     "metadata": {},
     "output_type": "execute_result"
    }
   ],
   "source": [
    "\"Cheddar\" in quesos"
   ]
  },
  {
   "cell_type": "code",
   "execution_count": 17,
   "id": "c2007aa7-b85b-40c4-95ca-615d5120c7e3",
   "metadata": {},
   "outputs": [
    {
     "data": {
      "text/plain": [
       "false"
      ]
     },
     "execution_count": 17,
     "metadata": {},
     "output_type": "execute_result"
    }
   ],
   "source": [
    "\"cheddar\" in quesos"
   ]
  },
  {
   "cell_type": "markdown",
   "id": "0df27371-8df6-41ca-82e9-774d234c9fae",
   "metadata": {},
   "source": [
    "!Oh! Las mayusculas hacen diferente un nombre"
   ]
  },
  {
   "cell_type": "code",
   "execution_count": 11,
   "id": "3cd0ebb3-4417-4657-a555-19f3f14253f5",
   "metadata": {},
   "outputs": [
    {
     "name": "stdout",
     "output_type": "stream",
     "text": [
      "Cheddar\n",
      "Edam\n",
      "Gouda\n"
     ]
    }
   ],
   "source": [
    "for queso in quesos # Aqui queso es una variable local\n",
    "  println(queso)\n",
    "end"
   ]
  },
  {
   "cell_type": "markdown",
   "id": "49a925e2-9068-441a-8f73-b98236d4a416",
   "metadata": {},
   "source": [
    "El operador porción también funciona en arreglos:"
   ]
  },
  {
   "cell_type": "code",
   "execution_count": 12,
   "id": "4e149968-3ec0-4c4c-be2c-96ea5e979702",
   "metadata": {},
   "outputs": [],
   "source": [
    "t = ['a', 'b', 'c', 'd', 'e', 'f'];"
   ]
  },
  {
   "cell_type": "code",
   "execution_count": 13,
   "id": "b9d0b1ba-270a-4a79-acd8-24e47d94c219",
   "metadata": {},
   "outputs": [
    {
     "name": "stdout",
     "output_type": "stream",
     "text": [
      "['a', 'b', 'c']"
     ]
    }
   ],
   "source": [
    "print(t[1:3])"
   ]
  },
  {
   "cell_type": "code",
   "execution_count": 14,
   "id": "e12cb96c-e0d5-47a7-a9ec-4aca1b6ba9a5",
   "metadata": {},
   "outputs": [
    {
     "name": "stdout",
     "output_type": "stream",
     "text": [
      "['c', 'd', 'e', 'f']"
     ]
    }
   ],
   "source": [
    "print(t[3:end])"
   ]
  },
  {
   "cell_type": "code",
   "execution_count": 15,
   "id": "e67307a7-33d1-405d-81e1-c4cc802098ff",
   "metadata": {},
   "outputs": [
    {
     "name": "stdout",
     "output_type": "stream",
     "text": [
      "['c', 'd', 'e', 'f']\n"
     ]
    }
   ],
   "source": [
    "println(t[3:end])"
   ]
  },
  {
   "cell_type": "code",
   "execution_count": 16,
   "id": "c4f9d996-b1c4-46da-b894-cb9452257e8d",
   "metadata": {},
   "outputs": [
    {
     "name": "stdout",
     "output_type": "stream",
     "text": [
      "['a', 'b', 'c', 'd', 'e', 'f']"
     ]
    }
   ],
   "source": [
    "print(t[:])"
   ]
  },
  {
   "cell_type": "code",
   "execution_count": 17,
   "id": "af0d03a1-1019-4e54-8bec-7b450d6a776e",
   "metadata": {},
   "outputs": [
    {
     "name": "stdout",
     "output_type": "stream",
     "text": [
      "['b', 'c']"
     ]
    }
   ],
   "source": [
    "print(t[2:3])"
   ]
  },
  {
   "cell_type": "markdown",
   "id": "c40a52fd-61f5-4b8b-9bf2-ee422fa6c79e",
   "metadata": {},
   "source": [
    "## Librería de Arreglos\n",
    "`Julia` tiene funciones integradas que operan en arreglos.  \n",
    "\n",
    "Por ejemplo, `push!` agrega un nuevo elemento al final de un arreglo:"
   ]
  },
  {
   "cell_type": "code",
   "execution_count": 18,
   "id": "a8bab402-169d-4f55-89ea-30d63ee9a92c",
   "metadata": {},
   "outputs": [
    {
     "name": "stdout",
     "output_type": "stream",
     "text": [
      "['a', 'b', 'c']"
     ]
    }
   ],
   "source": [
    "t = ['a', 'b', 'c'];\n",
    "print(t)"
   ]
  },
  {
   "cell_type": "code",
   "execution_count": 19,
   "id": "c00e74a2-ee76-474f-8152-73a97c944523",
   "metadata": {},
   "outputs": [
    {
     "name": "stdout",
     "output_type": "stream",
     "text": [
      "['a', 'b', 'c', 'd']"
     ]
    }
   ],
   "source": [
    "push!(t, 'd');\n",
    "print(t)"
   ]
  },
  {
   "cell_type": "markdown",
   "id": "d242ead0-bf36-4c5a-b9e2-4a0b92184695",
   "metadata": {},
   "source": [
    "Podemos concatenar Arreglos con la función `append`"
   ]
  },
  {
   "cell_type": "code",
   "execution_count": 20,
   "id": "544de73d-c697-4ae9-8f1c-24956062cb39",
   "metadata": {},
   "outputs": [
    {
     "name": "stdout",
     "output_type": "stream",
     "text": [
      "['a', 'b', 'c', 'd', 'e']"
     ]
    }
   ],
   "source": [
    "t1 = ['a', 'b', 'c'];\n",
    "t2 = ['d', 'e'];\n",
    "t3 = append!(t1, t2);\n",
    "print(t3)"
   ]
  },
  {
   "cell_type": "markdown",
   "id": "43734803-fd5a-4003-b30c-5917f8c56419",
   "metadata": {},
   "source": [
    "sort! ordena los elementos de un arreglo de menor a mayor:"
   ]
  },
  {
   "cell_type": "code",
   "execution_count": 21,
   "id": "95778dc7-fcfa-4c2f-a673-5b533655771d",
   "metadata": {},
   "outputs": [
    {
     "name": "stdout",
     "output_type": "stream",
     "text": [
      "['d', 'c', 'e', 'b', 'a']\n",
      "['a', 'b', 'c', 'd', 'e']"
     ]
    }
   ],
   "source": [
    "t = ['d', 'c', 'e', 'b', 'a'];\n",
    "println(t); # Observemos la diferencia entre println y print\n",
    "sort!(t);\n",
    "print(t);"
   ]
  },
  {
   "cell_type": "markdown",
   "id": "500d3bd4-a0f8-46ae-9206-8fedef80134f",
   "metadata": {},
   "source": [
    "Podemos sumar los elemtos de un arreglo!!"
   ]
  },
  {
   "cell_type": "code",
   "execution_count": 32,
   "id": "2a730438-2a0a-4147-a714-b02c798bd2be",
   "metadata": {},
   "outputs": [
    {
     "name": "stdout",
     "output_type": "stream",
     "text": [
      "[1, 2, 3, 4]\n"
     ]
    },
    {
     "data": {
      "text/plain": [
       "10"
      ]
     },
     "execution_count": 32,
     "metadata": {},
     "output_type": "execute_result"
    }
   ],
   "source": [
    "n = [1, 2, 3, 4];\n",
    "println(n);\n",
    "sum(n)"
   ]
  },
  {
   "cell_type": "code",
   "execution_count": 25,
   "id": "bad2394e-1de5-465b-9b13-911fa892655d",
   "metadata": {},
   "outputs": [
    {
     "name": "stdout",
     "output_type": "stream",
     "text": [
      "['a', 'b', 'c', 'd', 'e']"
     ]
    }
   ],
   "source": [
    "print(t)"
   ]
  },
  {
   "cell_type": "code",
   "execution_count": 26,
   "id": "dc6a002d-7ebd-42e0-8589-3143a2219229",
   "metadata": {},
   "outputs": [
    {
     "ename": "LoadError",
     "evalue": "MethodError: no method matching +(::Char, ::Char)\n\u001b[0mClosest candidates are:\n\u001b[0m  +(::Any, ::Any, \u001b[91m::Any\u001b[39m, \u001b[91m::Any...\u001b[39m) at operators.jl:560\n\u001b[0m  +(::T, \u001b[91m::Integer\u001b[39m) where T<:AbstractChar at char.jl:223\n\u001b[0m  +(\u001b[91m::Integer\u001b[39m, ::AbstractChar) at char.jl:224",
     "output_type": "error",
     "traceback": [
      "MethodError: no method matching +(::Char, ::Char)\n\u001b[0mClosest candidates are:\n\u001b[0m  +(::Any, ::Any, \u001b[91m::Any\u001b[39m, \u001b[91m::Any...\u001b[39m) at operators.jl:560\n\u001b[0m  +(::T, \u001b[91m::Integer\u001b[39m) where T<:AbstractChar at char.jl:223\n\u001b[0m  +(\u001b[91m::Integer\u001b[39m, ::AbstractChar) at char.jl:224",
      "",
      "Stacktrace:",
      "  [1] add_sum(x::Char, y::Char)",
      "    @ Base ./reduce.jl:24",
      "  [2] _mapreduce",
      "    @ ./reduce.jl:408 [inlined]",
      "  [3] _mapreduce_dim",
      "    @ ./reducedim.jl:318 [inlined]",
      "  [4] #mapreduce#672",
      "    @ ./reducedim.jl:310 [inlined]",
      "  [5] mapreduce",
      "    @ ./reducedim.jl:310 [inlined]",
      "  [6] #_sum#682",
      "    @ ./reducedim.jl:878 [inlined]",
      "  [7] _sum",
      "    @ ./reducedim.jl:878 [inlined]",
      "  [8] #_sum#681",
      "    @ ./reducedim.jl:877 [inlined]",
      "  [9] _sum",
      "    @ ./reducedim.jl:877 [inlined]",
      " [10] #sum#679",
      "    @ ./reducedim.jl:873 [inlined]",
      " [11] sum(a::Vector{Char})",
      "    @ Base ./reducedim.jl:873",
      " [12] top-level scope",
      "    @ In[26]:1",
      " [13] eval",
      "    @ ./boot.jl:360 [inlined]",
      " [14] include_string(mapexpr::typeof(REPL.softscope), mod::Module, code::String, filename::String)",
      "    @ Base ./loading.jl:1094"
     ]
    }
   ],
   "source": [
    "sum(t) # Ups!! No con caracters no funciona!"
   ]
  },
  {
   "cell_type": "markdown",
   "id": "bbfe8b49-9782-4af5-bc15-d5f16f5e406f",
   "metadata": {},
   "source": [
    "Tenemos otra funciones interesantes!!"
   ]
  },
  {
   "cell_type": "code",
   "execution_count": 27,
   "id": "7ac0681c-bbae-43ca-b398-9a11e1eff791",
   "metadata": {},
   "outputs": [
    {
     "name": "stdout",
     "output_type": "stream",
     "text": [
      "e\n",
      "E"
     ]
    }
   ],
   "source": [
    "letra = \"e\";\n",
    "println(letra)\n",
    "print(uppercase(letra))"
   ]
  },
  {
   "cell_type": "markdown",
   "id": "776f7847-5298-4cb2-b823-81b1dd4778bb",
   "metadata": {},
   "source": [
    "Podemos realizar potencias de Arreglos!"
   ]
  },
  {
   "cell_type": "code",
   "execution_count": 28,
   "id": "7c7fb1d6-e90e-4ea8-b24a-a3a195b40e76",
   "metadata": {},
   "outputs": [
    {
     "name": "stdout",
     "output_type": "stream",
     "text": [
      "[1, 8, 27]"
     ]
    }
   ],
   "source": [
    "print([1, 2, 3] .^ 3)"
   ]
  },
  {
   "cell_type": "code",
   "execution_count": 38,
   "id": "057337e4-d640-40e2-bf4d-d0573fefa11a",
   "metadata": {},
   "outputs": [
    {
     "name": "stdout",
     "output_type": "stream",
     "text": [
      "[\"ABC\", \"DEF\", \"GHI\"]"
     ]
    }
   ],
   "source": [
    "t = uppercase.([\"abc\", \"def\", \"ghi\"]);\n",
    "print(t)"
   ]
  },
  {
   "cell_type": "markdown",
   "id": "11e73296-7c9b-4076-bc82-1a6f87825be0",
   "metadata": {},
   "source": [
    "## Borrando (Insertando) Elementos\n",
    "\n",
    "Hay varias formas de eliminar elementos de un arreglo.  \n",
    "Si se conoce el índice del elemento que se desea eliminar, se puede usar `splice!`:"
   ]
  },
  {
   "cell_type": "code",
   "execution_count": 29,
   "id": "8230bc81-6df0-4989-be1b-e09d552236c3",
   "metadata": {},
   "outputs": [
    {
     "data": {
      "text/plain": [
       "'b': ASCII/Unicode U+0062 (category Ll: Letter, lowercase)"
      ]
     },
     "execution_count": 29,
     "metadata": {},
     "output_type": "execute_result"
    }
   ],
   "source": [
    "t = ['a', 'b', 'c'];\n",
    "splice!(t, 2)"
   ]
  },
  {
   "cell_type": "code",
   "execution_count": 30,
   "id": "b9b88968-cfd5-4bf9-aa10-44bf41ef0400",
   "metadata": {},
   "outputs": [
    {
     "name": "stdout",
     "output_type": "stream",
     "text": [
      "['a', 'c']"
     ]
    }
   ],
   "source": [
    "print(t)"
   ]
  },
  {
   "cell_type": "markdown",
   "id": "0fd39e90-91ad-4230-88a8-c746299df494",
   "metadata": {},
   "source": [
    " `popfirst` elimina el primer elemento:"
   ]
  },
  {
   "cell_type": "code",
   "execution_count": 31,
   "id": "cf1a7cd4-7697-44a3-99d9-f1df59611e73",
   "metadata": {},
   "outputs": [
    {
     "name": "stdout",
     "output_type": "stream",
     "text": [
      "['a', 'b', 'c']\n",
      "['b', 'c']"
     ]
    }
   ],
   "source": [
    "t = ['a', 'b', 'c'];\n",
    "println(t);\n",
    "popfirst!(t);\n",
    "print(t)"
   ]
  },
  {
   "cell_type": "markdown",
   "id": "b1741f31-62a6-4aa5-ac67-99da06ba7dbe",
   "metadata": {},
   "source": [
    "Es posible inlcuir valores dentro una variable de texto usando `$var`.  \n",
    "Por ejemplo:"
   ]
  },
  {
   "cell_type": "code",
   "execution_count": 2,
   "id": "851a13a4-1c7e-47bd-a35a-7111eb1bc326",
   "metadata": {},
   "outputs": [
    {
     "data": {
      "text/plain": [
       "\"2 es par\""
      ]
     },
     "execution_count": 2,
     "metadata": {},
     "output_type": "execute_result"
    }
   ],
   "source": [
    "x = 2\n",
    "y = \"$x es par\""
   ]
  },
  {
   "cell_type": "markdown",
   "id": "865b7b3d-9f8e-4962-98f0-b8e035a90f0c",
   "metadata": {},
   "source": [
    "Esta idea se puede usar en combinación con la función println() para mostrar resultados en pantalla."
   ]
  },
  {
   "cell_type": "code",
   "execution_count": 3,
   "id": "3ca38427-a210-4fd5-9721-32e532574017",
   "metadata": {},
   "outputs": [
    {
     "name": "stdout",
     "output_type": "stream",
     "text": [
      "Mi nombre es Edgardo BONZI\n",
      "Mi oficina es la 265 y mi email es edgardo.bonzi@unc.edu.ar\n"
     ]
    }
   ],
   "source": [
    "prof_name = \"Edgardo BONZI\"\n",
    "prof_of = 265\n",
    "prof_email = \"edgardo.bonzi@unc.edu.ar\"\n",
    "\n",
    "println(\"Mi nombre es $prof_name\") \n",
    "println(\"Mi oficina es la $prof_of y mi email es $prof_email\")"
   ]
  },
  {
   "cell_type": "code",
   "execution_count": null,
   "id": "9f84327c-8111-43c0-8367-8f744027ae79",
   "metadata": {},
   "outputs": [],
   "source": []
  }
 ],
 "metadata": {
  "kernelspec": {
   "display_name": "Julia 1.6.0",
   "language": "julia",
   "name": "julia-1.6"
  },
  "language_info": {
   "file_extension": ".jl",
   "mimetype": "application/julia",
   "name": "julia",
   "version": "1.6.0"
  }
 },
 "nbformat": 4,
 "nbformat_minor": 5
}
