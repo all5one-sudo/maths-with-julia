{
 "cells": [
  {
   "cell_type": "code",
   "execution_count": 1,
   "id": "9709c995-417d-40c3-a75d-ba1ecb7ed85e",
   "metadata": {},
   "outputs": [],
   "source": [
    "using SymPy\n",
    "import_from(sympy)\n",
    "using LegendrePolynomials"
   ]
  },
  {
   "cell_type": "code",
   "execution_count": 2,
   "id": "fb5e81aa-00db-44a8-902a-6293cc4e80ac",
   "metadata": {},
   "outputs": [
    {
     "data": {
      "text/latex": [
       "$\\int \\log{\\left(x \\right)}^{2}\\, dx$"
      ],
      "text/plain": [
       "⌠           \n",
       "⎮    2      \n",
       "⎮ log (x) dx\n",
       "⌡           "
      ]
     },
     "execution_count": 2,
     "metadata": {},
     "output_type": "execute_result"
    }
   ],
   "source": [
    "@vars x\n",
    "expr = sympy.Integral(log(x)^2, x)"
   ]
  },
  {
   "cell_type": "code",
   "execution_count": 3,
   "id": "661f9fd5-de02-4003-9c9f-1e7e91209244",
   "metadata": {},
   "outputs": [
    {
     "data": {
      "text/latex": [
       "$x \\log{\\left(x \\right)}^{2} - 2 x \\log{\\left(x \\right)} + 2 x$"
      ],
      "text/plain": [
       "     2                      \n",
       "x⋅log (x) - 2⋅x⋅log(x) + 2⋅x"
      ]
     },
     "execution_count": 3,
     "metadata": {},
     "output_type": "execute_result"
    }
   ],
   "source": [
    "expr.doit()"
   ]
  },
  {
   "cell_type": "code",
   "execution_count": 5,
   "id": "29aa7a4f-942b-48b5-921e-db9339afcb0d",
   "metadata": {},
   "outputs": [
    {
     "data": {
      "text/latex": [
       "$x \\log{\\left(x \\right)}^{2} - 2 x \\log{\\left(x \\right)} + 2 x$"
      ],
      "text/plain": [
       "     2                      \n",
       "x⋅log (x) - 2⋅x⋅log(x) + 2⋅x"
      ]
     },
     "execution_count": 5,
     "metadata": {},
     "output_type": "execute_result"
    }
   ],
   "source": [
    "integrate(log(x)^2, x)"
   ]
  },
  {
   "cell_type": "code",
   "execution_count": 4,
   "id": "3e7b5580-a5e2-4cd5-ad62-b284a547c2ee",
   "metadata": {},
   "outputs": [
    {
     "data": {
      "text/latex": [
       "$\\frac{1}{3}$"
      ],
      "text/plain": [
       "1/3"
      ]
     },
     "execution_count": 4,
     "metadata": {},
     "output_type": "execute_result"
    }
   ],
   "source": [
    "integrate(x^2, (x, 0, 1))"
   ]
  },
  {
   "cell_type": "code",
   "execution_count": 9,
   "id": "5d505908-230b-4d8f-af03-7be356eb7c9a",
   "metadata": {},
   "outputs": [
    {
     "ename": "LoadError",
     "evalue": "ArgumentError: variable must have no free symbols",
     "output_type": "error",
     "traceback": [
      "ArgumentError: variable must have no free symbols",
      "",
      "Stacktrace:",
      " [1] _float(x::Sym)",
      "   @ SymPy ~/.julia/packages/SymPy/ycPbL/src/generic.jl:74",
      " [2] float(x::Sym)",
      "   @ SymPy ~/.julia/packages/SymPy/ycPbL/src/generic.jl:73",
      " [3] polytype(x::Sym)",
      "   @ LegendrePolynomials ~/.julia/packages/LegendrePolynomials/FKXPP/src/LegendrePolynomials.jl:62",
      " [4] LegendrePolynomials.LegendrePolynomialIterator(x::Sym)",
      "   @ LegendrePolynomials ~/.julia/packages/LegendrePolynomials/FKXPP/src/LegendrePolynomials.jl:111",
      " [5] Pl(x::Sym, l::Int64)",
      "   @ LegendrePolynomials ~/.julia/packages/LegendrePolynomials/FKXPP/src/LegendrePolynomials.jl:164",
      " [6] top-level scope",
      "   @ In[9]:2",
      " [7] eval",
      "   @ ./boot.jl:373 [inlined]",
      " [8] include_string(mapexpr::typeof(REPL.softscope), mod::Module, code::String, filename::String)",
      "   @ Base ./loading.jl:1196"
     ]
    }
   ],
   "source": [
    "@syms xx\n",
    "Pl(xx,3)"
   ]
  },
  {
   "cell_type": "code",
   "execution_count": 7,
   "id": "805e6827-f05a-4150-9978-a14be9a8b576",
   "metadata": {},
   "outputs": [
    {
     "data": {
      "text/plain": [
       "-0.3825"
      ]
     },
     "execution_count": 7,
     "metadata": {},
     "output_type": "execute_result"
    }
   ],
   "source": [
    "Pl(0.3,3)"
   ]
  },
  {
   "cell_type": "code",
   "execution_count": null,
   "id": "f9aace59-abef-4abf-9960-2b67bd821eb6",
   "metadata": {},
   "outputs": [],
   "source": []
  }
 ],
 "metadata": {
  "kernelspec": {
   "display_name": "Julia 1.7.2",
   "language": "julia",
   "name": "julia-1.7"
  },
  "language_info": {
   "file_extension": ".jl",
   "mimetype": "application/julia",
   "name": "julia",
   "version": "1.7.2"
  }
 },
 "nbformat": 4,
 "nbformat_minor": 5
}
