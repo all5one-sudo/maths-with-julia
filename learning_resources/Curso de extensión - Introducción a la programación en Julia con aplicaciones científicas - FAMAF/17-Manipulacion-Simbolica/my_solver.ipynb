{
 "cells": [
  {
   "cell_type": "markdown",
   "metadata": {},
   "source": [
    "## Automatic Solver for Newton Raphson\n",
    "\n",
    "The idea is to use Symbolics to compute the Jacobian of the function and then use it directly.\n",
    "\n",
    "So far it is **NOT WORKING**"
   ]
  },
  {
   "cell_type": "code",
   "execution_count": 1,
   "metadata": {},
   "outputs": [],
   "source": [
    "using Symbolics"
   ]
  },
  {
   "cell_type": "markdown",
   "metadata": {},
   "source": [
    "Make a function to compute the Jacobian using Symbolics"
   ]
  },
  {
   "cell_type": "code",
   "execution_count": 2,
   "metadata": {},
   "outputs": [
    {
     "data": {
      "text/plain": [
       "get_Jacobian (generic function with 1 method)"
      ]
     },
     "metadata": {},
     "output_type": "display_data"
    }
   ],
   "source": [
    "function get_Jacobian!(f, Jf, x0, p_f)\n",
    "    #M = length(f(x0,p_f)) # assumes the number of variables equals the output of the function \n",
    "    M = length(x0)\n",
    "    N = length(p_f)\n",
    "    @variables v[1:M] p[1:N]\n",
    "    vs = Symbolics.scalarize(v)\n",
    "    ps = Symbolics.scalarize(p)\n",
    "    Jfs = Symbolics.jacobian(f(vs,ps), vs)\n",
    "    Jfs_exp = Symbolics.build_function(Jfs,v, p);\n",
    "    Jf = eval(Jfs_exp[1]);\n",
    "end\n",
    "    \n",
    "function get_Jacobian(f, x0, p_f)\n",
    "    #M = length(f(x0,p_f)) # assumes the number of variables equals the output of the function \n",
    "    M = length(x0)\n",
    "    N = length(p_f)\n",
    "    @variables v[1:M] p[1:N]\n",
    "    vs = Symbolics.scalarize(v)\n",
    "    ps = Symbolics.scalarize(p)\n",
    "    Jfs = Symbolics.jacobian(f(vs,ps), vs; simplify=true)\n",
    "    Jfs_exp = Symbolics.build_function(Jfs,v, p);\n",
    "    return eval(Jfs_exp[1]);\n",
    "end\n"
   ]
  },
  {
   "cell_type": "code",
   "execution_count": 12,
   "metadata": {},
   "outputs": [
    {
     "data": {
      "text/plain": [
       "2-element Vector{Float64}:\n",
       "  0.479425538604203\n",
       " -0.4161468365471424"
      ]
     },
     "metadata": {},
     "output_type": "display_data"
    }
   ],
   "source": [
    "l(x,p) = [sin(x[1]) ; cos(x[2])*p[1]]\n",
    "#Jl(x,p) = zeros(length(x))\n",
    "x0 = [0.5; 2.0]\n",
    "p_l = [1.]\n",
    "l(x0,p_l)\n",
    "#typeof(Jl)"
   ]
  },
  {
   "cell_type": "code",
   "execution_count": 4,
   "metadata": {},
   "outputs": [
    {
     "data": {
      "text/plain": [
       "var\"#3#4\""
      ]
     },
     "metadata": {},
     "output_type": "display_data"
    }
   ],
   "source": [
    "#get_Jacobian!(l,Jl,x0,p_l)\n",
    "Jl = get_Jacobian(l,x0,p_l)\n",
    "typeof(Jl)"
   ]
  },
  {
   "cell_type": "code",
   "execution_count": 5,
   "metadata": {},
   "outputs": [
    {
     "data": {
      "text/plain": [
       "2×2 Matrix{Float64}:\n",
       " 0.540302   0.0\n",
       " 0.0       -0.909297"
      ]
     },
     "metadata": {},
     "output_type": "display_data"
    }
   ],
   "source": [
    "Jl(x0,p_l)"
   ]
  },
  {
   "cell_type": "code",
   "execution_count": 6,
   "metadata": {},
   "outputs": [
    {
     "data": {
      "text/plain": [
       "2-element Vector{Float64}:\n",
       " 2.557407724654902\n",
       " 2.457657554360286"
      ]
     },
     "metadata": {},
     "output_type": "display_data"
    }
   ],
   "source": [
    "Jl(x0,p_l) \\ l(x0,p_l) + x0"
   ]
  },
  {
   "cell_type": "code",
   "execution_count": 14,
   "metadata": {},
   "outputs": [
    {
     "data": {
      "text/plain": [
       "my_generic_NRsolver_Alt (generic function with 1 method)"
      ]
     },
     "metadata": {},
     "output_type": "display_data"
    }
   ],
   "source": [
    "function my_generic_NRsolver(f,Jf,x0, N, p_f)\n",
    "    x = x0\n",
    "    for i ∈ 1:N\n",
    "        x = x - Jf(x,p_f) \\ f(x,p_f)\n",
    "    end\n",
    "    return x, sqrt(f(x,p_f)'*f(x,p_f))\n",
    "end\n",
    "\n",
    "function my_generic_NRsolver_Alt(f,x0, N, p_f)\n",
    "    x = x0\n",
    "    Jf = get_Jacobian(f,x0,p_f)\n",
    "    for i ∈ 1:N\n",
    "        x = x - Jf(x,p_f) \\ f(x,p_f)\n",
    "    end\n",
    "    return x, sqrt(f(x,p_f)'*f(x,p_f))\n",
    "end"
   ]
  },
  {
   "cell_type": "code",
   "execution_count": 15,
   "metadata": {},
   "outputs": [
    {
     "data": {
      "text/plain": [
       "([0.0, 1.5707963267948966], 6.123233995736766e-17)"
      ]
     },
     "metadata": {},
     "output_type": "display_data"
    }
   ],
   "source": [
    "my_generic_NRsolver(l,Jl,x0,10,p_l)"
   ]
  },
  {
   "cell_type": "code",
   "execution_count": 16,
   "metadata": {},
   "outputs": [
    {
     "ename": "MethodError",
     "evalue": "MethodError: no method matching (::var\"#7#8\")(::Vector{Float64}, ::Vector{Float64})\nThe applicable method may be too new: running in world age 31471, while current world is 31472.\nClosest candidates are:\n  (::var\"#7#8\")(::Any, ::Any) at ~/.julia/packages/SymbolicUtils/v2ZkM/src/code.jl:349 (method too new to be called from this world context.)",
     "output_type": "error",
     "traceback": [
      "MethodError: no method matching (::var\"#7#8\")(::Vector{Float64}, ::Vector{Float64})\n",
      "The applicable method may be too new: running in world age 31471, while current world is 31472.\n",
      "Closest candidates are:\n",
      "  (::var\"#7#8\")(::Any, ::Any) at ~/.julia/packages/SymbolicUtils/v2ZkM/src/code.jl:349 (method too new to be called from this world context.)\n",
      "\n",
      "Stacktrace:\n",
      "  [1] my_generic_NRsolver_Alt(f::typeof(l), x0::Vector{Float64}, N::Int64, p_f::Vector{Float64})\n",
      "    @ Main ~/Docencia/Curso_Julia/curso-julia-2022-1-priv/Leco/Symbolics/my_solver.ipynb:13\n",
      "  [2] top-level scope\n",
      "    @ ~/Docencia/Curso_Julia/curso-julia-2022-1-priv/Leco/Symbolics/my_solver.ipynb:1\n",
      "  [3] eval\n",
      "    @ ./boot.jl:373 [inlined]\n",
      "  [4] include_string(mapexpr::typeof(REPL.softscope), mod::Module, code::String, filename::String)\n",
      "    @ Base ./loading.jl:1196\n",
      "  [5] #invokelatest#2\n",
      "    @ ./essentials.jl:716 [inlined]\n",
      "  [6] invokelatest\n",
      "    @ ./essentials.jl:714 [inlined]\n",
      "  [7] (::VSCodeServer.var\"#150#151\"{VSCodeServer.NotebookRunCellArguments, String})()\n",
      "    @ VSCodeServer ~/.vscode/extensions/julialang.language-julia-1.5.11/scripts/packages/VSCodeServer/src/serve_notebook.jl:18\n",
      "  [8] withpath(f::VSCodeServer.var\"#150#151\"{VSCodeServer.NotebookRunCellArguments, String}, path::String)\n",
      "    @ VSCodeServer ~/.vscode/extensions/julialang.language-julia-1.5.11/scripts/packages/VSCodeServer/src/repl.jl:185\n",
      "  [9] notebook_runcell_request(conn::VSCodeServer.JSONRPC.JSONRPCEndpoint{Base.PipeEndpoint, Base.PipeEndpoint}, params::VSCodeServer.NotebookRunCellArguments)\n",
      "    @ VSCodeServer ~/.vscode/extensions/julialang.language-julia-1.5.11/scripts/packages/VSCodeServer/src/serve_notebook.jl:14\n",
      " [10] dispatch_msg(x::VSCodeServer.JSONRPC.JSONRPCEndpoint{Base.PipeEndpoint, Base.PipeEndpoint}, dispatcher::VSCodeServer.JSONRPC.MsgDispatcher, msg::Dict{String, Any})\n",
      "    @ VSCodeServer.JSONRPC ~/.vscode/extensions/julialang.language-julia-1.5.11/scripts/packages/JSONRPC/src/typed.jl:67\n",
      " [11] serve_notebook(pipename::String; crashreporting_pipename::String)\n",
      "    @ VSCodeServer ~/.vscode/extensions/julialang.language-julia-1.5.11/scripts/packages/VSCodeServer/src/serve_notebook.jl:94\n",
      " [12] top-level scope\n",
      "    @ ~/.vscode/extensions/julialang.language-julia-1.5.11/scripts/notebook/notebook.jl:12\n",
      " [13] include(mod::Module, _path::String)\n",
      "    @ Base ./Base.jl:418\n",
      " [14] exec_options(opts::Base.JLOptions)\n",
      "    @ Base ./client.jl:292\n",
      " [15] _start()\n",
      "    @ Base ./client.jl:495"
     ]
    }
   ],
   "source": [
    "my_generic_NRsolver_Alt(l,x0,3,p_l)"
   ]
  }
 ],
 "metadata": {
  "kernelspec": {
   "display_name": "Julia 1.7.2",
   "language": "julia",
   "name": "julia-1.7"
  },
  "language_info": {
   "file_extension": ".jl",
   "mimetype": "application/julia",
   "name": "julia",
   "version": "1.7.2"
  },
  "orig_nbformat": 4
 },
 "nbformat": 4,
 "nbformat_minor": 2
}
