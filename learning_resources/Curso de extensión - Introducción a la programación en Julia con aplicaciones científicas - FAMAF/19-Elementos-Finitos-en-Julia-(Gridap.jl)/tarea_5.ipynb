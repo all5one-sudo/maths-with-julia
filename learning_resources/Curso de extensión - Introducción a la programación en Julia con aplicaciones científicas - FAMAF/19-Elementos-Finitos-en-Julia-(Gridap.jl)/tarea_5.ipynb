{
 "cells": [
  {
   "cell_type": "markdown",
   "metadata": {},
   "source": [
    "# Tarea 5\n",
    "\n",
    "### Importante 1: ###\n",
    "Para esta tarea deberá tener instaladas las librerías `Gridap` y `gmsh` (este último no está en directamente registrado en Julia, así que hay que bajarlo con el comando `]add https://github.com/koehlerson/gmsh.jl.git`) y alguno de los visualizadores compatibles: **VisIt** https://wci.llnl.gov/simulation/computer-codes/visit/ o **Paraview** https://www.paraview.org/\n",
    "\n",
    "### Importante 2: ###\n",
    "Renombre el archivo como: \n",
    "**nombre_del_grupo_tarea_5.ipynb**\n",
    "\n",
    "**Todo el código generado y la presentación deberá estar incluida en este notebook.**\n",
    "\n",
    "**El objetivo de la tarea es variado:**\n",
    "\n",
    "1. Familiarizarse con el paquete ```gridap``` y la resolución de problemas usando **Elementos Finitos**.\n",
    "2. Resolver problemas de Dirichlet para la ecuación de Laplace o Poisson. \n",
    "3. Familiarizarse con visualizadores modernos.\n",
    "4. Procesar los datos obtenidos\n",
    "\n",
    "\n",
    "**1)** Ejecute el notebook **Poisson_example_2b.ipynb** es su opción test y compruebe que funciona correctamente. Experimente con distintas funciones \"solución\" y sus \"fuentes\". Visualize los resultados en el visualizador elegido (VisIt o Paraview).\n",
    "\n",
    "**2)** Experimente con distintas configuraciones del solver (distintos métodos, distinto número de iteraciones, toleracias). Experimente con distintos tipos de Elementos Finitos y con distintos órdenes de los mismos.\n",
    "\n",
    "**3)** Ejecute el notebook con opciones de cómputo de las capacidades de las distintas configuraciones de conductores. Experimente con distintas configuraciones de conductores o cambiando sus distancias relativas, tamaños, formas, etc.\n",
    "\n",
    "**4)** Use distintas resoluciones y vea como afecta a las capacidades calculadas. \n",
    "\n",
    "**5)** Para los intrépidos: Cambie las condiciones de contorno a Newmann o Mixtas, piense en algún problema espefícico (físico o ingenieril) y aplíquelas. Condiciones asintóticas: Para problemas de sistemas aislados se usan condiciones de contorno tipo \"Robin\". Las mismas imponen un decaimiento del tipo (en 3 dimensiones) $u = \\frac{C}{r}$ sin especificar $C$, por ejemplo imponiendo (en 3 dimensiones) $\\partial_r u + \\frac{u}{r} = 0$ en una esfera de radio $R$ lo suficientemente grande. Implemente esta condición para este sistema (en 2 dimensiones)."
   ]
  },
  {
   "cell_type": "code",
   "execution_count": null,
   "metadata": {},
   "outputs": [],
   "source": []
  }
 ],
 "metadata": {
  "kernelspec": {
   "display_name": "Python 3 (ipykernel)",
   "language": "python",
   "name": "python3"
  },
  "language_info": {
   "codemirror_mode": {
    "name": "ipython",
    "version": 3
   },
   "file_extension": ".py",
   "mimetype": "text/x-python",
   "name": "python",
   "nbconvert_exporter": "python",
   "pygments_lexer": "ipython3",
   "version": "3.8.12"
  },
  "latex_envs": {
   "LaTeX_envs_menu_present": true,
   "autoclose": false,
   "autocomplete": true,
   "bibliofile": "biblio.bib",
   "cite_by": "apalike",
   "current_citInitial": 1,
   "eqLabelWithNumbers": true,
   "eqNumInitial": 1,
   "hotkeys": {
    "equation": "Ctrl-E",
    "itemize": "Ctrl-I"
   },
   "labels_anchors": false,
   "latex_user_defs": false,
   "report_style_numbering": false,
   "user_envs_cfg": false
  }
 },
 "nbformat": 4,
 "nbformat_minor": 4
}
