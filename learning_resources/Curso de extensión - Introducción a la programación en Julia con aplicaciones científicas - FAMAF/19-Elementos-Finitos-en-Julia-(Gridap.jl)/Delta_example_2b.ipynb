{
 "cells": [
  {
   "cell_type": "markdown",
   "id": "03acf9f1",
   "metadata": {},
   "source": [
    "# Ejemplo de resolución del problema de Poisson una distribución de Dirac #\n"
   ]
  },
  {
   "cell_type": "markdown",
   "id": "e8a0c1b9",
   "metadata": {},
   "source": [
    "El problema a resolver es:\n",
    "\n",
    "\n",
    "\\begin{align*}\n",
    "-\\Delta u &= f + q\\delta(x_0) \\;\\;\\;\\;\\; \\text{in } \\Omega \\\\\n",
    "u &= h \\;\\;\\;\\;\\; \\text{in } \\partial \\Omega_{ext} \\\\\n",
    "\\end{align*}\n",
    "\n",
    "Para ello impondremos la versión débil del mismo:\n",
    "\n",
    "Encuentre $u$ en $H^1(\\Omega, f))$ (o sea con las condiciones de contorno de Dirichlet en $\\partial \\Omega_{int}$) tal que,\n",
    "\n",
    "$$\n",
    "\\int_{\\Omega} \\nabla v \\cdot \\nabla u \\; d\\Omega \n",
    "- \\int_{\\Omega} v \\; f \\; d\\Omega + q*v(x_0)\n",
    "= 0 \\;\\;\\;\\;\\; \\forall v \\;\\; \\in H^1_0(\\Omega)\n",
    "$$\n",
    "\n",
    "Si obtenemos un $u$ satisfaciendo esta ecuación, y es suficientemente suave, entonces podemos integrar por partes el primer término y obtener:\n",
    "\n",
    "$$\n",
    "\\int_{\\Omega}  v \\; (-\\Delta u - f) \\; d\\Omega \n",
    "= q \\delta_{x_0}(v) \\;\\;\\;\\;\\; \\forall v \\;\\; \\in H^1_0(\\Omega)\n",
    "$$\n",
    "\n",
    "Tomando $v$ arbitrario pero de soporte compacto vemos que $u$ debe satisfacer:\n",
    "\n",
    "$$\n",
    "-\\Delta u = f + q\\delta_{x_0}\\;\\;\\;\\;\\; \\text{in } \\Omega,\n",
    "$$\n",
    "\n",
    "La condición de Dirichlet es automática por la elección del espacio.\n",
    "\n"
   ]
  },
  {
   "cell_type": "markdown",
   "id": "41abe38f",
   "metadata": {},
   "source": [
    "Para resolver el problema utilizaremos la infraestructura del paquete `Gridap.jl` de Julia. Este ejemplo es una recopilación de varios ejemplos en el tutorial del paquete. "
   ]
  },
  {
   "cell_type": "code",
   "execution_count": null,
   "id": "3a5a16d1",
   "metadata": {},
   "outputs": [],
   "source": [
    "using Gridap\n",
    "using GridapMakie, GLMakie #Para graficar \n",
    "using FileIO #Gráficos y salidas\n",
    "#mkdir(\"models\")\n",
    "#mkdir(\"images\")\n",
    "using GridapGmsh\n",
    "#using gmsh\n",
    "Makie.inline!(true)"
   ]
  },
  {
   "cell_type": "markdown",
   "id": "ce52b76b",
   "metadata": {},
   "source": [
    "Vamos a usar una grilla especial para el problema, donde hemos elegido el punto donde estará la delta como un nodo de la misma. La manera de construirla está en \"models/central_point.geo\""
   ]
  },
  {
   "cell_type": "code",
   "execution_count": 2,
   "id": "ad081831",
   "metadata": {},
   "outputs": [
    {
     "name": "stdout",
     "output_type": "stream",
     "text": [
      "Info    : Reading 'models/central_point.msh'...\n",
      "Info    : 10 entities\n",
      "Info    : 5130 nodes\n",
      "Info    : 5210 elements\n",
      "Info    : Done reading 'models/central_point.msh'\n"
     ]
    },
    {
     "data": {
      "text/plain": [
       "UnstructuredDiscreteModel()"
      ]
     },
     "metadata": {},
     "output_type": "display_data"
    }
   ],
   "source": [
    "model = GmshDiscreteModel(\"models/central_point.msh\")\n",
    "\n"
   ]
  },
  {
   "cell_type": "code",
   "execution_count": 3,
   "id": "70159151",
   "metadata": {},
   "outputs": [
    {
     "data": {
      "text/plain": [
       "BodyFittedTriangulation()"
      ]
     },
     "metadata": {},
     "output_type": "display_data"
    }
   ],
   "source": [
    "Ω = Triangulation(model)\n"
   ]
  },
  {
   "cell_type": "code",
   "execution_count": 4,
   "id": "75da8a51",
   "metadata": {},
   "outputs": [
    {
     "data": {
      "text/plain": [
       "Measure()"
      ]
     },
     "metadata": {},
     "output_type": "display_data"
    }
   ],
   "source": [
    "degree = 2\n",
    "dΩ = Measure(Ω,degree)\n"
   ]
  },
  {
   "cell_type": "code",
   "execution_count": 5,
   "id": "a1bc3317",
   "metadata": {},
   "outputs": [
    {
     "name": "stderr",
     "output_type": "stream",
     "text": [
      "┌ Info: Makie/Makie is caching fonts, this may take a while. Needed only on first run!\n",
      "└ @ Makie /Users/reula/.julia/packages/Makie/NL7Xw/src/utilities/texture_atlas.jl:113\n"
     ]
    }
   ],
   "source": [
    "fig, ax = plot(Ω)\n",
    "ax.aspect = AxisAspect(1)\n",
    "wireframe!(Ω, color=:black, linewidth=1)\n",
    "scatter!(Ω, marker=:star8, markersize=4, color=:blue)\n",
    "fig\n"
   ]
  },
  {
   "cell_type": "markdown",
   "id": "5e2f2549",
   "metadata": {},
   "source": [
    "Tambén podemos graficar los contornos:"
   ]
  },
  {
   "cell_type": "code",
   "execution_count": null,
   "id": "40b5ca2f",
   "metadata": {},
   "outputs": [],
   "source": [
    "#labels = get_face_labeling(model)\n",
    "#add_tag_from_tags!(labels,\"diri\",[8])\n",
    "#add_tag_from_tags!(labels,\"point\",[7]);\n",
    "\n",
    "#boundary_tags = \"diri\"\n",
    "boundary_tags = [\"boundary\"]\n",
    "\n",
    "Γ = BoundaryTriangulation(model,tags=boundary_tags)\n",
    "dΓ = Measure(Γ,degree)\n",
    "fig, ax = plot(Γ, linewidth=8)\n",
    "ax.aspect = AxisAspect(1)\n",
    "wireframe!(Γ, color=:black, linewidth=1)\n",
    "fig\n"
   ]
  },
  {
   "cell_type": "markdown",
   "id": "450f3b63",
   "metadata": {},
   "source": [
    "Una vez que tenemos el grillado comenzamos a definir los elementos finitos que utilizaremos. En este caso usaremos elementos lagrangiano de **orden 2** que cumplirán una condición de Dirichlet en la región $\\partial \\Omega_{boundary}$. "
   ]
  },
  {
   "cell_type": "code",
   "execution_count": 6,
   "id": "4ec9573b",
   "metadata": {},
   "outputs": [
    {
     "data": {
      "text/plain": [
       "UnconstrainedFESpace()"
      ]
     },
     "metadata": {},
     "output_type": "display_data"
    }
   ],
   "source": [
    "order = 1\n",
    "reffe = ReferenceFE(lagrangian,Float64,order)\n",
    "\n",
    "dirichlet_tags= [\"boundary\"] \n",
    "\n",
    "V = TestFESpace(model,reffe;conformity=:H1,dirichlet_tags = dirichlet_tags)\n",
    "#V = TestFESpace(model,reffe;conformity=:L2,dirichlet_tags = dirichlet_tags) #no funciona la inversión.\n"
   ]
  },
  {
   "cell_type": "markdown",
   "id": "c6fe4263",
   "metadata": {},
   "source": [
    "Asignamos los valores de contorno para los potenciales. "
   ]
  },
  {
   "cell_type": "code",
   "execution_count": 7,
   "id": "97a5a4a4",
   "metadata": {},
   "outputs": [
    {
     "data": {
      "text/plain": [
       "TrialFESpace()"
      ]
     },
     "metadata": {},
     "output_type": "display_data"
    }
   ],
   "source": [
    "U = TrialFESpace(V,[0.0])\n"
   ]
  },
  {
   "cell_type": "markdown",
   "id": "3334dd22",
   "metadata": {},
   "source": [
    "A continuación definimos el problema débil en forma abstracta:"
   ]
  },
  {
   "cell_type": "code",
   "execution_count": 8,
   "id": "a8292775",
   "metadata": {},
   "outputs": [
    {
     "data": {
      "text/plain": [
       "b (generic function with 1 method)"
      ]
     },
     "metadata": {},
     "output_type": "display_data"
    }
   ],
   "source": [
    "f(x) = 0 # en este caso la fuente es cero, pero se puede poner una distribución de carga.\n",
    "#δ_point = DiracDelta{0}(model,tags=[\"mypoint1\",\"mypoint2\"])\n",
    "δ = DiracDelta{0}(model,tags=\"point\")\n",
    "\n",
    "q = 1\n",
    "\n",
    "\n",
    "\n",
    "a(u,v) = ∫( ∇(v)⋅∇(u) )*dΩ  # en a(u,v) va toda la dependencia con u que es la incógnita. \n",
    "\n",
    "b(v) = ∫(v*f )*dΩ + δ( q⋅v ) # aquí todo lo que es fuente. \n"
   ]
  },
  {
   "cell_type": "markdown",
   "id": "2925f85e",
   "metadata": {},
   "source": [
    "A partir de este punto el paquete **Gridap.jl** genera un sistema del tipo $Ax=b$ y lo resuelve para la versión elementos finitos de u."
   ]
  },
  {
   "cell_type": "code",
   "execution_count": 9,
   "id": "29f86f1f",
   "metadata": {},
   "outputs": [
    {
     "data": {
      "text/plain": [
       "AffineFEOperator()"
      ]
     },
     "metadata": {},
     "output_type": "display_data"
    }
   ],
   "source": [
    "op = AffineFEOperator(a,b,U,V)\n"
   ]
  },
  {
   "cell_type": "code",
   "execution_count": 10,
   "id": "9d90b5eb",
   "metadata": {},
   "outputs": [
    {
     "data": {
      "text/plain": [
       "LinearFESolver()"
      ]
     },
     "metadata": {},
     "output_type": "display_data"
    }
   ],
   "source": [
    "ls = LUSolver()\n",
    "solver = LinearFESolver(ls)\n"
   ]
  },
  {
   "cell_type": "code",
   "execution_count": 11,
   "id": "671986c9",
   "metadata": {},
   "outputs": [
    {
     "data": {
      "text/plain": [
       "SingleFieldFEFunction():\n",
       " num_cells: 5049\n",
       " DomainStyle: ReferenceDomain()\n",
       " Triangulation: BodyFittedTriangulation()\n",
       " Triangulation id: 3563109647457287454"
      ]
     },
     "metadata": {},
     "output_type": "display_data"
    }
   ],
   "source": [
    "uh = solve(solver,op)\n"
   ]
  },
  {
   "cell_type": "markdown",
   "id": "7a29f90d",
   "metadata": {},
   "source": [
    "Ahora podemos graficar la solución encontrada y guardarla además en un archivo que se puede leer con paraview o visit."
   ]
  },
  {
   "cell_type": "code",
   "execution_count": 12,
   "id": "06d3da80",
   "metadata": {},
   "outputs": [
    {
     "name": "stderr",
     "output_type": "stream",
     "text": [
      "┌ Error: Some Julia code in the VS Code extension crashed\n",
      "└ @ VSCodeServer /Users/reula/.vscode/extensions/julialang.language-julia-1.5.11/scripts/error_handler.jl:15\n",
      "\u001b[91m\u001b[1mERROR: \u001b[22m\u001b[39mMetadata array needs to have same length as data.\n",
      "                    Found 30294 data items, and 20196 metadata items\n",
      "Stacktrace:\n",
      "  [1] \u001b[0m\u001b[1merror\u001b[22m\u001b[0m\u001b[1m(\u001b[22m\u001b[90ms\u001b[39m::\u001b[0mString\u001b[0m\u001b[1m)\u001b[22m\n",
      "\u001b[90m    @ \u001b[39m\u001b[90mBase\u001b[39m \u001b[90m./\u001b[39m\u001b[90m\u001b[4merror.jl:33\u001b[24m\u001b[39m\n",
      "  [2] \u001b[0m\u001b[1m#meta#122\u001b[22m\n",
      "\u001b[90m    @ \u001b[39m\u001b[90m~/.julia/packages/GeometryBasics/qasyR/src/\u001b[39m\u001b[90m\u001b[4mmetadata.jl:125\u001b[24m\u001b[39m\u001b[90m [inlined]\u001b[39m\n",
      "  [3] \u001b[0m\u001b[1mpointmeta\u001b[22m\u001b[0m\u001b[1m(\u001b[22m\u001b[90mmesh\u001b[39m::\u001b[0mGeometryBasics.Mesh\u001b[90m{2, Float32, GeometryBasics.Ngon{2, Float32, 3, GeometryBasics.Point{2, Float32}}, GeometryBasics.SimpleFaceView{2, Float32, 3, GeometryBasics.OffsetInteger{-1, UInt32}, GeometryBasics.Point{2, Float32}, GeometryBasics.NgonFace{3, GeometryBasics.OffsetInteger{-1, UInt32}}}}\u001b[39m; \u001b[90mmeta_data\u001b[39m::\u001b[0mBase.Pairs\u001b[90m{Symbol, Vector{Float32}, Tuple{Symbol}, NamedTuple{(:color,), Tuple{Vector{Float32}}}}\u001b[39m\u001b[0m\u001b[1m)\u001b[22m\n",
      "\u001b[90m    @ \u001b[39m\u001b[35mGeometryBasics\u001b[39m \u001b[90m~/.julia/packages/GeometryBasics/qasyR/src/\u001b[39m\u001b[90m\u001b[4mmeshes.jl:251\u001b[24m\u001b[39m\n",
      "  [4] \u001b[0m\u001b[1m(::GLMakie.var\"#147#152\")\u001b[22m\u001b[0m\u001b[1m(\u001b[22m\u001b[90mmesh\u001b[39m::\u001b[0mGeometryBasics.Mesh\u001b[90m{2, Float32, GeometryBasics.Ngon{2, Float32, 3, GeometryBasics.Point{2, Float32}}, GeometryBasics.SimpleFaceView{2, Float32, 3, GeometryBasics.OffsetInteger{-1, UInt32}, GeometryBasics.Point{2, Float32}, GeometryBasics.NgonFace{3, GeometryBasics.OffsetInteger{-1, UInt32}}}}\u001b[39m, \u001b[90mcolor\u001b[39m::\u001b[0mVector\u001b[90m{Float64}\u001b[39m\u001b[0m\u001b[1m)\u001b[22m\n",
      "\u001b[90m    @ \u001b[39m\u001b[36mGLMakie\u001b[39m \u001b[90m~/.julia/packages/GLMakie/lcQNS/src/\u001b[39m\u001b[90m\u001b[4mdrawing_primitives.jl:471\u001b[24m\u001b[39m\n",
      "  [5] \u001b[0m\u001b[1mlift\u001b[22m\u001b[0m\u001b[1m(\u001b[22m\u001b[90mf\u001b[39m::\u001b[0mFunction, \u001b[90mo1\u001b[39m::\u001b[0mObservable\u001b[90m{GeometryBasics.Mesh{2, Float32, GeometryBasics.Ngon{2, Float32, 3, GeometryBasics.Point{2, Float32}}, GeometryBasics.SimpleFaceView{2, Float32, 3, GeometryBasics.OffsetInteger{-1, UInt32}, GeometryBasics.Point{2, Float32}, GeometryBasics.NgonFace{3, GeometryBasics.OffsetInteger{-1, UInt32}}}}}\u001b[39m, \u001b[90mrest\u001b[39m::\u001b[0mObservable\u001b[90m{Vector{Float64}}\u001b[39m; \u001b[90mkw\u001b[39m::\u001b[0mBase.Pairs\u001b[90m{Symbol, Union{}, Tuple{}, NamedTuple{(), Tuple{}}}\u001b[39m\u001b[0m\u001b[1m)\u001b[22m\n",
      "\u001b[90m    @ \u001b[39m\u001b[32mMakie\u001b[39m \u001b[90m~/.julia/packages/Makie/NL7Xw/src/interaction/\u001b[39m\u001b[90m\u001b[4mnodes.jl:13\u001b[24m\u001b[39m\n",
      "  [6] \u001b[0m\u001b[1mlift\u001b[22m\u001b[0m\u001b[1m(\u001b[22m\u001b[90mf\u001b[39m::\u001b[0mFunction, \u001b[90mo1\u001b[39m::\u001b[0mObservable\u001b[90m{GeometryBasics.Mesh{2, Float32, GeometryBasics.Ngon{2, Float32, 3, GeometryBasics.Point{2, Float32}}, GeometryBasics.SimpleFaceView{2, Float32, 3, GeometryBasics.OffsetInteger{-1, UInt32}, GeometryBasics.Point{2, Float32}, GeometryBasics.NgonFace{3, GeometryBasics.OffsetInteger{-1, UInt32}}}}}\u001b[39m, \u001b[90mrest\u001b[39m::\u001b[0mObservable\u001b[90m{Vector{Float64}}\u001b[39m\u001b[0m\u001b[1m)\u001b[22m\n",
      "\u001b[90m    @ \u001b[39m\u001b[32mMakie\u001b[39m \u001b[90m~/.julia/packages/Makie/NL7Xw/src/interaction/\u001b[39m\u001b[90m\u001b[4mnodes.jl:10\u001b[24m\u001b[39m\n",
      "  [7] \u001b[0m\u001b[1m(::GLMakie.var\"#144#149\"{Mesh{Tuple{GeometryBasics.Mesh{2, Float32, GeometryBasics.Ngon{2, Float32, 3, GeometryBasics.Point{2, Float32}}, GeometryBasics.SimpleFaceView{2, Float32, 3, GeometryBasics.OffsetInteger{-1, UInt32}, GeometryBasics.Point{2, Float32}, GeometryBasics.NgonFace{3, GeometryBasics.OffsetInteger{-1, UInt32}}}}}}})\u001b[22m\u001b[0m\u001b[1m(\u001b[22m\u001b[90mgl_attributes\u001b[39m::\u001b[0mDict\u001b[90m{Symbol, Any}\u001b[39m\u001b[0m\u001b[1m)\u001b[22m\n",
      "\u001b[90m    @ \u001b[39m\u001b[36mGLMakie\u001b[39m \u001b[90m~/.julia/packages/GLMakie/lcQNS/src/\u001b[39m\u001b[90m\u001b[4mdrawing_primitives.jl:470\u001b[24m\u001b[39m\n",
      "  [8] \u001b[0m\u001b[1m(::GLMakie.var\"#76#82\"{GLMakie.var\"#144#149\"{Mesh{Tuple{GeometryBasics.Mesh{2, Float32, GeometryBasics.Ngon{2, Float32, 3, GeometryBasics.Point{2, Float32}}, GeometryBasics.SimpleFaceView{2, Float32, 3, GeometryBasics.OffsetInteger{-1, UInt32}, GeometryBasics.Point{2, Float32}, GeometryBasics.NgonFace{3, GeometryBasics.OffsetInteger{-1, UInt32}}}}}}}, GLMakie.Screen, Scene, Mesh{Tuple{GeometryBasics.Mesh{2, Float32, GeometryBasics.Ngon{2, Float32, 3, GeometryBasics.Point{2, Float32}}, GeometryBasics.SimpleFaceView{2, Float32, 3, GeometryBasics.OffsetInteger{-1, UInt32}, GeometryBasics.Point{2, Float32}, GeometryBasics.NgonFace{3, GeometryBasics.OffsetInteger{-1, UInt32}}}}}}})\u001b[22m\u001b[0m\u001b[1m(\u001b[22m\u001b[0m\u001b[1m)\u001b[22m\n",
      "\u001b[90m    @ \u001b[39m\u001b[36mGLMakie\u001b[39m \u001b[90m~/.julia/packages/GLMakie/lcQNS/src/\u001b[39m\u001b[90m\u001b[4mdrawing_primitives.jl:75\u001b[24m\u001b[39m\n",
      "  [9] \u001b[0m\u001b[1mget!\u001b[22m\u001b[0m\u001b[1m(\u001b[22m\u001b[90mdefault\u001b[39m::\u001b[0mGLMakie.var\"#76#82\"\u001b[90m{GLMakie.var\"#144#149\"{Mesh{Tuple{GeometryBasics.Mesh{2, Float32, GeometryBasics.Ngon{2, Float32, 3, GeometryBasics.Point{2, Float32}}, GeometryBasics.SimpleFaceView{2, Float32, 3, GeometryBasics.OffsetInteger{-1, UInt32}, GeometryBasics.Point{2, Float32}, GeometryBasics.NgonFace{3, GeometryBasics.OffsetInteger{-1, UInt32}}}}}}}, GLMakie.Screen, Scene, Mesh{Tuple{GeometryBasics.Mesh{2, Float32, GeometryBasics.Ngon{2, Float32, 3, GeometryBasics.Point{2, Float32}}, GeometryBasics.SimpleFaceView{2, Float32, 3, GeometryBasics.OffsetInteger{-1, UInt32}, GeometryBasics.Point{2, Float32}, GeometryBasics.NgonFace{3, GeometryBasics.OffsetInteger{-1, UInt32}}}}}}}\u001b[39m, \u001b[90mh\u001b[39m::\u001b[0mDict\u001b[90m{UInt64, GLMakie.GLAbstraction.RenderObject}\u001b[39m, \u001b[90mkey\u001b[39m::\u001b[0mUInt64\u001b[0m\u001b[1m)\u001b[22m\n",
      "\u001b[90m    @ \u001b[39m\u001b[90mBase\u001b[39m \u001b[90m./\u001b[39m\u001b[90m\u001b[4mdict.jl:464\u001b[24m\u001b[39m\n",
      " [10] \u001b[0m\u001b[1mcached_robj!\u001b[22m\u001b[0m\u001b[1m(\u001b[22m\u001b[90mrobj_func\u001b[39m::\u001b[0mGLMakie.var\"#144#149\"\u001b[90m{Mesh{Tuple{GeometryBasics.Mesh{2, Float32, GeometryBasics.Ngon{2, Float32, 3, GeometryBasics.Point{2, Float32}}, GeometryBasics.SimpleFaceView{2, Float32, 3, GeometryBasics.OffsetInteger{-1, UInt32}, GeometryBasics.Point{2, Float32}, GeometryBasics.NgonFace{3, GeometryBasics.OffsetInteger{-1, UInt32}}}}}}}\u001b[39m, \u001b[90mscreen\u001b[39m::\u001b[0mGLMakie.Screen, \u001b[90mscene\u001b[39m::\u001b[0mScene, \u001b[90mx\u001b[39m::\u001b[0mMesh\u001b[90m{Tuple{GeometryBasics.Mesh{2, Float32, GeometryBasics.Ngon{2, Float32, 3, GeometryBasics.Point{2, Float32}}, GeometryBasics.SimpleFaceView{2, Float32, 3, GeometryBasics.OffsetInteger{-1, UInt32}, GeometryBasics.Point{2, Float32}, GeometryBasics.NgonFace{3, GeometryBasics.OffsetInteger{-1, UInt32}}}}}}\u001b[39m\u001b[0m\u001b[1m)\u001b[22m\n",
      "\u001b[90m    @ \u001b[39m\u001b[36mGLMakie\u001b[39m \u001b[90m~/.julia/packages/GLMakie/lcQNS/src/\u001b[39m\u001b[90m\u001b[4mdrawing_primitives.jl:51\u001b[24m\u001b[39m\n",
      " [11] \u001b[0m\u001b[1mdraw_atomic\u001b[22m\n",
      "\u001b[90m    @ \u001b[39m\u001b[90m~/.julia/packages/GLMakie/lcQNS/src/\u001b[39m\u001b[90m\u001b[4mdrawing_primitives.jl:440\u001b[24m\u001b[39m\u001b[90m [inlined]\u001b[39m\n",
      " [12] \u001b[0m\u001b[1minsert!\u001b[22m\n",
      "\u001b[90m    @ \u001b[39m\u001b[90m~/.julia/packages/GLMakie/lcQNS/src/\u001b[39m\u001b[90m\u001b[4mdrawing_primitives.jl:176\u001b[24m\u001b[39m\u001b[90m [inlined]\u001b[39m\n",
      " [13] \u001b[0m\u001b[1m(::GLMakie.var\"#98#99\"{GLMakie.Screen, Scene})\u001b[22m\u001b[0m\u001b[1m(\u001b[22m\u001b[90mx\u001b[39m::\u001b[0mMesh\u001b[90m{Tuple{GeometryBasics.Mesh{2, Float32, GeometryBasics.Ngon{2, Float32, 3, GeometryBasics.Point{2, Float32}}, GeometryBasics.SimpleFaceView{2, Float32, 3, GeometryBasics.OffsetInteger{-1, UInt32}, GeometryBasics.Point{2, Float32}, GeometryBasics.NgonFace{3, GeometryBasics.OffsetInteger{-1, UInt32}}}}}}\u001b[39m\u001b[0m\u001b[1m)\u001b[22m\n",
      "\u001b[90m    @ \u001b[39m\u001b[36mGLMakie\u001b[39m \u001b[90m~/.julia/packages/GLMakie/lcQNS/src/\u001b[39m\u001b[90m\u001b[4mdrawing_primitives.jl:181\u001b[24m\u001b[39m\n",
      " [14] \u001b[0m\u001b[1mforeach\u001b[22m\u001b[0m\u001b[1m(\u001b[22m\u001b[90mf\u001b[39m::\u001b[0mGLMakie.var\"#98#99\"\u001b[90m{GLMakie.Screen, Scene}\u001b[39m, \u001b[90mitr\u001b[39m::\u001b[0mVector\u001b[90m{AbstractPlot}\u001b[39m\u001b[0m\u001b[1m)\u001b[22m\n",
      "\u001b[90m    @ \u001b[39m\u001b[90mBase\u001b[39m \u001b[90m./\u001b[39m\u001b[90m\u001b[4mabstractarray.jl:2694\u001b[24m\u001b[39m\n",
      " [15] \u001b[0m\u001b[1minsert!\u001b[22m\n",
      "\u001b[90m    @ \u001b[39m\u001b[90m~/.julia/packages/GLMakie/lcQNS/src/\u001b[39m\u001b[90m\u001b[4mdrawing_primitives.jl:178\u001b[24m\u001b[39m\u001b[90m [inlined]\u001b[39m\n",
      " [16] \u001b[0m\u001b[1m(::GLMakie.var\"#98#99\"{GLMakie.Screen, Scene})\u001b[22m\u001b[0m\u001b[1m(\u001b[22m\u001b[90mx\u001b[39m::\u001b[0mMesh\u001b[90m{Tuple{GridapMakie.PlotGrid{Gridap.Visualization.VisualizationGrid{2, 2}}}}\u001b[39m\u001b[0m\u001b[1m)\u001b[22m\n",
      "\u001b[90m    @ \u001b[39m\u001b[36mGLMakie\u001b[39m \u001b[90m~/.julia/packages/GLMakie/lcQNS/src/\u001b[39m\u001b[90m\u001b[4mdrawing_primitives.jl:181\u001b[24m\u001b[39m\n",
      " [17] \u001b[0m\u001b[1mforeach\u001b[22m\u001b[0m\u001b[1m(\u001b[22m\u001b[90mf\u001b[39m::\u001b[0mGLMakie.var\"#98#99\"\u001b[90m{GLMakie.Screen, Scene}\u001b[39m, \u001b[90mitr\u001b[39m::\u001b[0mVector\u001b[90m{AbstractPlot}\u001b[39m\u001b[0m\u001b[1m)\u001b[22m\n",
      "\u001b[90m    @ \u001b[39m\u001b[90mBase\u001b[39m \u001b[90m./\u001b[39m\u001b[90m\u001b[4mabstractarray.jl:2694\u001b[24m\u001b[39m\n",
      " [18] \u001b[0m\u001b[1minsert!\u001b[22m\u001b[0m\u001b[1m(\u001b[22m\u001b[90mscreen\u001b[39m::\u001b[0mGLMakie.Screen, \u001b[90mscene\u001b[39m::\u001b[0mScene, \u001b[90mx\u001b[39m::\u001b[0mCombined\u001b[0m\u001b[1m)\u001b[22m\n",
      "\u001b[90m    @ \u001b[39m\u001b[36mGLMakie\u001b[39m \u001b[90m~/.julia/packages/GLMakie/lcQNS/src/\u001b[39m\u001b[90m\u001b[4mdrawing_primitives.jl:178\u001b[24m\u001b[39m\n",
      " [19] \u001b[0m\u001b[1minsertplots!\u001b[22m\u001b[0m\u001b[1m(\u001b[22m\u001b[90mscreen\u001b[39m::\u001b[0mGLMakie.Screen, \u001b[90mscene\u001b[39m::\u001b[0mScene\u001b[0m\u001b[1m)\u001b[22m\n",
      "\u001b[90m    @ \u001b[39m\u001b[36mGLMakie\u001b[39m \u001b[90m~/.julia/packages/GLMakie/lcQNS/src/\u001b[39m\u001b[90m\u001b[4mscreen.jl:56\u001b[24m\u001b[39m\n",
      " [20] \u001b[0m\u001b[1m#34\u001b[22m\n",
      "\u001b[90m    @ \u001b[39m\u001b[90m~/.julia/packages/GLMakie/lcQNS/src/\u001b[39m\u001b[90m\u001b[4mscreen.jl:58\u001b[24m\u001b[39m\u001b[90m [inlined]\u001b[39m\n",
      " [21] \u001b[0m\u001b[1mforeach\u001b[22m\u001b[0m\u001b[1m(\u001b[22m\u001b[90mf\u001b[39m::\u001b[0mGLMakie.var\"#34#36\"\u001b[90m{GLMakie.Screen}\u001b[39m, \u001b[90mitr\u001b[39m::\u001b[0mVector\u001b[90m{Scene}\u001b[39m\u001b[0m\u001b[1m)\u001b[22m\n",
      "\u001b[90m    @ \u001b[39m\u001b[90mBase\u001b[39m \u001b[90m./\u001b[39m\u001b[90m\u001b[4mabstractarray.jl:2694\u001b[24m\u001b[39m\n",
      " [22] \u001b[0m\u001b[1minsertplots!\u001b[22m\u001b[0m\u001b[1m(\u001b[22m\u001b[90mscreen\u001b[39m::\u001b[0mGLMakie.Screen, \u001b[90mscene\u001b[39m::\u001b[0mScene\u001b[0m\u001b[1m)\u001b[22m\n",
      "\u001b[90m    @ \u001b[39m\u001b[36mGLMakie\u001b[39m \u001b[90m~/.julia/packages/GLMakie/lcQNS/src/\u001b[39m\u001b[90m\u001b[4mscreen.jl:58\u001b[24m\u001b[39m\n",
      " [23] \u001b[0m\u001b[1mbackend_display\u001b[22m\u001b[0m\u001b[1m(\u001b[22m\u001b[90mscreen\u001b[39m::\u001b[0mGLMakie.Screen, \u001b[90mscene\u001b[39m::\u001b[0mScene\u001b[0m\u001b[1m)\u001b[22m\n",
      "\u001b[90m    @ \u001b[39m\u001b[36mGLMakie\u001b[39m \u001b[90m~/.julia/packages/GLMakie/lcQNS/src/\u001b[39m\u001b[90m\u001b[4mdisplay.jl:18\u001b[24m\u001b[39m\n",
      " [24] \u001b[0m\u001b[1mbackend_display\u001b[22m\n",
      "\u001b[90m    @ \u001b[39m\u001b[90m~/.julia/packages/GLMakie/lcQNS/src/\u001b[39m\u001b[90m\u001b[4mdisplay.jl:4\u001b[24m\u001b[39m\u001b[90m [inlined]\u001b[39m\n",
      " [25] \u001b[0m\u001b[1mdisplay\u001b[22m\u001b[0m\u001b[1m(\u001b[22m\u001b[90mscene\u001b[39m::\u001b[0mScene; \u001b[90mupdate\u001b[39m::\u001b[0mBool\u001b[0m\u001b[1m)\u001b[22m\n",
      "\u001b[90m    @ \u001b[39m\u001b[32mMakie\u001b[39m \u001b[90m~/.julia/packages/Makie/NL7Xw/src/\u001b[39m\u001b[90m\u001b[4mdisplay.jl:60\u001b[24m\u001b[39m\n",
      " [26] \u001b[0m\u001b[1mdisplay\u001b[22m\n",
      "\u001b[90m    @ \u001b[39m\u001b[90m~/.julia/packages/Makie/NL7Xw/src/\u001b[39m\u001b[90m\u001b[4mdisplay.jl:56\u001b[24m\u001b[39m\u001b[90m [inlined]\u001b[39m\n",
      " [27] \u001b[0m\u001b[1m#display#903\u001b[22m\n",
      "\u001b[90m    @ \u001b[39m\u001b[90m~/.julia/packages/Makie/NL7Xw/src/\u001b[39m"
     ]
    }
   ],
   "source": [
    "fig, ax, plt = plot(Ω, uh)\n",
    "ax.aspect = AxisAspect(1)\n",
    "Colorbar(fig[2,1], plt, vertical=false)\n",
    "fig\n"
   ]
  },
  {
   "cell_type": "code",
   "execution_count": null,
   "id": "9d076467",
   "metadata": {},
   "outputs": [],
   "source": [
    "writevtk(Ω,\"images/delta\",cellfields=[\"ϕ\" => uh])\n",
    "writevtk(Ω,\"images/E_delta\",cellfields=[\"E\" => -∇(uh)])\n"
   ]
  },
  {
   "cell_type": "code",
   "execution_count": null,
   "id": "90ba6245",
   "metadata": {},
   "outputs": [],
   "source": [
    "\n",
    "\n"
   ]
  }
 ],
 "metadata": {
  "kernelspec": {
   "display_name": "Julia 1.7.2",
   "language": "julia",
   "name": "julia-1.7"
  },
  "language_info": {
   "file_extension": ".jl",
   "mimetype": "application/julia",
   "name": "julia",
   "version": "1.7.2"
  },
  "toc-autonumbering": false,
  "toc-showtags": false
 },
 "nbformat": 4,
 "nbformat_minor": 5
}
