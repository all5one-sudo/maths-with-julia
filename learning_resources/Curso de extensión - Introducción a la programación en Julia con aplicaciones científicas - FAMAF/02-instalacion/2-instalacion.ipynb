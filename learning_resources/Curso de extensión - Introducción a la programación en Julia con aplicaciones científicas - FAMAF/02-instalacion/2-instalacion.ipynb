{
 "cells": [
  {
   "cell_type": "markdown",
   "metadata": {},
   "source": [
    "# Instalando Julia\n",
    "\n",
    "En este notebook les mostraremos como instalar [Julia](https://julialang.org/) y [Jupyter](https://jupyter.org/) en Ubuntu Linux. \n",
    "\n",
    "Los usuarios de Windows puede seguir los siguientes tutoriales para [instalar Julia](https://datatofish.com/install-julia/) e [instalar Jupyter y agregar Julia al mismo](https://datatofish.com/add-julia-to-jupyter/).\n",
    "\n",
    "También recomendamos explorar la alternativa [Desktop de JupyterLab](https://github.com/jupyterlab/jupyterlab-desktop).\n",
    "\n",
    "Para instalar Julia:\n",
    "\n",
    "1. Bajamos la versión de Julia que requiere nuestro sistema operativo\n",
    "\n",
    "    https://julialang.org/downloads/\n",
    "    \n",
    "2. Lo descomprimimos en una carpeta y agregamos el ejecutable a la variable de entorno \n",
    "`PATH` editando el archivo `.bashrc` (o algo equivalente).\n",
    "\n",
    "    ...\n",
    "    \n",
    "3. Creamos un *proyecto* (project). Esto no es necesario pero es recomendable:\n",
    "\n",
    "        juan> cd Documents/\n",
    "\n",
    "        julia> using Pkg\n",
    "        ...\n",
    "\n",
    "        julia> Pkg.generate(\"curso-julia\")\n",
    "\n",
    "    * En Julia, las nociones de proyecto, *paquete* (package) y *entorno* (environments) son básicamente la misma cosa. \n",
    "    \n",
    "    * Un *proyecto* es una carpeta en donde guardamos archivos de código, configuración, testeo, datos, etc., que resulten necesarios para llevar adelante un proyecto de software.\n",
    "    \n",
    "    * Un *paquete* es un *proyecto* que se puede compartir con otros usuarios y que, en particular, declara como públicos cierta *interfase* (interface) de *modulos* (modules), funciones, variables de entorno, etc. para que los usuarios puedan importar y/o usar en sus propios proyectos.\n",
    "    \n",
    "    * Un *entorno* es un entorno replicable de configuraciones y *paquetes* preinstalados en donde se desarrolla un proyecto.\n",
    "\n",
    "        * [https://www.juliabloggers.com/my-practices-for-managing-project-dependencies-in-julia/](https://www.juliabloggers.com/my-practices-for-managing-project-dependencies-in-julia/)\n",
    "        \n",
    "\n",
    "4. Reiniciamos Julia activando el proyecto. Para ello, en Ubuntu, vamos hasta la carpeta raíz de nuestro proyecto e ingresamos\n",
    "\n",
    "        juan@pulpo:~/Documents/curso-julia> julia --project=.\n",
    "\n",
    "        julia> using Pkg\n",
    "\n",
    "        julia> Pkg.status()\n",
    "             Project notebooks v0.1.0\n",
    "              Status `~/Documents/curso-julia/Project.toml`\n",
    "          [7073ff75] IJulia v1.23.2\n",
    "          [91a5bcdd] Plots v1.25.9\n",
    "\n",
    "        julia>    \n",
    "\n",
    "5. Instalamos el package IJulia, que es la versión de Jupyter para Julia que se instala en Julia desde el administrador de paquetes de Julia.\n",
    "\n",
    "        julia> Pkg.add(\"IJulia\")\n",
    "        ...\n",
    "\n",
    "6. Activamos IJulia e iniciamos una sesion de Jupyter\n",
    "\n",
    "        julia> using IJulia\n",
    "        ...\n",
    "        \n",
    "        julia> notebook(dir=pwd())\n",
    "        ...\n",
    "        \n",
    "7. Instalamos el paquete Plots"
   ]
  },
  {
   "cell_type": "code",
   "execution_count": null,
   "metadata": {},
   "outputs": [],
   "source": [
    "Pkg.add(\"Plots\")"
   ]
  },
  {
   "cell_type": "markdown",
   "metadata": {},
   "source": [
    "8. Activamos Plots y realizamos un primer gráfico"
   ]
  },
  {
   "cell_type": "code",
   "execution_count": null,
   "metadata": {},
   "outputs": [],
   "source": [
    "using Plots\n",
    "\n",
    "plot(1:10, x->x*x)"
   ]
  }
 ],
 "metadata": {
  "@webio": {
   "lastCommId": null,
   "lastKernelId": null
  },
  "kernelspec": {
   "display_name": "Julia 1.6.1",
   "language": "julia",
   "name": "julia-1.6"
  },
  "language_info": {
   "file_extension": ".jl",
   "mimetype": "application/julia",
   "name": "julia",
   "version": "1.6.1"
  }
 },
 "nbformat": 4,
 "nbformat_minor": 2
}
