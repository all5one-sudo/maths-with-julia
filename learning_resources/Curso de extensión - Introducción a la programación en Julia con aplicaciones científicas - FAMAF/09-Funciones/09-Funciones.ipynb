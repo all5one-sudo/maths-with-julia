{
 "cells": [
  {
   "cell_type": "markdown",
   "metadata": {},
   "source": [
    "# **Funciones**\n",
    "\n",
    "Este notebook está basado en el curso de [_Julia Academy_](https://github.com/JuliaAcademy/Introduction-to-Julia).\n",
    "\n",
    "Temas:\n",
    "1. Como declarar una función en Julia\n",
    "2. \"Duck-typing\" en Julia\n",
    "3. Funciones mutantes vs no mutantes en Julia\n",
    "4. Algunas funciones de mayor orden"
   ]
  },
  {
   "cell_type": "markdown",
   "metadata": {},
   "source": [
    "Una función es un bloque de código que podemos llamar para ser ejecutado en nuestro programa y ejecutar una tarea específica. Un ejemplo que hemos utilizado ya por ejemplo es la función `print`, que imprime en pantalla los argumentos que le demos. Aprenderemos ahora a escribir nuestras propias funciones y algunas características útiles que tienen en `Julia`."
   ]
  },
  {
   "cell_type": "markdown",
   "metadata": {},
   "source": [
    "## **Como declarar una función en Julia**\n",
    "Julia tiene varias formas de declarar funciones. La primera es utilizando las palabras clave `function` y `end`."
   ]
  },
  {
   "cell_type": "code",
   "execution_count": 1,
   "metadata": {},
   "outputs": [
    {
     "data": {
      "text/plain": [
       "saludo (generic function with 1 method)"
      ]
     },
     "execution_count": 1,
     "metadata": {},
     "output_type": "execute_result"
    }
   ],
   "source": [
    "function saludo(nombre)\n",
    "    println(\"Hola $nombre, ¡qué bueno verte!\")\n",
    "end"
   ]
  },
  {
   "cell_type": "markdown",
   "metadata": {},
   "source": [
    "`saludo` toma un argumento `nombre`, y llama a la función `print` para escribir un saludo."
   ]
  },
  {
   "cell_type": "code",
   "execution_count": 2,
   "metadata": {},
   "outputs": [
    {
     "data": {
      "text/plain": [
       "f (generic function with 1 method)"
      ]
     },
     "execution_count": 2,
     "metadata": {},
     "output_type": "execute_result"
    }
   ],
   "source": [
    "function f(x)\n",
    "    x^2\n",
    "end\n",
    "#Nota: podríamos haber escrito return x^2, y también habría funcionado\n",
    "#Las funciones de Julia retornan el resultado de la última operación que\n",
    "#hicieron."
   ]
  },
  {
   "cell_type": "markdown",
   "metadata": {},
   "source": [
    "`f` toma un argumento `x`, y devuelve el resultado de la operación `x^2`."
   ]
  },
  {
   "cell_type": "markdown",
   "metadata": {},
   "source": [
    "Podemos llamar a estas funciones de la siguiente manera:"
   ]
  },
  {
   "cell_type": "code",
   "execution_count": 3,
   "metadata": {},
   "outputs": [
    {
     "name": "stdout",
     "output_type": "stream",
     "text": [
      "Hola Mario, ¡qué bueno verte!\n"
     ]
    }
   ],
   "source": [
    "saludo(\"Mario\")"
   ]
  },
  {
   "cell_type": "code",
   "execution_count": 4,
   "metadata": {},
   "outputs": [
    {
     "data": {
      "text/plain": [
       "2401"
      ]
     },
     "execution_count": 4,
     "metadata": {},
     "output_type": "execute_result"
    }
   ],
   "source": [
    "f(49)"
   ]
  },
  {
   "cell_type": "markdown",
   "metadata": {},
   "source": [
    "También podemos definir funciones en una sola línea si es que son suficientemente cortas."
   ]
  },
  {
   "cell_type": "code",
   "execution_count": 5,
   "metadata": {},
   "outputs": [
    {
     "data": {
      "text/plain": [
       "salu2 (generic function with 1 method)"
      ]
     },
     "execution_count": 5,
     "metadata": {},
     "output_type": "execute_result"
    }
   ],
   "source": [
    "salu2(nombre) = println(\"Hola $nombre, ¡qué bueno verte!\")"
   ]
  },
  {
   "cell_type": "code",
   "execution_count": 6,
   "metadata": {},
   "outputs": [
    {
     "data": {
      "text/plain": [
       "f2 (generic function with 1 method)"
      ]
     },
     "execution_count": 6,
     "metadata": {},
     "output_type": "execute_result"
    }
   ],
   "source": [
    "f2(x) = x^2"
   ]
  },
  {
   "cell_type": "markdown",
   "metadata": {},
   "source": [
    "Tanto `salu2` como `f2` son idénticas a `saludo` y `f`. Sólo las hemos definido de una forma más compacta."
   ]
  },
  {
   "cell_type": "code",
   "execution_count": 7,
   "metadata": {},
   "outputs": [
    {
     "name": "stdout",
     "output_type": "stream",
     "text": [
      "Hola María, ¡qué bueno verte!\n"
     ]
    }
   ],
   "source": [
    "salu2(\"María\")"
   ]
  },
  {
   "cell_type": "code",
   "execution_count": 8,
   "metadata": {},
   "outputs": [
    {
     "data": {
      "text/plain": [
       "1764"
      ]
     },
     "execution_count": 8,
     "metadata": {},
     "output_type": "execute_result"
    }
   ],
   "source": [
    "f2(42)"
   ]
  },
  {
   "cell_type": "markdown",
   "metadata": {},
   "source": [
    "Finalmente, podríamos haberlas declarado como funciones \"anónimas\""
   ]
  },
  {
   "cell_type": "code",
   "execution_count": 9,
   "metadata": {},
   "outputs": [
    {
     "data": {
      "text/plain": [
       "#1 (generic function with 1 method)"
      ]
     },
     "execution_count": 9,
     "metadata": {},
     "output_type": "execute_result"
    }
   ],
   "source": [
    "saludo3 = nombre -> println(\"Hola $nombre, ¡qué bueno verte!\")"
   ]
  },
  {
   "cell_type": "code",
   "execution_count": 10,
   "metadata": {},
   "outputs": [
    {
     "data": {
      "text/plain": [
       "#3 (generic function with 1 method)"
      ]
     },
     "execution_count": 10,
     "metadata": {},
     "output_type": "execute_result"
    }
   ],
   "source": [
    "f3 = x -> x^2"
   ]
  },
  {
   "cell_type": "code",
   "execution_count": 11,
   "metadata": {},
   "outputs": [
    {
     "name": "stdout",
     "output_type": "stream",
     "text": [
      "Hola René, ¡qué bueno verte!\n"
     ]
    }
   ],
   "source": [
    "saludo3(\"René\")"
   ]
  },
  {
   "cell_type": "code",
   "execution_count": 12,
   "metadata": {},
   "outputs": [
    {
     "data": {
      "text/plain": [
       "1764"
      ]
     },
     "execution_count": 12,
     "metadata": {},
     "output_type": "execute_result"
    }
   ],
   "source": [
    "f3(42)"
   ]
  },
  {
   "cell_type": "markdown",
   "metadata": {},
   "source": [
    "El uso principal de las funciones anónimas es para dárselas a otras funciones que tomen funciones como argumento, y veremos ejemplos más adelante. Por el momento no se preocupe mucho por ellas."
   ]
  },
  {
   "cell_type": "markdown",
   "metadata": {},
   "source": [
    "Para definir funciones que acepten más argumentos, simplemente debemos escribir los argumentos en el orden que serán aceptados."
   ]
  },
  {
   "cell_type": "code",
   "execution_count": 13,
   "metadata": {},
   "outputs": [
    {
     "name": "stdout",
     "output_type": "stream",
     "text": [
      "ajk\n",
      "8\n"
     ]
    }
   ],
   "source": [
    "function maximo(x,y)\n",
    "    return x > y ? x : y\n",
    "    #===============================================================================\n",
    "    Nota: aquí hemos utilizado un operador ternario. Esto es equivalente a haber\n",
    "    escrito\n",
    "    \n",
    "    if x > y\n",
    "        return x\n",
    "    else\n",
    "        return y\n",
    "    end\n",
    "    ================================================================================#\n",
    "end\n",
    "println(maximo(\"abc\",\"ajk\"))\n",
    "println(maximo(2, 8))"
   ]
  },
  {
   "cell_type": "markdown",
   "metadata": {},
   "source": [
    "## **Duck-typing in Julia**\n",
    "*\"Si hace cuak como un pato, es un pato.\"* <br><br>\n",
    "Las funciones de Julia van a funcionar siempre que las operaciones estén bien definidas para sus argumentos. <br><br>\n",
    "Por ejemplo, la función `saludo` que definimos anteriormente funciona si el argumento es un número"
   ]
  },
  {
   "cell_type": "code",
   "execution_count": 14,
   "metadata": {},
   "outputs": [
    {
     "name": "stdout",
     "output_type": "stream",
     "text": [
      "Hola 3.14, ¡qué bueno verte!\n"
     ]
    }
   ],
   "source": [
    "saludo(3.14)"
   ]
  },
  {
   "cell_type": "markdown",
   "metadata": {},
   "source": [
    "Y `f` funcionará en una matriz. "
   ]
  },
  {
   "cell_type": "code",
   "execution_count": 15,
   "metadata": {},
   "outputs": [
    {
     "data": {
      "text/plain": [
       "3×3 Matrix{Float64}:\n",
       " 0.63243   0.8037    0.796123\n",
       " 0.909436  0.252811  0.648774\n",
       " 0.732501  0.500518  0.684106"
      ]
     },
     "execution_count": 15,
     "metadata": {},
     "output_type": "execute_result"
    }
   ],
   "source": [
    "A = rand(3, 3) #Esta línea crea una matriz de 3x3 con elementos aleatorios entre 0 y 1\n",
    "A"
   ]
  },
  {
   "cell_type": "code",
   "execution_count": 16,
   "metadata": {},
   "outputs": [
    {
     "data": {
      "text/plain": [
       "3×3 Matrix{Float64}:\n",
       " 1.71404  1.10994  1.56954\n",
       " 1.2803   1.11955  1.33187\n",
       " 1.41955  1.05765  1.37588"
      ]
     },
     "execution_count": 16,
     "metadata": {},
     "output_type": "execute_result"
    }
   ],
   "source": [
    "f(A)  #f(A) = A^2 = A*A. Notar que la operación que realizó Julia fue la multiplicación\n",
    "      #de matrices, no la multiplicación elemento por elemento."
   ]
  },
  {
   "cell_type": "markdown",
   "metadata": {},
   "source": [
    "`f` también va a funcionar con un `string`, ya que `^` es el operador utilizado para repetir strings."
   ]
  },
  {
   "cell_type": "code",
   "execution_count": 17,
   "metadata": {},
   "outputs": [
    {
     "data": {
      "text/plain": [
       "\"holahola\""
      ]
     },
     "execution_count": 17,
     "metadata": {},
     "output_type": "execute_result"
    }
   ],
   "source": [
    "f(\"hola\")  #\"hola\"^2 = \"hola\"*\"hola\" = \"holahola\""
   ]
  },
  {
   "cell_type": "markdown",
   "metadata": {},
   "source": [
    "Sin embargo, `f` no va a funcionar en un vector. Esto es porque no podemos multiplicar vectores columna por vectores columna."
   ]
  },
  {
   "cell_type": "code",
   "execution_count": 18,
   "metadata": {},
   "outputs": [
    {
     "data": {
      "text/plain": [
       "3-element Vector{Float64}:\n",
       " 0.7158892670845735\n",
       " 0.06611679545610871\n",
       " 0.07426176035274323"
      ]
     },
     "execution_count": 18,
     "metadata": {},
     "output_type": "execute_result"
    }
   ],
   "source": [
    "v = rand(3)"
   ]
  },
  {
   "cell_type": "code",
   "execution_count": 19,
   "metadata": {},
   "outputs": [
    {
     "ename": "LoadError",
     "evalue": "MethodError: no method matching ^(::Vector{Float64}, ::Int64)\n\u001b[0mClosest candidates are:\n\u001b[0m  ^(\u001b[91m::Union{AbstractChar, AbstractString}\u001b[39m, ::Integer) at ~/soft/julia-1.7.2/share/julia/base/strings/basic.jl:721\n\u001b[0m  ^(\u001b[91m::Rational\u001b[39m, ::Integer) at ~/soft/julia-1.7.2/share/julia/base/rational.jl:475\n\u001b[0m  ^(\u001b[91m::LinearAlgebra.Diagonal\u001b[39m, ::Integer) at ~/soft/julia-1.7.2/share/julia/stdlib/v1.7/LinearAlgebra/src/diagonal.jl:196\n\u001b[0m  ...",
     "output_type": "error",
     "traceback": [
      "MethodError: no method matching ^(::Vector{Float64}, ::Int64)\n\u001b[0mClosest candidates are:\n\u001b[0m  ^(\u001b[91m::Union{AbstractChar, AbstractString}\u001b[39m, ::Integer) at ~/soft/julia-1.7.2/share/julia/base/strings/basic.jl:721\n\u001b[0m  ^(\u001b[91m::Rational\u001b[39m, ::Integer) at ~/soft/julia-1.7.2/share/julia/base/rational.jl:475\n\u001b[0m  ^(\u001b[91m::LinearAlgebra.Diagonal\u001b[39m, ::Integer) at ~/soft/julia-1.7.2/share/julia/stdlib/v1.7/LinearAlgebra/src/diagonal.jl:196\n\u001b[0m  ...",
      "",
      "Stacktrace:",
      " [1] literal_pow",
      "   @ ./intfuncs.jl:325 [inlined]",
      " [2] f(x::Vector{Float64})",
      "   @ Main ./In[2]:2",
      " [3] top-level scope",
      "   @ In[19]:2",
      " [4] eval",
      "   @ ./boot.jl:373 [inlined]",
      " [5] include_string(mapexpr::typeof(REPL.softscope), mod::Module, code::String, filename::String)",
      "   @ Base ./loading.jl:1196"
     ]
    }
   ],
   "source": [
    "# Esta línea dará error, ya que v es un vector columna, y v*v no está bien definido.\n",
    "f(v)"
   ]
  },
  {
   "cell_type": "markdown",
   "metadata": {},
   "source": [
    "## **Funciones mutantes vs. no-mutantes**\n",
    "\n",
    "A esta altura puede que haya notado que algunas funciones en los tutoriales anteriores tienen un signo `!`. Por convención, las funciones que terminan en un signo `!` pueden alterar el contenido de sus argumentos, y las que no lo tienen no.\n",
    "\n",
    "Por ejemplo, miremos la diferencia entre las funciones de ordenamiento `sort` y `sort!`"
   ]
  },
  {
   "cell_type": "code",
   "execution_count": 23,
   "metadata": {},
   "outputs": [
    {
     "data": {
      "text/plain": [
       "3-element Vector{Int64}:\n",
       " 3\n",
       " 5\n",
       " 2"
      ]
     },
     "execution_count": 23,
     "metadata": {},
     "output_type": "execute_result"
    }
   ],
   "source": [
    "v = [3, 5, 2] #Creamos un vector v"
   ]
  },
  {
   "cell_type": "code",
   "execution_count": 24,
   "metadata": {},
   "outputs": [
    {
     "data": {
      "text/plain": [
       "3-element Vector{Int64}:\n",
       " 2\n",
       " 3\n",
       " 5"
      ]
     },
     "execution_count": 24,
     "metadata": {},
     "output_type": "execute_result"
    }
   ],
   "source": [
    "sort(v)      #Vemos qué retorna la función sort(v)"
   ]
  },
  {
   "cell_type": "code",
   "execution_count": 25,
   "metadata": {},
   "outputs": [
    {
     "data": {
      "text/plain": [
       "3-element Vector{Int64}:\n",
       " 3\n",
       " 5\n",
       " 2"
      ]
     },
     "execution_count": 25,
     "metadata": {},
     "output_type": "execute_result"
    }
   ],
   "source": [
    "v            #Comprobamos que v no fue modificado"
   ]
  },
  {
   "cell_type": "markdown",
   "metadata": {},
   "source": [
    "`sort(v)` retorna un arreglo ordenado de los elementos de `v`, pero `v` no cambia. <br><br>\n",
    "\n",
    "Por otro lado, si usamos `sort!(v)`, los contenidos de `v` son ordenados dentro del mismo arreglo."
   ]
  },
  {
   "cell_type": "code",
   "execution_count": 26,
   "metadata": {},
   "outputs": [
    {
     "data": {
      "text/plain": [
       "3-element Vector{Int64}:\n",
       " 2\n",
       " 3\n",
       " 5"
      ]
     },
     "execution_count": 26,
     "metadata": {},
     "output_type": "execute_result"
    }
   ],
   "source": [
    "sort!(v)    #Vemos qué retorna la función sort!(v)"
   ]
  },
  {
   "cell_type": "code",
   "execution_count": 27,
   "metadata": {},
   "outputs": [
    {
     "data": {
      "text/plain": [
       "3-element Vector{Int64}:\n",
       " 2\n",
       " 3\n",
       " 5"
      ]
     },
     "execution_count": 27,
     "metadata": {},
     "output_type": "execute_result"
    }
   ],
   "source": [
    "v"
   ]
  },
  {
   "cell_type": "markdown",
   "metadata": {},
   "source": [
    "**Importante**\n",
    "Es una buena práctica usar esta convención al definir funciones, de manera de saber rápido si la función que está utilizando corre el riesgo de modificar vectores que ha definido. "
   ]
  },
  {
   "cell_type": "markdown",
   "metadata": {},
   "source": [
    "## **Comportamiento de las funciones ante arreglos y diccionarios** ###\n",
    "\n",
    "Veamos qué sucede si intentamos modificar una variable dentro de una función:"
   ]
  },
  {
   "cell_type": "code",
   "execution_count": 29,
   "metadata": {},
   "outputs": [
    {
     "name": "stdout",
     "output_type": "stream",
     "text": [
      "a = 2, b = 4\n"
     ]
    }
   ],
   "source": [
    "function duplicar(x)\n",
    "    x = 2*x\n",
    "end\n",
    "a = 2\n",
    "b = duplicar(a)\n",
    "println(\"a = $a, b = $b\")"
   ]
  },
  {
   "cell_type": "markdown",
   "metadata": {},
   "source": [
    "Notamos que `a` no fue modificada por la función `duplicar`, pese a que internamente realizamos la operación `x = 2*x`. Esto es porque `duplicar` utilizó internamente una copia de `a`, y por lo tanto no modificó la variable original."
   ]
  },
  {
   "cell_type": "markdown",
   "metadata": {},
   "source": [
    "Por el contrario, cuando una función recibe como argumento una estructura de datos mutable, puede modificarla. Por ejemplo, la siguiente función duplica los elementos de un arreglo:"
   ]
  },
  {
   "cell_type": "code",
   "execution_count": 31,
   "metadata": {},
   "outputs": [
    {
     "data": {
      "text/plain": [
       "duplicar! (generic function with 1 method)"
      ]
     },
     "execution_count": 31,
     "metadata": {},
     "output_type": "execute_result"
    }
   ],
   "source": [
    "function duplicar!(arreglo)\n",
    "    for i in 1:size(arreglo,1) #El \"1\" indica que nos interesa el tamaño en la primer dimensión del arreglo\n",
    "        arreglo[i] *= 2\n",
    "        #=======================================================================\n",
    "        arreglo[i] *= 2 es una forma compacta de escribir\n",
    "        arreglo[i] = arreglo[i]*2\n",
    "        Esta notación también funciona para otras operaciones como +, - y /\n",
    "        =======================================================================#\n",
    "    end\n",
    "    return arreglo #Esta línea no es necesaria, solo la agregamos para que\n",
    "                   #la función retorne algo\n",
    "end"
   ]
  },
  {
   "cell_type": "code",
   "execution_count": 32,
   "metadata": {},
   "outputs": [
    {
     "data": {
      "text/plain": [
       "3-element Vector{Int64}:\n",
       " 2\n",
       " 4\n",
       " 6"
      ]
     },
     "execution_count": 32,
     "metadata": {},
     "output_type": "execute_result"
    }
   ],
   "source": [
    "duplicar!([1,2,3])"
   ]
  },
  {
   "cell_type": "code",
   "execution_count": 40,
   "metadata": {},
   "outputs": [
    {
     "data": {
      "text/plain": [
       "3-element Vector{Int64}:\n",
       " 56\n",
       "  4\n",
       "  6"
      ]
     },
     "execution_count": 40,
     "metadata": {},
     "output_type": "execute_result"
    }
   ],
   "source": [
    "w = copy(v)"
   ]
  },
  {
   "cell_type": "code",
   "execution_count": 41,
   "metadata": {},
   "outputs": [
    {
     "data": {
      "text/plain": [
       "3-element Vector{Int64}:\n",
       " 56\n",
       "  4\n",
       "  6"
      ]
     },
     "execution_count": 41,
     "metadata": {},
     "output_type": "execute_result"
    }
   ],
   "source": [
    "w[1] = 89\n",
    "v"
   ]
  },
  {
   "cell_type": "code",
   "execution_count": 37,
   "metadata": {},
   "outputs": [
    {
     "name": "stdout",
     "output_type": "stream",
     "text": [
      "[2, 4, 6]"
     ]
    }
   ],
   "source": [
    "v = [1,2,3]\n",
    "duplicar!(v)\n",
    "print(v)"
   ]
  },
  {
   "cell_type": "markdown",
   "metadata": {},
   "source": [
    "Como somos buenas personas y no queremos confundir a nadie, agregamos un signo `!`, avisando que nuestra función modificará el argumento de entrada que le demos.\n",
    "Si no tiene nada mejor que hacer en este momento, pruebe crear una función `duplicar` que retorne el un arreglo multiplicado por 2 sin modificarlo."
   ]
  },
  {
   "cell_type": "markdown",
   "metadata": {},
   "source": [
    "También podemos modificar elementos de un diccionario. Por ejemplo, la siguiente función agrega una entrada a un diccionario:"
   ]
  },
  {
   "cell_type": "code",
   "execution_count": 35,
   "metadata": {},
   "outputs": [
    {
     "data": {
      "text/plain": [
       "Dict{String, Int64} with 3 entries:\n",
       "  \"Sofía\"   => 5559812\n",
       "  \"Juan\"    => 5551234\n",
       "  \"Martina\" => 5558954"
      ]
     },
     "execution_count": 35,
     "metadata": {},
     "output_type": "execute_result"
    }
   ],
   "source": [
    "function agregar_numero!(diccionario, contacto, numero)\n",
    "    diccionario[contacto] = numero #agregamos un contacto a un diccionario\n",
    "end\n",
    "agenda = Dict(\"Juan\" => 5551234, \"Martina\" => 5558954)\n",
    "agregar_numero!(agenda, \"Sofía\", 5559812)\n",
    "agenda"
   ]
  },
  {
   "cell_type": "markdown",
   "metadata": {},
   "source": [
    "Esto es muy útil, ya que Julia no necesita crear copias de los arreglos para trabajar dentro de las funciones, pero es también importante tenerlo en cuenta para no cometer errores y modificar un arreglo cuando no queremos hacerlo."
   ]
  },
  {
   "cell_type": "markdown",
   "metadata": {},
   "source": [
    "## **Algunas funciones de mayor orden**\n",
    "\n",
    "### `map`\n",
    "\n",
    "`map` es una función de \"mayor orden\" de Julia que *toma una función* como uno de sus argumentos. `map` luego aplica esa función a todos los elementos de una estructura de datos que le pasemos.\n",
    "Por ejemplo, ejecutar\n",
    "\n",
    "```julia\n",
    "map(f, [1, 2, 3])\n",
    "```\n",
    "retornará un arreglo donde `f` fue aplicada a todos los elementos de `[1, 2, 3]`\n",
    "```julia\n",
    "[f(1), f(2), f(3)]\n",
    "```"
   ]
  },
  {
   "cell_type": "code",
   "execution_count": 42,
   "metadata": {},
   "outputs": [
    {
     "data": {
      "text/plain": [
       "3-element Vector{Int64}:\n",
       " 1\n",
       " 4\n",
       " 9"
      ]
     },
     "execution_count": 42,
     "metadata": {},
     "output_type": "execute_result"
    }
   ],
   "source": [
    "map(f, [1, 2, 3])   #Recordemos que más arriba definimos f(x) = x^2"
   ]
  },
  {
   "cell_type": "markdown",
   "metadata": {},
   "source": [
    "Es decir, elevamos al cuadrado cada elemento de `[1, 2, 3]`.\n",
    "\n",
    "También podríamos haberle dado a `map` una función anónima,"
   ]
  },
  {
   "cell_type": "code",
   "execution_count": 43,
   "metadata": {},
   "outputs": [
    {
     "data": {
      "text/plain": [
       "3-element Vector{Int64}:\n",
       "  1\n",
       "  8\n",
       " 27"
      ]
     },
     "execution_count": 43,
     "metadata": {},
     "output_type": "execute_result"
    }
   ],
   "source": [
    "map(x -> x^3, [1, 2, 3]) #x -> x^3 es una función anónima, es decir, no tiene nombre.\n",
    "                         #La definimos únicamente para pasarla como argumento a la\n",
    "                         #función map"
   ]
  },
  {
   "cell_type": "markdown",
   "metadata": {},
   "source": [
    "y ahora hemos elevado al cubo los elementos de `[1, 2, 3]`"
   ]
  },
  {
   "cell_type": "markdown",
   "metadata": {},
   "source": [
    "### `broadcast`\n",
    "\n",
    "`broadcast` es otra función de mayor orden como `map`. `broadcast` es una generaliación de `map`, por lo que puede hacer lo mismo que `map` y mucho más. La sintaxis básica de `broadcast` es la misma que para `map`"
   ]
  },
  {
   "cell_type": "code",
   "execution_count": 44,
   "metadata": {},
   "outputs": [
    {
     "data": {
      "text/plain": [
       "3-element Vector{Int64}:\n",
       " 1\n",
       " 4\n",
       " 9"
      ]
     },
     "execution_count": 44,
     "metadata": {},
     "output_type": "execute_result"
    }
   ],
   "source": [
    "broadcast(f, [1, 2, 3])"
   ]
  },
  {
   "cell_type": "markdown",
   "metadata": {},
   "source": [
    "Y nuevamente aplicamos `f` a todos los elementos de `[1, 2, 3]`"
   ]
  },
  {
   "cell_type": "markdown",
   "metadata": {},
   "source": [
    "`broadcast` se diferencia de `map` en cómo se comporta ante multiples argumentos de distintas dimensiones. `broadcast` intentará encontrar una dimensión en común y `map` no. Por ejemplo, notar la diferencia entre estas dos líneas:"
   ]
  },
  {
   "cell_type": "code",
   "execution_count": 45,
   "metadata": {},
   "outputs": [
    {
     "data": {
      "text/plain": [
       "1-element Vector{Int64}:\n",
       " 2"
      ]
     },
     "execution_count": 45,
     "metadata": {},
     "output_type": "execute_result"
    }
   ],
   "source": [
    "map(+, 1, [1,2,3]) #Nota: Los operadores de Julia son funciones. \n",
    "                   #      Escribir +(a,b) es lo mismo que escribir a+b."
   ]
  },
  {
   "cell_type": "code",
   "execution_count": 46,
   "metadata": {},
   "outputs": [
    {
     "data": {
      "text/plain": [
       "3-element Vector{Int64}:\n",
       " 2\n",
       " 3\n",
       " 4"
      ]
     },
     "execution_count": 46,
     "metadata": {},
     "output_type": "execute_result"
    }
   ],
   "source": [
    "broadcast(+,1,[1,2,3])"
   ]
  },
  {
   "cell_type": "markdown",
   "metadata": {},
   "source": [
    "Una abreviatura muy útil de `broadcast` es colocar `.` entre una función a la que quiera hacer `broadcast` y sus argumentos. Por ejemplo,\n",
    "\n",
    "```julia\n",
    "broadcast(f, [1, 2, 3])\n",
    "```\n",
    "es equivalente a\n",
    "```julia\n",
    "f.([1, 2, 3])\n",
    "```"
   ]
  },
  {
   "cell_type": "code",
   "execution_count": 47,
   "metadata": {},
   "outputs": [
    {
     "data": {
      "text/plain": [
       "3-element Vector{Int64}:\n",
       " 1\n",
       " 4\n",
       " 9"
      ]
     },
     "execution_count": 47,
     "metadata": {},
     "output_type": "execute_result"
    }
   ],
   "source": [
    "f.([1, 2, 3])"
   ]
  },
  {
   "cell_type": "markdown",
   "metadata": {},
   "source": [
    "Note nuevamente como esto es distinto a llamar\n",
    "```julia\n",
    "f([1, 2, 3])\n",
    "```\n",
    "Podemos elevar al cuadrado cada elemento del vector, ¡pero esto no es lo mismo que elevar al cuadrado el vector, ya que esto no está definido!"
   ]
  },
  {
   "cell_type": "markdown",
   "metadata": {},
   "source": [
    "Para mostrar más claramente la diferencia, considere\n",
    "\n",
    "```julia\n",
    "f(A)\n",
    "```\n",
    "y\n",
    "```julia\n",
    "f.(A)\n",
    "```\n",
    "para una matriz `A`:"
   ]
  },
  {
   "cell_type": "code",
   "execution_count": 48,
   "metadata": {},
   "outputs": [
    {
     "data": {
      "text/plain": [
       "3×3 Matrix{Int64}:\n",
       " 1  2  3\n",
       " 4  5  6\n",
       " 7  8  9"
      ]
     },
     "execution_count": 48,
     "metadata": {},
     "output_type": "execute_result"
    }
   ],
   "source": [
    "A = [i + 3*j for j in 0:2, i in 1:3]"
   ]
  },
  {
   "cell_type": "code",
   "execution_count": 49,
   "metadata": {},
   "outputs": [
    {
     "data": {
      "text/plain": [
       "3×3 Matrix{Int64}:\n",
       "  30   36   42\n",
       "  66   81   96\n",
       " 102  126  150"
      ]
     },
     "execution_count": 49,
     "metadata": {},
     "output_type": "execute_result"
    }
   ],
   "source": [
    "f(A)"
   ]
  },
  {
   "cell_type": "markdown",
   "metadata": {},
   "source": [
    "En este caso estamos haciendo\n",
    "```\n",
    "f(A) = A^2 = A * A\n",
    "``` \n",
    "\n",
    "Por otro lado,"
   ]
  },
  {
   "cell_type": "code",
   "execution_count": 51,
   "metadata": {},
   "outputs": [
    {
     "data": {
      "text/plain": [
       "3×3 Matrix{Int64}:\n",
       "  1   4   9\n",
       " 16  25  36\n",
       " 49  64  81"
      ]
     },
     "execution_count": 51,
     "metadata": {},
     "output_type": "execute_result"
    }
   ],
   "source": [
    "B = f.(A)"
   ]
  },
  {
   "cell_type": "markdown",
   "metadata": {},
   "source": [
    "contiene los cuadrados de cada una de las entradas individuales de `A`.\n",
    "\n",
    "Esta sintaxis nos permite escribir expresiones complejas de una forma mucho más natural"
   ]
  },
  {
   "cell_type": "code",
   "execution_count": 52,
   "metadata": {},
   "outputs": [
    {
     "data": {
      "text/plain": [
       "3×3 Matrix{Float64}:\n",
       "  3.0   6.0   9.0\n",
       " 12.0  15.0  18.0\n",
       " 21.0  24.0  27.0"
      ]
     },
     "execution_count": 52,
     "metadata": {},
     "output_type": "execute_result"
    }
   ],
   "source": [
    "A .+ 2 .* f.(A) ./ A"
   ]
  },
  {
   "cell_type": "markdown",
   "metadata": {},
   "source": [
    "en lugar de"
   ]
  },
  {
   "cell_type": "code",
   "execution_count": 53,
   "metadata": {},
   "outputs": [
    {
     "data": {
      "text/plain": [
       "3×3 Matrix{Float64}:\n",
       "  3.0   6.0   9.0\n",
       " 12.0  15.0  18.0\n",
       " 21.0  24.0  27.0"
      ]
     },
     "execution_count": 53,
     "metadata": {},
     "output_type": "execute_result"
    }
   ],
   "source": [
    "broadcast(x -> x + 2 * f(x) / x, A)"
   ]
  },
  {
   "cell_type": "markdown",
   "metadata": {},
   "source": [
    "y ambas expresiones van a tener la misma performance."
   ]
  },
  {
   "cell_type": "code",
   "execution_count": 55,
   "metadata": {},
   "outputs": [
    {
     "data": {
      "text/plain": [
       "3×3 Matrix{Float64}:\n",
       "  3.0   6.0   9.0\n",
       " 12.0  15.0  18.0\n",
       " 21.0  24.0  27.0"
      ]
     },
     "execution_count": 55,
     "metadata": {},
     "output_type": "execute_result"
    }
   ],
   "source": [
    "@. A + 2 * f(A) / A"
   ]
  },
  {
   "cell_type": "markdown",
   "metadata": {},
   "source": [
    "## **Especificando tipos**\n",
    "\n",
    "Al definir una función, podemos especificar el `tipo` de argumentos que recibe. Incluso, como veremos más adelante en multiple dispatch, podemos hacer que una función se comporte distinto dependiendo del `tipo` de los argumentos que recibe. La sintaxis para especificar que una variable `a` tiene tipo `Type` es `a::Type`.\n",
    "En el siguiente ejemplo definimos una función que únicamente funciona si el argumento es un número entero"
   ]
  },
  {
   "cell_type": "code",
   "execution_count": 56,
   "metadata": {},
   "outputs": [
    {
     "data": {
      "text/plain": [
       "factorial (generic function with 1 method)"
      ]
     },
     "execution_count": 56,
     "metadata": {},
     "output_type": "execute_result"
    }
   ],
   "source": [
    "function factorial(n::Int)\n",
    "    if n < 1\n",
    "        println(\"Error, n < 1. Intente con un número positivo.\")\n",
    "        return -1\n",
    "    end\n",
    "    result = 1\n",
    "    for i in 2:n\n",
    "        result *= i\n",
    "    end\n",
    "    return result\n",
    "end"
   ]
  },
  {
   "cell_type": "code",
   "execution_count": 57,
   "metadata": {},
   "outputs": [
    {
     "data": {
      "text/plain": [
       "6"
      ]
     },
     "execution_count": 57,
     "metadata": {},
     "output_type": "execute_result"
    }
   ],
   "source": [
    "factorial(3)"
   ]
  },
  {
   "cell_type": "code",
   "execution_count": 58,
   "metadata": {},
   "outputs": [
    {
     "ename": "LoadError",
     "evalue": "MethodError: no method matching factorial(::Float64)\n\u001b[0mClosest candidates are:\n\u001b[0m  factorial(\u001b[91m::Int64\u001b[39m) at In[56]:1",
     "output_type": "error",
     "traceback": [
      "MethodError: no method matching factorial(::Float64)\n\u001b[0mClosest candidates are:\n\u001b[0m  factorial(\u001b[91m::Int64\u001b[39m) at In[56]:1",
      "",
      "Stacktrace:",
      " [1] top-level scope",
      "   @ In[58]:1",
      " [2] eval",
      "   @ ./boot.jl:373 [inlined]",
      " [3] include_string(mapexpr::typeof(REPL.softscope), mod::Module, code::String, filename::String)",
      "   @ Base ./loading.jl:1196"
     ]
    }
   ],
   "source": [
    "factorial(3.0)"
   ]
  },
  {
   "cell_type": "markdown",
   "metadata": {},
   "source": [
    "## **Sobre los argumentos de las funciones**"
   ]
  },
  {
   "cell_type": "markdown",
   "metadata": {},
   "source": [
    "### **Cantidad arbitraria de variables de argumentos**\n",
    "\n",
    "La función `print` tiene un comportamiento interesante que quizás haya notado. Podemos darle una cantidad arbitraria de argumentos, y `print` imprime cada uno de ellos:"
   ]
  },
  {
   "cell_type": "code",
   "execution_count": 59,
   "metadata": {},
   "outputs": [
    {
     "name": "stdout",
     "output_type": "stream",
     "text": [
      "hola yo estoy dándole muchos argumentos a print"
     ]
    }
   ],
   "source": [
    "print(\"hola\", \" yo\", \" estoy\", \" dándole\", \" muchos\", \" argumentos\", \" a\", \" print\")"
   ]
  },
  {
   "cell_type": "code",
   "execution_count": 61,
   "metadata": {},
   "outputs": [
    {
     "data": {
      "text/plain": [
       "(1, 2, 3, 4, 5, 6)"
      ]
     },
     "execution_count": 61,
     "metadata": {},
     "output_type": "execute_result"
    }
   ],
   "source": [
    "((1,2,3)...,4,5,6)"
   ]
  },
  {
   "cell_type": "markdown",
   "metadata": {},
   "source": [
    "Esto se logra utilizando el operador _splat_. Aprenderemos de el creando nuestra propia función con una cantidad _variable_ de argumentos. La función `suma_arbitraria` suma una cantidad arbitraria de argumentos:"
   ]
  },
  {
   "cell_type": "code",
   "execution_count": 62,
   "metadata": {},
   "outputs": [
    {
     "data": {
      "text/plain": [
       "suma_arbitraria (generic function with 1 method)"
      ]
     },
     "execution_count": 62,
     "metadata": {},
     "output_type": "execute_result"
    }
   ],
   "source": [
    "function suma_arbitraria(x...)\n",
    "    println(\"Argumentos dados: $x\")\n",
    "    return sum(x)\n",
    "end"
   ]
  },
  {
   "cell_type": "code",
   "execution_count": 64,
   "metadata": {},
   "outputs": [
    {
     "name": "stdout",
     "output_type": "stream",
     "text": [
      "Argumentos dados: (1, 2, 3, 4, 8, 18352)\n"
     ]
    },
    {
     "data": {
      "text/plain": [
       "18370"
      ]
     },
     "execution_count": 64,
     "metadata": {},
     "output_type": "execute_result"
    }
   ],
   "source": [
    "suma_arbitraria(1,2,3,4,8,18352)"
   ]
  },
  {
   "cell_type": "markdown",
   "metadata": {},
   "source": [
    "Los elementos de \"x\" fueron leidos como una tupla. Podríamos tambien haber dado como argumento una tupla o un arreglo:"
   ]
  },
  {
   "cell_type": "code",
   "execution_count": 66,
   "metadata": {},
   "outputs": [
    {
     "name": "stdout",
     "output_type": "stream",
     "text": [
      "Argumentos dados: (1, 2, 3, 4, 5, 6, 7, 8, 9, 10)\n"
     ]
    },
    {
     "data": {
      "text/plain": [
       "55"
      ]
     },
     "execution_count": 66,
     "metadata": {},
     "output_type": "execute_result"
    }
   ],
   "source": [
    "suma_arbitraria([i for i in 1:10]...)"
   ]
  },
  {
   "cell_type": "markdown",
   "metadata": {},
   "source": [
    "Note que si buscamos la documentación de `print`, el segundo argumento de la función es `xs...`."
   ]
  },
  {
   "cell_type": "code",
   "execution_count": 67,
   "metadata": {},
   "outputs": [
    {
     "data": {
      "text/latex": [
       "\\begin{verbatim}\n",
       "print([io::IO], xs...)\n",
       "\\end{verbatim}\n",
       "Write to \\texttt{io} (or to the default output stream \\href{@ref}{\\texttt{stdout}} if \\texttt{io} is not given) a canonical (un-decorated) text representation. The representation used by \\texttt{print} includes minimal formatting and tries to avoid Julia-specific details.\n",
       "\n",
       "\\texttt{print} falls back to calling \\texttt{show}, so most types should just define \\texttt{show}. Define \\texttt{print} if your type has a separate \"plain\" representation. For example, \\texttt{show} displays strings with quotes, and \\texttt{print} displays strings without quotes.\n",
       "\n",
       "See also \\href{@ref}{\\texttt{println}}, \\href{@ref}{\\texttt{string}}, \\href{@ref}{\\texttt{printstyled}}.\n",
       "\n",
       "\\section{Examples}\n",
       "\\begin{verbatim}\n",
       "julia> print(\"Hello World!\")\n",
       "Hello World!\n",
       "julia> io = IOBuffer();\n",
       "\n",
       "julia> print(io, \"Hello\", ' ', :World!)\n",
       "\n",
       "julia> String(take!(io))\n",
       "\"Hello World!\"\n",
       "\\end{verbatim}\n"
      ],
      "text/markdown": [
       "```\n",
       "print([io::IO], xs...)\n",
       "```\n",
       "\n",
       "Write to `io` (or to the default output stream [`stdout`](@ref) if `io` is not given) a canonical (un-decorated) text representation. The representation used by `print` includes minimal formatting and tries to avoid Julia-specific details.\n",
       "\n",
       "`print` falls back to calling `show`, so most types should just define `show`. Define `print` if your type has a separate \"plain\" representation. For example, `show` displays strings with quotes, and `print` displays strings without quotes.\n",
       "\n",
       "See also [`println`](@ref), [`string`](@ref), [`printstyled`](@ref).\n",
       "\n",
       "# Examples\n",
       "\n",
       "```jldoctest\n",
       "julia> print(\"Hello World!\")\n",
       "Hello World!\n",
       "julia> io = IOBuffer();\n",
       "\n",
       "julia> print(io, \"Hello\", ' ', :World!)\n",
       "\n",
       "julia> String(take!(io))\n",
       "\"Hello World!\"\n",
       "```\n"
      ],
      "text/plain": [
       "\u001b[36m  print([io::IO], xs...)\u001b[39m\n",
       "\n",
       "  Write to \u001b[36mio\u001b[39m (or to the default output stream \u001b[36mstdout\u001b[39m if \u001b[36mio\u001b[39m is not given) a\n",
       "  canonical (un-decorated) text representation. The representation used by\n",
       "  \u001b[36mprint\u001b[39m includes minimal formatting and tries to avoid Julia-specific details.\n",
       "\n",
       "  \u001b[36mprint\u001b[39m falls back to calling \u001b[36mshow\u001b[39m, so most types should just define \u001b[36mshow\u001b[39m.\n",
       "  Define \u001b[36mprint\u001b[39m if your type has a separate \"plain\" representation. For\n",
       "  example, \u001b[36mshow\u001b[39m displays strings with quotes, and \u001b[36mprint\u001b[39m displays strings\n",
       "  without quotes.\n",
       "\n",
       "  See also \u001b[36mprintln\u001b[39m, \u001b[36mstring\u001b[39m, \u001b[36mprintstyled\u001b[39m.\n",
       "\n",
       "\u001b[1m  Examples\u001b[22m\n",
       "\u001b[1m  ≡≡≡≡≡≡≡≡≡≡\u001b[22m\n",
       "\n",
       "\u001b[36m  julia> print(\"Hello World!\")\u001b[39m\n",
       "\u001b[36m  Hello World!\u001b[39m\n",
       "\u001b[36m  julia> io = IOBuffer();\u001b[39m\n",
       "\u001b[36m  \u001b[39m\n",
       "\u001b[36m  julia> print(io, \"Hello\", ' ', :World!)\u001b[39m\n",
       "\u001b[36m  \u001b[39m\n",
       "\u001b[36m  julia> String(take!(io))\u001b[39m\n",
       "\u001b[36m  \"Hello World!\"\u001b[39m"
      ]
     },
     "execution_count": 67,
     "metadata": {},
     "output_type": "execute_result"
    }
   ],
   "source": [
    "?print()"
   ]
  },
  {
   "cell_type": "markdown",
   "metadata": {},
   "source": [
    "### **Argumentos opcionales**\n",
    "Podemos dar valores por defecto a ciertas variables, lo cual puede ayudar a quien use la función a evitar dar argumentos innecesarios. La siguiente función retorna la fecha en el formato `(día, mes, año)`, y asume que es enero del año 2000 si no especificamos mes ni año: "
   ]
  },
  {
   "cell_type": "code",
   "execution_count": 71,
   "metadata": {},
   "outputs": [
    {
     "data": {
      "text/plain": [
       "fecha (generic function with 3 methods)"
      ]
     },
     "execution_count": 71,
     "metadata": {},
     "output_type": "execute_result"
    }
   ],
   "source": [
    "function fecha(dd, mm = 1, aa = 2000)\n",
    "    return (dd, mm, aa)\n",
    "end"
   ]
  },
  {
   "cell_type": "code",
   "execution_count": 72,
   "metadata": {},
   "outputs": [
    {
     "ename": "LoadError",
     "evalue": "MethodError: no method matching fecha()\n\u001b[0mClosest candidates are:\n\u001b[0m  fecha(\u001b[91m::Any\u001b[39m) at In[71]:1\n\u001b[0m  fecha(\u001b[91m::Any\u001b[39m, \u001b[91m::Any\u001b[39m) at In[71]:1\n\u001b[0m  fecha(\u001b[91m::Any\u001b[39m, \u001b[91m::Any\u001b[39m, \u001b[91m::Any\u001b[39m) at In[71]:1",
     "output_type": "error",
     "traceback": [
      "MethodError: no method matching fecha()\n\u001b[0mClosest candidates are:\n\u001b[0m  fecha(\u001b[91m::Any\u001b[39m) at In[71]:1\n\u001b[0m  fecha(\u001b[91m::Any\u001b[39m, \u001b[91m::Any\u001b[39m) at In[71]:1\n\u001b[0m  fecha(\u001b[91m::Any\u001b[39m, \u001b[91m::Any\u001b[39m, \u001b[91m::Any\u001b[39m) at In[71]:1",
      "",
      "Stacktrace:",
      " [1] top-level scope",
      "   @ In[72]:1",
      " [2] eval",
      "   @ ./boot.jl:373 [inlined]",
      " [3] include_string(mapexpr::typeof(REPL.softscope), mod::Module, code::String, filename::String)",
      "   @ Base ./loading.jl:1196"
     ]
    }
   ],
   "source": [
    "fecha()    #Esto no funcionará, porque debemos especificar el día"
   ]
  },
  {
   "cell_type": "code",
   "execution_count": 74,
   "metadata": {},
   "outputs": [
    {
     "data": {
      "text/plain": [
       "(9, 1, 2000)"
      ]
     },
     "execution_count": 74,
     "metadata": {},
     "output_type": "execute_result"
    }
   ],
   "source": [
    "fecha(9) #Aquí, dd = 10, y mm = 1, aa = 2000 por defecto"
   ]
  },
  {
   "cell_type": "code",
   "execution_count": 76,
   "metadata": {},
   "outputs": [
    {
     "data": {
      "text/plain": [
       "(9, 3, 2000)"
      ]
     },
     "execution_count": 76,
     "metadata": {},
     "output_type": "execute_result"
    }
   ],
   "source": [
    "fecha(9,3) #Aquí hemos especificado el mes, pero no el año"
   ]
  },
  {
   "cell_type": "code",
   "execution_count": 77,
   "metadata": {},
   "outputs": [
    {
     "data": {
      "text/plain": [
       "(9, 3, 2022)"
      ]
     },
     "execution_count": 77,
     "metadata": {},
     "output_type": "execute_result"
    }
   ],
   "source": [
    "fecha(9,3,2022) #Finalmente, aquí especificamos tanto el día como el mes y el año"
   ]
  },
  {
   "cell_type": "code",
   "execution_count": 79,
   "metadata": {},
   "outputs": [
    {
     "data": {
      "text/plain": [
       "(9, 3, 2000)"
      ]
     },
     "execution_count": 79,
     "metadata": {},
     "output_type": "execute_result"
    }
   ],
   "source": [
    "fecha((9,3)...)  #Como dato extra, también podemos usar el operador ... para ingresar\n",
    "                  #una tupla como argumentos separados en cualquier función"
   ]
  },
  {
   "cell_type": "markdown",
   "metadata": {},
   "source": [
    "### **Argumentos Keyword** (Palabras clave) "
   ]
  },
  {
   "cell_type": "markdown",
   "metadata": {},
   "source": [
    "Un problema con la función que definimos anteriormente, es que debemos escribir los argumentos en el orden específico que los espera la función. No solo eso, sino que podemos ahorrarnos escribir el mes y no escribir el año, pero no podemos escribir el año e ignorar el mes. Para solucionar este problema, podemos usar `keyword arguments` tras un signo `;`."
   ]
  },
  {
   "cell_type": "code",
   "execution_count": 107,
   "metadata": {},
   "outputs": [
    {
     "data": {
      "text/plain": [
       "fecha_v2 (generic function with 1 method)"
      ]
     },
     "execution_count": 107,
     "metadata": {},
     "output_type": "execute_result"
    }
   ],
   "source": [
    "function fecha_v2(dd; mm = 1, aa = 2000, format = :dma)\n",
    "    if format == :dma\n",
    "        return (dd, mm, aa)\n",
    "    elseif format == :mda\n",
    "        return (mm, dd, aa)\n",
    "    elseif format == :amd\n",
    "        return (aa, mm, dd)\n",
    "    else\n",
    "        println(\"Formato de fecha no reconocido. Solo acepto dma, mda y amd\")\n",
    "    end\n",
    "end"
   ]
  },
  {
   "cell_type": "code",
   "execution_count": 108,
   "metadata": {},
   "outputs": [
    {
     "data": {
      "text/plain": [
       "2"
      ]
     },
     "execution_count": 108,
     "metadata": {},
     "output_type": "execute_result"
    }
   ],
   "source": [
    "mda = 2"
   ]
  },
  {
   "cell_type": "code",
   "execution_count": 106,
   "metadata": {},
   "outputs": [
    {
     "data": {
      "text/plain": [
       "(3, 1, 2000)"
      ]
     },
     "execution_count": 106,
     "metadata": {},
     "output_type": "execute_result"
    }
   ],
   "source": [
    "fecha_v2(1;format = :mda, mm = 3) #El ; solo lo usamos para definir la función, no para llamarla"
   ]
  },
  {
   "cell_type": "markdown",
   "metadata": {},
   "source": [
    "Ahora podemos escribir solo los argumentos que nos interesen y en el orden que querramos, aunque debemos especificar el nombre del argumento."
   ]
  },
  {
   "cell_type": "code",
   "execution_count": 96,
   "metadata": {},
   "outputs": [
    {
     "name": "stdout",
     "output_type": "stream",
     "text": [
      "el primer argumento vale = 1\n",
      "Usted ingresó los siguientes argumentos keyword\n",
      "2\n",
      "3\n",
      "4\n",
      "perro\n",
      "a = 3\n",
      "b = manzana\n"
     ]
    }
   ],
   "source": [
    "function funcion_kwargs(argumento_1, y...;x...)\n",
    "    println(\"el primer argumento vale = $argumento_1\")\n",
    "    println(\"Usted ingresó los siguientes argumentos keyword\")\n",
    "    \n",
    "    for element in y\n",
    "        println(element)\n",
    "    end\n",
    "    for (key, val) in x\n",
    "        println(\"$key = $val\")\n",
    "    end\n",
    "end\n",
    "\n",
    "perro = \"perro\"\n",
    "\n",
    "funcion_kwargs(1,2,3,4, a = 3, b = \"manzana\", perro)\n",
    "\n",
    "#Note que cualquier cosa luego de un ; será considerado parte de los kwargs!\n",
    "#La línea anterior sin ; no funciona"
   ]
  },
  {
   "cell_type": "markdown",
   "metadata": {},
   "source": [
    "## **Cómo agregar documentación**\n",
    "Para documentar una función, simplemente debemos agregar un string antes de la declaración de la función."
   ]
  },
  {
   "cell_type": "code",
   "execution_count": 97,
   "metadata": {},
   "outputs": [
    {
     "data": {
      "text/plain": [
       "funciondocumentada"
      ]
     },
     "execution_count": 97,
     "metadata": {},
     "output_type": "execute_result"
    }
   ],
   "source": [
    "\"\"\"\n",
    "    funciondocumentada(x...)\n",
    "\n",
    "# Ejemplo de documentación\n",
    "\n",
    "Esta función existe únicamente para explicar cómo agregar documentación.\n",
    "Escribir documentación funciona como escribir en modo **markdown**.\n",
    "\n",
    "Note que para separar líneas debe poner una línea vacía entre medio.\n",
    "\n",
    "Puede llamarla utilizando `funciondocumentada(argumentos)`.\\n\n",
    "\n",
    "Acepta una cantidad arbitraria de argumentos.\n",
    "\"\"\"\n",
    "function funciondocumentada(x...)\n",
    "    pass\n",
    "end"
   ]
  },
  {
   "cell_type": "code",
   "execution_count": 98,
   "metadata": {},
   "outputs": [
    {
     "data": {
      "text/latex": [
       "\\begin{verbatim}\n",
       "funciondocumentada(x...)\n",
       "\\end{verbatim}\n",
       "\\section{Ejemplo de documentación}\n",
       "Esta función existe únicamente para explicar cómo agregar documentación. Escribir documentación funciona como escribir en modo \\textbf{markdown}.\n",
       "\n",
       "Note que para separar líneas debe poner una línea vacía entre medio.\n",
       "\n",
       "Puede llamarla utilizando \\texttt{funciondocumentada(argumentos)}.\n",
       "\n",
       "Acepta una cantidad arbitraria de argumentos.\n",
       "\n"
      ],
      "text/markdown": [
       "```\n",
       "funciondocumentada(x...)\n",
       "```\n",
       "\n",
       "# Ejemplo de documentación\n",
       "\n",
       "Esta función existe únicamente para explicar cómo agregar documentación. Escribir documentación funciona como escribir en modo **markdown**.\n",
       "\n",
       "Note que para separar líneas debe poner una línea vacía entre medio.\n",
       "\n",
       "Puede llamarla utilizando `funciondocumentada(argumentos)`.\n",
       "\n",
       "Acepta una cantidad arbitraria de argumentos.\n"
      ],
      "text/plain": [
       "\u001b[36m  funciondocumentada(x...)\u001b[39m\n",
       "\n",
       "\u001b[1m  Ejemplo de documentación\u001b[22m\n",
       "\u001b[1m  ≡≡≡≡≡≡≡≡≡≡≡≡≡≡≡≡≡≡≡≡≡≡≡≡≡≡\u001b[22m\n",
       "\n",
       "  Esta función existe únicamente para explicar cómo agregar documentación.\n",
       "  Escribir documentación funciona como escribir en modo \u001b[1mmarkdown\u001b[22m.\n",
       "\n",
       "  Note que para separar líneas debe poner una línea vacía entre medio.\n",
       "\n",
       "  Puede llamarla utilizando \u001b[36mfunciondocumentada(argumentos)\u001b[39m.\n",
       "\n",
       "  Acepta una cantidad arbitraria de argumentos."
      ]
     },
     "execution_count": 98,
     "metadata": {},
     "output_type": "execute_result"
    }
   ],
   "source": [
    "@doc funciondocumentada"
   ]
  },
  {
   "cell_type": "code",
   "execution_count": 99,
   "metadata": {},
   "outputs": [],
   "source": [
    "using JLD2"
   ]
  },
  {
   "cell_type": "code",
   "execution_count": 100,
   "metadata": {},
   "outputs": [
    {
     "data": {
      "text/latex": [
       "\\begin{verbatim}\n",
       "jldsave(filename, compress=false; kwargs...)\n",
       "\\end{verbatim}\n",
       "Creates a JLD2 file at \\texttt{filename} and stores the variables given as keyword arguments.\n",
       "\n",
       "\\section{Examples}\n",
       "\\begin{verbatim}\n",
       "jldsave(\"example.jld2\"; a=1, b=2, c)\n",
       "\\end{verbatim}\n",
       "is equivalent to\n",
       "\n",
       "\\begin{verbatim}\n",
       "jldopen(\"example.jld2, \"w\") do f\n",
       "    f[\"a\"] = 1\n",
       "    f[\"b\"] = 2\n",
       "    f[\"c\"] = c\n",
       "end\n",
       "\\end{verbatim}\n",
       "To choose the io type \\texttt{IOStream} instead of the default \\texttt{MmapIO} use  \\texttt{jldsave\\{IOStream\\}(fn; kwargs...)}.\n",
       "\n"
      ],
      "text/markdown": [
       "```\n",
       "jldsave(filename, compress=false; kwargs...)\n",
       "```\n",
       "\n",
       "Creates a JLD2 file at `filename` and stores the variables given as keyword arguments.\n",
       "\n",
       "# Examples\n",
       "\n",
       "```\n",
       "jldsave(\"example.jld2\"; a=1, b=2, c)\n",
       "```\n",
       "\n",
       "is equivalent to\n",
       "\n",
       "```\n",
       "jldopen(\"example.jld2, \"w\") do f\n",
       "    f[\"a\"] = 1\n",
       "    f[\"b\"] = 2\n",
       "    f[\"c\"] = c\n",
       "end\n",
       "```\n",
       "\n",
       "To choose the io type `IOStream` instead of the default `MmapIO` use  `jldsave{IOStream}(fn; kwargs...)`.\n"
      ],
      "text/plain": [
       "\u001b[36m  jldsave(filename, compress=false; kwargs...)\u001b[39m\n",
       "\n",
       "  Creates a JLD2 file at \u001b[36mfilename\u001b[39m and stores the variables given as keyword\n",
       "  arguments.\n",
       "\n",
       "\u001b[1m  Examples\u001b[22m\n",
       "\u001b[1m  ≡≡≡≡≡≡≡≡≡≡\u001b[22m\n",
       "\n",
       "\u001b[36m  jldsave(\"example.jld2\"; a=1, b=2, c)\u001b[39m\n",
       "\n",
       "  is equivalent to\n",
       "\n",
       "\u001b[36m  jldopen(\"example.jld2, \"w\") do f\u001b[39m\n",
       "\u001b[36m      f[\"a\"] = 1\u001b[39m\n",
       "\u001b[36m      f[\"b\"] = 2\u001b[39m\n",
       "\u001b[36m      f[\"c\"] = c\u001b[39m\n",
       "\u001b[36m  end\u001b[39m\n",
       "\n",
       "  To choose the io type \u001b[36mIOStream\u001b[39m instead of the default \u001b[36mMmapIO\u001b[39m use\n",
       "  \u001b[36mjldsave{IOStream}(fn; kwargs...)\u001b[39m."
      ]
     },
     "execution_count": 100,
     "metadata": {},
     "output_type": "execute_result"
    }
   ],
   "source": [
    "@doc jldsave"
   ]
  },
  {
   "cell_type": "markdown",
   "metadata": {},
   "source": [
    "## **Ejercicios opcionales**\n",
    "***1)*** Escriba una función `suma_uno` que sume 1 a su argumento"
   ]
  },
  {
   "cell_type": "code",
   "execution_count": null,
   "metadata": {},
   "outputs": [],
   "source": []
  },
  {
   "cell_type": "code",
   "execution_count": null,
   "metadata": {},
   "outputs": [],
   "source": [
    "@assert suma_uno(1) == 2"
   ]
  },
  {
   "cell_type": "code",
   "execution_count": null,
   "metadata": {},
   "outputs": [],
   "source": [
    "@assert suma_uno(11) == 12"
   ]
  },
  {
   "cell_type": "markdown",
   "metadata": {},
   "source": [
    "***2)*** Use `map` o `broadcast` para incrementar cada elemento de una matriz `A` en `1` y asígnelo a una variable `A1`."
   ]
  },
  {
   "cell_type": "code",
   "execution_count": null,
   "metadata": {},
   "outputs": [],
   "source": []
  },
  {
   "cell_type": "code",
   "execution_count": null,
   "metadata": {},
   "outputs": [],
   "source": [
    "@assert A1 == [2 3 4; 5 6 7; 8 9 10]"
   ]
  },
  {
   "cell_type": "markdown",
   "metadata": {},
   "source": [
    "***3)***\n",
    "Use la sintaxis `.` de `broadcast` para incrementar todos los valores de `A1` en `1` y guarde el resultado en `A2`"
   ]
  },
  {
   "cell_type": "code",
   "execution_count": null,
   "metadata": {},
   "outputs": [],
   "source": []
  },
  {
   "cell_type": "code",
   "execution_count": null,
   "metadata": {
    "hide_input": true,
    "nbgrader": {
     "checksum": "3e3d797962df904deed0e7ee7782b69a",
     "grade": true,
     "grade_id": "cell-f3bd5479679a8fe1",
     "locked": true,
     "points": 0,
     "schema_version": 1,
     "solution": false
    }
   },
   "outputs": [],
   "source": [
    "@assert A2 == [3 4 5; 6 7 8; 9 10 11]"
   ]
  },
  {
   "cell_type": "markdown",
   "metadata": {},
   "source": [
    "***4)*** Cree una función `misuma(vec_1, vec_2)` que retorne la suma directa de `vec_1, vec_2`. Use para esto un loop `for` dentro de la función.\n",
    "Luego cree otra función llamada `misuma!(vec_r, vec_1, vec_2)` que funcione igual, pero guarde el resultado en `vec_r`."
   ]
  },
  {
   "cell_type": "code",
   "execution_count": null,
   "metadata": {},
   "outputs": [],
   "source": [
    "#= \n",
    "function misuma(vec_1, vec_2)\n",
    "    *código*\n",
    "end\n",
    "=#"
   ]
  },
  {
   "cell_type": "code",
   "execution_count": null,
   "metadata": {},
   "outputs": [],
   "source": [
    "#= \n",
    "function misuma!(vec_r, vec_1, vec_2)\n",
    "    *código*\n",
    "end\n",
    "=#"
   ]
  },
  {
   "cell_type": "code",
   "execution_count": null,
   "metadata": {},
   "outputs": [],
   "source": [
    "#Verificación de misuma. Si esta celda no da error, misuma funciona.\n",
    "vec_1 = [1,2,3]\n",
    "vec_2 = [3,2,1]\n",
    "\n",
    "for elemento in misuma(vec_1, vec_2)\n",
    "    @assert elemento == 4\n",
    "end"
   ]
  },
  {
   "cell_type": "code",
   "execution_count": null,
   "metadata": {},
   "outputs": [],
   "source": [
    "#Verificación de misuma!. Si esta celda no da error, misuma! funciona.\n",
    "vec_1 = [1,2,3]\n",
    "vec_2 = [3,2,1]\n",
    "vec_r = copy(vec_1)\n",
    "misuma!(vec_r, vec_1, vec_2)\n",
    "for elemento in vec_r\n",
    "    @assert elemento == 4\n",
    "end"
   ]
  },
  {
   "cell_type": "markdown",
   "metadata": {},
   "source": [
    "***5)*** Repita el ejercicio anterior, pero usando broadcast para escribir una función más compacta"
   ]
  },
  {
   "cell_type": "code",
   "execution_count": null,
   "metadata": {},
   "outputs": [],
   "source": [
    "vec_1 = [1,2,3]\n",
    "vec_2 = [3,2,1]\n",
    "\n",
    "for elemento in misuma(vec_1, vec_2)\n",
    "    @assert elemento == 4\n",
    "end"
   ]
  },
  {
   "cell_type": "code",
   "execution_count": null,
   "metadata": {},
   "outputs": [],
   "source": [
    "vec_1 = [1,2,3]\n",
    "vec_2 = [3,2,1]\n",
    "vec_r = copy(vec_1)\n",
    "misuma!(vec_r, vec_1, vec_2)\n",
    "for elemento in vec_r\n",
    "    @assert elemento == 4\n",
    "end"
   ]
  },
  {
   "cell_type": "code",
   "execution_count": null,
   "metadata": {},
   "outputs": [],
   "source": []
  },
  {
   "cell_type": "code",
   "execution_count": null,
   "metadata": {},
   "outputs": [],
   "source": []
  }
 ],
 "metadata": {
  "interpreter": {
   "hash": "f1adbbdee7057fc0b601bacb5930d0e884eb28aab35deafc36dc30280db9ed65"
  },
  "kernelspec": {
   "display_name": "Julia 1.7.2",
   "language": "julia",
   "name": "julia-1.7"
  },
  "language_info": {
   "file_extension": ".jl",
   "mimetype": "application/julia",
   "name": "julia",
   "version": "1.7.2"
  }
 },
 "nbformat": 4,
 "nbformat_minor": 4
}
